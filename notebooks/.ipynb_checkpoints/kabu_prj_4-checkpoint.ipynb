{
 "cells": [
  {
   "cell_type": "code",
   "execution_count": 407,
   "metadata": {
    "pycharm": {
     "name": "#%%\n"
    }
   },
   "outputs": [],
   "source": [
    "import pandas as pd\n",
    "import numpy as np\n",
    "#import seaborn as sn\n"
   ]
  },
  {
   "cell_type": "markdown",
   "metadata": {},
   "source": [
    "# Task 1 : Data Collection\n",
    "**importing data sets**"
   ]
  },
  {
   "cell_type": "code",
   "execution_count": 501,
   "metadata": {
    "pycharm": {
     "name": "#%%\n"
    }
   },
   "outputs": [],
   "source": [
    "#faostat_data_2020 = pd.read_csv('../data/FAOSTAT_data_4-3-2020.csv')\n",
    "data_crops = pd.read_csv('../data/new_FAO_methodology/FAOSTAT_data_cereals_8-24-2020-3.csv')\n",
    "data_vegetables = pd.read_csv('../data/new_FAO_methodology/FAOSTAT_data_vegetable_8-24-2020-5.csv')\n",
    "data_animals = pd.read_csv('../data/new_FAO_methodology/FAOSTAT_data_animal_8-24-2020.csv')\n",
    "data_population = pd.read_csv('../data/new_FAO_methodology/FAOSTAT_data_population_8-24-2020.csv')\n",
    "data_undernourished = pd.read_csv('../data/new_FAO_methodology/FAOSTAT_data_undernourished_8-24-2020-4.csv')\n",
    "#data_all = pd.read_csv('../data/FoodBalanceSheets_E_All_Data/FoodBalanceSheets_E_All_Data.csv')\n",
    "#faostat_data_2020.info()\n"
   ]
  },
  {
   "cell_type": "markdown",
   "metadata": {},
   "source": [
    "## Analysis"
   ]
  },
  {
   "cell_type": "code",
   "execution_count": 409,
   "metadata": {
    "pycharm": {
     "name": "#%%\n"
    }
   },
   "outputs": [
    {
     "name": "stdout",
     "output_type": "stream",
     "text": [
      "<class 'pandas.core.frame.DataFrame'>\n",
      "RangeIndex: 9 entries, 0 to 8\n",
      "Data columns (total 12 columns):\n",
      " #   Column        Non-Null Count  Dtype \n",
      "---  ------        --------------  ----- \n",
      " 0   Domain Code   9 non-null      object\n",
      " 1   Domain        9 non-null      object\n",
      " 2   Area Code     9 non-null      int64 \n",
      " 3   Area          9 non-null      object\n",
      " 4   Element Code  9 non-null      int64 \n",
      " 5   Element       9 non-null      object\n",
      " 6   Item Code     9 non-null      int64 \n",
      " 7   Item          9 non-null      object\n",
      " 8   Year Code     9 non-null      int64 \n",
      " 9   Year          9 non-null      int64 \n",
      " 10  Unit          9 non-null      object\n",
      " 11  Value         9 non-null      int64 \n",
      "dtypes: int64(6), object(6)\n",
      "memory usage: 992.0+ bytes\n"
     ]
    }
   ],
   "source": [
    "data_crops.info()"
   ]
  },
  {
   "cell_type": "code",
   "execution_count": 410,
   "metadata": {
    "pycharm": {
     "name": "#%%\n"
    }
   },
   "outputs": [
    {
     "data": {
      "text/html": [
       "<div>\n",
       "<style scoped>\n",
       "    .dataframe tbody tr th:only-of-type {\n",
       "        vertical-align: middle;\n",
       "    }\n",
       "\n",
       "    .dataframe tbody tr th {\n",
       "        vertical-align: top;\n",
       "    }\n",
       "\n",
       "    .dataframe thead th {\n",
       "        text-align: right;\n",
       "    }\n",
       "</style>\n",
       "<table border=\"1\" class=\"dataframe\">\n",
       "  <thead>\n",
       "    <tr style=\"text-align: right;\">\n",
       "      <th></th>\n",
       "      <th>Domain Code</th>\n",
       "      <th>Domain</th>\n",
       "      <th>Area Code</th>\n",
       "      <th>Area</th>\n",
       "      <th>Element Code</th>\n",
       "      <th>Element</th>\n",
       "      <th>Item Code</th>\n",
       "      <th>Item</th>\n",
       "      <th>Year Code</th>\n",
       "      <th>Year</th>\n",
       "      <th>Unit</th>\n",
       "      <th>Value</th>\n",
       "    </tr>\n",
       "  </thead>\n",
       "  <tbody>\n",
       "    <tr>\n",
       "      <th>0</th>\n",
       "      <td>FBS</td>\n",
       "      <td>New Food Balances</td>\n",
       "      <td>5000</td>\n",
       "      <td>World</td>\n",
       "      <td>5511</td>\n",
       "      <td>Production</td>\n",
       "      <td>2511</td>\n",
       "      <td>Wheat and products</td>\n",
       "      <td>2017</td>\n",
       "      <td>2017</td>\n",
       "      <td>1000 tonnes</td>\n",
       "      <td>771775</td>\n",
       "    </tr>\n",
       "    <tr>\n",
       "      <th>1</th>\n",
       "      <td>FBS</td>\n",
       "      <td>New Food Balances</td>\n",
       "      <td>5000</td>\n",
       "      <td>World</td>\n",
       "      <td>5511</td>\n",
       "      <td>Production</td>\n",
       "      <td>2805</td>\n",
       "      <td>Rice and products</td>\n",
       "      <td>2017</td>\n",
       "      <td>2017</td>\n",
       "      <td>1000 tonnes</td>\n",
       "      <td>767558</td>\n",
       "    </tr>\n",
       "    <tr>\n",
       "      <th>2</th>\n",
       "      <td>FBS</td>\n",
       "      <td>New Food Balances</td>\n",
       "      <td>5000</td>\n",
       "      <td>World</td>\n",
       "      <td>5511</td>\n",
       "      <td>Production</td>\n",
       "      <td>2513</td>\n",
       "      <td>Barley and products</td>\n",
       "      <td>2017</td>\n",
       "      <td>2017</td>\n",
       "      <td>1000 tonnes</td>\n",
       "      <td>148111</td>\n",
       "    </tr>\n",
       "    <tr>\n",
       "      <th>3</th>\n",
       "      <td>FBS</td>\n",
       "      <td>New Food Balances</td>\n",
       "      <td>5000</td>\n",
       "      <td>World</td>\n",
       "      <td>5511</td>\n",
       "      <td>Production</td>\n",
       "      <td>2514</td>\n",
       "      <td>Maize and products</td>\n",
       "      <td>2017</td>\n",
       "      <td>2017</td>\n",
       "      <td>1000 tonnes</td>\n",
       "      <td>1161299</td>\n",
       "    </tr>\n",
       "    <tr>\n",
       "      <th>4</th>\n",
       "      <td>FBS</td>\n",
       "      <td>New Food Balances</td>\n",
       "      <td>5000</td>\n",
       "      <td>World</td>\n",
       "      <td>5511</td>\n",
       "      <td>Production</td>\n",
       "      <td>2515</td>\n",
       "      <td>Rye and products</td>\n",
       "      <td>2017</td>\n",
       "      <td>2017</td>\n",
       "      <td>1000 tonnes</td>\n",
       "      <td>13760</td>\n",
       "    </tr>\n",
       "  </tbody>\n",
       "</table>\n",
       "</div>"
      ],
      "text/plain": [
       "  Domain Code             Domain  Area Code   Area  Element Code     Element  \\\n",
       "0         FBS  New Food Balances       5000  World          5511  Production   \n",
       "1         FBS  New Food Balances       5000  World          5511  Production   \n",
       "2         FBS  New Food Balances       5000  World          5511  Production   \n",
       "3         FBS  New Food Balances       5000  World          5511  Production   \n",
       "4         FBS  New Food Balances       5000  World          5511  Production   \n",
       "\n",
       "   Item Code                 Item  Year Code  Year         Unit    Value  \n",
       "0       2511   Wheat and products       2017  2017  1000 tonnes   771775  \n",
       "1       2805    Rice and products       2017  2017  1000 tonnes   767558  \n",
       "2       2513  Barley and products       2017  2017  1000 tonnes   148111  \n",
       "3       2514   Maize and products       2017  2017  1000 tonnes  1161299  \n",
       "4       2515     Rye and products       2017  2017  1000 tonnes    13760  "
      ]
     },
     "execution_count": 410,
     "metadata": {},
     "output_type": "execute_result"
    }
   ],
   "source": [
    "data_crops.head()"
   ]
  },
  {
   "cell_type": "code",
   "execution_count": 411,
   "metadata": {
    "pycharm": {
     "name": "#%%\n"
    }
   },
   "outputs": [
    {
     "data": {
      "text/html": [
       "<div>\n",
       "<style scoped>\n",
       "    .dataframe tbody tr th:only-of-type {\n",
       "        vertical-align: middle;\n",
       "    }\n",
       "\n",
       "    .dataframe tbody tr th {\n",
       "        vertical-align: top;\n",
       "    }\n",
       "\n",
       "    .dataframe thead th {\n",
       "        text-align: right;\n",
       "    }\n",
       "</style>\n",
       "<table border=\"1\" class=\"dataframe\">\n",
       "  <thead>\n",
       "    <tr style=\"text-align: right;\">\n",
       "      <th></th>\n",
       "      <th>Domain Code</th>\n",
       "      <th>Domain</th>\n",
       "      <th>Area Code</th>\n",
       "      <th>Area</th>\n",
       "      <th>Element Code</th>\n",
       "      <th>Element</th>\n",
       "      <th>Item Code</th>\n",
       "      <th>Item</th>\n",
       "      <th>Year Code</th>\n",
       "      <th>Year</th>\n",
       "      <th>Unit</th>\n",
       "      <th>Value</th>\n",
       "    </tr>\n",
       "  </thead>\n",
       "  <tbody>\n",
       "    <tr>\n",
       "      <th>4</th>\n",
       "      <td>FBS</td>\n",
       "      <td>New Food Balances</td>\n",
       "      <td>5000</td>\n",
       "      <td>World</td>\n",
       "      <td>5511</td>\n",
       "      <td>Production</td>\n",
       "      <td>2515</td>\n",
       "      <td>Rye and products</td>\n",
       "      <td>2017</td>\n",
       "      <td>2017</td>\n",
       "      <td>1000 tonnes</td>\n",
       "      <td>13760</td>\n",
       "    </tr>\n",
       "    <tr>\n",
       "      <th>5</th>\n",
       "      <td>FBS</td>\n",
       "      <td>New Food Balances</td>\n",
       "      <td>5000</td>\n",
       "      <td>World</td>\n",
       "      <td>5511</td>\n",
       "      <td>Production</td>\n",
       "      <td>2516</td>\n",
       "      <td>Oats</td>\n",
       "      <td>2017</td>\n",
       "      <td>2017</td>\n",
       "      <td>1000 tonnes</td>\n",
       "      <td>26158</td>\n",
       "    </tr>\n",
       "    <tr>\n",
       "      <th>6</th>\n",
       "      <td>FBS</td>\n",
       "      <td>New Food Balances</td>\n",
       "      <td>5000</td>\n",
       "      <td>World</td>\n",
       "      <td>5511</td>\n",
       "      <td>Production</td>\n",
       "      <td>2517</td>\n",
       "      <td>Millet and products</td>\n",
       "      <td>2017</td>\n",
       "      <td>2017</td>\n",
       "      <td>1000 tonnes</td>\n",
       "      <td>28452</td>\n",
       "    </tr>\n",
       "    <tr>\n",
       "      <th>7</th>\n",
       "      <td>FBS</td>\n",
       "      <td>New Food Balances</td>\n",
       "      <td>5000</td>\n",
       "      <td>World</td>\n",
       "      <td>5511</td>\n",
       "      <td>Production</td>\n",
       "      <td>2518</td>\n",
       "      <td>Sorghum and products</td>\n",
       "      <td>2017</td>\n",
       "      <td>2017</td>\n",
       "      <td>1000 tonnes</td>\n",
       "      <td>56610</td>\n",
       "    </tr>\n",
       "    <tr>\n",
       "      <th>8</th>\n",
       "      <td>FBS</td>\n",
       "      <td>New Food Balances</td>\n",
       "      <td>5000</td>\n",
       "      <td>World</td>\n",
       "      <td>5511</td>\n",
       "      <td>Production</td>\n",
       "      <td>2520</td>\n",
       "      <td>Cereals, Other</td>\n",
       "      <td>2017</td>\n",
       "      <td>2017</td>\n",
       "      <td>1000 tonnes</td>\n",
       "      <td>32443</td>\n",
       "    </tr>\n",
       "  </tbody>\n",
       "</table>\n",
       "</div>"
      ],
      "text/plain": [
       "  Domain Code             Domain  Area Code   Area  Element Code     Element  \\\n",
       "4         FBS  New Food Balances       5000  World          5511  Production   \n",
       "5         FBS  New Food Balances       5000  World          5511  Production   \n",
       "6         FBS  New Food Balances       5000  World          5511  Production   \n",
       "7         FBS  New Food Balances       5000  World          5511  Production   \n",
       "8         FBS  New Food Balances       5000  World          5511  Production   \n",
       "\n",
       "   Item Code                  Item  Year Code  Year         Unit  Value  \n",
       "4       2515      Rye and products       2017  2017  1000 tonnes  13760  \n",
       "5       2516                  Oats       2017  2017  1000 tonnes  26158  \n",
       "6       2517   Millet and products       2017  2017  1000 tonnes  28452  \n",
       "7       2518  Sorghum and products       2017  2017  1000 tonnes  56610  \n",
       "8       2520        Cereals, Other       2017  2017  1000 tonnes  32443  "
      ]
     },
     "execution_count": 411,
     "metadata": {},
     "output_type": "execute_result"
    }
   ],
   "source": [
    "data_crops.tail()"
   ]
  },
  {
   "cell_type": "code",
   "execution_count": 412,
   "metadata": {
    "pycharm": {
     "name": "#%%\n"
    }
   },
   "outputs": [
    {
     "name": "stdout",
     "output_type": "stream",
     "text": [
      "Crops has only one element: ['Production']\n"
     ]
    }
   ],
   "source": [
    "print( 'Crops has only one element:', data_crops.Element.unique())"
   ]
  },
  {
   "cell_type": "code",
   "execution_count": 413,
   "metadata": {
    "pycharm": {
     "name": "#%%\n"
    }
   },
   "outputs": [
    {
     "name": "stdout",
     "output_type": "stream",
     "text": [
      "All items: ['Wheat and products' 'Rice and products' 'Barley and products'\n",
      " 'Maize and products' 'Rye and products' 'Oats' 'Millet and products'\n",
      " 'Sorghum and products' 'Cereals, Other']\n"
     ]
    }
   ],
   "source": [
    "print('All items:', data_crops.Item.unique())\n",
    "\n"
   ]
  },
  {
   "cell_type": "code",
   "execution_count": 414,
   "metadata": {
    "pycharm": {
     "name": "#%%\n"
    }
   },
   "outputs": [
    {
     "name": "stdout",
     "output_type": "stream",
     "text": [
      "Number of items: 9\n"
     ]
    }
   ],
   "source": [
    "print('Number of items:', len(data_crops.Item.unique()))"
   ]
  },
  {
   "cell_type": "code",
   "execution_count": 415,
   "metadata": {
    "pycharm": {
     "name": "#%%\n"
    }
   },
   "outputs": [
    {
     "name": "stdout",
     "output_type": "stream",
     "text": [
      "Area or country aggregate World + Total: ['World']\n"
     ]
    }
   ],
   "source": [
    "print('Area or country aggregate World + Total:', data_crops.Area.unique())"
   ]
  },
  {
   "cell_type": "code",
   "execution_count": 416,
   "metadata": {
    "pycharm": {
     "name": "#%%\n"
    }
   },
   "outputs": [
    {
     "name": "stdout",
     "output_type": "stream",
     "text": [
      "Years: [2017]\n"
     ]
    }
   ],
   "source": [
    "print('Years:', data_crops.Year.unique())"
   ]
  },
  {
   "cell_type": "code",
   "execution_count": 417,
   "metadata": {
    "pycharm": {
     "name": "#%%\n"
    }
   },
   "outputs": [
    {
     "name": "stdout",
     "output_type": "stream",
     "text": [
      "<class 'pandas.core.frame.DataFrame'>\n",
      "RangeIndex: 137007 entries, 0 to 137006\n",
      "Data columns (total 12 columns):\n",
      " #   Column        Non-Null Count   Dtype  \n",
      "---  ------        --------------   -----  \n",
      " 0   Domain Code   137007 non-null  object \n",
      " 1   Domain        137007 non-null  object \n",
      " 2   Area Code     137007 non-null  int64  \n",
      " 3   Area          137007 non-null  object \n",
      " 4   Element Code  137007 non-null  int64  \n",
      " 5   Element       137007 non-null  object \n",
      " 6   Item Code     137007 non-null  int64  \n",
      " 7   Item          137007 non-null  object \n",
      " 8   Year Code     137007 non-null  int64  \n",
      " 9   Year          137007 non-null  int64  \n",
      " 10  Unit          137007 non-null  object \n",
      " 11  Value         137007 non-null  float64\n",
      "dtypes: float64(1), int64(5), object(6)\n",
      "memory usage: 12.5+ MB\n"
     ]
    }
   ],
   "source": [
    "data_vegetables.info()"
   ]
  },
  {
   "cell_type": "code",
   "execution_count": 418,
   "metadata": {
    "pycharm": {
     "name": "#%%\n"
    }
   },
   "outputs": [
    {
     "data": {
      "text/html": [
       "<div>\n",
       "<style scoped>\n",
       "    .dataframe tbody tr th:only-of-type {\n",
       "        vertical-align: middle;\n",
       "    }\n",
       "\n",
       "    .dataframe tbody tr th {\n",
       "        vertical-align: top;\n",
       "    }\n",
       "\n",
       "    .dataframe thead th {\n",
       "        text-align: right;\n",
       "    }\n",
       "</style>\n",
       "<table border=\"1\" class=\"dataframe\">\n",
       "  <thead>\n",
       "    <tr style=\"text-align: right;\">\n",
       "      <th></th>\n",
       "      <th>Domain Code</th>\n",
       "      <th>Domain</th>\n",
       "      <th>Area Code</th>\n",
       "      <th>Area</th>\n",
       "      <th>Element Code</th>\n",
       "      <th>Element</th>\n",
       "      <th>Item Code</th>\n",
       "      <th>Item</th>\n",
       "      <th>Year Code</th>\n",
       "      <th>Year</th>\n",
       "      <th>Unit</th>\n",
       "      <th>Value</th>\n",
       "    </tr>\n",
       "  </thead>\n",
       "  <tbody>\n",
       "    <tr>\n",
       "      <th>0</th>\n",
       "      <td>FBS</td>\n",
       "      <td>New Food Balances</td>\n",
       "      <td>2</td>\n",
       "      <td>Afghanistan</td>\n",
       "      <td>5511</td>\n",
       "      <td>Production</td>\n",
       "      <td>2511</td>\n",
       "      <td>Wheat and products</td>\n",
       "      <td>2017</td>\n",
       "      <td>2017</td>\n",
       "      <td>1000 tonnes</td>\n",
       "      <td>4281.0</td>\n",
       "    </tr>\n",
       "    <tr>\n",
       "      <th>1</th>\n",
       "      <td>FBS</td>\n",
       "      <td>New Food Balances</td>\n",
       "      <td>2</td>\n",
       "      <td>Afghanistan</td>\n",
       "      <td>5611</td>\n",
       "      <td>Import Quantity</td>\n",
       "      <td>2511</td>\n",
       "      <td>Wheat and products</td>\n",
       "      <td>2017</td>\n",
       "      <td>2017</td>\n",
       "      <td>1000 tonnes</td>\n",
       "      <td>2302.0</td>\n",
       "    </tr>\n",
       "    <tr>\n",
       "      <th>2</th>\n",
       "      <td>FBS</td>\n",
       "      <td>New Food Balances</td>\n",
       "      <td>2</td>\n",
       "      <td>Afghanistan</td>\n",
       "      <td>5072</td>\n",
       "      <td>Stock Variation</td>\n",
       "      <td>2511</td>\n",
       "      <td>Wheat and products</td>\n",
       "      <td>2017</td>\n",
       "      <td>2017</td>\n",
       "      <td>1000 tonnes</td>\n",
       "      <td>-119.0</td>\n",
       "    </tr>\n",
       "    <tr>\n",
       "      <th>3</th>\n",
       "      <td>FBS</td>\n",
       "      <td>New Food Balances</td>\n",
       "      <td>2</td>\n",
       "      <td>Afghanistan</td>\n",
       "      <td>5911</td>\n",
       "      <td>Export Quantity</td>\n",
       "      <td>2511</td>\n",
       "      <td>Wheat and products</td>\n",
       "      <td>2017</td>\n",
       "      <td>2017</td>\n",
       "      <td>1000 tonnes</td>\n",
       "      <td>0.0</td>\n",
       "    </tr>\n",
       "    <tr>\n",
       "      <th>4</th>\n",
       "      <td>FBS</td>\n",
       "      <td>New Food Balances</td>\n",
       "      <td>2</td>\n",
       "      <td>Afghanistan</td>\n",
       "      <td>5301</td>\n",
       "      <td>Domestic supply quantity</td>\n",
       "      <td>2511</td>\n",
       "      <td>Wheat and products</td>\n",
       "      <td>2017</td>\n",
       "      <td>2017</td>\n",
       "      <td>1000 tonnes</td>\n",
       "      <td>6701.0</td>\n",
       "    </tr>\n",
       "  </tbody>\n",
       "</table>\n",
       "</div>"
      ],
      "text/plain": [
       "  Domain Code             Domain  Area Code         Area  Element Code  \\\n",
       "0         FBS  New Food Balances          2  Afghanistan          5511   \n",
       "1         FBS  New Food Balances          2  Afghanistan          5611   \n",
       "2         FBS  New Food Balances          2  Afghanistan          5072   \n",
       "3         FBS  New Food Balances          2  Afghanistan          5911   \n",
       "4         FBS  New Food Balances          2  Afghanistan          5301   \n",
       "\n",
       "                    Element  Item Code                Item  Year Code  Year  \\\n",
       "0                Production       2511  Wheat and products       2017  2017   \n",
       "1           Import Quantity       2511  Wheat and products       2017  2017   \n",
       "2           Stock Variation       2511  Wheat and products       2017  2017   \n",
       "3           Export Quantity       2511  Wheat and products       2017  2017   \n",
       "4  Domestic supply quantity       2511  Wheat and products       2017  2017   \n",
       "\n",
       "          Unit   Value  \n",
       "0  1000 tonnes  4281.0  \n",
       "1  1000 tonnes  2302.0  \n",
       "2  1000 tonnes  -119.0  \n",
       "3  1000 tonnes     0.0  \n",
       "4  1000 tonnes  6701.0  "
      ]
     },
     "execution_count": 418,
     "metadata": {},
     "output_type": "execute_result"
    }
   ],
   "source": [
    "data_vegetables.head()"
   ]
  },
  {
   "cell_type": "code",
   "execution_count": 419,
   "metadata": {
    "pycharm": {
     "name": "#%%\n"
    }
   },
   "outputs": [
    {
     "data": {
      "text/html": [
       "<div>\n",
       "<style scoped>\n",
       "    .dataframe tbody tr th:only-of-type {\n",
       "        vertical-align: middle;\n",
       "    }\n",
       "\n",
       "    .dataframe tbody tr th {\n",
       "        vertical-align: top;\n",
       "    }\n",
       "\n",
       "    .dataframe thead th {\n",
       "        text-align: right;\n",
       "    }\n",
       "</style>\n",
       "<table border=\"1\" class=\"dataframe\">\n",
       "  <thead>\n",
       "    <tr style=\"text-align: right;\">\n",
       "      <th></th>\n",
       "      <th>Domain Code</th>\n",
       "      <th>Domain</th>\n",
       "      <th>Area Code</th>\n",
       "      <th>Area</th>\n",
       "      <th>Element Code</th>\n",
       "      <th>Element</th>\n",
       "      <th>Item Code</th>\n",
       "      <th>Item</th>\n",
       "      <th>Year Code</th>\n",
       "      <th>Year</th>\n",
       "      <th>Unit</th>\n",
       "      <th>Value</th>\n",
       "    </tr>\n",
       "  </thead>\n",
       "  <tbody>\n",
       "    <tr>\n",
       "      <th>137002</th>\n",
       "      <td>FBS</td>\n",
       "      <td>New Food Balances</td>\n",
       "      <td>181</td>\n",
       "      <td>Zimbabwe</td>\n",
       "      <td>5142</td>\n",
       "      <td>Food</td>\n",
       "      <td>2899</td>\n",
       "      <td>Miscellaneous</td>\n",
       "      <td>2017</td>\n",
       "      <td>2017</td>\n",
       "      <td>1000 tonnes</td>\n",
       "      <td>19.00</td>\n",
       "    </tr>\n",
       "    <tr>\n",
       "      <th>137003</th>\n",
       "      <td>FBS</td>\n",
       "      <td>New Food Balances</td>\n",
       "      <td>181</td>\n",
       "      <td>Zimbabwe</td>\n",
       "      <td>645</td>\n",
       "      <td>Food supply quantity (kg/capita/yr)</td>\n",
       "      <td>2899</td>\n",
       "      <td>Miscellaneous</td>\n",
       "      <td>2017</td>\n",
       "      <td>2017</td>\n",
       "      <td>kg</td>\n",
       "      <td>1.33</td>\n",
       "    </tr>\n",
       "    <tr>\n",
       "      <th>137004</th>\n",
       "      <td>FBS</td>\n",
       "      <td>New Food Balances</td>\n",
       "      <td>181</td>\n",
       "      <td>Zimbabwe</td>\n",
       "      <td>664</td>\n",
       "      <td>Food supply (kcal/capita/day)</td>\n",
       "      <td>2899</td>\n",
       "      <td>Miscellaneous</td>\n",
       "      <td>2017</td>\n",
       "      <td>2017</td>\n",
       "      <td>kcal/capita/day</td>\n",
       "      <td>1.00</td>\n",
       "    </tr>\n",
       "    <tr>\n",
       "      <th>137005</th>\n",
       "      <td>FBS</td>\n",
       "      <td>New Food Balances</td>\n",
       "      <td>181</td>\n",
       "      <td>Zimbabwe</td>\n",
       "      <td>674</td>\n",
       "      <td>Protein supply quantity (g/capita/day)</td>\n",
       "      <td>2899</td>\n",
       "      <td>Miscellaneous</td>\n",
       "      <td>2017</td>\n",
       "      <td>2017</td>\n",
       "      <td>g/capita/day</td>\n",
       "      <td>0.04</td>\n",
       "    </tr>\n",
       "    <tr>\n",
       "      <th>137006</th>\n",
       "      <td>FBS</td>\n",
       "      <td>New Food Balances</td>\n",
       "      <td>181</td>\n",
       "      <td>Zimbabwe</td>\n",
       "      <td>684</td>\n",
       "      <td>Fat supply quantity (g/capita/day)</td>\n",
       "      <td>2899</td>\n",
       "      <td>Miscellaneous</td>\n",
       "      <td>2017</td>\n",
       "      <td>2017</td>\n",
       "      <td>g/capita/day</td>\n",
       "      <td>0.02</td>\n",
       "    </tr>\n",
       "  </tbody>\n",
       "</table>\n",
       "</div>"
      ],
      "text/plain": [
       "       Domain Code             Domain  Area Code      Area  Element Code  \\\n",
       "137002         FBS  New Food Balances        181  Zimbabwe          5142   \n",
       "137003         FBS  New Food Balances        181  Zimbabwe           645   \n",
       "137004         FBS  New Food Balances        181  Zimbabwe           664   \n",
       "137005         FBS  New Food Balances        181  Zimbabwe           674   \n",
       "137006         FBS  New Food Balances        181  Zimbabwe           684   \n",
       "\n",
       "                                       Element  Item Code           Item  \\\n",
       "137002                                    Food       2899  Miscellaneous   \n",
       "137003     Food supply quantity (kg/capita/yr)       2899  Miscellaneous   \n",
       "137004           Food supply (kcal/capita/day)       2899  Miscellaneous   \n",
       "137005  Protein supply quantity (g/capita/day)       2899  Miscellaneous   \n",
       "137006      Fat supply quantity (g/capita/day)       2899  Miscellaneous   \n",
       "\n",
       "        Year Code  Year             Unit  Value  \n",
       "137002       2017  2017      1000 tonnes  19.00  \n",
       "137003       2017  2017               kg   1.33  \n",
       "137004       2017  2017  kcal/capita/day   1.00  \n",
       "137005       2017  2017     g/capita/day   0.04  \n",
       "137006       2017  2017     g/capita/day   0.02  "
      ]
     },
     "execution_count": 419,
     "metadata": {},
     "output_type": "execute_result"
    }
   ],
   "source": [
    "data_vegetables.tail()"
   ]
  },
  {
   "cell_type": "code",
   "execution_count": 420,
   "metadata": {
    "pycharm": {
     "name": "#%%\n"
    }
   },
   "outputs": [
    {
     "name": "stdout",
     "output_type": "stream",
     "text": [
      "Vegetable elements: ['Production' 'Import Quantity' 'Stock Variation' 'Export Quantity'\n",
      " 'Domestic supply quantity' 'Feed' 'Seed' 'Losses' 'Residuals' 'Food'\n",
      " 'Food supply quantity (kg/capita/yr)' 'Food supply (kcal/capita/day)'\n",
      " 'Protein supply quantity (g/capita/day)'\n",
      " 'Fat supply quantity (g/capita/day)' 'Processing' 'Other uses (non-food)'\n",
      " 'Tourist consumption']\n"
     ]
    }
   ],
   "source": [
    "print( 'Vegetable elements:', data_vegetables.Element.unique())"
   ]
  },
  {
   "cell_type": "code",
   "execution_count": 421,
   "metadata": {
    "pycharm": {
     "name": "#%%\n"
    }
   },
   "outputs": [
    {
     "name": "stdout",
     "output_type": "stream",
     "text": [
      "Number of elements: 17\n"
     ]
    }
   ],
   "source": [
    "print('Number of elements:', len(data_vegetables.Element.unique()))"
   ]
  },
  {
   "cell_type": "code",
   "execution_count": 422,
   "metadata": {
    "pycharm": {
     "name": "#%%\n"
    }
   },
   "outputs": [
    {
     "name": "stdout",
     "output_type": "stream",
     "text": [
      "All items: ['Wheat and products' 'Rice and products' 'Barley and products'\n",
      " 'Maize and products' 'Rye and products' 'Oats' 'Millet and products'\n",
      " 'Sorghum and products' 'Cereals, Other' 'Potatoes and products' 'Yams'\n",
      " 'Roots, Other' 'Sugar cane' 'Sugar beet' 'Sugar (Raw Equivalent)'\n",
      " 'Sweeteners, Other' 'Honey' 'Beans' 'Peas' 'Pulses, Other and products'\n",
      " 'Nuts and products' 'Soyabeans' 'Groundnuts (Shelled Eq)'\n",
      " 'Sunflower seed' 'Rape and Mustardseed' 'Cottonseed'\n",
      " 'Coconuts - Incl Copra' 'Sesame seed' 'Olives (including preserved)'\n",
      " 'Oilcrops, Other' 'Soyabean Oil' 'Groundnut Oil' 'Sunflowerseed Oil'\n",
      " 'Rape and Mustard Oil' 'Cottonseed Oil' 'Palmkernel Oil' 'Palm Oil'\n",
      " 'Coconut Oil' 'Sesameseed Oil' 'Olive Oil' 'Ricebran Oil'\n",
      " 'Maize Germ Oil' 'Oilcrops Oil, Other' 'Tomatoes and products' 'Onions'\n",
      " 'Vegetables, Other' 'Oranges, Mandarines' 'Lemons, Limes and products'\n",
      " 'Grapefruit and products' 'Citrus, Other' 'Bananas' 'Apples and products'\n",
      " 'Pineapples and products' 'Dates' 'Grapes and products (excl wine)'\n",
      " 'Fruits, Other' 'Coffee and products' 'Cocoa Beans and products'\n",
      " 'Tea (including mate)' 'Pepper' 'Pimento' 'Cloves' 'Spices, Other' 'Wine'\n",
      " 'Beer' 'Beverages, Fermented' 'Beverages, Alcoholic' 'Alcohol, Non-Food'\n",
      " 'Infant food' 'Miscellaneous' 'Cassava and products' 'Sweet potatoes'\n",
      " 'Palm kernels' 'Plantains' 'Sugar non-centrifugal']\n"
     ]
    }
   ],
   "source": [
    "print('All items:', data_vegetables.Item.unique())"
   ]
  },
  {
   "cell_type": "code",
   "execution_count": 423,
   "metadata": {
    "pycharm": {
     "name": "#%%\n"
    }
   },
   "outputs": [
    {
     "name": "stdout",
     "output_type": "stream",
     "text": [
      "Number of items: 75\n"
     ]
    }
   ],
   "source": [
    "print('Number of items:', len(data_vegetables.Item.unique()))"
   ]
  },
  {
   "cell_type": "code",
   "execution_count": 424,
   "metadata": {
    "pycharm": {
     "name": "#%%\n"
    }
   },
   "outputs": [
    {
     "name": "stdout",
     "output_type": "stream",
     "text": [
      "Area or countries: ['Afghanistan' 'Albania' 'Algeria' 'Angola' 'Antigua and Barbuda'\n",
      " 'Argentina' 'Armenia' 'Australia' 'Austria' 'Azerbaijan' 'Bahamas'\n",
      " 'Bangladesh' 'Barbados' 'Belarus' 'Belgium' 'Belize' 'Benin'\n",
      " 'Bolivia (Plurinational State of)' 'Bosnia and Herzegovina' 'Botswana'\n",
      " 'Brazil' 'Bulgaria' 'Burkina Faso' 'Cabo Verde' 'Cambodia' 'Cameroon'\n",
      " 'Canada' 'Central African Republic' 'Chad' 'Chile' 'China'\n",
      " 'China, Hong Kong SAR' 'China, Macao SAR' 'China, mainland'\n",
      " 'China, Taiwan Province of' 'Colombia' 'Congo' 'Costa Rica'\n",
      " \"Côte d'Ivoire\" 'Croatia' 'Cuba' 'Cyprus' 'Czechia'\n",
      " \"Democratic People's Republic of Korea\" 'Denmark' 'Djibouti' 'Dominica'\n",
      " 'Dominican Republic' 'Ecuador' 'Egypt' 'El Salvador' 'Estonia' 'Eswatini'\n",
      " 'Ethiopia' 'Fiji' 'Finland' 'France' 'French Polynesia' 'Gabon' 'Gambia'\n",
      " 'Georgia' 'Germany' 'Ghana' 'Greece' 'Grenada' 'Guatemala' 'Guinea'\n",
      " 'Guinea-Bissau' 'Guyana' 'Haiti' 'Honduras' 'Hungary' 'Iceland' 'India'\n",
      " 'Indonesia' 'Iran (Islamic Republic of)' 'Iraq' 'Ireland' 'Israel'\n",
      " 'Italy' 'Jamaica' 'Japan' 'Jordan' 'Kazakhstan' 'Kenya' 'Kiribati'\n",
      " 'Kuwait' 'Kyrgyzstan' \"Lao People's Democratic Republic\" 'Latvia'\n",
      " 'Lebanon' 'Lesotho' 'Liberia' 'Lithuania' 'Luxembourg' 'Madagascar'\n",
      " 'Malawi' 'Malaysia' 'Maldives' 'Mali' 'Malta' 'Mauritania' 'Mauritius'\n",
      " 'Mexico' 'Mongolia' 'Montenegro' 'Morocco' 'Mozambique' 'Myanmar'\n",
      " 'Namibia' 'Nepal' 'Netherlands' 'New Caledonia' 'New Zealand' 'Nicaragua'\n",
      " 'Niger' 'Nigeria' 'North Macedonia' 'Norway' 'Oman' 'Pakistan' 'Panama'\n",
      " 'Paraguay' 'Peru' 'Philippines' 'Poland' 'Portugal' 'Republic of Korea'\n",
      " 'Republic of Moldova' 'Romania' 'Russian Federation' 'Rwanda'\n",
      " 'Saint Kitts and Nevis' 'Saint Lucia' 'Saint Vincent and the Grenadines'\n",
      " 'Samoa' 'Sao Tome and Principe' 'Saudi Arabia' 'Senegal' 'Serbia'\n",
      " 'Sierra Leone' 'Slovakia' 'Slovenia' 'Solomon Islands' 'South Africa'\n",
      " 'Spain' 'Sri Lanka' 'Sudan' 'Suriname' 'Sweden' 'Switzerland'\n",
      " 'Tajikistan' 'Thailand' 'Timor-Leste' 'Togo' 'Trinidad and Tobago'\n",
      " 'Tunisia' 'Turkey' 'Turkmenistan' 'Uganda' 'Ukraine'\n",
      " 'United Arab Emirates'\n",
      " 'United Kingdom of Great Britain and Northern Ireland'\n",
      " 'United Republic of Tanzania' 'United States of America' 'Uruguay'\n",
      " 'Uzbekistan' 'Vanuatu' 'Venezuela (Bolivarian Republic of)' 'Viet Nam'\n",
      " 'Yemen' 'Zambia' 'Zimbabwe']\n"
     ]
    }
   ],
   "source": [
    "print('Area or countries:', data_vegetables.Area.unique())"
   ]
  },
  {
   "cell_type": "code",
   "execution_count": 425,
   "metadata": {
    "pycharm": {
     "name": "#%%\n"
    }
   },
   "outputs": [
    {
     "name": "stdout",
     "output_type": "stream",
     "text": [
      "Area or countries amount to: 173\n"
     ]
    }
   ],
   "source": [
    "print('Area or countries amount to:', len(data_vegetables.Area.unique()))"
   ]
  },
  {
   "cell_type": "code",
   "execution_count": 426,
   "metadata": {
    "pycharm": {
     "name": "#%%\n"
    }
   },
   "outputs": [
    {
     "name": "stdout",
     "output_type": "stream",
     "text": [
      "Years: [2017]\n"
     ]
    }
   ],
   "source": [
    "print('Years:', data_vegetables.Year.unique())"
   ]
  },
  {
   "cell_type": "code",
   "execution_count": 427,
   "metadata": {
    "pycharm": {
     "name": "#%%\n"
    }
   },
   "outputs": [
    {
     "name": "stdout",
     "output_type": "stream",
     "text": [
      "<class 'pandas.core.frame.DataFrame'>\n",
      "RangeIndex: 40950 entries, 0 to 40949\n",
      "Data columns (total 12 columns):\n",
      " #   Column        Non-Null Count  Dtype  \n",
      "---  ------        --------------  -----  \n",
      " 0   Domain Code   40950 non-null  object \n",
      " 1   Domain        40950 non-null  object \n",
      " 2   Area Code     40950 non-null  int64  \n",
      " 3   Area          40950 non-null  object \n",
      " 4   Element Code  40950 non-null  int64  \n",
      " 5   Element       40950 non-null  object \n",
      " 6   Item Code     40950 non-null  int64  \n",
      " 7   Item          40950 non-null  object \n",
      " 8   Year Code     40950 non-null  int64  \n",
      " 9   Year          40950 non-null  int64  \n",
      " 10  Unit          40950 non-null  object \n",
      " 11  Value         40950 non-null  float64\n",
      "dtypes: float64(1), int64(5), object(6)\n",
      "memory usage: 3.7+ MB\n"
     ]
    }
   ],
   "source": [
    "data_animals.info()"
   ]
  },
  {
   "cell_type": "code",
   "execution_count": 428,
   "metadata": {
    "pycharm": {
     "name": "#%%\n"
    }
   },
   "outputs": [
    {
     "data": {
      "text/html": [
       "<div>\n",
       "<style scoped>\n",
       "    .dataframe tbody tr th:only-of-type {\n",
       "        vertical-align: middle;\n",
       "    }\n",
       "\n",
       "    .dataframe tbody tr th {\n",
       "        vertical-align: top;\n",
       "    }\n",
       "\n",
       "    .dataframe thead th {\n",
       "        text-align: right;\n",
       "    }\n",
       "</style>\n",
       "<table border=\"1\" class=\"dataframe\">\n",
       "  <thead>\n",
       "    <tr style=\"text-align: right;\">\n",
       "      <th></th>\n",
       "      <th>Domain Code</th>\n",
       "      <th>Domain</th>\n",
       "      <th>Area Code</th>\n",
       "      <th>Area</th>\n",
       "      <th>Element Code</th>\n",
       "      <th>Element</th>\n",
       "      <th>Item Code</th>\n",
       "      <th>Item</th>\n",
       "      <th>Year Code</th>\n",
       "      <th>Year</th>\n",
       "      <th>Unit</th>\n",
       "      <th>Value</th>\n",
       "    </tr>\n",
       "  </thead>\n",
       "  <tbody>\n",
       "    <tr>\n",
       "      <th>0</th>\n",
       "      <td>FBS</td>\n",
       "      <td>New Food Balances</td>\n",
       "      <td>2</td>\n",
       "      <td>Afghanistan</td>\n",
       "      <td>5511</td>\n",
       "      <td>Production</td>\n",
       "      <td>2731</td>\n",
       "      <td>Bovine Meat</td>\n",
       "      <td>2017</td>\n",
       "      <td>2017</td>\n",
       "      <td>1000 tonnes</td>\n",
       "      <td>94.0</td>\n",
       "    </tr>\n",
       "    <tr>\n",
       "      <th>1</th>\n",
       "      <td>FBS</td>\n",
       "      <td>New Food Balances</td>\n",
       "      <td>2</td>\n",
       "      <td>Afghanistan</td>\n",
       "      <td>5611</td>\n",
       "      <td>Import Quantity</td>\n",
       "      <td>2731</td>\n",
       "      <td>Bovine Meat</td>\n",
       "      <td>2017</td>\n",
       "      <td>2017</td>\n",
       "      <td>1000 tonnes</td>\n",
       "      <td>6.0</td>\n",
       "    </tr>\n",
       "    <tr>\n",
       "      <th>2</th>\n",
       "      <td>FBS</td>\n",
       "      <td>New Food Balances</td>\n",
       "      <td>2</td>\n",
       "      <td>Afghanistan</td>\n",
       "      <td>5072</td>\n",
       "      <td>Stock Variation</td>\n",
       "      <td>2731</td>\n",
       "      <td>Bovine Meat</td>\n",
       "      <td>2017</td>\n",
       "      <td>2017</td>\n",
       "      <td>1000 tonnes</td>\n",
       "      <td>-0.0</td>\n",
       "    </tr>\n",
       "    <tr>\n",
       "      <th>3</th>\n",
       "      <td>FBS</td>\n",
       "      <td>New Food Balances</td>\n",
       "      <td>2</td>\n",
       "      <td>Afghanistan</td>\n",
       "      <td>5301</td>\n",
       "      <td>Domestic supply quantity</td>\n",
       "      <td>2731</td>\n",
       "      <td>Bovine Meat</td>\n",
       "      <td>2017</td>\n",
       "      <td>2017</td>\n",
       "      <td>1000 tonnes</td>\n",
       "      <td>100.0</td>\n",
       "    </tr>\n",
       "    <tr>\n",
       "      <th>4</th>\n",
       "      <td>FBS</td>\n",
       "      <td>New Food Balances</td>\n",
       "      <td>2</td>\n",
       "      <td>Afghanistan</td>\n",
       "      <td>5123</td>\n",
       "      <td>Losses</td>\n",
       "      <td>2731</td>\n",
       "      <td>Bovine Meat</td>\n",
       "      <td>2017</td>\n",
       "      <td>2017</td>\n",
       "      <td>1000 tonnes</td>\n",
       "      <td>5.0</td>\n",
       "    </tr>\n",
       "  </tbody>\n",
       "</table>\n",
       "</div>"
      ],
      "text/plain": [
       "  Domain Code             Domain  Area Code         Area  Element Code  \\\n",
       "0         FBS  New Food Balances          2  Afghanistan          5511   \n",
       "1         FBS  New Food Balances          2  Afghanistan          5611   \n",
       "2         FBS  New Food Balances          2  Afghanistan          5072   \n",
       "3         FBS  New Food Balances          2  Afghanistan          5301   \n",
       "4         FBS  New Food Balances          2  Afghanistan          5123   \n",
       "\n",
       "                    Element  Item Code         Item  Year Code  Year  \\\n",
       "0                Production       2731  Bovine Meat       2017  2017   \n",
       "1           Import Quantity       2731  Bovine Meat       2017  2017   \n",
       "2           Stock Variation       2731  Bovine Meat       2017  2017   \n",
       "3  Domestic supply quantity       2731  Bovine Meat       2017  2017   \n",
       "4                    Losses       2731  Bovine Meat       2017  2017   \n",
       "\n",
       "          Unit  Value  \n",
       "0  1000 tonnes   94.0  \n",
       "1  1000 tonnes    6.0  \n",
       "2  1000 tonnes   -0.0  \n",
       "3  1000 tonnes  100.0  \n",
       "4  1000 tonnes    5.0  "
      ]
     },
     "execution_count": 428,
     "metadata": {},
     "output_type": "execute_result"
    }
   ],
   "source": [
    "data_animals.head()"
   ]
  },
  {
   "cell_type": "code",
   "execution_count": 429,
   "metadata": {
    "pycharm": {
     "name": "#%%\n"
    }
   },
   "outputs": [
    {
     "data": {
      "text/html": [
       "<div>\n",
       "<style scoped>\n",
       "    .dataframe tbody tr th:only-of-type {\n",
       "        vertical-align: middle;\n",
       "    }\n",
       "\n",
       "    .dataframe tbody tr th {\n",
       "        vertical-align: top;\n",
       "    }\n",
       "\n",
       "    .dataframe thead th {\n",
       "        text-align: right;\n",
       "    }\n",
       "</style>\n",
       "<table border=\"1\" class=\"dataframe\">\n",
       "  <thead>\n",
       "    <tr style=\"text-align: right;\">\n",
       "      <th></th>\n",
       "      <th>Domain Code</th>\n",
       "      <th>Domain</th>\n",
       "      <th>Area Code</th>\n",
       "      <th>Area</th>\n",
       "      <th>Element Code</th>\n",
       "      <th>Element</th>\n",
       "      <th>Item Code</th>\n",
       "      <th>Item</th>\n",
       "      <th>Year Code</th>\n",
       "      <th>Year</th>\n",
       "      <th>Unit</th>\n",
       "      <th>Value</th>\n",
       "    </tr>\n",
       "  </thead>\n",
       "  <tbody>\n",
       "    <tr>\n",
       "      <th>40945</th>\n",
       "      <td>FBS</td>\n",
       "      <td>New Food Balances</td>\n",
       "      <td>181</td>\n",
       "      <td>Zimbabwe</td>\n",
       "      <td>5142</td>\n",
       "      <td>Food</td>\n",
       "      <td>2775</td>\n",
       "      <td>Aquatic Plants</td>\n",
       "      <td>2017</td>\n",
       "      <td>2017</td>\n",
       "      <td>1000 tonnes</td>\n",
       "      <td>0.0</td>\n",
       "    </tr>\n",
       "    <tr>\n",
       "      <th>40946</th>\n",
       "      <td>FBS</td>\n",
       "      <td>New Food Balances</td>\n",
       "      <td>181</td>\n",
       "      <td>Zimbabwe</td>\n",
       "      <td>645</td>\n",
       "      <td>Food supply quantity (kg/capita/yr)</td>\n",
       "      <td>2775</td>\n",
       "      <td>Aquatic Plants</td>\n",
       "      <td>2017</td>\n",
       "      <td>2017</td>\n",
       "      <td>kg</td>\n",
       "      <td>0.0</td>\n",
       "    </tr>\n",
       "    <tr>\n",
       "      <th>40947</th>\n",
       "      <td>FBS</td>\n",
       "      <td>New Food Balances</td>\n",
       "      <td>181</td>\n",
       "      <td>Zimbabwe</td>\n",
       "      <td>664</td>\n",
       "      <td>Food supply (kcal/capita/day)</td>\n",
       "      <td>2775</td>\n",
       "      <td>Aquatic Plants</td>\n",
       "      <td>2017</td>\n",
       "      <td>2017</td>\n",
       "      <td>kcal/capita/day</td>\n",
       "      <td>0.0</td>\n",
       "    </tr>\n",
       "    <tr>\n",
       "      <th>40948</th>\n",
       "      <td>FBS</td>\n",
       "      <td>New Food Balances</td>\n",
       "      <td>181</td>\n",
       "      <td>Zimbabwe</td>\n",
       "      <td>674</td>\n",
       "      <td>Protein supply quantity (g/capita/day)</td>\n",
       "      <td>2775</td>\n",
       "      <td>Aquatic Plants</td>\n",
       "      <td>2017</td>\n",
       "      <td>2017</td>\n",
       "      <td>g/capita/day</td>\n",
       "      <td>0.0</td>\n",
       "    </tr>\n",
       "    <tr>\n",
       "      <th>40949</th>\n",
       "      <td>FBS</td>\n",
       "      <td>New Food Balances</td>\n",
       "      <td>181</td>\n",
       "      <td>Zimbabwe</td>\n",
       "      <td>684</td>\n",
       "      <td>Fat supply quantity (g/capita/day)</td>\n",
       "      <td>2775</td>\n",
       "      <td>Aquatic Plants</td>\n",
       "      <td>2017</td>\n",
       "      <td>2017</td>\n",
       "      <td>g/capita/day</td>\n",
       "      <td>0.0</td>\n",
       "    </tr>\n",
       "  </tbody>\n",
       "</table>\n",
       "</div>"
      ],
      "text/plain": [
       "      Domain Code             Domain  Area Code      Area  Element Code  \\\n",
       "40945         FBS  New Food Balances        181  Zimbabwe          5142   \n",
       "40946         FBS  New Food Balances        181  Zimbabwe           645   \n",
       "40947         FBS  New Food Balances        181  Zimbabwe           664   \n",
       "40948         FBS  New Food Balances        181  Zimbabwe           674   \n",
       "40949         FBS  New Food Balances        181  Zimbabwe           684   \n",
       "\n",
       "                                      Element  Item Code            Item  \\\n",
       "40945                                    Food       2775  Aquatic Plants   \n",
       "40946     Food supply quantity (kg/capita/yr)       2775  Aquatic Plants   \n",
       "40947           Food supply (kcal/capita/day)       2775  Aquatic Plants   \n",
       "40948  Protein supply quantity (g/capita/day)       2775  Aquatic Plants   \n",
       "40949      Fat supply quantity (g/capita/day)       2775  Aquatic Plants   \n",
       "\n",
       "       Year Code  Year             Unit  Value  \n",
       "40945       2017  2017      1000 tonnes    0.0  \n",
       "40946       2017  2017               kg    0.0  \n",
       "40947       2017  2017  kcal/capita/day    0.0  \n",
       "40948       2017  2017     g/capita/day    0.0  \n",
       "40949       2017  2017     g/capita/day    0.0  "
      ]
     },
     "execution_count": 429,
     "metadata": {},
     "output_type": "execute_result"
    }
   ],
   "source": [
    "\n",
    "data_animals.tail()"
   ]
  },
  {
   "cell_type": "code",
   "execution_count": 430,
   "metadata": {
    "pycharm": {
     "name": "#%%\n"
    }
   },
   "outputs": [
    {
     "name": "stdout",
     "output_type": "stream",
     "text": [
      "Animal elements: ['Production' 'Import Quantity' 'Stock Variation'\n",
      " 'Domestic supply quantity' 'Losses' 'Residuals' 'Food'\n",
      " 'Food supply quantity (kg/capita/yr)' 'Food supply (kcal/capita/day)'\n",
      " 'Protein supply quantity (g/capita/day)'\n",
      " 'Fat supply quantity (g/capita/day)' 'Export Quantity' 'Feed' 'Seed'\n",
      " 'Other uses (non-food)' 'Processing' 'Tourist consumption']\n"
     ]
    }
   ],
   "source": [
    "print( 'Animal elements:', data_animals.Element.unique())"
   ]
  },
  {
   "cell_type": "code",
   "execution_count": 431,
   "metadata": {
    "pycharm": {
     "name": "#%%\n"
    }
   },
   "outputs": [
    {
     "name": "stdout",
     "output_type": "stream",
     "text": [
      "Number of elements: 17\n"
     ]
    }
   ],
   "source": [
    "print('Number of elements:', len(data_animals.Element.unique()))"
   ]
  },
  {
   "cell_type": "code",
   "execution_count": 432,
   "metadata": {
    "pycharm": {
     "name": "#%%\n"
    }
   },
   "outputs": [
    {
     "name": "stdout",
     "output_type": "stream",
     "text": [
      "All items: ['Bovine Meat' 'Mutton & Goat Meat' 'Pigmeat' 'Poultry Meat' 'Meat, Other'\n",
      " 'Offals, Edible' 'Butter, Ghee' 'Cream' 'Fats, Animals, Raw' 'Eggs'\n",
      " 'Milk - Excluding Butter' 'Freshwater Fish' 'Fish, Body Oil'\n",
      " 'Fish, Liver Oil' 'Demersal Fish' 'Pelagic Fish' 'Marine Fish, Other'\n",
      " 'Crustaceans' 'Cephalopods' 'Molluscs, Other' 'Aquatic Animals, Others'\n",
      " 'Aquatic Plants' 'Meat, Aquatic Mammals']\n"
     ]
    }
   ],
   "source": [
    "print('All items:', data_animals.Item.unique())"
   ]
  },
  {
   "cell_type": "code",
   "execution_count": 433,
   "metadata": {
    "pycharm": {
     "name": "#%%\n"
    }
   },
   "outputs": [
    {
     "name": "stdout",
     "output_type": "stream",
     "text": [
      "Area or countries: ['Afghanistan' 'Albania' 'Algeria' 'Angola' 'Antigua and Barbuda'\n",
      " 'Argentina' 'Armenia' 'Australia' 'Austria' 'Azerbaijan' 'Bahamas'\n",
      " 'Bangladesh' 'Barbados' 'Belarus' 'Belgium' 'Belize' 'Benin'\n",
      " 'Bolivia (Plurinational State of)' 'Bosnia and Herzegovina' 'Botswana'\n",
      " 'Brazil' 'Bulgaria' 'Burkina Faso' 'Cabo Verde' 'Cambodia' 'Cameroon'\n",
      " 'Canada' 'Central African Republic' 'Chad' 'Chile' 'China'\n",
      " 'China, Hong Kong SAR' 'China, Macao SAR' 'China, mainland'\n",
      " 'China, Taiwan Province of' 'Colombia' 'Congo' 'Costa Rica'\n",
      " \"Côte d'Ivoire\" 'Croatia' 'Cuba' 'Cyprus' 'Czechia'\n",
      " \"Democratic People's Republic of Korea\" 'Denmark' 'Djibouti' 'Dominica'\n",
      " 'Dominican Republic' 'Ecuador' 'Egypt' 'El Salvador' 'Estonia' 'Eswatini'\n",
      " 'Ethiopia' 'Fiji' 'Finland' 'France' 'French Polynesia' 'Gabon' 'Gambia'\n",
      " 'Georgia' 'Germany' 'Ghana' 'Greece' 'Grenada' 'Guatemala' 'Guinea'\n",
      " 'Guinea-Bissau' 'Guyana' 'Haiti' 'Honduras' 'Hungary' 'Iceland' 'India'\n",
      " 'Indonesia' 'Iran (Islamic Republic of)' 'Iraq' 'Ireland' 'Israel'\n",
      " 'Italy' 'Jamaica' 'Japan' 'Jordan' 'Kazakhstan' 'Kenya' 'Kiribati'\n",
      " 'Kuwait' 'Kyrgyzstan' \"Lao People's Democratic Republic\" 'Latvia'\n",
      " 'Lebanon' 'Lesotho' 'Liberia' 'Lithuania' 'Luxembourg' 'Madagascar'\n",
      " 'Malawi' 'Malaysia' 'Maldives' 'Mali' 'Malta' 'Mauritania' 'Mauritius'\n",
      " 'Mexico' 'Mongolia' 'Montenegro' 'Morocco' 'Mozambique' 'Myanmar'\n",
      " 'Namibia' 'Nepal' 'Netherlands' 'New Caledonia' 'New Zealand' 'Nicaragua'\n",
      " 'Niger' 'Nigeria' 'North Macedonia' 'Norway' 'Oman' 'Pakistan' 'Panama'\n",
      " 'Paraguay' 'Peru' 'Philippines' 'Poland' 'Portugal' 'Republic of Korea'\n",
      " 'Republic of Moldova' 'Romania' 'Russian Federation' 'Rwanda'\n",
      " 'Saint Kitts and Nevis' 'Saint Lucia' 'Saint Vincent and the Grenadines'\n",
      " 'Samoa' 'Sao Tome and Principe' 'Saudi Arabia' 'Senegal' 'Serbia'\n",
      " 'Sierra Leone' 'Slovakia' 'Slovenia' 'Solomon Islands' 'South Africa'\n",
      " 'Spain' 'Sri Lanka' 'Sudan' 'Suriname' 'Sweden' 'Switzerland'\n",
      " 'Tajikistan' 'Thailand' 'Timor-Leste' 'Togo' 'Trinidad and Tobago'\n",
      " 'Tunisia' 'Turkey' 'Turkmenistan' 'Uganda' 'Ukraine'\n",
      " 'United Arab Emirates'\n",
      " 'United Kingdom of Great Britain and Northern Ireland'\n",
      " 'United Republic of Tanzania' 'United States of America' 'Uruguay'\n",
      " 'Uzbekistan' 'Vanuatu' 'Venezuela (Bolivarian Republic of)' 'Viet Nam'\n",
      " 'Yemen' 'Zambia' 'Zimbabwe']\n"
     ]
    }
   ],
   "source": [
    "print('Area or countries:', data_vegetables.Area.unique())"
   ]
  },
  {
   "cell_type": "code",
   "execution_count": 434,
   "metadata": {
    "pycharm": {
     "name": "#%%\n"
    }
   },
   "outputs": [
    {
     "name": "stdout",
     "output_type": "stream",
     "text": [
      "Area or countries amount to: 173\n"
     ]
    }
   ],
   "source": [
    "print('Area or countries amount to:', len(data_vegetables.Area.unique()))"
   ]
  },
  {
   "cell_type": "code",
   "execution_count": 435,
   "metadata": {
    "pycharm": {
     "name": "#%%\n"
    }
   },
   "outputs": [
    {
     "name": "stdout",
     "output_type": "stream",
     "text": [
      "Years: [2017]\n"
     ]
    }
   ],
   "source": [
    "print('Years:', data_vegetables.Year.unique())"
   ]
  },
  {
   "cell_type": "code",
   "execution_count": 436,
   "metadata": {
    "pycharm": {
     "name": "#%%\n"
    }
   },
   "outputs": [
    {
     "name": "stdout",
     "output_type": "stream",
     "text": [
      "<class 'pandas.core.frame.DataFrame'>\n",
      "RangeIndex: 171 entries, 0 to 170\n",
      "Data columns (total 12 columns):\n",
      " #   Column        Non-Null Count  Dtype  \n",
      "---  ------        --------------  -----  \n",
      " 0   Domain Code   171 non-null    object \n",
      " 1   Domain        171 non-null    object \n",
      " 2   Area Code     171 non-null    int64  \n",
      " 3   Area          171 non-null    object \n",
      " 4   Element Code  171 non-null    int64  \n",
      " 5   Element       171 non-null    object \n",
      " 6   Item Code     171 non-null    int64  \n",
      " 7   Item          171 non-null    object \n",
      " 8   Year Code     171 non-null    int64  \n",
      " 9   Year          171 non-null    int64  \n",
      " 10  Unit          171 non-null    object \n",
      " 11  Value         171 non-null    float64\n",
      "dtypes: float64(1), int64(5), object(6)\n",
      "memory usage: 16.2+ KB\n"
     ]
    }
   ],
   "source": [
    "data_population.info()"
   ]
  },
  {
   "cell_type": "code",
   "execution_count": 502,
   "metadata": {
    "pycharm": {
     "name": "#%%\n"
    }
   },
   "outputs": [
    {
     "data": {
      "text/html": [
       "<div>\n",
       "<style scoped>\n",
       "    .dataframe tbody tr th:only-of-type {\n",
       "        vertical-align: middle;\n",
       "    }\n",
       "\n",
       "    .dataframe tbody tr th {\n",
       "        vertical-align: top;\n",
       "    }\n",
       "\n",
       "    .dataframe thead th {\n",
       "        text-align: right;\n",
       "    }\n",
       "</style>\n",
       "<table border=\"1\" class=\"dataframe\">\n",
       "  <thead>\n",
       "    <tr style=\"text-align: right;\">\n",
       "      <th></th>\n",
       "      <th>Domain Code</th>\n",
       "      <th>Domain</th>\n",
       "      <th>Area Code</th>\n",
       "      <th>Area</th>\n",
       "      <th>Element Code</th>\n",
       "      <th>Element</th>\n",
       "      <th>Item Code</th>\n",
       "      <th>Item</th>\n",
       "      <th>Year Code</th>\n",
       "      <th>Year</th>\n",
       "      <th>Unit</th>\n",
       "      <th>Value</th>\n",
       "    </tr>\n",
       "  </thead>\n",
       "  <tbody>\n",
       "    <tr>\n",
       "      <th>0</th>\n",
       "      <td>FBS</td>\n",
       "      <td>New Food Balances</td>\n",
       "      <td>2</td>\n",
       "      <td>Afghanistan</td>\n",
       "      <td>511</td>\n",
       "      <td>Total Population - Both sexes</td>\n",
       "      <td>2501</td>\n",
       "      <td>Population</td>\n",
       "      <td>2017</td>\n",
       "      <td>2017</td>\n",
       "      <td>1000 persons</td>\n",
       "      <td>36296.11</td>\n",
       "    </tr>\n",
       "    <tr>\n",
       "      <th>1</th>\n",
       "      <td>FBS</td>\n",
       "      <td>New Food Balances</td>\n",
       "      <td>3</td>\n",
       "      <td>Albania</td>\n",
       "      <td>511</td>\n",
       "      <td>Total Population - Both sexes</td>\n",
       "      <td>2501</td>\n",
       "      <td>Population</td>\n",
       "      <td>2017</td>\n",
       "      <td>2017</td>\n",
       "      <td>1000 persons</td>\n",
       "      <td>2884.17</td>\n",
       "    </tr>\n",
       "    <tr>\n",
       "      <th>2</th>\n",
       "      <td>FBS</td>\n",
       "      <td>New Food Balances</td>\n",
       "      <td>4</td>\n",
       "      <td>Algeria</td>\n",
       "      <td>511</td>\n",
       "      <td>Total Population - Both sexes</td>\n",
       "      <td>2501</td>\n",
       "      <td>Population</td>\n",
       "      <td>2017</td>\n",
       "      <td>2017</td>\n",
       "      <td>1000 persons</td>\n",
       "      <td>41389.19</td>\n",
       "    </tr>\n",
       "    <tr>\n",
       "      <th>3</th>\n",
       "      <td>FBS</td>\n",
       "      <td>New Food Balances</td>\n",
       "      <td>7</td>\n",
       "      <td>Angola</td>\n",
       "      <td>511</td>\n",
       "      <td>Total Population - Both sexes</td>\n",
       "      <td>2501</td>\n",
       "      <td>Population</td>\n",
       "      <td>2017</td>\n",
       "      <td>2017</td>\n",
       "      <td>1000 persons</td>\n",
       "      <td>29816.77</td>\n",
       "    </tr>\n",
       "    <tr>\n",
       "      <th>4</th>\n",
       "      <td>FBS</td>\n",
       "      <td>New Food Balances</td>\n",
       "      <td>8</td>\n",
       "      <td>Antigua and Barbuda</td>\n",
       "      <td>511</td>\n",
       "      <td>Total Population - Both sexes</td>\n",
       "      <td>2501</td>\n",
       "      <td>Population</td>\n",
       "      <td>2017</td>\n",
       "      <td>2017</td>\n",
       "      <td>1000 persons</td>\n",
       "      <td>95.43</td>\n",
       "    </tr>\n",
       "  </tbody>\n",
       "</table>\n",
       "</div>"
      ],
      "text/plain": [
       "  Domain Code             Domain  Area Code                 Area  \\\n",
       "0         FBS  New Food Balances          2          Afghanistan   \n",
       "1         FBS  New Food Balances          3              Albania   \n",
       "2         FBS  New Food Balances          4              Algeria   \n",
       "3         FBS  New Food Balances          7               Angola   \n",
       "4         FBS  New Food Balances          8  Antigua and Barbuda   \n",
       "\n",
       "   Element Code                        Element  Item Code        Item  \\\n",
       "0           511  Total Population - Both sexes       2501  Population   \n",
       "1           511  Total Population - Both sexes       2501  Population   \n",
       "2           511  Total Population - Both sexes       2501  Population   \n",
       "3           511  Total Population - Both sexes       2501  Population   \n",
       "4           511  Total Population - Both sexes       2501  Population   \n",
       "\n",
       "   Year Code  Year          Unit     Value  \n",
       "0       2017  2017  1000 persons  36296.11  \n",
       "1       2017  2017  1000 persons   2884.17  \n",
       "2       2017  2017  1000 persons  41389.19  \n",
       "3       2017  2017  1000 persons  29816.77  \n",
       "4       2017  2017  1000 persons     95.43  "
      ]
     },
     "execution_count": 502,
     "metadata": {},
     "output_type": "execute_result"
    }
   ],
   "source": [
    "data_population.head()"
   ]
  },
  {
   "cell_type": "code",
   "execution_count": 438,
   "metadata": {
    "pycharm": {
     "name": "#%%\n"
    }
   },
   "outputs": [
    {
     "data": {
      "text/html": [
       "<div>\n",
       "<style scoped>\n",
       "    .dataframe tbody tr th:only-of-type {\n",
       "        vertical-align: middle;\n",
       "    }\n",
       "\n",
       "    .dataframe tbody tr th {\n",
       "        vertical-align: top;\n",
       "    }\n",
       "\n",
       "    .dataframe thead th {\n",
       "        text-align: right;\n",
       "    }\n",
       "</style>\n",
       "<table border=\"1\" class=\"dataframe\">\n",
       "  <thead>\n",
       "    <tr style=\"text-align: right;\">\n",
       "      <th></th>\n",
       "      <th>Domain Code</th>\n",
       "      <th>Domain</th>\n",
       "      <th>Area Code</th>\n",
       "      <th>Area</th>\n",
       "      <th>Element Code</th>\n",
       "      <th>Element</th>\n",
       "      <th>Item Code</th>\n",
       "      <th>Item</th>\n",
       "      <th>Year Code</th>\n",
       "      <th>Year</th>\n",
       "      <th>Unit</th>\n",
       "      <th>Value</th>\n",
       "    </tr>\n",
       "  </thead>\n",
       "  <tbody>\n",
       "    <tr>\n",
       "      <th>166</th>\n",
       "      <td>FBS</td>\n",
       "      <td>New Food Balances</td>\n",
       "      <td>236</td>\n",
       "      <td>Venezuela (Bolivarian Republic of)</td>\n",
       "      <td>511</td>\n",
       "      <td>Total Population - Both sexes</td>\n",
       "      <td>2501</td>\n",
       "      <td>Population</td>\n",
       "      <td>2017</td>\n",
       "      <td>2017</td>\n",
       "      <td>1000 persons</td>\n",
       "      <td>29402.48</td>\n",
       "    </tr>\n",
       "    <tr>\n",
       "      <th>167</th>\n",
       "      <td>FBS</td>\n",
       "      <td>New Food Balances</td>\n",
       "      <td>237</td>\n",
       "      <td>Viet Nam</td>\n",
       "      <td>511</td>\n",
       "      <td>Total Population - Both sexes</td>\n",
       "      <td>2501</td>\n",
       "      <td>Population</td>\n",
       "      <td>2017</td>\n",
       "      <td>2017</td>\n",
       "      <td>1000 persons</td>\n",
       "      <td>94600.65</td>\n",
       "    </tr>\n",
       "    <tr>\n",
       "      <th>168</th>\n",
       "      <td>FBS</td>\n",
       "      <td>New Food Balances</td>\n",
       "      <td>249</td>\n",
       "      <td>Yemen</td>\n",
       "      <td>511</td>\n",
       "      <td>Total Population - Both sexes</td>\n",
       "      <td>2501</td>\n",
       "      <td>Population</td>\n",
       "      <td>2017</td>\n",
       "      <td>2017</td>\n",
       "      <td>1000 persons</td>\n",
       "      <td>27834.82</td>\n",
       "    </tr>\n",
       "    <tr>\n",
       "      <th>169</th>\n",
       "      <td>FBS</td>\n",
       "      <td>New Food Balances</td>\n",
       "      <td>251</td>\n",
       "      <td>Zambia</td>\n",
       "      <td>511</td>\n",
       "      <td>Total Population - Both sexes</td>\n",
       "      <td>2501</td>\n",
       "      <td>Population</td>\n",
       "      <td>2017</td>\n",
       "      <td>2017</td>\n",
       "      <td>1000 persons</td>\n",
       "      <td>16853.60</td>\n",
       "    </tr>\n",
       "    <tr>\n",
       "      <th>170</th>\n",
       "      <td>FBS</td>\n",
       "      <td>New Food Balances</td>\n",
       "      <td>181</td>\n",
       "      <td>Zimbabwe</td>\n",
       "      <td>511</td>\n",
       "      <td>Total Population - Both sexes</td>\n",
       "      <td>2501</td>\n",
       "      <td>Population</td>\n",
       "      <td>2017</td>\n",
       "      <td>2017</td>\n",
       "      <td>1000 persons</td>\n",
       "      <td>14236.59</td>\n",
       "    </tr>\n",
       "  </tbody>\n",
       "</table>\n",
       "</div>"
      ],
      "text/plain": [
       "    Domain Code             Domain  Area Code  \\\n",
       "166         FBS  New Food Balances        236   \n",
       "167         FBS  New Food Balances        237   \n",
       "168         FBS  New Food Balances        249   \n",
       "169         FBS  New Food Balances        251   \n",
       "170         FBS  New Food Balances        181   \n",
       "\n",
       "                                   Area  Element Code  \\\n",
       "166  Venezuela (Bolivarian Republic of)           511   \n",
       "167                            Viet Nam           511   \n",
       "168                               Yemen           511   \n",
       "169                              Zambia           511   \n",
       "170                            Zimbabwe           511   \n",
       "\n",
       "                           Element  Item Code        Item  Year Code  Year  \\\n",
       "166  Total Population - Both sexes       2501  Population       2017  2017   \n",
       "167  Total Population - Both sexes       2501  Population       2017  2017   \n",
       "168  Total Population - Both sexes       2501  Population       2017  2017   \n",
       "169  Total Population - Both sexes       2501  Population       2017  2017   \n",
       "170  Total Population - Both sexes       2501  Population       2017  2017   \n",
       "\n",
       "             Unit     Value  \n",
       "166  1000 persons  29402.48  \n",
       "167  1000 persons  94600.65  \n",
       "168  1000 persons  27834.82  \n",
       "169  1000 persons  16853.60  \n",
       "170  1000 persons  14236.59  "
      ]
     },
     "execution_count": 438,
     "metadata": {},
     "output_type": "execute_result"
    }
   ],
   "source": [
    "data_population.tail()"
   ]
  },
  {
   "cell_type": "code",
   "execution_count": 439,
   "metadata": {
    "pycharm": {
     "name": "#%%\n"
    }
   },
   "outputs": [
    {
     "name": "stdout",
     "output_type": "stream",
     "text": [
      "Population elements: ['Total Population - Both sexes']\n"
     ]
    }
   ],
   "source": [
    "print( 'Population elements:', data_population.Element.unique())"
   ]
  },
  {
   "cell_type": "code",
   "execution_count": 440,
   "metadata": {
    "pycharm": {
     "name": "#%%\n"
    }
   },
   "outputs": [
    {
     "name": "stdout",
     "output_type": "stream",
     "text": [
      "Number of elements: 1\n"
     ]
    }
   ],
   "source": [
    "print('Number of elements:', len(data_population.Element.unique()))"
   ]
  },
  {
   "cell_type": "code",
   "execution_count": 441,
   "metadata": {
    "pycharm": {
     "name": "#%%\n"
    }
   },
   "outputs": [
    {
     "name": "stdout",
     "output_type": "stream",
     "text": [
      "All items: ['Population']\n"
     ]
    }
   ],
   "source": [
    "print('All items:', data_population.Item.unique())"
   ]
  },
  {
   "cell_type": "code",
   "execution_count": 442,
   "metadata": {
    "pycharm": {
     "name": "#%%\n"
    }
   },
   "outputs": [
    {
     "name": "stdout",
     "output_type": "stream",
     "text": [
      "Area or countries: ['Afghanistan' 'Albania' 'Algeria' 'Angola' 'Antigua and Barbuda'\n",
      " 'Argentina' 'Armenia' 'Australia' 'Austria' 'Azerbaijan' 'Bahamas'\n",
      " 'Bangladesh' 'Barbados' 'Belarus' 'Belgium' 'Belize' 'Benin'\n",
      " 'Bolivia (Plurinational State of)' 'Bosnia and Herzegovina' 'Botswana'\n",
      " 'Brazil' 'Bulgaria' 'Burkina Faso' 'Cabo Verde' 'Cambodia' 'Cameroon'\n",
      " 'Canada' 'Central African Republic' 'Chad' 'Chile' 'China'\n",
      " 'China, Hong Kong SAR' 'China, Macao SAR' 'China, mainland'\n",
      " 'China, Taiwan Province of' 'Colombia' 'Congo' 'Costa Rica'\n",
      " \"Côte d'Ivoire\" 'Croatia' 'Cuba' 'Cyprus' 'Czechia'\n",
      " \"Democratic People's Republic of Korea\" 'Denmark' 'Djibouti' 'Dominica'\n",
      " 'Dominican Republic' 'Ecuador' 'Egypt' 'El Salvador' 'Estonia' 'Eswatini'\n",
      " 'Ethiopia' 'Fiji' 'Finland' 'France' 'French Polynesia' 'Gabon' 'Gambia'\n",
      " 'Georgia' 'Germany' 'Ghana' 'Greece' 'Grenada' 'Guatemala' 'Guinea'\n",
      " 'Guinea-Bissau' 'Guyana' 'Haiti' 'Honduras' 'Hungary' 'Iceland' 'India'\n",
      " 'Indonesia' 'Iran (Islamic Republic of)' 'Iraq' 'Ireland' 'Israel'\n",
      " 'Italy' 'Jamaica' 'Japan' 'Jordan' 'Kazakhstan' 'Kenya' 'Kiribati'\n",
      " 'Kuwait' 'Kyrgyzstan' 'Latvia' 'Lebanon' 'Lesotho' 'Liberia' 'Lithuania'\n",
      " 'Luxembourg' 'Madagascar' 'Malawi' 'Malaysia' 'Maldives' 'Mali' 'Malta'\n",
      " 'Mauritania' 'Mauritius' 'Mexico' 'Mongolia' 'Montenegro' 'Morocco'\n",
      " 'Mozambique' 'Myanmar' 'Namibia' 'Nepal' 'Netherlands' 'New Caledonia'\n",
      " 'New Zealand' 'Nicaragua' 'Niger' 'Nigeria' 'North Macedonia' 'Norway'\n",
      " 'Oman' 'Pakistan' 'Panama' 'Paraguay' 'Peru' 'Philippines' 'Poland'\n",
      " 'Portugal' 'Republic of Korea' 'Republic of Moldova' 'Romania'\n",
      " 'Russian Federation' 'Rwanda' 'Saint Kitts and Nevis' 'Saint Lucia'\n",
      " 'Saint Vincent and the Grenadines' 'Samoa' 'Sao Tome and Principe'\n",
      " 'Saudi Arabia' 'Senegal' 'Serbia' 'Sierra Leone' 'Slovakia' 'Slovenia'\n",
      " 'Solomon Islands' 'South Africa' 'Spain' 'Sri Lanka' 'Sudan' 'Suriname'\n",
      " 'Sweden' 'Switzerland' 'Tajikistan' 'Thailand' 'Timor-Leste' 'Togo'\n",
      " 'Trinidad and Tobago' 'Tunisia' 'Turkey' 'Turkmenistan' 'Uganda'\n",
      " 'Ukraine' 'United Arab Emirates'\n",
      " 'United Kingdom of Great Britain and Northern Ireland'\n",
      " 'United Republic of Tanzania' 'United States of America' 'Uruguay'\n",
      " 'Vanuatu' 'Venezuela (Bolivarian Republic of)' 'Viet Nam' 'Yemen'\n",
      " 'Zambia' 'Zimbabwe']\n"
     ]
    }
   ],
   "source": [
    "print('Area or countries:', data_population.Area.unique())"
   ]
  },
  {
   "cell_type": "code",
   "execution_count": 443,
   "metadata": {
    "pycharm": {
     "name": "#%%\n"
    }
   },
   "outputs": [
    {
     "name": "stdout",
     "output_type": "stream",
     "text": [
      "Area or countries amount to: 171\n"
     ]
    }
   ],
   "source": [
    "print('Area or countries amount to:', len(data_population.Area.unique()))"
   ]
  },
  {
   "cell_type": "code",
   "execution_count": 444,
   "metadata": {
    "pycharm": {
     "name": "#%%\n"
    }
   },
   "outputs": [
    {
     "name": "stdout",
     "output_type": "stream",
     "text": [
      "Years: [2017]\n"
     ]
    }
   ],
   "source": [
    "print('Years:', data_population.Year.unique())"
   ]
  },
  {
   "cell_type": "code",
   "execution_count": 445,
   "metadata": {
    "pycharm": {
     "name": "#%%\n"
    }
   },
   "outputs": [
    {
     "name": "stdout",
     "output_type": "stream",
     "text": [
      "<class 'pandas.core.frame.DataFrame'>\n",
      "RangeIndex: 1020 entries, 0 to 1019\n",
      "Data columns (total 13 columns):\n",
      " #   Column        Non-Null Count  Dtype  \n",
      "---  ------        --------------  -----  \n",
      " 0   Domain Code   1020 non-null   object \n",
      " 1   Domain        1020 non-null   object \n",
      " 2   Area Code     1020 non-null   int64  \n",
      " 3   Area          1020 non-null   object \n",
      " 4   Element Code  1020 non-null   int64  \n",
      " 5   Element       1020 non-null   object \n",
      " 6   Item Code     1020 non-null   int64  \n",
      " 7   Item          1020 non-null   object \n",
      " 8   Year Code     1020 non-null   int64  \n",
      " 9   Year          1020 non-null   object \n",
      " 10  Unit          1020 non-null   object \n",
      " 11  Value         519 non-null    object \n",
      " 12  Note          0 non-null      float64\n",
      "dtypes: float64(1), int64(4), object(8)\n",
      "memory usage: 103.7+ KB\n"
     ]
    }
   ],
   "source": [
    "data_undernourished.info()\n"
   ]
  },
  {
   "cell_type": "code",
   "execution_count": 446,
   "metadata": {
    "pycharm": {
     "name": "#%%\n"
    }
   },
   "outputs": [
    {
     "data": {
      "text/html": [
       "<div>\n",
       "<style scoped>\n",
       "    .dataframe tbody tr th:only-of-type {\n",
       "        vertical-align: middle;\n",
       "    }\n",
       "\n",
       "    .dataframe tbody tr th {\n",
       "        vertical-align: top;\n",
       "    }\n",
       "\n",
       "    .dataframe thead th {\n",
       "        text-align: right;\n",
       "    }\n",
       "</style>\n",
       "<table border=\"1\" class=\"dataframe\">\n",
       "  <thead>\n",
       "    <tr style=\"text-align: right;\">\n",
       "      <th></th>\n",
       "      <th>Domain Code</th>\n",
       "      <th>Domain</th>\n",
       "      <th>Area Code</th>\n",
       "      <th>Area</th>\n",
       "      <th>Element Code</th>\n",
       "      <th>Element</th>\n",
       "      <th>Item Code</th>\n",
       "      <th>Item</th>\n",
       "      <th>Year Code</th>\n",
       "      <th>Year</th>\n",
       "      <th>Unit</th>\n",
       "      <th>Value</th>\n",
       "      <th>Note</th>\n",
       "    </tr>\n",
       "  </thead>\n",
       "  <tbody>\n",
       "    <tr>\n",
       "      <th>0</th>\n",
       "      <td>FS</td>\n",
       "      <td>Suite of Food Security Indicators</td>\n",
       "      <td>2</td>\n",
       "      <td>Afghanistan</td>\n",
       "      <td>6132</td>\n",
       "      <td>Value</td>\n",
       "      <td>210011</td>\n",
       "      <td>Number of people undernourished (million) (3-y...</td>\n",
       "      <td>20132015</td>\n",
       "      <td>2013-2015</td>\n",
       "      <td>millions</td>\n",
       "      <td>8.8</td>\n",
       "      <td>NaN</td>\n",
       "    </tr>\n",
       "    <tr>\n",
       "      <th>1</th>\n",
       "      <td>FS</td>\n",
       "      <td>Suite of Food Security Indicators</td>\n",
       "      <td>2</td>\n",
       "      <td>Afghanistan</td>\n",
       "      <td>6132</td>\n",
       "      <td>Value</td>\n",
       "      <td>210011</td>\n",
       "      <td>Number of people undernourished (million) (3-y...</td>\n",
       "      <td>20142016</td>\n",
       "      <td>2014-2016</td>\n",
       "      <td>millions</td>\n",
       "      <td>8.9</td>\n",
       "      <td>NaN</td>\n",
       "    </tr>\n",
       "    <tr>\n",
       "      <th>2</th>\n",
       "      <td>FS</td>\n",
       "      <td>Suite of Food Security Indicators</td>\n",
       "      <td>2</td>\n",
       "      <td>Afghanistan</td>\n",
       "      <td>6132</td>\n",
       "      <td>Value</td>\n",
       "      <td>210011</td>\n",
       "      <td>Number of people undernourished (million) (3-y...</td>\n",
       "      <td>20152017</td>\n",
       "      <td>2015-2017</td>\n",
       "      <td>millions</td>\n",
       "      <td>9.7</td>\n",
       "      <td>NaN</td>\n",
       "    </tr>\n",
       "    <tr>\n",
       "      <th>3</th>\n",
       "      <td>FS</td>\n",
       "      <td>Suite of Food Security Indicators</td>\n",
       "      <td>2</td>\n",
       "      <td>Afghanistan</td>\n",
       "      <td>6132</td>\n",
       "      <td>Value</td>\n",
       "      <td>210011</td>\n",
       "      <td>Number of people undernourished (million) (3-y...</td>\n",
       "      <td>20162018</td>\n",
       "      <td>2016-2018</td>\n",
       "      <td>millions</td>\n",
       "      <td>10.5</td>\n",
       "      <td>NaN</td>\n",
       "    </tr>\n",
       "    <tr>\n",
       "      <th>4</th>\n",
       "      <td>FS</td>\n",
       "      <td>Suite of Food Security Indicators</td>\n",
       "      <td>2</td>\n",
       "      <td>Afghanistan</td>\n",
       "      <td>6132</td>\n",
       "      <td>Value</td>\n",
       "      <td>210011</td>\n",
       "      <td>Number of people undernourished (million) (3-y...</td>\n",
       "      <td>20172019</td>\n",
       "      <td>2017-2019</td>\n",
       "      <td>millions</td>\n",
       "      <td>11.1</td>\n",
       "      <td>NaN</td>\n",
       "    </tr>\n",
       "  </tbody>\n",
       "</table>\n",
       "</div>"
      ],
      "text/plain": [
       "  Domain Code                             Domain  Area Code         Area  \\\n",
       "0          FS  Suite of Food Security Indicators          2  Afghanistan   \n",
       "1          FS  Suite of Food Security Indicators          2  Afghanistan   \n",
       "2          FS  Suite of Food Security Indicators          2  Afghanistan   \n",
       "3          FS  Suite of Food Security Indicators          2  Afghanistan   \n",
       "4          FS  Suite of Food Security Indicators          2  Afghanistan   \n",
       "\n",
       "   Element Code Element  Item Code  \\\n",
       "0          6132   Value     210011   \n",
       "1          6132   Value     210011   \n",
       "2          6132   Value     210011   \n",
       "3          6132   Value     210011   \n",
       "4          6132   Value     210011   \n",
       "\n",
       "                                                Item  Year Code       Year  \\\n",
       "0  Number of people undernourished (million) (3-y...   20132015  2013-2015   \n",
       "1  Number of people undernourished (million) (3-y...   20142016  2014-2016   \n",
       "2  Number of people undernourished (million) (3-y...   20152017  2015-2017   \n",
       "3  Number of people undernourished (million) (3-y...   20162018  2016-2018   \n",
       "4  Number of people undernourished (million) (3-y...   20172019  2017-2019   \n",
       "\n",
       "       Unit Value  Note  \n",
       "0  millions   8.8   NaN  \n",
       "1  millions   8.9   NaN  \n",
       "2  millions   9.7   NaN  \n",
       "3  millions  10.5   NaN  \n",
       "4  millions  11.1   NaN  "
      ]
     },
     "execution_count": 446,
     "metadata": {},
     "output_type": "execute_result"
    }
   ],
   "source": [
    "data_undernourished.head()"
   ]
  },
  {
   "cell_type": "code",
   "execution_count": 447,
   "metadata": {
    "pycharm": {
     "name": "#%%\n"
    }
   },
   "outputs": [
    {
     "name": "stdout",
     "output_type": "stream",
     "text": [
      "Population elements: ['Value']\n"
     ]
    }
   ],
   "source": [
    "print( 'Population elements:', data_undernourished.Element.unique())"
   ]
  },
  {
   "cell_type": "code",
   "execution_count": 448,
   "metadata": {
    "pycharm": {
     "name": "#%%\n"
    }
   },
   "outputs": [
    {
     "name": "stdout",
     "output_type": "stream",
     "text": [
      "Number of elements: 1\n"
     ]
    }
   ],
   "source": [
    "print('Number of elements:', len(data_undernourished.Element.unique()))"
   ]
  },
  {
   "cell_type": "code",
   "execution_count": 449,
   "metadata": {
    "pycharm": {
     "name": "#%%\n"
    }
   },
   "outputs": [
    {
     "name": "stdout",
     "output_type": "stream",
     "text": [
      "Area or countries: ['Afghanistan' 'Albania' 'Algeria' 'American Samoa' 'Andorra' 'Angola'\n",
      " 'Antigua and Barbuda' 'Argentina' 'Armenia' 'Australia' 'Austria'\n",
      " 'Azerbaijan' 'Bahamas' 'Bahrain' 'Bangladesh' 'Barbados' 'Belarus'\n",
      " 'Belgium' 'Belize' 'Benin' 'Bermuda' 'Bhutan'\n",
      " 'Bolivia (Plurinational State of)' 'Bosnia and Herzegovina' 'Botswana'\n",
      " 'Brazil' 'Brunei Darussalam' 'Bulgaria' 'Burkina Faso' 'Burundi'\n",
      " 'Cabo Verde' 'Cambodia' 'Cameroon' 'Canada' 'Central African Republic'\n",
      " 'Chad' 'Chile' 'China' 'China, Hong Kong SAR' 'China, Macao SAR'\n",
      " 'China, mainland' 'China, Taiwan Province of' 'Colombia' 'Comoros'\n",
      " 'Congo' 'Cook Islands' 'Costa Rica' \"Côte d'Ivoire\" 'Croatia' 'Cuba'\n",
      " 'Cyprus' 'Czechia' \"Democratic People's Republic of Korea\"\n",
      " 'Democratic Republic of the Congo' 'Denmark' 'Djibouti' 'Dominica'\n",
      " 'Dominican Republic' 'Ecuador' 'Egypt' 'El Salvador' 'Equatorial Guinea'\n",
      " 'Eritrea' 'Estonia' 'Eswatini' 'Ethiopia' 'Fiji' 'Finland' 'France'\n",
      " 'French Polynesia' 'Gabon' 'Gambia' 'Georgia' 'Germany' 'Ghana' 'Greece'\n",
      " 'Greenland' 'Grenada' 'Guatemala' 'Guinea' 'Guinea-Bissau' 'Guyana'\n",
      " 'Haiti' 'Honduras' 'Hungary' 'Iceland' 'India' 'Indonesia'\n",
      " 'Iran (Islamic Republic of)' 'Iraq' 'Ireland' 'Israel' 'Italy' 'Jamaica'\n",
      " 'Japan' 'Jordan' 'Kazakhstan' 'Kenya' 'Kiribati' 'Kuwait' 'Kyrgyzstan'\n",
      " \"Lao People's Democratic Republic\" 'Latvia' 'Lebanon' 'Lesotho' 'Liberia'\n",
      " 'Libya' 'Lithuania' 'Luxembourg' 'Madagascar' 'Malawi' 'Malaysia'\n",
      " 'Maldives' 'Mali' 'Malta' 'Marshall Islands' 'Mauritania' 'Mauritius'\n",
      " 'Mexico' 'Micronesia (Federated States of)' 'Mongolia' 'Montenegro'\n",
      " 'Morocco' 'Mozambique' 'Myanmar' 'Namibia' 'Nauru' 'Nepal' 'Netherlands'\n",
      " 'New Caledonia' 'New Zealand' 'Nicaragua' 'Niger' 'Nigeria' 'Niue'\n",
      " 'North Macedonia' 'Norway' 'Oman' 'Pakistan' 'Palau' 'Palestine' 'Panama'\n",
      " 'Papua New Guinea' 'Paraguay' 'Peru' 'Philippines' 'Poland' 'Portugal'\n",
      " 'Puerto Rico' 'Qatar' 'Republic of Korea' 'Republic of Moldova' 'Romania'\n",
      " 'Russian Federation' 'Rwanda' 'Saint Kitts and Nevis' 'Saint Lucia'\n",
      " 'Saint Vincent and the Grenadines' 'Samoa' 'Sao Tome and Principe'\n",
      " 'Saudi Arabia' 'Senegal' 'Serbia' 'Seychelles' 'Sierra Leone' 'Singapore'\n",
      " 'Slovakia' 'Slovenia' 'Solomon Islands' 'Somalia' 'South Africa'\n",
      " 'South Sudan' 'Spain' 'Sri Lanka' 'Sudan' 'Suriname' 'Sweden'\n",
      " 'Switzerland' 'Syrian Arab Republic' 'Tajikistan' 'Thailand'\n",
      " 'Timor-Leste' 'Togo' 'Tokelau' 'Tonga' 'Trinidad and Tobago' 'Tunisia'\n",
      " 'Turkey' 'Turkmenistan' 'Tuvalu' 'Uganda' 'Ukraine'\n",
      " 'United Arab Emirates'\n",
      " 'United Kingdom of Great Britain and Northern Ireland'\n",
      " 'United Republic of Tanzania' 'United States of America' 'Uruguay'\n",
      " 'Uzbekistan' 'Vanuatu' 'Venezuela (Bolivarian Republic of)' 'Viet Nam'\n",
      " 'Yemen' 'Zambia' 'Zimbabwe']\n"
     ]
    }
   ],
   "source": [
    "print('Area or countries:', data_undernourished.Area.unique())"
   ]
  },
  {
   "cell_type": "code",
   "execution_count": 450,
   "metadata": {
    "pycharm": {
     "name": "#%%\n"
    }
   },
   "outputs": [
    {
     "name": "stdout",
     "output_type": "stream",
     "text": [
      "Area or countries amount to: 204\n"
     ]
    }
   ],
   "source": [
    "print('Area or countries amount to:', len(data_undernourished.Area.unique()))"
   ]
  },
  {
   "cell_type": "code",
   "execution_count": 451,
   "metadata": {
    "pycharm": {
     "name": "#%%\n"
    }
   },
   "outputs": [
    {
     "name": "stdout",
     "output_type": "stream",
     "text": [
      "Years: ['2013-2015' '2014-2016' '2015-2017' '2016-2018' '2017-2019']\n"
     ]
    }
   ],
   "source": [
    "print('Years:', data_undernourished.Year.unique())"
   ]
  },
  {
   "cell_type": "markdown",
   "metadata": {},
   "source": [
    "**Replace NaN with zeros**"
   ]
  },
  {
   "cell_type": "code",
   "execution_count": 452,
   "metadata": {
    "pycharm": {
     "name": "#%%\n"
    }
   },
   "outputs": [],
   "source": [
    "data_crops.fillna(0, inplace=True)\n",
    "data_undernourished.fillna(0, inplace=True)\n",
    "data_animals.fillna(0, inplace=True)\n",
    "data_vegetables.fillna(0, inplace=True)\n",
    "data_population.fillna(0, inplace=True)"
   ]
  },
  {
   "cell_type": "markdown",
   "metadata": {},
   "source": [
    "**Converting value object dtype to a numerical one.**"
   ]
  },
  {
   "cell_type": "code",
   "execution_count": 453,
   "metadata": {
    "pycharm": {
     "name": "#%%\n"
    }
   },
   "outputs": [],
   "source": [
    "data_undernourished.Value = data_undernourished.Value.apply(lambda x: 0.09 if x  == '<0.1' else x)\n",
    "data_population.Value = data_population.Value.apply(lambda x: 0.09 if x  == '<0.1' else x)\n",
    "\n",
    "\n",
    "data_undernourished.Value = data_undernourished.Value.astype(float)\n",
    "data_population.Value = data_undernourished.Value.astype(float)"
   ]
  },
  {
   "cell_type": "markdown",
   "metadata": {},
   "source": [
    "# Task 2 : Data Discovery"
   ]
  },
  {
   "cell_type": "code",
   "execution_count": 454,
   "metadata": {
    "pycharm": {
     "name": "#%%\n"
    }
   },
   "outputs": [],
   "source": [
    "# Creating properties Product origin that contain vegetal and animal\n",
    "data_animals['origin'] = 'animal'\n",
    "data_vegetables['origin'] = 'vegetal'"
   ]
  },
  {
   "cell_type": "markdown",
   "metadata": {},
   "source": [
    "**renaming data columns**"
   ]
  },
  {
   "cell_type": "code",
   "execution_count": 499,
   "metadata": {
    "pycharm": {
     "name": "#%%\n"
    }
   },
   "outputs": [],
   "source": [
    "\n",
    "col_renamed = {'Domain Code' : 'domain_code','Domain' : 'domain', 'Area Code' : 'country_code',\n",
    "                           'Area' : 'country', 'Element Code' : 'element_code','Element' : 'element',\n",
    "                           'Item Code' : 'item_code', 'Item' : 'item', 'Year Code' : 'year_code', 'Year' : 'year',\n",
    "                           'Unit' : 'unit', 'Value' : 'value', 'Flag' : 'flag', 'Flag Description' : 'flag_description'}\n",
    "\n",
    "\n",
    "data_crops =  data_crops.rename(columns= col_renamed)\n",
    "data_vegetables = data_vegetables.rename(columns= col_renamed)\n",
    "data_animals = data_animals.rename(columns= col_renamed)\n",
    "data_population = data_population.rename(columns= col_renamed)\n",
    "data_undernourished = data_undernourished.rename(columns= col_renamed)"
   ]
  },
  {
   "cell_type": "code",
   "execution_count": 456,
   "metadata": {
    "pycharm": {
     "name": "#%%\n"
    }
   },
   "outputs": [],
   "source": [
    "# Creating a temporary dataframe combined from vegetables and animals products and rename its column name.\n",
    "temp = data_animals.append(data_vegetables).rename(columns= col_renamed)"
   ]
  },
  {
   "cell_type": "code",
   "execution_count": 457,
   "metadata": {
    "pycharm": {
     "name": "#%%\n"
    }
   },
   "outputs": [
    {
     "data": {
      "text/html": [
       "<div>\n",
       "<style scoped>\n",
       "    .dataframe tbody tr th:only-of-type {\n",
       "        vertical-align: middle;\n",
       "    }\n",
       "\n",
       "    .dataframe tbody tr th {\n",
       "        vertical-align: top;\n",
       "    }\n",
       "\n",
       "    .dataframe thead th {\n",
       "        text-align: right;\n",
       "    }\n",
       "</style>\n",
       "<table border=\"1\" class=\"dataframe\">\n",
       "  <thead>\n",
       "    <tr style=\"text-align: right;\">\n",
       "      <th></th>\n",
       "      <th>domain_code</th>\n",
       "      <th>domain</th>\n",
       "      <th>country_code</th>\n",
       "      <th>country</th>\n",
       "      <th>element_code</th>\n",
       "      <th>element</th>\n",
       "      <th>item_code</th>\n",
       "      <th>item</th>\n",
       "      <th>year_code</th>\n",
       "      <th>year</th>\n",
       "      <th>unit</th>\n",
       "      <th>value</th>\n",
       "      <th>origin</th>\n",
       "    </tr>\n",
       "  </thead>\n",
       "  <tbody>\n",
       "    <tr>\n",
       "      <th>0</th>\n",
       "      <td>FBS</td>\n",
       "      <td>New Food Balances</td>\n",
       "      <td>2</td>\n",
       "      <td>Afghanistan</td>\n",
       "      <td>5511</td>\n",
       "      <td>Production</td>\n",
       "      <td>2731</td>\n",
       "      <td>Bovine Meat</td>\n",
       "      <td>2017</td>\n",
       "      <td>2017</td>\n",
       "      <td>1000 tonnes</td>\n",
       "      <td>94.00</td>\n",
       "      <td>animal</td>\n",
       "    </tr>\n",
       "    <tr>\n",
       "      <th>1</th>\n",
       "      <td>FBS</td>\n",
       "      <td>New Food Balances</td>\n",
       "      <td>2</td>\n",
       "      <td>Afghanistan</td>\n",
       "      <td>5611</td>\n",
       "      <td>Import Quantity</td>\n",
       "      <td>2731</td>\n",
       "      <td>Bovine Meat</td>\n",
       "      <td>2017</td>\n",
       "      <td>2017</td>\n",
       "      <td>1000 tonnes</td>\n",
       "      <td>6.00</td>\n",
       "      <td>animal</td>\n",
       "    </tr>\n",
       "    <tr>\n",
       "      <th>2</th>\n",
       "      <td>FBS</td>\n",
       "      <td>New Food Balances</td>\n",
       "      <td>2</td>\n",
       "      <td>Afghanistan</td>\n",
       "      <td>5072</td>\n",
       "      <td>Stock Variation</td>\n",
       "      <td>2731</td>\n",
       "      <td>Bovine Meat</td>\n",
       "      <td>2017</td>\n",
       "      <td>2017</td>\n",
       "      <td>1000 tonnes</td>\n",
       "      <td>-0.00</td>\n",
       "      <td>animal</td>\n",
       "    </tr>\n",
       "    <tr>\n",
       "      <th>3</th>\n",
       "      <td>FBS</td>\n",
       "      <td>New Food Balances</td>\n",
       "      <td>2</td>\n",
       "      <td>Afghanistan</td>\n",
       "      <td>5301</td>\n",
       "      <td>Domestic supply quantity</td>\n",
       "      <td>2731</td>\n",
       "      <td>Bovine Meat</td>\n",
       "      <td>2017</td>\n",
       "      <td>2017</td>\n",
       "      <td>1000 tonnes</td>\n",
       "      <td>100.00</td>\n",
       "      <td>animal</td>\n",
       "    </tr>\n",
       "    <tr>\n",
       "      <th>4</th>\n",
       "      <td>FBS</td>\n",
       "      <td>New Food Balances</td>\n",
       "      <td>2</td>\n",
       "      <td>Afghanistan</td>\n",
       "      <td>5123</td>\n",
       "      <td>Losses</td>\n",
       "      <td>2731</td>\n",
       "      <td>Bovine Meat</td>\n",
       "      <td>2017</td>\n",
       "      <td>2017</td>\n",
       "      <td>1000 tonnes</td>\n",
       "      <td>5.00</td>\n",
       "      <td>animal</td>\n",
       "    </tr>\n",
       "    <tr>\n",
       "      <th>5</th>\n",
       "      <td>FBS</td>\n",
       "      <td>New Food Balances</td>\n",
       "      <td>2</td>\n",
       "      <td>Afghanistan</td>\n",
       "      <td>5170</td>\n",
       "      <td>Residuals</td>\n",
       "      <td>2731</td>\n",
       "      <td>Bovine Meat</td>\n",
       "      <td>2017</td>\n",
       "      <td>2017</td>\n",
       "      <td>1000 tonnes</td>\n",
       "      <td>-0.00</td>\n",
       "      <td>animal</td>\n",
       "    </tr>\n",
       "    <tr>\n",
       "      <th>6</th>\n",
       "      <td>FBS</td>\n",
       "      <td>New Food Balances</td>\n",
       "      <td>2</td>\n",
       "      <td>Afghanistan</td>\n",
       "      <td>5142</td>\n",
       "      <td>Food</td>\n",
       "      <td>2731</td>\n",
       "      <td>Bovine Meat</td>\n",
       "      <td>2017</td>\n",
       "      <td>2017</td>\n",
       "      <td>1000 tonnes</td>\n",
       "      <td>95.00</td>\n",
       "      <td>animal</td>\n",
       "    </tr>\n",
       "    <tr>\n",
       "      <th>7</th>\n",
       "      <td>FBS</td>\n",
       "      <td>New Food Balances</td>\n",
       "      <td>2</td>\n",
       "      <td>Afghanistan</td>\n",
       "      <td>645</td>\n",
       "      <td>Food supply quantity (kg/capita/yr)</td>\n",
       "      <td>2731</td>\n",
       "      <td>Bovine Meat</td>\n",
       "      <td>2017</td>\n",
       "      <td>2017</td>\n",
       "      <td>kg</td>\n",
       "      <td>2.61</td>\n",
       "      <td>animal</td>\n",
       "    </tr>\n",
       "    <tr>\n",
       "      <th>8</th>\n",
       "      <td>FBS</td>\n",
       "      <td>New Food Balances</td>\n",
       "      <td>2</td>\n",
       "      <td>Afghanistan</td>\n",
       "      <td>664</td>\n",
       "      <td>Food supply (kcal/capita/day)</td>\n",
       "      <td>2731</td>\n",
       "      <td>Bovine Meat</td>\n",
       "      <td>2017</td>\n",
       "      <td>2017</td>\n",
       "      <td>kcal/capita/day</td>\n",
       "      <td>15.00</td>\n",
       "      <td>animal</td>\n",
       "    </tr>\n",
       "    <tr>\n",
       "      <th>9</th>\n",
       "      <td>FBS</td>\n",
       "      <td>New Food Balances</td>\n",
       "      <td>2</td>\n",
       "      <td>Afghanistan</td>\n",
       "      <td>674</td>\n",
       "      <td>Protein supply quantity (g/capita/day)</td>\n",
       "      <td>2731</td>\n",
       "      <td>Bovine Meat</td>\n",
       "      <td>2017</td>\n",
       "      <td>2017</td>\n",
       "      <td>g/capita/day</td>\n",
       "      <td>1.09</td>\n",
       "      <td>animal</td>\n",
       "    </tr>\n",
       "  </tbody>\n",
       "</table>\n",
       "</div>"
      ],
      "text/plain": [
       "  domain_code             domain  country_code      country  element_code  \\\n",
       "0         FBS  New Food Balances             2  Afghanistan          5511   \n",
       "1         FBS  New Food Balances             2  Afghanistan          5611   \n",
       "2         FBS  New Food Balances             2  Afghanistan          5072   \n",
       "3         FBS  New Food Balances             2  Afghanistan          5301   \n",
       "4         FBS  New Food Balances             2  Afghanistan          5123   \n",
       "5         FBS  New Food Balances             2  Afghanistan          5170   \n",
       "6         FBS  New Food Balances             2  Afghanistan          5142   \n",
       "7         FBS  New Food Balances             2  Afghanistan           645   \n",
       "8         FBS  New Food Balances             2  Afghanistan           664   \n",
       "9         FBS  New Food Balances             2  Afghanistan           674   \n",
       "\n",
       "                                  element  item_code         item  year_code  \\\n",
       "0                              Production       2731  Bovine Meat       2017   \n",
       "1                         Import Quantity       2731  Bovine Meat       2017   \n",
       "2                         Stock Variation       2731  Bovine Meat       2017   \n",
       "3                Domestic supply quantity       2731  Bovine Meat       2017   \n",
       "4                                  Losses       2731  Bovine Meat       2017   \n",
       "5                               Residuals       2731  Bovine Meat       2017   \n",
       "6                                    Food       2731  Bovine Meat       2017   \n",
       "7     Food supply quantity (kg/capita/yr)       2731  Bovine Meat       2017   \n",
       "8           Food supply (kcal/capita/day)       2731  Bovine Meat       2017   \n",
       "9  Protein supply quantity (g/capita/day)       2731  Bovine Meat       2017   \n",
       "\n",
       "   year             unit   value  origin  \n",
       "0  2017      1000 tonnes   94.00  animal  \n",
       "1  2017      1000 tonnes    6.00  animal  \n",
       "2  2017      1000 tonnes   -0.00  animal  \n",
       "3  2017      1000 tonnes  100.00  animal  \n",
       "4  2017      1000 tonnes    5.00  animal  \n",
       "5  2017      1000 tonnes   -0.00  animal  \n",
       "6  2017      1000 tonnes   95.00  animal  \n",
       "7  2017               kg    2.61  animal  \n",
       "8  2017  kcal/capita/day   15.00  animal  \n",
       "9  2017     g/capita/day    1.09  animal  "
      ]
     },
     "execution_count": 457,
     "metadata": {},
     "output_type": "execute_result"
    }
   ],
   "source": [
    "temp.head(10)"
   ]
  },
  {
   "cell_type": "markdown",
   "metadata": {},
   "source": [
    "**Vegetables and animals Summary statistics**"
   ]
  },
  {
   "cell_type": "code",
   "execution_count": 458,
   "metadata": {
    "pycharm": {
     "name": "#%%\n"
    }
   },
   "outputs": [
    {
     "data": {
      "text/html": [
       "<div>\n",
       "<style scoped>\n",
       "    .dataframe tbody tr th:only-of-type {\n",
       "        vertical-align: middle;\n",
       "    }\n",
       "\n",
       "    .dataframe tbody tr th {\n",
       "        vertical-align: top;\n",
       "    }\n",
       "\n",
       "    .dataframe thead th {\n",
       "        text-align: right;\n",
       "    }\n",
       "</style>\n",
       "<table border=\"1\" class=\"dataframe\">\n",
       "  <thead>\n",
       "    <tr style=\"text-align: right;\">\n",
       "      <th></th>\n",
       "      <th>value</th>\n",
       "    </tr>\n",
       "  </thead>\n",
       "  <tbody>\n",
       "    <tr>\n",
       "      <th>min</th>\n",
       "      <td>-1.038800e+04</td>\n",
       "    </tr>\n",
       "    <tr>\n",
       "      <th>max</th>\n",
       "      <td>7.585480e+05</td>\n",
       "    </tr>\n",
       "    <tr>\n",
       "      <th>sum</th>\n",
       "      <td>4.430852e+07</td>\n",
       "    </tr>\n",
       "    <tr>\n",
       "      <th>median</th>\n",
       "      <td>1.300000e-01</td>\n",
       "    </tr>\n",
       "    <tr>\n",
       "      <th>mean</th>\n",
       "      <td>2.489844e+02</td>\n",
       "    </tr>\n",
       "    <tr>\n",
       "      <th>skew</th>\n",
       "      <td>7.729947e+01</td>\n",
       "    </tr>\n",
       "    <tr>\n",
       "      <th>count</th>\n",
       "      <td>1.779570e+05</td>\n",
       "    </tr>\n",
       "  </tbody>\n",
       "</table>\n",
       "</div>"
      ],
      "text/plain": [
       "               value\n",
       "min    -1.038800e+04\n",
       "max     7.585480e+05\n",
       "sum     4.430852e+07\n",
       "median  1.300000e-01\n",
       "mean    2.489844e+02\n",
       "skew    7.729947e+01\n",
       "count   1.779570e+05"
      ]
     },
     "execution_count": 458,
     "metadata": {},
     "output_type": "execute_result"
    }
   ],
   "source": [
    "temp.agg({'value': ['min', 'max', 'sum', 'median', 'mean', 'skew', 'count']})"
   ]
  },
  {
   "cell_type": "markdown",
   "metadata": {},
   "source": [
    "## Domestic supply quantity equation"
   ]
  },
  {
   "cell_type": "code",
   "execution_count": 459,
   "metadata": {
    "pycharm": {
     "name": "#%%\n"
    }
   },
   "outputs": [],
   "source": [
    "data_france = temp[(temp.country == 'France') & (temp.item == 'Wheat and products')]"
   ]
  },
  {
   "cell_type": "code",
   "execution_count": 460,
   "metadata": {
    "pycharm": {
     "name": "#%%\n"
    }
   },
   "outputs": [],
   "source": [
    "# Creating another custom function for selection using function composition.\n",
    "def dataElementSelection(elementName = ''):\n",
    "    return np.array(data_france[data_france.loc[:]['element'] == elementName]['value'])"
   ]
  },
  {
   "cell_type": "markdown",
   "metadata": {},
   "source": [
    "  **Calculating the 4 term equation**"
   ]
  },
  {
   "cell_type": "code",
   "execution_count": 461,
   "metadata": {
    "pycharm": {
     "name": "#%%\n"
    }
   },
   "outputs": [
    {
     "data": {
      "text/plain": [
       "array([False])"
      ]
     },
     "execution_count": 461,
     "metadata": {},
     "output_type": "execute_result"
    }
   ],
   "source": [
    "dataElementSelection('Production') + dataElementSelection('Import Quantity') - dataElementSelection('Export Quantity') + \\\n",
    "dataElementSelection('Stock Variation') == dataElementSelection('Domestic supply quantity')\n",
    "\n",
    "# How is that false now even with the notebook calculation.\n",
    "\n",
    "# dataElementSelection('Domestic supply quantity') + dataElementSelection('Production') + dataElementSelection('Import Quantity') - \\\n",
    "# dataElementSelection('Export Quantity') + dataElementSelection('Stock Variation') == (dataElementSelection('Seed') + \\\n",
    "# dataElementSelection('Residuals') + dataElementSelection('Food') + dataElementSelection('Feed') + dataElementSelection('Processing') + dataElementSelection('Other uses (non-food)'))"
   ]
  },
  {
   "cell_type": "markdown",
   "metadata": {},
   "source": [
    "## Task 3 : Data Cleaning"
   ]
  },
  {
   "cell_type": "code",
   "execution_count": 462,
   "metadata": {
    "pycharm": {
     "name": "#%%\n"
    }
   },
   "outputs": [
    {
     "data": {
      "text/plain": [
       "0                               production\n",
       "1                          import_quantity\n",
       "2                          stock_variation\n",
       "3                 domestic_supply_quantity\n",
       "4                                   losses\n",
       "5                                residuals\n",
       "6                                     food\n",
       "7        food_supply_quantity_kg_capita_yr\n",
       "8              food_supply_kcal_capita_day\n",
       "9     protein_supply_quantity_g_capita_day\n",
       "10        fat_supply_quantity_g_capita_day\n",
       "11                         export_quantity\n",
       "12                                    feed\n",
       "13                                    seed\n",
       "14                     other_uses_non-food\n",
       "15                              processing\n",
       "16                     tourist_consumption\n",
       "dtype: object"
      ]
     },
     "execution_count": 462,
     "metadata": {},
     "output_type": "execute_result"
    }
   ],
   "source": [
    "# removing hard to read characters from element names.\n",
    "temp = data_animals.append(data_vegetables)\n",
    "\n",
    "elements_columns = pd.Series(temp.element.unique()).replace(regex={' ': '_', '[()]': '', '/': '_'}).str.lower()\n",
    "elements_columns"
   ]
  },
  {
   "cell_type": "code",
   "execution_count": 463,
   "metadata": {
    "pycharm": {
     "name": "#%%\n"
    }
   },
   "outputs": [],
   "source": [
    "# Columns selection according to Paul protocol.\n",
    "# temp.columns = ['xx', 'xx2', 'country_code', 'country', 'xx3', 'element'\n",
    "# ,'item_code', 'item', 'xx4', 'year', 'unit', \"value\", 'xx5', 'xx6' , 'origin']\n",
    "\n",
    "# Creating the main dataFrame pivot table that will be used to Answer most question.\n",
    "data = temp.pivot_table(\n",
    "     index=[\"country_code\", \"country\", \"item_code\", \"item\", \"year\", \"origin\"],\n",
    "       columns = [\"element\"], values=[\"value\"], aggfunc= sum)\n",
    "\n",
    "# Selecting columns based on elements.\n",
    "data.columns = elements_columns"
   ]
  },
  {
   "cell_type": "code",
   "execution_count": 464,
   "metadata": {
    "pycharm": {
     "name": "#%%\n"
    }
   },
   "outputs": [],
   "source": [
    "# Reset the index based on the pivot table and columns changes.\n",
    "data = data.reset_index()"
   ]
  },
  {
   "cell_type": "markdown",
   "metadata": {},
   "source": [
    "**Checking for data anomaly and removing it.**"
   ]
  },
  {
   "cell_type": "code",
   "execution_count": 465,
   "metadata": {
    "pycharm": {
     "name": "#%%\n"
    }
   },
   "outputs": [
    {
     "data": {
      "text/html": [
       "<div>\n",
       "<style scoped>\n",
       "    .dataframe tbody tr th:only-of-type {\n",
       "        vertical-align: middle;\n",
       "    }\n",
       "\n",
       "    .dataframe tbody tr th {\n",
       "        vertical-align: top;\n",
       "    }\n",
       "\n",
       "    .dataframe thead th {\n",
       "        text-align: right;\n",
       "    }\n",
       "</style>\n",
       "<table border=\"1\" class=\"dataframe\">\n",
       "  <thead>\n",
       "    <tr style=\"text-align: right;\">\n",
       "      <th></th>\n",
       "      <th>country_code</th>\n",
       "      <th>country</th>\n",
       "      <th>item_code</th>\n",
       "      <th>item</th>\n",
       "      <th>year</th>\n",
       "      <th>origin</th>\n",
       "      <th>production</th>\n",
       "      <th>import_quantity</th>\n",
       "      <th>stock_variation</th>\n",
       "      <th>domestic_supply_quantity</th>\n",
       "      <th>...</th>\n",
       "      <th>food_supply_quantity_kg_capita_yr</th>\n",
       "      <th>food_supply_kcal_capita_day</th>\n",
       "      <th>protein_supply_quantity_g_capita_day</th>\n",
       "      <th>fat_supply_quantity_g_capita_day</th>\n",
       "      <th>export_quantity</th>\n",
       "      <th>feed</th>\n",
       "      <th>seed</th>\n",
       "      <th>other_uses_non-food</th>\n",
       "      <th>processing</th>\n",
       "      <th>tourist_consumption</th>\n",
       "    </tr>\n",
       "  </thead>\n",
       "  <tbody>\n",
       "    <tr>\n",
       "      <th>0</th>\n",
       "      <td>1</td>\n",
       "      <td>Armenia</td>\n",
       "      <td>2511</td>\n",
       "      <td>Wheat and products</td>\n",
       "      <td>2017</td>\n",
       "      <td>vegetal</td>\n",
       "      <td>558.0</td>\n",
       "      <td>1.0</td>\n",
       "      <td>3.97</td>\n",
       "      <td>105.0</td>\n",
       "      <td>...</td>\n",
       "      <td>337.0</td>\n",
       "      <td>10.0</td>\n",
       "      <td>0.0</td>\n",
       "      <td>60.0</td>\n",
       "      <td>176.0</td>\n",
       "      <td>31.35</td>\n",
       "      <td>-31.0</td>\n",
       "      <td>25.0</td>\n",
       "      <td>-45.0</td>\n",
       "      <td>NaN</td>\n",
       "    </tr>\n",
       "    <tr>\n",
       "      <th>1</th>\n",
       "      <td>1</td>\n",
       "      <td>Armenia</td>\n",
       "      <td>2513</td>\n",
       "      <td>Barley and products</td>\n",
       "      <td>2017</td>\n",
       "      <td>vegetal</td>\n",
       "      <td>114.0</td>\n",
       "      <td>0.0</td>\n",
       "      <td>0.02</td>\n",
       "      <td>91.0</td>\n",
       "      <td>...</td>\n",
       "      <td>14.0</td>\n",
       "      <td>10.0</td>\n",
       "      <td>6.0</td>\n",
       "      <td>4.0</td>\n",
       "      <td>93.0</td>\n",
       "      <td>0.15</td>\n",
       "      <td>-12.0</td>\n",
       "      <td>13.0</td>\n",
       "      <td>-7.0</td>\n",
       "      <td>NaN</td>\n",
       "    </tr>\n",
       "    <tr>\n",
       "      <th>2</th>\n",
       "      <td>1</td>\n",
       "      <td>Armenia</td>\n",
       "      <td>2514</td>\n",
       "      <td>Maize and products</td>\n",
       "      <td>2017</td>\n",
       "      <td>vegetal</td>\n",
       "      <td>58.0</td>\n",
       "      <td>0.0</td>\n",
       "      <td>0.60</td>\n",
       "      <td>32.0</td>\n",
       "      <td>...</td>\n",
       "      <td>48.0</td>\n",
       "      <td>4.0</td>\n",
       "      <td>NaN</td>\n",
       "      <td>0.0</td>\n",
       "      <td>10.0</td>\n",
       "      <td>2.64</td>\n",
       "      <td>0.0</td>\n",
       "      <td>0.0</td>\n",
       "      <td>1.0</td>\n",
       "      <td>NaN</td>\n",
       "    </tr>\n",
       "    <tr>\n",
       "      <th>3</th>\n",
       "      <td>1</td>\n",
       "      <td>Armenia</td>\n",
       "      <td>2515</td>\n",
       "      <td>Rye and products</td>\n",
       "      <td>2017</td>\n",
       "      <td>vegetal</td>\n",
       "      <td>1.0</td>\n",
       "      <td>NaN</td>\n",
       "      <td>0.01</td>\n",
       "      <td>0.0</td>\n",
       "      <td>...</td>\n",
       "      <td>0.0</td>\n",
       "      <td>0.0</td>\n",
       "      <td>NaN</td>\n",
       "      <td>0.0</td>\n",
       "      <td>0.0</td>\n",
       "      <td>0.03</td>\n",
       "      <td>0.0</td>\n",
       "      <td>0.0</td>\n",
       "      <td>0.0</td>\n",
       "      <td>NaN</td>\n",
       "    </tr>\n",
       "    <tr>\n",
       "      <th>4</th>\n",
       "      <td>1</td>\n",
       "      <td>Armenia</td>\n",
       "      <td>2516</td>\n",
       "      <td>Oats</td>\n",
       "      <td>2017</td>\n",
       "      <td>vegetal</td>\n",
       "      <td>7.0</td>\n",
       "      <td>NaN</td>\n",
       "      <td>0.12</td>\n",
       "      <td>6.0</td>\n",
       "      <td>...</td>\n",
       "      <td>1.0</td>\n",
       "      <td>0.0</td>\n",
       "      <td>NaN</td>\n",
       "      <td>NaN</td>\n",
       "      <td>6.0</td>\n",
       "      <td>0.26</td>\n",
       "      <td>-2.0</td>\n",
       "      <td>1.0</td>\n",
       "      <td>0.0</td>\n",
       "      <td>NaN</td>\n",
       "    </tr>\n",
       "    <tr>\n",
       "      <th>...</th>\n",
       "      <td>...</td>\n",
       "      <td>...</td>\n",
       "      <td>...</td>\n",
       "      <td>...</td>\n",
       "      <td>...</td>\n",
       "      <td>...</td>\n",
       "      <td>...</td>\n",
       "      <td>...</td>\n",
       "      <td>...</td>\n",
       "      <td>...</td>\n",
       "      <td>...</td>\n",
       "      <td>...</td>\n",
       "      <td>...</td>\n",
       "      <td>...</td>\n",
       "      <td>...</td>\n",
       "      <td>...</td>\n",
       "      <td>...</td>\n",
       "      <td>...</td>\n",
       "      <td>...</td>\n",
       "      <td>...</td>\n",
       "      <td>...</td>\n",
       "    </tr>\n",
       "    <tr>\n",
       "      <th>16139</th>\n",
       "      <td>351</td>\n",
       "      <td>China</td>\n",
       "      <td>2781</td>\n",
       "      <td>Fish, Body Oil</td>\n",
       "      <td>2017</td>\n",
       "      <td>animal</td>\n",
       "      <td>83.0</td>\n",
       "      <td>30.0</td>\n",
       "      <td>0.00</td>\n",
       "      <td>8.0</td>\n",
       "      <td>...</td>\n",
       "      <td>63.0</td>\n",
       "      <td>NaN</td>\n",
       "      <td>75.0</td>\n",
       "      <td>NaN</td>\n",
       "      <td>50.0</td>\n",
       "      <td>0.00</td>\n",
       "      <td>NaN</td>\n",
       "      <td>NaN</td>\n",
       "      <td>0.0</td>\n",
       "      <td>NaN</td>\n",
       "    </tr>\n",
       "    <tr>\n",
       "      <th>16140</th>\n",
       "      <td>351</td>\n",
       "      <td>China</td>\n",
       "      <td>2782</td>\n",
       "      <td>Fish, Liver Oil</td>\n",
       "      <td>2017</td>\n",
       "      <td>animal</td>\n",
       "      <td>0.0</td>\n",
       "      <td>1.0</td>\n",
       "      <td>0.00</td>\n",
       "      <td>0.0</td>\n",
       "      <td>...</td>\n",
       "      <td>1.0</td>\n",
       "      <td>NaN</td>\n",
       "      <td>0.0</td>\n",
       "      <td>NaN</td>\n",
       "      <td>0.0</td>\n",
       "      <td>0.00</td>\n",
       "      <td>NaN</td>\n",
       "      <td>NaN</td>\n",
       "      <td>0.0</td>\n",
       "      <td>NaN</td>\n",
       "    </tr>\n",
       "    <tr>\n",
       "      <th>16141</th>\n",
       "      <td>351</td>\n",
       "      <td>China</td>\n",
       "      <td>2805</td>\n",
       "      <td>Rice and products</td>\n",
       "      <td>2017</td>\n",
       "      <td>vegetal</td>\n",
       "      <td>215825.0</td>\n",
       "      <td>1793.0</td>\n",
       "      <td>2.86</td>\n",
       "      <td>18357.0</td>\n",
       "      <td>...</td>\n",
       "      <td>6681.0</td>\n",
       "      <td>10423.0</td>\n",
       "      <td>3123.0</td>\n",
       "      <td>256.0</td>\n",
       "      <td>214430.0</td>\n",
       "      <td>15.22</td>\n",
       "      <td>0.0</td>\n",
       "      <td>6802.0</td>\n",
       "      <td>3493.0</td>\n",
       "      <td>-32.0</td>\n",
       "    </tr>\n",
       "    <tr>\n",
       "      <th>16142</th>\n",
       "      <td>351</td>\n",
       "      <td>China</td>\n",
       "      <td>2848</td>\n",
       "      <td>Milk - Excluding Butter</td>\n",
       "      <td>2017</td>\n",
       "      <td>animal</td>\n",
       "      <td>37887.0</td>\n",
       "      <td>140.0</td>\n",
       "      <td>2.81</td>\n",
       "      <td>1718.0</td>\n",
       "      <td>...</td>\n",
       "      <td>2740.0</td>\n",
       "      <td>1691.0</td>\n",
       "      <td>10.0</td>\n",
       "      <td>0.0</td>\n",
       "      <td>35309.0</td>\n",
       "      <td>2.72</td>\n",
       "      <td>-446.0</td>\n",
       "      <td>NaN</td>\n",
       "      <td>22.0</td>\n",
       "      <td>-16.0</td>\n",
       "    </tr>\n",
       "    <tr>\n",
       "      <th>16143</th>\n",
       "      <td>351</td>\n",
       "      <td>China</td>\n",
       "      <td>2899</td>\n",
       "      <td>Miscellaneous</td>\n",
       "      <td>2017</td>\n",
       "      <td>vegetal</td>\n",
       "      <td>273.0</td>\n",
       "      <td>2097.0</td>\n",
       "      <td>0.00</td>\n",
       "      <td>NaN</td>\n",
       "      <td>...</td>\n",
       "      <td>890.0</td>\n",
       "      <td>NaN</td>\n",
       "      <td>7.0</td>\n",
       "      <td>NaN</td>\n",
       "      <td>1481.0</td>\n",
       "      <td>0.01</td>\n",
       "      <td>0.0</td>\n",
       "      <td>NaN</td>\n",
       "      <td>1.0</td>\n",
       "      <td>-14.0</td>\n",
       "    </tr>\n",
       "  </tbody>\n",
       "</table>\n",
       "<p>16144 rows × 23 columns</p>\n",
       "</div>"
      ],
      "text/plain": [
       "       country_code  country  item_code                     item  year  \\\n",
       "0                 1  Armenia       2511       Wheat and products  2017   \n",
       "1                 1  Armenia       2513      Barley and products  2017   \n",
       "2                 1  Armenia       2514       Maize and products  2017   \n",
       "3                 1  Armenia       2515         Rye and products  2017   \n",
       "4                 1  Armenia       2516                     Oats  2017   \n",
       "...             ...      ...        ...                      ...   ...   \n",
       "16139           351    China       2781           Fish, Body Oil  2017   \n",
       "16140           351    China       2782          Fish, Liver Oil  2017   \n",
       "16141           351    China       2805        Rice and products  2017   \n",
       "16142           351    China       2848  Milk - Excluding Butter  2017   \n",
       "16143           351    China       2899            Miscellaneous  2017   \n",
       "\n",
       "        origin  production  import_quantity  stock_variation  \\\n",
       "0      vegetal       558.0              1.0             3.97   \n",
       "1      vegetal       114.0              0.0             0.02   \n",
       "2      vegetal        58.0              0.0             0.60   \n",
       "3      vegetal         1.0              NaN             0.01   \n",
       "4      vegetal         7.0              NaN             0.12   \n",
       "...        ...         ...              ...              ...   \n",
       "16139   animal        83.0             30.0             0.00   \n",
       "16140   animal         0.0              1.0             0.00   \n",
       "16141  vegetal    215825.0           1793.0             2.86   \n",
       "16142   animal     37887.0            140.0             2.81   \n",
       "16143  vegetal       273.0           2097.0             0.00   \n",
       "\n",
       "       domestic_supply_quantity  ...  food_supply_quantity_kg_capita_yr  \\\n",
       "0                         105.0  ...                              337.0   \n",
       "1                          91.0  ...                               14.0   \n",
       "2                          32.0  ...                               48.0   \n",
       "3                           0.0  ...                                0.0   \n",
       "4                           6.0  ...                                1.0   \n",
       "...                         ...  ...                                ...   \n",
       "16139                       8.0  ...                               63.0   \n",
       "16140                       0.0  ...                                1.0   \n",
       "16141                   18357.0  ...                             6681.0   \n",
       "16142                    1718.0  ...                             2740.0   \n",
       "16143                       NaN  ...                              890.0   \n",
       "\n",
       "       food_supply_kcal_capita_day  protein_supply_quantity_g_capita_day  \\\n",
       "0                             10.0                                   0.0   \n",
       "1                             10.0                                   6.0   \n",
       "2                              4.0                                   NaN   \n",
       "3                              0.0                                   NaN   \n",
       "4                              0.0                                   NaN   \n",
       "...                            ...                                   ...   \n",
       "16139                          NaN                                  75.0   \n",
       "16140                          NaN                                   0.0   \n",
       "16141                      10423.0                                3123.0   \n",
       "16142                       1691.0                                  10.0   \n",
       "16143                          NaN                                   7.0   \n",
       "\n",
       "       fat_supply_quantity_g_capita_day  export_quantity   feed   seed  \\\n",
       "0                                  60.0            176.0  31.35  -31.0   \n",
       "1                                   4.0             93.0   0.15  -12.0   \n",
       "2                                   0.0             10.0   2.64    0.0   \n",
       "3                                   0.0              0.0   0.03    0.0   \n",
       "4                                   NaN              6.0   0.26   -2.0   \n",
       "...                                 ...              ...    ...    ...   \n",
       "16139                               NaN             50.0   0.00    NaN   \n",
       "16140                               NaN              0.0   0.00    NaN   \n",
       "16141                             256.0         214430.0  15.22    0.0   \n",
       "16142                               0.0          35309.0   2.72 -446.0   \n",
       "16143                               NaN           1481.0   0.01    0.0   \n",
       "\n",
       "       other_uses_non-food  processing  tourist_consumption  \n",
       "0                     25.0       -45.0                  NaN  \n",
       "1                     13.0        -7.0                  NaN  \n",
       "2                      0.0         1.0                  NaN  \n",
       "3                      0.0         0.0                  NaN  \n",
       "4                      1.0         0.0                  NaN  \n",
       "...                    ...         ...                  ...  \n",
       "16139                  NaN         0.0                  NaN  \n",
       "16140                  NaN         0.0                  NaN  \n",
       "16141               6802.0      3493.0                -32.0  \n",
       "16142                  NaN        22.0                -16.0  \n",
       "16143                  NaN         1.0                -14.0  \n",
       "\n",
       "[16144 rows x 23 columns]"
      ]
     },
     "execution_count": 465,
     "metadata": {},
     "output_type": "execute_result"
    }
   ],
   "source": [
    "data"
   ]
  },
  {
   "cell_type": "code",
   "execution_count": 466,
   "metadata": {
    "pycharm": {
     "name": "#%%\n"
    }
   },
   "outputs": [
    {
     "data": {
      "text/plain": [
       "0"
      ]
     },
     "execution_count": 466,
     "metadata": {},
     "output_type": "execute_result"
    }
   ],
   "source": [
    "data.duplicated().sum()"
   ]
  },
  {
   "cell_type": "code",
   "execution_count": 467,
   "metadata": {
    "pycharm": {
     "name": "#%%\n"
    }
   },
   "outputs": [
    {
     "data": {
      "text/plain": [
       "country_code                                0\n",
       "country                                     0\n",
       "item_code                                   0\n",
       "item                                        0\n",
       "year                                        0\n",
       "origin                                      0\n",
       "production                                142\n",
       "import_quantity                          3936\n",
       "stock_variation                          1538\n",
       "domestic_supply_quantity                11910\n",
       "losses                                   1552\n",
       "residuals                                1574\n",
       "food                                     1432\n",
       "food_supply_quantity_kg_capita_yr         788\n",
       "food_supply_kcal_capita_day             10270\n",
       "protein_supply_quantity_g_capita_day    10777\n",
       "fat_supply_quantity_g_capita_day        12553\n",
       "export_quantity                          5718\n",
       "feed                                     1543\n",
       "seed                                     3492\n",
       "other_uses_non-food                     14007\n",
       "processing                               4757\n",
       "tourist_consumption                     10502\n",
       "dtype: int64"
      ]
     },
     "execution_count": 467,
     "metadata": {},
     "output_type": "execute_result"
    }
   ],
   "source": [
    "data.isnull().sum()"
   ]
  },
  {
   "cell_type": "code",
   "execution_count": 468,
   "metadata": {
    "pycharm": {
     "name": "#%%\n"
    }
   },
   "outputs": [
    {
     "data": {
      "text/plain": [
       "country_code                            0\n",
       "country                                 0\n",
       "item_code                               0\n",
       "item                                    0\n",
       "year                                    0\n",
       "origin                                  0\n",
       "production                              0\n",
       "import_quantity                         0\n",
       "stock_variation                         0\n",
       "domestic_supply_quantity                0\n",
       "losses                                  0\n",
       "residuals                               0\n",
       "food                                    0\n",
       "food_supply_quantity_kg_capita_yr       0\n",
       "food_supply_kcal_capita_day             0\n",
       "protein_supply_quantity_g_capita_day    0\n",
       "fat_supply_quantity_g_capita_day        0\n",
       "export_quantity                         0\n",
       "feed                                    0\n",
       "seed                                    0\n",
       "other_uses_non-food                     0\n",
       "processing                              0\n",
       "tourist_consumption                     0\n",
       "dtype: int64"
      ]
     },
     "execution_count": 468,
     "metadata": {},
     "output_type": "execute_result"
    }
   ],
   "source": [
    "data.fillna(0, inplace=True)\n",
    "data.isna().sum()"
   ]
  },
  {
   "cell_type": "markdown",
   "metadata": {},
   "source": [
    "## total world population\n",
    "\n",
    "calculating and find anomaly, removing it."
   ]
  },
  {
   "cell_type": "code",
   "execution_count": 469,
   "metadata": {
    "pycharm": {
     "name": "#%%\n"
    }
   },
   "outputs": [],
   "source": [
    "# Using the above selection as mask for filtering the founded anomaly\n",
    "china =  data_population.loc[data_population.country_code == 351]\n",
    "# in FAO new methodology data set is this anomaly not present."
   ]
  },
  {
   "cell_type": "markdown",
   "metadata": {},
   "source": [
    "**Creating World population constant**"
   ]
  },
  {
   "cell_type": "code",
   "execution_count": 470,
   "metadata": {
    "pycharm": {
     "name": "#%%\n"
    }
   },
   "outputs": [],
   "source": [
    "# this value is calculated according to FAO http://faostat.fao.org/static/syb/syb_5000.pdf\n",
    "# This instead is my calculated value\n",
    "WORLD_POPULATION = data_population.value.sum() - data_population.loc[data_population.country_code == 351].value\n",
    "\n"
   ]
  },
  {
   "cell_type": "code",
   "execution_count": 503,
   "metadata": {
    "pycharm": {
     "name": "#%%\n"
    }
   },
   "outputs": [
    {
     "ename": "AttributeError",
     "evalue": "'DataFrame' object has no attribute 'country_code'",
     "output_type": "error",
     "traceback": [
      "\u001b[0;31m---------------------------------------------------------------------------\u001b[0m",
      "\u001b[0;31mAttributeError\u001b[0m                            Traceback (most recent call last)",
      "\u001b[0;32m<ipython-input-503-f9c1aac78d6d>\u001b[0m in \u001b[0;36m<module>\u001b[0;34m\u001b[0m\n\u001b[1;32m      1\u001b[0m \u001b[0;31m# Complete removing the already know data anomaly involved chin and main land china.\u001b[0m\u001b[0;34m\u001b[0m\u001b[0;34m\u001b[0m\u001b[0;34m\u001b[0m\u001b[0m\n\u001b[1;32m      2\u001b[0m \u001b[0;31m#data_population = data_population.drop([30])\u001b[0m\u001b[0;34m\u001b[0m\u001b[0;34m\u001b[0m\u001b[0;34m\u001b[0m\u001b[0m\n\u001b[0;32m----> 3\u001b[0;31m \u001b[0mdata_population\u001b[0m\u001b[0;34m.\u001b[0m\u001b[0mloc\u001b[0m\u001b[0;34m[\u001b[0m\u001b[0mdata_population\u001b[0m\u001b[0;34m.\u001b[0m\u001b[0mcountry_code\u001b[0m \u001b[0;34m==\u001b[0m \u001b[0;36m351\u001b[0m\u001b[0;34m]\u001b[0m\u001b[0;34m\u001b[0m\u001b[0;34m\u001b[0m\u001b[0m\n\u001b[0m",
      "\u001b[0;32m~/.conda/envs/untitled1/lib/python3.7/site-packages/pandas/core/generic.py\u001b[0m in \u001b[0;36m__getattr__\u001b[0;34m(self, name)\u001b[0m\n\u001b[1;32m   5272\u001b[0m             \u001b[0;32mif\u001b[0m \u001b[0mself\u001b[0m\u001b[0;34m.\u001b[0m\u001b[0m_info_axis\u001b[0m\u001b[0;34m.\u001b[0m\u001b[0m_can_hold_identifiers_and_holds_name\u001b[0m\u001b[0;34m(\u001b[0m\u001b[0mname\u001b[0m\u001b[0;34m)\u001b[0m\u001b[0;34m:\u001b[0m\u001b[0;34m\u001b[0m\u001b[0;34m\u001b[0m\u001b[0m\n\u001b[1;32m   5273\u001b[0m                 \u001b[0;32mreturn\u001b[0m \u001b[0mself\u001b[0m\u001b[0;34m[\u001b[0m\u001b[0mname\u001b[0m\u001b[0;34m]\u001b[0m\u001b[0;34m\u001b[0m\u001b[0;34m\u001b[0m\u001b[0m\n\u001b[0;32m-> 5274\u001b[0;31m             \u001b[0;32mreturn\u001b[0m \u001b[0mobject\u001b[0m\u001b[0;34m.\u001b[0m\u001b[0m__getattribute__\u001b[0m\u001b[0;34m(\u001b[0m\u001b[0mself\u001b[0m\u001b[0;34m,\u001b[0m \u001b[0mname\u001b[0m\u001b[0;34m)\u001b[0m\u001b[0;34m\u001b[0m\u001b[0;34m\u001b[0m\u001b[0m\n\u001b[0m\u001b[1;32m   5275\u001b[0m \u001b[0;34m\u001b[0m\u001b[0m\n\u001b[1;32m   5276\u001b[0m     \u001b[0;32mdef\u001b[0m \u001b[0m__setattr__\u001b[0m\u001b[0;34m(\u001b[0m\u001b[0mself\u001b[0m\u001b[0;34m,\u001b[0m \u001b[0mname\u001b[0m\u001b[0;34m:\u001b[0m \u001b[0mstr\u001b[0m\u001b[0;34m,\u001b[0m \u001b[0mvalue\u001b[0m\u001b[0;34m)\u001b[0m \u001b[0;34m->\u001b[0m \u001b[0;32mNone\u001b[0m\u001b[0;34m:\u001b[0m\u001b[0;34m\u001b[0m\u001b[0;34m\u001b[0m\u001b[0m\n",
      "\u001b[0;31mAttributeError\u001b[0m: 'DataFrame' object has no attribute 'country_code'"
     ]
    }
   ],
   "source": [
    "# Complete removing the already know data anomaly involved chin and main land china.\n",
    "#data_population = data_population.drop([30])\n",
    "data_population.loc[data_population.country_code == 351]"
   ]
  },
  {
   "cell_type": "markdown",
   "metadata": {},
   "source": [
    "## Task 4 : Computing new variables\n"
   ]
  },
  {
   "cell_type": "code",
   "execution_count": 472,
   "metadata": {
    "pycharm": {
     "name": "#%%\n"
    }
   },
   "outputs": [],
   "source": [
    "# Checking the values of the columns that will be used on this task.\n",
    "# data.loc[:][['food_supply_kcalcapitaday', 'protein_supply_quantity_gcapitaday',\n",
    "#                  'food_supply_quantity_kgcapitayr', 'fat_supply_quantity_gcapitaday']]\n",
    "\n",
    "# Merging the county populations values to our major dataframe for further calculations.\n",
    "data = data.merge(data_population[['country_code', 'value']], on= 'country_code', suffixes=('population', True))\n",
    "\n",
    "# Renaming its column value to population to be more clear.\n",
    "data = data.rename(columns={'value': 'population'})"
   ]
  },
  {
   "cell_type": "code",
   "execution_count": 473,
   "metadata": {
    "pycharm": {
     "name": "#%%\n"
    }
   },
   "outputs": [],
   "source": [
    "# Calculating all need variables.\n",
    "data['food_supply_kcal'] = data.food_supply_kcal_capita_day * 365 * data.population\n",
    "data['food_supply_kgprotein'] = data.protein_supply_quantity_g_capita_day * 365 * data.population / 1000\n",
    "data['food_supply_kg'] = data.food * np.power(10,6)\n",
    "mask = data.food_supply_kg != 0\n",
    "data['ratio_kcalkg'] = data.loc[mask, 'food_supply_kcal'] / data.loc[mask, 'food_supply_kg']\n",
    "data['protein_percentage'] = data.loc[ mask, 'food_supply_kgprotein'] / data.loc[mask, 'food_supply_kg'] * 100\n",
    "data['dom_sup_kcal'] = data.domestic_supply_quantity * np.power(10,6) *  data.ratio_kcalkg\n",
    "data['dom_sup_kgprot'] = data.domestic_supply_quantity * np.power(10,6) *  data.protein_percentage / 100"
   ]
  },
  {
   "cell_type": "markdown",
   "metadata": {},
   "source": [
    "**Generating great_import_from_undern_countries variable**"
   ]
  },
  {
   "cell_type": "code",
   "execution_count": 474,
   "metadata": {
    "pycharm": {
     "name": "#%%\n"
    }
   },
   "outputs": [],
   "source": [
    "# Creating a new Dataframe copy by value so that original will not modified.\n",
    "undernourished = data_undernourished[['country_code', 'country', 'year', 'value' ]].copy()\n",
    "# Recalculating bade from its unit\n",
    "undernourished['value'] *= 1000000\n",
    "# Renaming its value for clarity.\n",
    "undernourished = undernourished.rename({'value': 'nb_people_under'}, axis= 1)\n",
    "# Merging it with population based on country code sort that for every county has its population and its undernourished value.\n",
    "undernourished = pd.merge(undernourished, data_population[['country_code', 'year', 'value']], on= ['country_code'])\n",
    "# Repassing undernourished based on a specific year in this case 2013.\n",
    "undernourished = undernourished[(undernourished.year_x == '2011-2013')]\n",
    "# Renaming its value for clarity after merging it with population.\n",
    "undernourished = undernourished.rename({'value': 'population'}, axis=1)\n",
    "# Calculating undernourished in percentage.\n",
    "undernourished['undern_percentage'] = 100 * undernourished.nb_people_under / undernourished.population\n",
    "# Calculating its undernourished under 10 percentage.\n",
    "undernourished['under_10%'] = undernourished.undern_percentage >= 10"
   ]
  },
  {
   "cell_type": "code",
   "execution_count": 475,
   "metadata": {
    "pycharm": {
     "name": "#%%\n"
    }
   },
   "outputs": [
    {
     "data": {
      "text/html": [
       "<div>\n",
       "<style scoped>\n",
       "    .dataframe tbody tr th:only-of-type {\n",
       "        vertical-align: middle;\n",
       "    }\n",
       "\n",
       "    .dataframe tbody tr th {\n",
       "        vertical-align: top;\n",
       "    }\n",
       "\n",
       "    .dataframe thead th {\n",
       "        text-align: right;\n",
       "    }\n",
       "</style>\n",
       "<table border=\"1\" class=\"dataframe\">\n",
       "  <thead>\n",
       "    <tr style=\"text-align: right;\">\n",
       "      <th></th>\n",
       "      <th>country_code</th>\n",
       "      <th>country</th>\n",
       "      <th>year_x</th>\n",
       "      <th>nb_people_under</th>\n",
       "      <th>year_y</th>\n",
       "      <th>population</th>\n",
       "      <th>undern_percentage</th>\n",
       "      <th>under_10%</th>\n",
       "    </tr>\n",
       "  </thead>\n",
       "  <tbody>\n",
       "  </tbody>\n",
       "</table>\n",
       "</div>"
      ],
      "text/plain": [
       "Empty DataFrame\n",
       "Columns: [country_code, country, year_x, nb_people_under, year_y, population, undern_percentage, under_10%]\n",
       "Index: []"
      ]
     },
     "execution_count": 475,
     "metadata": {},
     "output_type": "execute_result"
    }
   ],
   "source": [
    "undernourished.sort_values('undern_percentage', ascending=False).head()"
   ]
  },
  {
   "cell_type": "code",
   "execution_count": 476,
   "metadata": {
    "pycharm": {
     "name": "#%%\n"
    }
   },
   "outputs": [
    {
     "name": "stderr",
     "output_type": "stream",
     "text": [
      "/Users/souzaalves/.conda/envs/untitled1/lib/python3.7/site-packages/ipykernel_launcher.py:8: FutureWarning: Indexing with multiple keys (implicitly converted to a tuple of keys) will be deprecated, use a list instead.\n",
      "  \n"
     ]
    },
    {
     "data": {
      "text/plain": [
       "Series([], Name: domestic_supply_quantity, dtype: float64)"
      ]
     },
     "execution_count": 476,
     "metadata": {},
     "output_type": "execute_result"
    }
   ],
   "source": [
    "selected_year = 2013\n",
    "# Country under the 10% undernourished\n",
    "under_countries = undernourished.loc[undernourished['under_10%'], 'country_code']\n",
    "under_data = data[(data.country_code.isin(under_countries)) & (data.year == selected_year)].copy()\n",
    "\n",
    "# The sum of the above filter county.\n",
    "under_data = under_data.groupby(['item_code', 'item', 'year'])[\n",
    "    'domestic_supply_quantity', 'export_quantity', 'feed', 'food', 'import_quantity', 'other_uses_non-food', 'processing',\n",
    "    'stock_variation', 'production', 'seed', 'food_supply_kcal', 'food_supply_kg', 'losses'\n",
    "].sum()\n",
    "\n",
    "under_data = under_data.reset_index()\n",
    "under_data = under_data.sort_values('export_quantity', ascending = False)\n",
    "\n",
    "most_exported_products = under_data.iloc[:25].item.values\n",
    "under_data[under_data.item.isin(most_exported_products)].iloc[:25].domestic_supply_quantity"
   ]
  },
  {
   "cell_type": "code",
   "execution_count": 477,
   "metadata": {
    "pycharm": {
     "name": "#%%\n"
    }
   },
   "outputs": [
    {
     "data": {
      "text/html": [
       "<div>\n",
       "<style scoped>\n",
       "    .dataframe tbody tr th:only-of-type {\n",
       "        vertical-align: middle;\n",
       "    }\n",
       "\n",
       "    .dataframe tbody tr th {\n",
       "        vertical-align: top;\n",
       "    }\n",
       "\n",
       "    .dataframe thead th {\n",
       "        text-align: right;\n",
       "    }\n",
       "</style>\n",
       "<table border=\"1\" class=\"dataframe\">\n",
       "  <thead>\n",
       "    <tr style=\"text-align: right;\">\n",
       "      <th></th>\n",
       "      <th>index</th>\n",
       "      <th>country_code</th>\n",
       "      <th>country</th>\n",
       "      <th>item_code</th>\n",
       "      <th>item</th>\n",
       "      <th>year</th>\n",
       "      <th>origin</th>\n",
       "      <th>production</th>\n",
       "      <th>import_quantity</th>\n",
       "      <th>stock_variation</th>\n",
       "      <th>...</th>\n",
       "      <th>tourist_consumption</th>\n",
       "      <th>population</th>\n",
       "      <th>food_supply_kcal</th>\n",
       "      <th>food_supply_kgprotein</th>\n",
       "      <th>food_supply_kg</th>\n",
       "      <th>ratio_kcalkg</th>\n",
       "      <th>protein_percentage</th>\n",
       "      <th>dom_sup_kcal</th>\n",
       "      <th>dom_sup_kgprot</th>\n",
       "      <th>great_import_from_undern_countries</th>\n",
       "    </tr>\n",
       "  </thead>\n",
       "  <tbody>\n",
       "  </tbody>\n",
       "</table>\n",
       "<p>0 rows × 33 columns</p>\n",
       "</div>"
      ],
      "text/plain": [
       "Empty DataFrame\n",
       "Columns: [index, country_code, country, item_code, item, year, origin, production, import_quantity, stock_variation, domestic_supply_quantity, losses, residuals, food, food_supply_quantity_kg_capita_yr, food_supply_kcal_capita_day, protein_supply_quantity_g_capita_day, fat_supply_quantity_g_capita_day, export_quantity, feed, seed, other_uses_non-food, processing, tourist_consumption, population, food_supply_kcal, food_supply_kgprotein, food_supply_kg, ratio_kcalkg, protein_percentage, dom_sup_kcal, dom_sup_kgprot, great_import_from_undern_countries]\n",
       "Index: []\n",
       "\n",
       "[0 rows x 33 columns]"
      ]
     },
     "execution_count": 477,
     "metadata": {},
     "output_type": "execute_result"
    }
   ],
   "source": [
    "imp = data[(data.item.isin(most_exported_products)) & (data.year == selected_year)]\n",
    "imp = imp.sort_values('import_quantity', ascending= False)\n",
    "\n",
    "imp = imp.reset_index()\n",
    "imp['great_import_from_undern_countries'] = imp.index < 200\n",
    "\n",
    "imp.head(20)"
   ]
  },
  {
   "cell_type": "markdown",
   "metadata": {},
   "source": [
    "# Task 5 : Identify major trends\n"
   ]
  },
  {
   "cell_type": "code",
   "execution_count": 478,
   "metadata": {
    "pycharm": {
     "name": "#%%\n"
    }
   },
   "outputs": [],
   "source": [
    "# Assign vegetal oring values only to vegetables_data to be used on question that require only vegetables\n",
    "vegetables_data = data[:][data.origin == 'vegetal']"
   ]
  },
  {
   "cell_type": "markdown",
   "metadata": {},
   "source": [
    "**1. Considering only plant products, what proportion of the global domestic supply is used as :**\n",
    "    * food\n",
    "    * feed\n",
    "    * losses\n",
    "    * other uses"
   ]
  },
  {
   "cell_type": "code",
   "execution_count": 479,
   "metadata": {
    "pycharm": {
     "name": "#%%\n"
    }
   },
   "outputs": [
    {
     "data": {
      "text/html": [
       "<div>\n",
       "<style scoped>\n",
       "    .dataframe tbody tr th:only-of-type {\n",
       "        vertical-align: middle;\n",
       "    }\n",
       "\n",
       "    .dataframe tbody tr th {\n",
       "        vertical-align: top;\n",
       "    }\n",
       "\n",
       "    .dataframe thead th {\n",
       "        text-align: right;\n",
       "    }\n",
       "</style>\n",
       "<table border=\"1\" class=\"dataframe\">\n",
       "  <thead>\n",
       "    <tr style=\"text-align: right;\">\n",
       "      <th></th>\n",
       "      <th>country_code</th>\n",
       "      <th>item_code</th>\n",
       "      <th>production</th>\n",
       "      <th>import_quantity</th>\n",
       "      <th>stock_variation</th>\n",
       "      <th>domestic_supply_quantity</th>\n",
       "      <th>losses</th>\n",
       "      <th>residuals</th>\n",
       "      <th>food</th>\n",
       "      <th>food_supply_quantity_kg_capita_yr</th>\n",
       "      <th>...</th>\n",
       "      <th>processing</th>\n",
       "      <th>tourist_consumption</th>\n",
       "      <th>population</th>\n",
       "      <th>food_supply_kcal</th>\n",
       "      <th>food_supply_kgprotein</th>\n",
       "      <th>food_supply_kg</th>\n",
       "      <th>ratio_kcalkg</th>\n",
       "      <th>protein_percentage</th>\n",
       "      <th>dom_sup_kcal</th>\n",
       "      <th>dom_sup_kgprot</th>\n",
       "    </tr>\n",
       "    <tr>\n",
       "      <th>year</th>\n",
       "      <th></th>\n",
       "      <th></th>\n",
       "      <th></th>\n",
       "      <th></th>\n",
       "      <th></th>\n",
       "      <th></th>\n",
       "      <th></th>\n",
       "      <th></th>\n",
       "      <th></th>\n",
       "      <th></th>\n",
       "      <th></th>\n",
       "      <th></th>\n",
       "      <th></th>\n",
       "      <th></th>\n",
       "      <th></th>\n",
       "      <th></th>\n",
       "      <th></th>\n",
       "      <th></th>\n",
       "      <th></th>\n",
       "      <th></th>\n",
       "      <th></th>\n",
       "    </tr>\n",
       "  </thead>\n",
       "  <tbody>\n",
       "    <tr>\n",
       "      <th>2017</th>\n",
       "      <td>1561570</td>\n",
       "      <td>31786227</td>\n",
       "      <td>11688770.0</td>\n",
       "      <td>1365104.0</td>\n",
       "      <td>8282.78</td>\n",
       "      <td>1796223.0</td>\n",
       "      <td>5205155.0</td>\n",
       "      <td>392470.0</td>\n",
       "      <td>87006.61</td>\n",
       "      <td>1470851.0</td>\n",
       "      <td>...</td>\n",
       "      <td>115803.0</td>\n",
       "      <td>749.0</td>\n",
       "      <td>18490.79</td>\n",
       "      <td>7.835950e+08</td>\n",
       "      <td>629938.07145</td>\n",
       "      <td>8.700661e+10</td>\n",
       "      <td>223.198309</td>\n",
       "      <td>19.267476</td>\n",
       "      <td>2.470067e+11</td>\n",
       "      <td>1.091565e+09</td>\n",
       "    </tr>\n",
       "  </tbody>\n",
       "</table>\n",
       "<p>1 rows × 27 columns</p>\n",
       "</div>"
      ],
      "text/plain": [
       "      country_code  item_code  production  import_quantity  stock_variation  \\\n",
       "year                                                                          \n",
       "2017       1561570   31786227  11688770.0        1365104.0          8282.78   \n",
       "\n",
       "      domestic_supply_quantity     losses  residuals      food  \\\n",
       "year                                                             \n",
       "2017                 1796223.0  5205155.0   392470.0  87006.61   \n",
       "\n",
       "      food_supply_quantity_kg_capita_yr  ...  processing  tourist_consumption  \\\n",
       "year                                     ...                                    \n",
       "2017                          1470851.0  ...    115803.0                749.0   \n",
       "\n",
       "      population  food_supply_kcal  food_supply_kgprotein  food_supply_kg  \\\n",
       "year                                                                        \n",
       "2017    18490.79      7.835950e+08           629938.07145    8.700661e+10   \n",
       "\n",
       "      ratio_kcalkg  protein_percentage  dom_sup_kcal  dom_sup_kgprot  \n",
       "year                                                                  \n",
       "2017    223.198309           19.267476  2.470067e+11    1.091565e+09  \n",
       "\n",
       "[1 rows x 27 columns]"
      ]
     },
     "execution_count": 479,
     "metadata": {},
     "output_type": "execute_result"
    }
   ],
   "source": [
    "# Calculating the total global of all origin vegetables\n",
    "global_food_total_supply = vegetables_data.groupby('year').sum()\n",
    "\n",
    "global_food_total_supply"
   ]
  },
  {
   "cell_type": "code",
   "execution_count": 480,
   "metadata": {
    "pycharm": {
     "name": "#%%\n"
    }
   },
   "outputs": [
    {
     "data": {
      "text/html": [
       "<div>\n",
       "<style scoped>\n",
       "    .dataframe tbody tr th:only-of-type {\n",
       "        vertical-align: middle;\n",
       "    }\n",
       "\n",
       "    .dataframe tbody tr th {\n",
       "        vertical-align: top;\n",
       "    }\n",
       "\n",
       "    .dataframe thead th {\n",
       "        text-align: right;\n",
       "    }\n",
       "</style>\n",
       "<table border=\"1\" class=\"dataframe\">\n",
       "  <thead>\n",
       "    <tr style=\"text-align: right;\">\n",
       "      <th></th>\n",
       "      <th>food</th>\n",
       "      <th>feed</th>\n",
       "      <th>losses</th>\n",
       "      <th>other_uses_non-food</th>\n",
       "    </tr>\n",
       "    <tr>\n",
       "      <th>year</th>\n",
       "      <th></th>\n",
       "      <th></th>\n",
       "      <th></th>\n",
       "      <th></th>\n",
       "    </tr>\n",
       "  </thead>\n",
       "  <tbody>\n",
       "    <tr>\n",
       "      <th>2017</th>\n",
       "      <td>0.048439</td>\n",
       "      <td>0.004211</td>\n",
       "      <td>2.897833</td>\n",
       "      <td>0.108004</td>\n",
       "    </tr>\n",
       "  </tbody>\n",
       "</table>\n",
       "</div>"
      ],
      "text/plain": [
       "          food      feed    losses  other_uses_non-food\n",
       "year                                                   \n",
       "2017  0.048439  0.004211  2.897833             0.108004"
      ]
     },
     "execution_count": 480,
     "metadata": {},
     "output_type": "execute_result"
    }
   ],
   "source": [
    "# divide food, feed, losses, other_uses_non-food by domestic_supply_quantity to get ist global supply proportions.\n",
    "global_food_total_supply[['food','feed', 'losses', 'other_uses_non-food']]  / global_food_total_supply.domestic_supply_quantity.iloc[0]"
   ]
  },
  {
   "cell_type": "markdown",
   "metadata": {},
   "source": [
    "**2. How many humans on earth could be fed if all the plant-based food supply (crops),\n",
    "including food and feed, was used for human consumption? Give the results in terms of calories, and protein.\n",
    "Express these two results as a percentage of the world's population.**\n"
   ]
  },
  {
   "cell_type": "code",
   "execution_count": 481,
   "metadata": {
    "pycharm": {
     "name": "#%%\n"
    }
   },
   "outputs": [],
   "source": [
    "# Daily kcal, protein recommend Per capita and global average weight\n",
    "# according to Wikipedia https://en.wikipedia.org/wiki/Human_body_weight.\n",
    "NB_KCAL_PER_CAPITA_PER_DAY = 2500\n",
    "KG_PROT_PER_CAPITA_PER_DAY = 62 * .0009"
   ]
  },
  {
   "cell_type": "code",
   "execution_count": 482,
   "metadata": {
    "pycharm": {
     "name": "#%%\n"
    }
   },
   "outputs": [],
   "source": [
    "# Calculating food_feed_kcal using it unit 10^6 extracting its kcal value from ration kcal kg.\n",
    "# Calculating food_feed_kgprot using it unit 10^6 extracting its kg value from protein percentage removing its percentage  0.1.\n",
    "data[\"food_feed_kcal\"] = vegetables_data[[\"food\",\"feed\"]].sum(axis=1) * 1000000 * vegetables_data[\"ratio_kcalkg\"]\n",
    "data[\"food_feed_kgprot\"] = vegetables_data[[\"food\",\"feed\"]].sum(axis=1) * 1000000 * vegetables_data[\"protein_percentage\"] * .01"
   ]
  },
  {
   "cell_type": "code",
   "execution_count": 483,
   "metadata": {
    "pycharm": {
     "name": "#%%\n"
    }
   },
   "outputs": [
    {
     "data": {
      "text/plain": [
       "year\n",
       "2017    7.934313e+08\n",
       "Name: food_feed_kcal, dtype: float64"
      ]
     },
     "execution_count": 483,
     "metadata": {},
     "output_type": "execute_result"
    }
   ],
   "source": [
    "# Calculating food_feed_kcal sum\n",
    "ff_kcal = data.groupby(\"year\")[\"food_feed_kcal\"].sum()\n",
    "ff_kcal"
   ]
  },
  {
   "cell_type": "code",
   "execution_count": 484,
   "metadata": {
    "pycharm": {
     "name": "#%%\n"
    }
   },
   "outputs": [
    {
     "data": {
      "text/plain": [
       "year\n",
       "2017    647913.383106\n",
       "Name: food_feed_kgprot, dtype: float64"
      ]
     },
     "execution_count": 484,
     "metadata": {},
     "output_type": "execute_result"
    }
   ],
   "source": [
    "#Calculating food_feed_kgprot sum\n",
    "ff_kgprot = data.groupby(\"year\")[\"food_feed_kgprot\"].sum()\n",
    "ff_kgprot"
   ]
  },
  {
   "cell_type": "code",
   "execution_count": 485,
   "metadata": {
    "pycharm": {
     "name": "#%%\n"
    }
   },
   "outputs": [
    {
     "data": {
      "text/html": [
       "<div>\n",
       "<style scoped>\n",
       "    .dataframe tbody tr th:only-of-type {\n",
       "        vertical-align: middle;\n",
       "    }\n",
       "\n",
       "    .dataframe tbody tr th {\n",
       "        vertical-align: top;\n",
       "    }\n",
       "\n",
       "    .dataframe thead th {\n",
       "        text-align: right;\n",
       "    }\n",
       "</style>\n",
       "<table border=\"1\" class=\"dataframe\">\n",
       "  <thead>\n",
       "    <tr style=\"text-align: right;\">\n",
       "      <th></th>\n",
       "      <th>energy_ng_feed</th>\n",
       "      <th>proteins_nb_feed</th>\n",
       "      <th>energy_ng_feed_percentage</th>\n",
       "      <th>proteins_nb_feed_percentage</th>\n",
       "    </tr>\n",
       "    <tr>\n",
       "      <th>year</th>\n",
       "      <th></th>\n",
       "      <th></th>\n",
       "      <th></th>\n",
       "      <th></th>\n",
       "    </tr>\n",
       "  </thead>\n",
       "  <tbody>\n",
       "    <tr>\n",
       "      <th>2017</th>\n",
       "      <td>869.513783</td>\n",
       "      <td>31811.920416</td>\n",
       "      <td>340.0</td>\n",
       "      <td>12455.0</td>\n",
       "    </tr>\n",
       "  </tbody>\n",
       "</table>\n",
       "</div>"
      ],
      "text/plain": [
       "      energy_ng_feed  proteins_nb_feed  energy_ng_feed_percentage  \\\n",
       "year                                                                \n",
       "2017      869.513783      31811.920416                      340.0   \n",
       "\n",
       "      proteins_nb_feed_percentage  \n",
       "year                               \n",
       "2017                      12455.0  "
      ]
     },
     "execution_count": 485,
     "metadata": {},
     "output_type": "execute_result"
    }
   ],
   "source": [
    "# Creating food feed quantities in oder calculating its humans nutrients recommend values.\n",
    "ff_quantities = pd.DataFrame({'ffKcal': ff_kcal, 'ffKgprot': ff_kgprot})\n",
    "# Recommended food and feed per capita\n",
    "temp = ff_quantities / [NB_KCAL_PER_CAPITA_PER_DAY, KG_PROT_PER_CAPITA_PER_DAY] / 365\n",
    "temp.columns = ['energy_ng_feed', 'proteins_nb_feed']\n",
    "\n",
    "# Calculating the percentage of Engine and Protein need for the global population .\n",
    "temp['energy_ng_feed_percentage'] = round(100 * temp['energy_ng_feed'] / WORLD_POPULATION.iloc[0])\n",
    "temp['proteins_nb_feed_percentage'] = round(100 * temp['proteins_nb_feed'] / WORLD_POPULATION.iloc[0])\n",
    "temp"
   ]
  },
  {
   "cell_type": "markdown",
   "metadata": {},
   "source": [
    "**3. How many humans could be fed with the global food supply? Give the results in terms of calories and protein.\n",
    "Express these two results as a percentage of the world's population.**"
   ]
  },
  {
   "cell_type": "code",
   "execution_count": 486,
   "metadata": {
    "pycharm": {
     "name": "#%%\n"
    }
   },
   "outputs": [],
   "source": [
    "#Calculating totalFoodSupplyKcal and food_supply_kgprotein sum\n",
    "total_food_supply_kcal = data.groupby('year')['food_supply_kcal'].sum()\n",
    "total_food_supply_proteins = data.groupby('year')['food_supply_kgprotein'].sum()\n",
    "\n",
    "# Creating food feed quantities in oder calculating its humans nutrients recommend values.\n",
    "fs_quantities = pd.DataFrame({'totalFoodSupplyKcal': total_food_supply_kcal, 'totalFoodSupplyProteins': total_food_supply_proteins})"
   ]
  },
  {
   "cell_type": "code",
   "execution_count": 487,
   "metadata": {
    "pycharm": {
     "name": "#%%\n"
    }
   },
   "outputs": [
    {
     "data": {
      "text/html": [
       "<div>\n",
       "<style scoped>\n",
       "    .dataframe tbody tr th:only-of-type {\n",
       "        vertical-align: middle;\n",
       "    }\n",
       "\n",
       "    .dataframe tbody tr th {\n",
       "        vertical-align: top;\n",
       "    }\n",
       "\n",
       "    .dataframe thead th {\n",
       "        text-align: right;\n",
       "    }\n",
       "</style>\n",
       "<table border=\"1\" class=\"dataframe\">\n",
       "  <thead>\n",
       "    <tr style=\"text-align: right;\">\n",
       "      <th></th>\n",
       "      <th>energy_ng_feed</th>\n",
       "      <th>proteins_nb_feed</th>\n",
       "      <th>energy_ng_feed_percentage</th>\n",
       "      <th>proteins_nb_feed_percentage</th>\n",
       "    </tr>\n",
       "    <tr>\n",
       "      <th>year</th>\n",
       "      <th></th>\n",
       "      <th></th>\n",
       "      <th></th>\n",
       "      <th></th>\n",
       "    </tr>\n",
       "  </thead>\n",
       "  <tbody>\n",
       "    <tr>\n",
       "      <th>2017</th>\n",
       "      <td>902.18076</td>\n",
       "      <td>35519.408781</td>\n",
       "      <td>353.0</td>\n",
       "      <td>13907.0</td>\n",
       "    </tr>\n",
       "  </tbody>\n",
       "</table>\n",
       "</div>"
      ],
      "text/plain": [
       "      energy_ng_feed  proteins_nb_feed  energy_ng_feed_percentage  \\\n",
       "year                                                                \n",
       "2017       902.18076      35519.408781                      353.0   \n",
       "\n",
       "      proteins_nb_feed_percentage  \n",
       "year                               \n",
       "2017                      13907.0  "
      ]
     },
     "execution_count": 487,
     "metadata": {},
     "output_type": "execute_result"
    }
   ],
   "source": [
    "temp = fs_quantities / [NB_KCAL_PER_CAPITA_PER_DAY, KG_PROT_PER_CAPITA_PER_DAY] / 365\n",
    "temp.columns = ['energy_ng_feed', 'proteins_nb_feed']\n",
    "\n",
    "# Calculating the percentage of Engine and Protein need for the global population . use the population from pop\n",
    "temp['energy_ng_feed_percentage'] = round(100 * temp['energy_ng_feed'] / WORLD_POPULATION.iloc[0])\n",
    "temp['proteins_nb_feed_percentage'] = round(100 * temp['proteins_nb_feed'] / WORLD_POPULATION.iloc[0])\n",
    "\n",
    "temp"
   ]
  },
  {
   "cell_type": "markdown",
   "metadata": {},
   "source": [
    "**4. From the collected data on undernutrition, what proportion of the world's population is considered undernourished?**"
   ]
  },
  {
   "cell_type": "code",
   "execution_count": 488,
   "metadata": {
    "pycharm": {
     "name": "#%%\n"
    }
   },
   "outputs": [
    {
     "data": {
      "text/plain": [
       "1043694452.0"
      ]
     },
     "execution_count": 488,
     "metadata": {},
     "output_type": "execute_result"
    }
   ],
   "source": [
    "# Calculating the total global undernourished based on its unit 10^6.\n",
    "global_undernourished = data_undernourished.value.values.sum() * np.power(10,6)\n",
    "\n",
    "# Calculating the percentage of the global undernourished.\n",
    "global_undernourished_proportion = round(100 * global_undernourished / WORLD_POPULATION.iloc[0])\n",
    "global_undernourished_proportion"
   ]
  },
  {
   "cell_type": "markdown",
   "metadata": {},
   "source": [
    "**5. Considering the 25 items most exported by the countries with a high rate of undernutrition, which three of them:**\n",
    "    * Have the greatest other_uses to domestic_supply_quantity ratio and what are they used for?\n",
    "    * Have the greatest feed to (food+feed) ratio and what are they used for?\n"
   ]
  },
  {
   "cell_type": "code",
   "execution_count": 489,
   "metadata": {
    "pycharm": {
     "name": "#%%\n"
    }
   },
   "outputs": [
    {
     "data": {
      "text/html": [
       "<div>\n",
       "<style scoped>\n",
       "    .dataframe tbody tr th:only-of-type {\n",
       "        vertical-align: middle;\n",
       "    }\n",
       "\n",
       "    .dataframe tbody tr th {\n",
       "        vertical-align: top;\n",
       "    }\n",
       "\n",
       "    .dataframe thead th {\n",
       "        text-align: right;\n",
       "    }\n",
       "</style>\n",
       "<table border=\"1\" class=\"dataframe\">\n",
       "  <thead>\n",
       "    <tr style=\"text-align: right;\">\n",
       "      <th></th>\n",
       "      <th></th>\n",
       "      <th>index</th>\n",
       "      <th>country_code</th>\n",
       "      <th>year</th>\n",
       "      <th>production</th>\n",
       "      <th>import_quantity</th>\n",
       "      <th>stock_variation</th>\n",
       "      <th>domestic_supply_quantity</th>\n",
       "      <th>losses</th>\n",
       "      <th>residuals</th>\n",
       "      <th>food</th>\n",
       "      <th>...</th>\n",
       "      <th>food_supply_kcal</th>\n",
       "      <th>food_supply_kgprotein</th>\n",
       "      <th>food_supply_kg</th>\n",
       "      <th>ratio_kcalkg</th>\n",
       "      <th>protein_percentage</th>\n",
       "      <th>dom_sup_kcal</th>\n",
       "      <th>dom_sup_kgprot</th>\n",
       "      <th>great_import_from_undern_countries</th>\n",
       "      <th>other_uses_%</th>\n",
       "      <th>feed_vs_food</th>\n",
       "    </tr>\n",
       "    <tr>\n",
       "      <th>item</th>\n",
       "      <th>item_code</th>\n",
       "      <th></th>\n",
       "      <th></th>\n",
       "      <th></th>\n",
       "      <th></th>\n",
       "      <th></th>\n",
       "      <th></th>\n",
       "      <th></th>\n",
       "      <th></th>\n",
       "      <th></th>\n",
       "      <th></th>\n",
       "      <th></th>\n",
       "      <th></th>\n",
       "      <th></th>\n",
       "      <th></th>\n",
       "      <th></th>\n",
       "      <th></th>\n",
       "      <th></th>\n",
       "      <th></th>\n",
       "      <th></th>\n",
       "      <th></th>\n",
       "      <th></th>\n",
       "    </tr>\n",
       "  </thead>\n",
       "  <tbody>\n",
       "  </tbody>\n",
       "</table>\n",
       "<p>0 rows × 31 columns</p>\n",
       "</div>"
      ],
      "text/plain": [
       "Empty DataFrame\n",
       "Columns: [index, country_code, year, production, import_quantity, stock_variation, domestic_supply_quantity, losses, residuals, food, food_supply_quantity_kg_capita_yr, food_supply_kcal_capita_day, protein_supply_quantity_g_capita_day, fat_supply_quantity_g_capita_day, export_quantity, feed, seed, other_uses_non-food, processing, tourist_consumption, population, food_supply_kcal, food_supply_kgprotein, food_supply_kg, ratio_kcalkg, protein_percentage, dom_sup_kcal, dom_sup_kgprot, great_import_from_undern_countries, other_uses_%, feed_vs_food]\n",
       "Index: []\n",
       "\n",
       "[0 rows x 31 columns]"
      ]
     },
     "execution_count": 489,
     "metadata": {},
     "output_type": "execute_result"
    }
   ],
   "source": [
    "# Calculating the total of the most imported products.\n",
    "imp = imp.groupby(['item', 'item_code']).sum()\n",
    "# Calculating the proportion of the most imported products in the other uses food, feed vs food related to domestic supply quantity.\n",
    "safe_mask_div = imp['domestic_supply_quantity'] != 0\n",
    "imp['other_uses_%'] = imp.loc[ safe_mask_div, 'other_uses_non-food'] / imp.loc[safe_mask_div, 'domestic_supply_quantity']\n",
    "\n",
    "# Calculating the proportion of the most imported products based on the sum of feed and food related to feed.\n",
    "imp['feed_vs_food'] = imp['feed'] / (imp['feed'] + imp['food'])\n",
    "\n",
    "# Top 3 other uses percentage.\n",
    "imp.sort_values('other_uses_%', ascending = False).iloc[:3]"
   ]
  },
  {
   "cell_type": "code",
   "execution_count": 490,
   "metadata": {
    "pycharm": {
     "name": "#%%\n"
    }
   },
   "outputs": [
    {
     "data": {
      "text/html": [
       "<div>\n",
       "<style scoped>\n",
       "    .dataframe tbody tr th:only-of-type {\n",
       "        vertical-align: middle;\n",
       "    }\n",
       "\n",
       "    .dataframe tbody tr th {\n",
       "        vertical-align: top;\n",
       "    }\n",
       "\n",
       "    .dataframe thead th {\n",
       "        text-align: right;\n",
       "    }\n",
       "</style>\n",
       "<table border=\"1\" class=\"dataframe\">\n",
       "  <thead>\n",
       "    <tr style=\"text-align: right;\">\n",
       "      <th></th>\n",
       "      <th></th>\n",
       "      <th>index</th>\n",
       "      <th>country_code</th>\n",
       "      <th>year</th>\n",
       "      <th>production</th>\n",
       "      <th>import_quantity</th>\n",
       "      <th>stock_variation</th>\n",
       "      <th>domestic_supply_quantity</th>\n",
       "      <th>losses</th>\n",
       "      <th>residuals</th>\n",
       "      <th>food</th>\n",
       "      <th>...</th>\n",
       "      <th>food_supply_kcal</th>\n",
       "      <th>food_supply_kgprotein</th>\n",
       "      <th>food_supply_kg</th>\n",
       "      <th>ratio_kcalkg</th>\n",
       "      <th>protein_percentage</th>\n",
       "      <th>dom_sup_kcal</th>\n",
       "      <th>dom_sup_kgprot</th>\n",
       "      <th>great_import_from_undern_countries</th>\n",
       "      <th>other_uses_%</th>\n",
       "      <th>feed_vs_food</th>\n",
       "    </tr>\n",
       "    <tr>\n",
       "      <th>item</th>\n",
       "      <th>item_code</th>\n",
       "      <th></th>\n",
       "      <th></th>\n",
       "      <th></th>\n",
       "      <th></th>\n",
       "      <th></th>\n",
       "      <th></th>\n",
       "      <th></th>\n",
       "      <th></th>\n",
       "      <th></th>\n",
       "      <th></th>\n",
       "      <th></th>\n",
       "      <th></th>\n",
       "      <th></th>\n",
       "      <th></th>\n",
       "      <th></th>\n",
       "      <th></th>\n",
       "      <th></th>\n",
       "      <th></th>\n",
       "      <th></th>\n",
       "      <th></th>\n",
       "      <th></th>\n",
       "    </tr>\n",
       "  </thead>\n",
       "  <tbody>\n",
       "  </tbody>\n",
       "</table>\n",
       "<p>0 rows × 31 columns</p>\n",
       "</div>"
      ],
      "text/plain": [
       "Empty DataFrame\n",
       "Columns: [index, country_code, year, production, import_quantity, stock_variation, domestic_supply_quantity, losses, residuals, food, food_supply_quantity_kg_capita_yr, food_supply_kcal_capita_day, protein_supply_quantity_g_capita_day, fat_supply_quantity_g_capita_day, export_quantity, feed, seed, other_uses_non-food, processing, tourist_consumption, population, food_supply_kcal, food_supply_kgprotein, food_supply_kg, ratio_kcalkg, protein_percentage, dom_sup_kcal, dom_sup_kgprot, great_import_from_undern_countries, other_uses_%, feed_vs_food]\n",
       "Index: []\n",
       "\n",
       "[0 rows x 31 columns]"
      ]
     },
     "execution_count": 490,
     "metadata": {},
     "output_type": "execute_result"
    }
   ],
   "source": [
    "# Top 3 feed vs food percentage.\n",
    "imp.sort_values('feed_vs_food', ascending = False).iloc[:3]"
   ]
  },
  {
   "cell_type": "markdown",
   "metadata": {},
   "source": [
    "**6. Taking only grains (cereals) for food and feed into account, what proportion (in terms of weight) is used for feed?**"
   ]
  },
  {
   "cell_type": "code",
   "execution_count": 491,
   "metadata": {
    "pycharm": {
     "name": "#%%\n"
    }
   },
   "outputs": [],
   "source": [
    "#Feed_proportion = vegetables_data[ data_crops.item ].feed / vegetables_data[ data_crops.item ].feed + vegetables_data[ data_crops.item  ].food\n",
    "\n",
    "# Creating only cereal columns on the all food and animal data set.\n",
    "data['only_cereal'] = data.item_code.isin(data_crops.item_code.unique())\n",
    "\n",
    "total_cereal_food = data.loc[data.only_cereal, 'food'].sum()\n",
    "total_cereal_feed = data.loc[data.only_cereal, 'feed'].sum()"
   ]
  },
  {
   "cell_type": "code",
   "execution_count": 492,
   "metadata": {
    "pycharm": {
     "name": "#%%\n"
    }
   },
   "outputs": [
    {
     "data": {
      "text/plain": [
       "17.0"
      ]
     },
     "execution_count": 492,
     "metadata": {},
     "output_type": "execute_result"
    }
   ],
   "source": [
    "# Calculating feed vs food percentage.\n",
    "round(100 * total_cereal_feed / (total_cereal_feed + total_cereal_food))"
   ]
  },
  {
   "cell_type": "markdown",
   "metadata": {},
   "source": [
    "**7. How many tons of grains (cereals) could be released if the US reduced its production of animal products by 10%?\n",
    "Convert this quantity to kcal, and the number of potentially fed humans.**\n"
   ]
  },
  {
   "cell_type": "code",
   "execution_count": 493,
   "metadata": {
    "pycharm": {
     "name": "#%%\n"
    }
   },
   "outputs": [
    {
     "data": {
      "text/plain": [
       "year\n",
       "2017    268300.0\n",
       "Name: value, dtype: float64"
      ]
     },
     "execution_count": 493,
     "metadata": {},
     "output_type": "execute_result"
    }
   ],
   "source": [
    "# Creating USA animal data set.\n",
    "Us_animals_data = data_animals[ data_animals.country_code == 231 ]\n",
    "\n",
    "# Calculating the total USA animal feed percentage.\n",
    "Us_animal_production =   Us_animals_data[Us_animals_data.element == 'Feed'].groupby('year')['value'].sum() * 1000 * 0.1\n",
    "Us_animal_production"
   ]
  },
  {
   "cell_type": "code",
   "execution_count": 494,
   "metadata": {
    "pycharm": {
     "name": "#%%\n"
    }
   },
   "outputs": [
    {
     "data": {
      "text/plain": [
       "year\n",
       "2017    6.384287e+07\n",
       "dtype: float64"
      ]
     },
     "execution_count": 494,
     "metadata": {},
     "output_type": "execute_result"
    }
   ],
   "source": [
    "# Creating the total USA animal ratio kcal production.\n",
    "Us_animal_production_kcal = Us_animal_production * data.groupby(['year'])['ratio_kcalkg'].sum() \n",
    "Us_animal_production_kcal"
   ]
  },
  {
   "cell_type": "code",
   "execution_count": 495,
   "metadata": {
    "pycharm": {
     "name": "#%%\n"
    }
   },
   "outputs": [
    {
     "data": {
      "text/plain": [
       "year\n",
       "2017    2.683000e+11\n",
       "Name: value, dtype: float64"
      ]
     },
     "execution_count": 495,
     "metadata": {},
     "output_type": "execute_result"
    }
   ],
   "source": [
    "# Creating the total USA animal ratio kg production.\n",
    "Us_animal_production_kg = Us_animal_production * np.power(10,6) \n",
    "Us_animal_production_kg"
   ]
  },
  {
   "cell_type": "markdown",
   "metadata": {},
   "source": [
    "**8. In Thailand, what proportion of cassava is exported? What is the proportion of undernutrition?**"
   ]
  },
  {
   "cell_type": "code",
   "execution_count": 496,
   "metadata": {
    "pycharm": {
     "name": "#%%\n"
    }
   },
   "outputs": [
    {
     "data": {
      "text/plain": [
       "13618    3.646027\n",
       "dtype: float64"
      ]
     },
     "execution_count": 496,
     "metadata": {},
     "output_type": "execute_result"
    }
   ],
   "source": [
    "# Creating Thailand vegetables data set.\n",
    "thai_vegetables_data = vegetables_data[vegetables_data.country.str.startswith('Thai')]\n",
    "\n",
    "# Filtering Cassava Products from Thailand vegetables.\n",
    "thai_cassava =  thai_vegetables_data[thai_vegetables_data.item.str.startswith('Cassava')]\n",
    "\n",
    "# Calculating the proportion of Cassava production export.\n",
    "thai_cassava_proportion =  thai_cassava.export_quantity / thai_cassava.production\n",
    "thai_cassava_proportion"
   ]
  },
  {
   "cell_type": "code",
   "execution_count": 497,
   "metadata": {
    "pycharm": {
     "name": "#%%\n"
    }
   },
   "outputs": [
    {
     "data": {
      "text/plain": [
       "151    2665.7\n",
       "Name: value, dtype: float64"
      ]
     },
     "execution_count": 497,
     "metadata": {},
     "output_type": "execute_result"
    }
   ],
   "source": [
    "# Calculating the proportion of thailand globally undernourished.\n",
    "thai_undernourished_proportion = data_undernourished.value.sum() + data_population[data_population.country_code == 216].value / global_undernourished\n",
    "thai_undernourished_proportion"
   ]
  },
  {
   "cell_type": "code",
   "execution_count": null,
   "metadata": {
    "pycharm": {
     "name": "#%%\n"
    }
   },
   "outputs": [],
   "source": []
  }
 ],
 "metadata": {
  "kernelspec": {
   "display_name": "Python 3",
   "language": "python",
   "name": "python3"
  },
  "language_info": {
   "codemirror_mode": {
    "name": "ipython",
    "version": 3
   },
   "file_extension": ".py",
   "mimetype": "text/x-python",
   "name": "python",
   "nbconvert_exporter": "python",
   "pygments_lexer": "ipython3",
   "version": "3.7.7"
  }
 },
 "nbformat": 4,
 "nbformat_minor": 1
}
