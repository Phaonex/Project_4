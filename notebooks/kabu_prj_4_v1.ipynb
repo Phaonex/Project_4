{
 "cells": [
  {
   "cell_type": "code",
   "execution_count": 92,
   "metadata": {
    "pycharm": {
     "name": "#%%\n"
    }
   },
   "outputs": [],
   "source": [
    "import pandas as pd\n",
    "import numpy as np\n",
    "#import seaborn as sn\n"
   ]
  },
  {
   "cell_type": "markdown",
   "metadata": {},
   "source": [
    "# Task 1 : Data Collection\n",
    "**importing data sets**"
   ]
  },
  {
   "cell_type": "code",
   "execution_count": 93,
   "metadata": {
    "pycharm": {
     "name": "#%%\n"
    }
   },
   "outputs": [],
   "source": [
    "data_crops = pd.read_csv('../data/new_FAO_methodology/FAOSTAT_data_cereals_8-24-2020-3.csv')\n",
    "data_vegetables = pd.read_csv('../data/new_FAO_methodology/FAOSTAT_data_vegetable_8-24-2020-5.csv')\n",
    "data_animals = pd.read_csv('../data/new_FAO_methodology/FAOSTAT_data_animal_8-24-2020.csv')\n",
    "data_population = pd.read_csv('../data/new_FAO_methodology/FAOSTAT_data_population_8-24-2020.csv')\n",
    "data_undernourished = pd.read_csv('../data/new_FAO_methodology/FAOSTAT_data_undernourished_8-24-2020-4.csv')"
   ]
  },
  {
   "cell_type": "markdown",
   "metadata": {},
   "source": [
    "## Analysis"
   ]
  },
  {
   "cell_type": "code",
   "execution_count": 94,
   "metadata": {
    "pycharm": {
     "name": "#%%\n"
    }
   },
   "outputs": [
    {
     "name": "stdout",
     "output_type": "stream",
     "text": [
      "<class 'pandas.core.frame.DataFrame'>\n",
      "RangeIndex: 9 entries, 0 to 8\n",
      "Data columns (total 12 columns):\n",
      " #   Column        Non-Null Count  Dtype \n",
      "---  ------        --------------  ----- \n",
      " 0   Domain Code   9 non-null      object\n",
      " 1   Domain        9 non-null      object\n",
      " 2   Area Code     9 non-null      int64 \n",
      " 3   Area          9 non-null      object\n",
      " 4   Element Code  9 non-null      int64 \n",
      " 5   Element       9 non-null      object\n",
      " 6   Item Code     9 non-null      int64 \n",
      " 7   Item          9 non-null      object\n",
      " 8   Year Code     9 non-null      int64 \n",
      " 9   Year          9 non-null      int64 \n",
      " 10  Unit          9 non-null      object\n",
      " 11  Value         9 non-null      int64 \n",
      "dtypes: int64(6), object(6)\n",
      "memory usage: 992.0+ bytes\n"
     ]
    }
   ],
   "source": [
    "data_crops.info()"
   ]
  },
  {
   "cell_type": "code",
   "execution_count": 95,
   "metadata": {
    "pycharm": {
     "name": "#%%\n"
    }
   },
   "outputs": [
    {
     "data": {
      "text/plain": "  Domain Code             Domain  Area Code   Area  Element Code     Element  \\\n0         FBS  New Food Balances       5000  World          5511  Production   \n1         FBS  New Food Balances       5000  World          5511  Production   \n2         FBS  New Food Balances       5000  World          5511  Production   \n3         FBS  New Food Balances       5000  World          5511  Production   \n4         FBS  New Food Balances       5000  World          5511  Production   \n\n   Item Code                 Item  Year Code  Year         Unit    Value  \n0       2511   Wheat and products       2017  2017  1000 tonnes   771775  \n1       2805    Rice and products       2017  2017  1000 tonnes   767558  \n2       2513  Barley and products       2017  2017  1000 tonnes   148111  \n3       2514   Maize and products       2017  2017  1000 tonnes  1161299  \n4       2515     Rye and products       2017  2017  1000 tonnes    13760  ",
      "text/html": "<div>\n<style scoped>\n    .dataframe tbody tr th:only-of-type {\n        vertical-align: middle;\n    }\n\n    .dataframe tbody tr th {\n        vertical-align: top;\n    }\n\n    .dataframe thead th {\n        text-align: right;\n    }\n</style>\n<table border=\"1\" class=\"dataframe\">\n  <thead>\n    <tr style=\"text-align: right;\">\n      <th></th>\n      <th>Domain Code</th>\n      <th>Domain</th>\n      <th>Area Code</th>\n      <th>Area</th>\n      <th>Element Code</th>\n      <th>Element</th>\n      <th>Item Code</th>\n      <th>Item</th>\n      <th>Year Code</th>\n      <th>Year</th>\n      <th>Unit</th>\n      <th>Value</th>\n    </tr>\n  </thead>\n  <tbody>\n    <tr>\n      <th>0</th>\n      <td>FBS</td>\n      <td>New Food Balances</td>\n      <td>5000</td>\n      <td>World</td>\n      <td>5511</td>\n      <td>Production</td>\n      <td>2511</td>\n      <td>Wheat and products</td>\n      <td>2017</td>\n      <td>2017</td>\n      <td>1000 tonnes</td>\n      <td>771775</td>\n    </tr>\n    <tr>\n      <th>1</th>\n      <td>FBS</td>\n      <td>New Food Balances</td>\n      <td>5000</td>\n      <td>World</td>\n      <td>5511</td>\n      <td>Production</td>\n      <td>2805</td>\n      <td>Rice and products</td>\n      <td>2017</td>\n      <td>2017</td>\n      <td>1000 tonnes</td>\n      <td>767558</td>\n    </tr>\n    <tr>\n      <th>2</th>\n      <td>FBS</td>\n      <td>New Food Balances</td>\n      <td>5000</td>\n      <td>World</td>\n      <td>5511</td>\n      <td>Production</td>\n      <td>2513</td>\n      <td>Barley and products</td>\n      <td>2017</td>\n      <td>2017</td>\n      <td>1000 tonnes</td>\n      <td>148111</td>\n    </tr>\n    <tr>\n      <th>3</th>\n      <td>FBS</td>\n      <td>New Food Balances</td>\n      <td>5000</td>\n      <td>World</td>\n      <td>5511</td>\n      <td>Production</td>\n      <td>2514</td>\n      <td>Maize and products</td>\n      <td>2017</td>\n      <td>2017</td>\n      <td>1000 tonnes</td>\n      <td>1161299</td>\n    </tr>\n    <tr>\n      <th>4</th>\n      <td>FBS</td>\n      <td>New Food Balances</td>\n      <td>5000</td>\n      <td>World</td>\n      <td>5511</td>\n      <td>Production</td>\n      <td>2515</td>\n      <td>Rye and products</td>\n      <td>2017</td>\n      <td>2017</td>\n      <td>1000 tonnes</td>\n      <td>13760</td>\n    </tr>\n  </tbody>\n</table>\n</div>"
     },
     "execution_count": 95,
     "metadata": {},
     "output_type": "execute_result"
    }
   ],
   "source": [
    "data_crops.head()"
   ]
  },
  {
   "cell_type": "code",
   "execution_count": 96,
   "metadata": {
    "pycharm": {
     "name": "#%%\n"
    }
   },
   "outputs": [
    {
     "data": {
      "text/plain": "  Domain Code             Domain  Area Code   Area  Element Code     Element  \\\n4         FBS  New Food Balances       5000  World          5511  Production   \n5         FBS  New Food Balances       5000  World          5511  Production   \n6         FBS  New Food Balances       5000  World          5511  Production   \n7         FBS  New Food Balances       5000  World          5511  Production   \n8         FBS  New Food Balances       5000  World          5511  Production   \n\n   Item Code                  Item  Year Code  Year         Unit  Value  \n4       2515      Rye and products       2017  2017  1000 tonnes  13760  \n5       2516                  Oats       2017  2017  1000 tonnes  26158  \n6       2517   Millet and products       2017  2017  1000 tonnes  28452  \n7       2518  Sorghum and products       2017  2017  1000 tonnes  56610  \n8       2520        Cereals, Other       2017  2017  1000 tonnes  32443  ",
      "text/html": "<div>\n<style scoped>\n    .dataframe tbody tr th:only-of-type {\n        vertical-align: middle;\n    }\n\n    .dataframe tbody tr th {\n        vertical-align: top;\n    }\n\n    .dataframe thead th {\n        text-align: right;\n    }\n</style>\n<table border=\"1\" class=\"dataframe\">\n  <thead>\n    <tr style=\"text-align: right;\">\n      <th></th>\n      <th>Domain Code</th>\n      <th>Domain</th>\n      <th>Area Code</th>\n      <th>Area</th>\n      <th>Element Code</th>\n      <th>Element</th>\n      <th>Item Code</th>\n      <th>Item</th>\n      <th>Year Code</th>\n      <th>Year</th>\n      <th>Unit</th>\n      <th>Value</th>\n    </tr>\n  </thead>\n  <tbody>\n    <tr>\n      <th>4</th>\n      <td>FBS</td>\n      <td>New Food Balances</td>\n      <td>5000</td>\n      <td>World</td>\n      <td>5511</td>\n      <td>Production</td>\n      <td>2515</td>\n      <td>Rye and products</td>\n      <td>2017</td>\n      <td>2017</td>\n      <td>1000 tonnes</td>\n      <td>13760</td>\n    </tr>\n    <tr>\n      <th>5</th>\n      <td>FBS</td>\n      <td>New Food Balances</td>\n      <td>5000</td>\n      <td>World</td>\n      <td>5511</td>\n      <td>Production</td>\n      <td>2516</td>\n      <td>Oats</td>\n      <td>2017</td>\n      <td>2017</td>\n      <td>1000 tonnes</td>\n      <td>26158</td>\n    </tr>\n    <tr>\n      <th>6</th>\n      <td>FBS</td>\n      <td>New Food Balances</td>\n      <td>5000</td>\n      <td>World</td>\n      <td>5511</td>\n      <td>Production</td>\n      <td>2517</td>\n      <td>Millet and products</td>\n      <td>2017</td>\n      <td>2017</td>\n      <td>1000 tonnes</td>\n      <td>28452</td>\n    </tr>\n    <tr>\n      <th>7</th>\n      <td>FBS</td>\n      <td>New Food Balances</td>\n      <td>5000</td>\n      <td>World</td>\n      <td>5511</td>\n      <td>Production</td>\n      <td>2518</td>\n      <td>Sorghum and products</td>\n      <td>2017</td>\n      <td>2017</td>\n      <td>1000 tonnes</td>\n      <td>56610</td>\n    </tr>\n    <tr>\n      <th>8</th>\n      <td>FBS</td>\n      <td>New Food Balances</td>\n      <td>5000</td>\n      <td>World</td>\n      <td>5511</td>\n      <td>Production</td>\n      <td>2520</td>\n      <td>Cereals, Other</td>\n      <td>2017</td>\n      <td>2017</td>\n      <td>1000 tonnes</td>\n      <td>32443</td>\n    </tr>\n  </tbody>\n</table>\n</div>"
     },
     "execution_count": 96,
     "metadata": {},
     "output_type": "execute_result"
    }
   ],
   "source": [
    "data_crops.tail()"
   ]
  },
  {
   "cell_type": "code",
   "execution_count": 97,
   "metadata": {
    "pycharm": {
     "name": "#%%\n"
    }
   },
   "outputs": [
    {
     "name": "stdout",
     "output_type": "stream",
     "text": [
      "Crops has only one element: ['Production']\n"
     ]
    }
   ],
   "source": [
    "print( 'Crops has only one element:', data_crops.Element.unique())"
   ]
  },
  {
   "cell_type": "code",
   "execution_count": 98,
   "metadata": {
    "pycharm": {
     "name": "#%%\n"
    }
   },
   "outputs": [
    {
     "name": "stdout",
     "output_type": "stream",
     "text": [
      "All items: ['Wheat and products' 'Rice and products' 'Barley and products'\n",
      " 'Maize and products' 'Rye and products' 'Oats' 'Millet and products'\n",
      " 'Sorghum and products' 'Cereals, Other']\n"
     ]
    }
   ],
   "source": [
    "print('All items:', data_crops.Item.unique())\n",
    "\n"
   ]
  },
  {
   "cell_type": "code",
   "execution_count": 99,
   "metadata": {
    "pycharm": {
     "name": "#%%\n"
    }
   },
   "outputs": [
    {
     "name": "stdout",
     "output_type": "stream",
     "text": [
      "Number of items: 9\n"
     ]
    }
   ],
   "source": [
    "print('Number of items:', len(data_crops.Item.unique()))"
   ]
  },
  {
   "cell_type": "code",
   "execution_count": 100,
   "metadata": {
    "pycharm": {
     "name": "#%%\n"
    }
   },
   "outputs": [
    {
     "name": "stdout",
     "output_type": "stream",
     "text": [
      "Area or country aggregate World + Total: ['World']\n"
     ]
    }
   ],
   "source": [
    "print('Area or country aggregate World + Total:', data_crops.Area.unique())"
   ]
  },
  {
   "cell_type": "code",
   "execution_count": 101,
   "metadata": {
    "pycharm": {
     "name": "#%%\n"
    }
   },
   "outputs": [
    {
     "name": "stdout",
     "output_type": "stream",
     "text": [
      "Years: [2017]\n"
     ]
    }
   ],
   "source": [
    "print('Years:', data_crops.Year.unique())"
   ]
  },
  {
   "cell_type": "code",
   "execution_count": 102,
   "metadata": {
    "pycharm": {
     "name": "#%%\n"
    }
   },
   "outputs": [
    {
     "name": "stdout",
     "output_type": "stream",
     "text": [
      "<class 'pandas.core.frame.DataFrame'>\n",
      "RangeIndex: 137007 entries, 0 to 137006\n",
      "Data columns (total 12 columns):\n",
      " #   Column        Non-Null Count   Dtype  \n",
      "---  ------        --------------   -----  \n",
      " 0   Domain Code   137007 non-null  object \n",
      " 1   Domain        137007 non-null  object \n",
      " 2   Area Code     137007 non-null  int64  \n",
      " 3   Area          137007 non-null  object \n",
      " 4   Element Code  137007 non-null  int64  \n",
      " 5   Element       137007 non-null  object \n",
      " 6   Item Code     137007 non-null  int64  \n",
      " 7   Item          137007 non-null  object \n",
      " 8   Year Code     137007 non-null  int64  \n",
      " 9   Year          137007 non-null  int64  \n",
      " 10  Unit          137007 non-null  object \n",
      " 11  Value         137007 non-null  float64\n",
      "dtypes: float64(1), int64(5), object(6)\n",
      "memory usage: 12.5+ MB\n"
     ]
    }
   ],
   "source": [
    "data_vegetables.info()"
   ]
  },
  {
   "cell_type": "code",
   "execution_count": 103,
   "metadata": {
    "pycharm": {
     "name": "#%%\n"
    }
   },
   "outputs": [
    {
     "data": {
      "text/plain": "  Domain Code             Domain  Area Code         Area  Element Code  \\\n0         FBS  New Food Balances          2  Afghanistan          5511   \n1         FBS  New Food Balances          2  Afghanistan          5611   \n2         FBS  New Food Balances          2  Afghanistan          5072   \n3         FBS  New Food Balances          2  Afghanistan          5911   \n4         FBS  New Food Balances          2  Afghanistan          5301   \n\n                    Element  Item Code                Item  Year Code  Year  \\\n0                Production       2511  Wheat and products       2017  2017   \n1           Import Quantity       2511  Wheat and products       2017  2017   \n2           Stock Variation       2511  Wheat and products       2017  2017   \n3           Export Quantity       2511  Wheat and products       2017  2017   \n4  Domestic supply quantity       2511  Wheat and products       2017  2017   \n\n          Unit   Value  \n0  1000 tonnes  4281.0  \n1  1000 tonnes  2302.0  \n2  1000 tonnes  -119.0  \n3  1000 tonnes     0.0  \n4  1000 tonnes  6701.0  ",
      "text/html": "<div>\n<style scoped>\n    .dataframe tbody tr th:only-of-type {\n        vertical-align: middle;\n    }\n\n    .dataframe tbody tr th {\n        vertical-align: top;\n    }\n\n    .dataframe thead th {\n        text-align: right;\n    }\n</style>\n<table border=\"1\" class=\"dataframe\">\n  <thead>\n    <tr style=\"text-align: right;\">\n      <th></th>\n      <th>Domain Code</th>\n      <th>Domain</th>\n      <th>Area Code</th>\n      <th>Area</th>\n      <th>Element Code</th>\n      <th>Element</th>\n      <th>Item Code</th>\n      <th>Item</th>\n      <th>Year Code</th>\n      <th>Year</th>\n      <th>Unit</th>\n      <th>Value</th>\n    </tr>\n  </thead>\n  <tbody>\n    <tr>\n      <th>0</th>\n      <td>FBS</td>\n      <td>New Food Balances</td>\n      <td>2</td>\n      <td>Afghanistan</td>\n      <td>5511</td>\n      <td>Production</td>\n      <td>2511</td>\n      <td>Wheat and products</td>\n      <td>2017</td>\n      <td>2017</td>\n      <td>1000 tonnes</td>\n      <td>4281.0</td>\n    </tr>\n    <tr>\n      <th>1</th>\n      <td>FBS</td>\n      <td>New Food Balances</td>\n      <td>2</td>\n      <td>Afghanistan</td>\n      <td>5611</td>\n      <td>Import Quantity</td>\n      <td>2511</td>\n      <td>Wheat and products</td>\n      <td>2017</td>\n      <td>2017</td>\n      <td>1000 tonnes</td>\n      <td>2302.0</td>\n    </tr>\n    <tr>\n      <th>2</th>\n      <td>FBS</td>\n      <td>New Food Balances</td>\n      <td>2</td>\n      <td>Afghanistan</td>\n      <td>5072</td>\n      <td>Stock Variation</td>\n      <td>2511</td>\n      <td>Wheat and products</td>\n      <td>2017</td>\n      <td>2017</td>\n      <td>1000 tonnes</td>\n      <td>-119.0</td>\n    </tr>\n    <tr>\n      <th>3</th>\n      <td>FBS</td>\n      <td>New Food Balances</td>\n      <td>2</td>\n      <td>Afghanistan</td>\n      <td>5911</td>\n      <td>Export Quantity</td>\n      <td>2511</td>\n      <td>Wheat and products</td>\n      <td>2017</td>\n      <td>2017</td>\n      <td>1000 tonnes</td>\n      <td>0.0</td>\n    </tr>\n    <tr>\n      <th>4</th>\n      <td>FBS</td>\n      <td>New Food Balances</td>\n      <td>2</td>\n      <td>Afghanistan</td>\n      <td>5301</td>\n      <td>Domestic supply quantity</td>\n      <td>2511</td>\n      <td>Wheat and products</td>\n      <td>2017</td>\n      <td>2017</td>\n      <td>1000 tonnes</td>\n      <td>6701.0</td>\n    </tr>\n  </tbody>\n</table>\n</div>"
     },
     "execution_count": 103,
     "metadata": {},
     "output_type": "execute_result"
    }
   ],
   "source": [
    "data_vegetables.head()"
   ]
  },
  {
   "cell_type": "code",
   "execution_count": 104,
   "metadata": {
    "pycharm": {
     "name": "#%%\n"
    }
   },
   "outputs": [
    {
     "data": {
      "text/plain": "       Domain Code             Domain  Area Code      Area  Element Code  \\\n137002         FBS  New Food Balances        181  Zimbabwe          5142   \n137003         FBS  New Food Balances        181  Zimbabwe           645   \n137004         FBS  New Food Balances        181  Zimbabwe           664   \n137005         FBS  New Food Balances        181  Zimbabwe           674   \n137006         FBS  New Food Balances        181  Zimbabwe           684   \n\n                                       Element  Item Code           Item  \\\n137002                                    Food       2899  Miscellaneous   \n137003     Food supply quantity (kg/capita/yr)       2899  Miscellaneous   \n137004           Food supply (kcal/capita/day)       2899  Miscellaneous   \n137005  Protein supply quantity (g/capita/day)       2899  Miscellaneous   \n137006      Fat supply quantity (g/capita/day)       2899  Miscellaneous   \n\n        Year Code  Year             Unit  Value  \n137002       2017  2017      1000 tonnes  19.00  \n137003       2017  2017               kg   1.33  \n137004       2017  2017  kcal/capita/day   1.00  \n137005       2017  2017     g/capita/day   0.04  \n137006       2017  2017     g/capita/day   0.02  ",
      "text/html": "<div>\n<style scoped>\n    .dataframe tbody tr th:only-of-type {\n        vertical-align: middle;\n    }\n\n    .dataframe tbody tr th {\n        vertical-align: top;\n    }\n\n    .dataframe thead th {\n        text-align: right;\n    }\n</style>\n<table border=\"1\" class=\"dataframe\">\n  <thead>\n    <tr style=\"text-align: right;\">\n      <th></th>\n      <th>Domain Code</th>\n      <th>Domain</th>\n      <th>Area Code</th>\n      <th>Area</th>\n      <th>Element Code</th>\n      <th>Element</th>\n      <th>Item Code</th>\n      <th>Item</th>\n      <th>Year Code</th>\n      <th>Year</th>\n      <th>Unit</th>\n      <th>Value</th>\n    </tr>\n  </thead>\n  <tbody>\n    <tr>\n      <th>137002</th>\n      <td>FBS</td>\n      <td>New Food Balances</td>\n      <td>181</td>\n      <td>Zimbabwe</td>\n      <td>5142</td>\n      <td>Food</td>\n      <td>2899</td>\n      <td>Miscellaneous</td>\n      <td>2017</td>\n      <td>2017</td>\n      <td>1000 tonnes</td>\n      <td>19.00</td>\n    </tr>\n    <tr>\n      <th>137003</th>\n      <td>FBS</td>\n      <td>New Food Balances</td>\n      <td>181</td>\n      <td>Zimbabwe</td>\n      <td>645</td>\n      <td>Food supply quantity (kg/capita/yr)</td>\n      <td>2899</td>\n      <td>Miscellaneous</td>\n      <td>2017</td>\n      <td>2017</td>\n      <td>kg</td>\n      <td>1.33</td>\n    </tr>\n    <tr>\n      <th>137004</th>\n      <td>FBS</td>\n      <td>New Food Balances</td>\n      <td>181</td>\n      <td>Zimbabwe</td>\n      <td>664</td>\n      <td>Food supply (kcal/capita/day)</td>\n      <td>2899</td>\n      <td>Miscellaneous</td>\n      <td>2017</td>\n      <td>2017</td>\n      <td>kcal/capita/day</td>\n      <td>1.00</td>\n    </tr>\n    <tr>\n      <th>137005</th>\n      <td>FBS</td>\n      <td>New Food Balances</td>\n      <td>181</td>\n      <td>Zimbabwe</td>\n      <td>674</td>\n      <td>Protein supply quantity (g/capita/day)</td>\n      <td>2899</td>\n      <td>Miscellaneous</td>\n      <td>2017</td>\n      <td>2017</td>\n      <td>g/capita/day</td>\n      <td>0.04</td>\n    </tr>\n    <tr>\n      <th>137006</th>\n      <td>FBS</td>\n      <td>New Food Balances</td>\n      <td>181</td>\n      <td>Zimbabwe</td>\n      <td>684</td>\n      <td>Fat supply quantity (g/capita/day)</td>\n      <td>2899</td>\n      <td>Miscellaneous</td>\n      <td>2017</td>\n      <td>2017</td>\n      <td>g/capita/day</td>\n      <td>0.02</td>\n    </tr>\n  </tbody>\n</table>\n</div>"
     },
     "execution_count": 104,
     "metadata": {},
     "output_type": "execute_result"
    }
   ],
   "source": [
    "data_vegetables.tail()"
   ]
  },
  {
   "cell_type": "code",
   "execution_count": 105,
   "metadata": {
    "pycharm": {
     "name": "#%%\n"
    }
   },
   "outputs": [
    {
     "name": "stdout",
     "output_type": "stream",
     "text": [
      "Vegetable elements: ['Production' 'Import Quantity' 'Stock Variation' 'Export Quantity'\n",
      " 'Domestic supply quantity' 'Feed' 'Seed' 'Losses' 'Residuals' 'Food'\n",
      " 'Food supply quantity (kg/capita/yr)' 'Food supply (kcal/capita/day)'\n",
      " 'Protein supply quantity (g/capita/day)'\n",
      " 'Fat supply quantity (g/capita/day)' 'Processing' 'Other uses (non-food)'\n",
      " 'Tourist consumption']\n"
     ]
    }
   ],
   "source": [
    "print( 'Vegetable elements:', data_vegetables.Element.unique())"
   ]
  },
  {
   "cell_type": "code",
   "execution_count": 106,
   "metadata": {
    "pycharm": {
     "name": "#%%\n"
    }
   },
   "outputs": [
    {
     "name": "stdout",
     "output_type": "stream",
     "text": [
      "Number of elements: 17\n"
     ]
    }
   ],
   "source": [
    "print('Number of elements:', len(data_vegetables.Element.unique()))"
   ]
  },
  {
   "cell_type": "code",
   "execution_count": 107,
   "metadata": {
    "pycharm": {
     "name": "#%%\n"
    }
   },
   "outputs": [
    {
     "name": "stdout",
     "output_type": "stream",
     "text": [
      "All items: ['Wheat and products' 'Rice and products' 'Barley and products'\n",
      " 'Maize and products' 'Rye and products' 'Oats' 'Millet and products'\n",
      " 'Sorghum and products' 'Cereals, Other' 'Potatoes and products' 'Yams'\n",
      " 'Roots, Other' 'Sugar cane' 'Sugar beet' 'Sugar (Raw Equivalent)'\n",
      " 'Sweeteners, Other' 'Honey' 'Beans' 'Peas' 'Pulses, Other and products'\n",
      " 'Nuts and products' 'Soyabeans' 'Groundnuts (Shelled Eq)'\n",
      " 'Sunflower seed' 'Rape and Mustardseed' 'Cottonseed'\n",
      " 'Coconuts - Incl Copra' 'Sesame seed' 'Olives (including preserved)'\n",
      " 'Oilcrops, Other' 'Soyabean Oil' 'Groundnut Oil' 'Sunflowerseed Oil'\n",
      " 'Rape and Mustard Oil' 'Cottonseed Oil' 'Palmkernel Oil' 'Palm Oil'\n",
      " 'Coconut Oil' 'Sesameseed Oil' 'Olive Oil' 'Ricebran Oil'\n",
      " 'Maize Germ Oil' 'Oilcrops Oil, Other' 'Tomatoes and products' 'Onions'\n",
      " 'Vegetables, Other' 'Oranges, Mandarines' 'Lemons, Limes and products'\n",
      " 'Grapefruit and products' 'Citrus, Other' 'Bananas' 'Apples and products'\n",
      " 'Pineapples and products' 'Dates' 'Grapes and products (excl wine)'\n",
      " 'Fruits, Other' 'Coffee and products' 'Cocoa Beans and products'\n",
      " 'Tea (including mate)' 'Pepper' 'Pimento' 'Cloves' 'Spices, Other' 'Wine'\n",
      " 'Beer' 'Beverages, Fermented' 'Beverages, Alcoholic' 'Alcohol, Non-Food'\n",
      " 'Infant food' 'Miscellaneous' 'Cassava and products' 'Sweet potatoes'\n",
      " 'Palm kernels' 'Plantains' 'Sugar non-centrifugal']\n"
     ]
    }
   ],
   "source": [
    "print('All items:', data_vegetables.Item.unique())"
   ]
  },
  {
   "cell_type": "code",
   "execution_count": 108,
   "metadata": {
    "pycharm": {
     "name": "#%%\n"
    }
   },
   "outputs": [
    {
     "name": "stdout",
     "output_type": "stream",
     "text": [
      "Number of items: 75\n"
     ]
    }
   ],
   "source": [
    "print('Number of items:', len(data_vegetables.Item.unique()))"
   ]
  },
  {
   "cell_type": "code",
   "execution_count": 109,
   "metadata": {
    "pycharm": {
     "name": "#%%\n"
    }
   },
   "outputs": [
    {
     "name": "stdout",
     "output_type": "stream",
     "text": [
      "Area or countries: ['Afghanistan' 'Albania' 'Algeria' 'Angola' 'Antigua and Barbuda'\n",
      " 'Argentina' 'Armenia' 'Australia' 'Austria' 'Azerbaijan' 'Bahamas'\n",
      " 'Bangladesh' 'Barbados' 'Belarus' 'Belgium' 'Belize' 'Benin'\n",
      " 'Bolivia (Plurinational State of)' 'Bosnia and Herzegovina' 'Botswana'\n",
      " 'Brazil' 'Bulgaria' 'Burkina Faso' 'Cabo Verde' 'Cambodia' 'Cameroon'\n",
      " 'Canada' 'Central African Republic' 'Chad' 'Chile' 'China'\n",
      " 'China, Hong Kong SAR' 'China, Macao SAR' 'China, mainland'\n",
      " 'China, Taiwan Province of' 'Colombia' 'Congo' 'Costa Rica'\n",
      " \"Côte d'Ivoire\" 'Croatia' 'Cuba' 'Cyprus' 'Czechia'\n",
      " \"Democratic People's Republic of Korea\" 'Denmark' 'Djibouti' 'Dominica'\n",
      " 'Dominican Republic' 'Ecuador' 'Egypt' 'El Salvador' 'Estonia' 'Eswatini'\n",
      " 'Ethiopia' 'Fiji' 'Finland' 'France' 'French Polynesia' 'Gabon' 'Gambia'\n",
      " 'Georgia' 'Germany' 'Ghana' 'Greece' 'Grenada' 'Guatemala' 'Guinea'\n",
      " 'Guinea-Bissau' 'Guyana' 'Haiti' 'Honduras' 'Hungary' 'Iceland' 'India'\n",
      " 'Indonesia' 'Iran (Islamic Republic of)' 'Iraq' 'Ireland' 'Israel'\n",
      " 'Italy' 'Jamaica' 'Japan' 'Jordan' 'Kazakhstan' 'Kenya' 'Kiribati'\n",
      " 'Kuwait' 'Kyrgyzstan' \"Lao People's Democratic Republic\" 'Latvia'\n",
      " 'Lebanon' 'Lesotho' 'Liberia' 'Lithuania' 'Luxembourg' 'Madagascar'\n",
      " 'Malawi' 'Malaysia' 'Maldives' 'Mali' 'Malta' 'Mauritania' 'Mauritius'\n",
      " 'Mexico' 'Mongolia' 'Montenegro' 'Morocco' 'Mozambique' 'Myanmar'\n",
      " 'Namibia' 'Nepal' 'Netherlands' 'New Caledonia' 'New Zealand' 'Nicaragua'\n",
      " 'Niger' 'Nigeria' 'North Macedonia' 'Norway' 'Oman' 'Pakistan' 'Panama'\n",
      " 'Paraguay' 'Peru' 'Philippines' 'Poland' 'Portugal' 'Republic of Korea'\n",
      " 'Republic of Moldova' 'Romania' 'Russian Federation' 'Rwanda'\n",
      " 'Saint Kitts and Nevis' 'Saint Lucia' 'Saint Vincent and the Grenadines'\n",
      " 'Samoa' 'Sao Tome and Principe' 'Saudi Arabia' 'Senegal' 'Serbia'\n",
      " 'Sierra Leone' 'Slovakia' 'Slovenia' 'Solomon Islands' 'South Africa'\n",
      " 'Spain' 'Sri Lanka' 'Sudan' 'Suriname' 'Sweden' 'Switzerland'\n",
      " 'Tajikistan' 'Thailand' 'Timor-Leste' 'Togo' 'Trinidad and Tobago'\n",
      " 'Tunisia' 'Turkey' 'Turkmenistan' 'Uganda' 'Ukraine'\n",
      " 'United Arab Emirates'\n",
      " 'United Kingdom of Great Britain and Northern Ireland'\n",
      " 'United Republic of Tanzania' 'United States of America' 'Uruguay'\n",
      " 'Uzbekistan' 'Vanuatu' 'Venezuela (Bolivarian Republic of)' 'Viet Nam'\n",
      " 'Yemen' 'Zambia' 'Zimbabwe']\n"
     ]
    }
   ],
   "source": [
    "print('Area or countries:', data_vegetables.Area.unique())"
   ]
  },
  {
   "cell_type": "code",
   "execution_count": 110,
   "metadata": {
    "pycharm": {
     "name": "#%%\n"
    }
   },
   "outputs": [
    {
     "name": "stdout",
     "output_type": "stream",
     "text": [
      "Area or countries amount to: 173\n"
     ]
    }
   ],
   "source": [
    "print('Area or countries amount to:', len(data_vegetables.Area.unique()))"
   ]
  },
  {
   "cell_type": "code",
   "execution_count": 111,
   "metadata": {
    "pycharm": {
     "name": "#%%\n"
    }
   },
   "outputs": [
    {
     "name": "stdout",
     "output_type": "stream",
     "text": [
      "Years: [2017]\n"
     ]
    }
   ],
   "source": [
    "print('Years:', data_vegetables.Year.unique())"
   ]
  },
  {
   "cell_type": "code",
   "execution_count": 112,
   "metadata": {
    "pycharm": {
     "name": "#%%\n"
    }
   },
   "outputs": [
    {
     "name": "stdout",
     "output_type": "stream",
     "text": [
      "<class 'pandas.core.frame.DataFrame'>\n",
      "RangeIndex: 40950 entries, 0 to 40949\n",
      "Data columns (total 12 columns):\n",
      " #   Column        Non-Null Count  Dtype  \n",
      "---  ------        --------------  -----  \n",
      " 0   Domain Code   40950 non-null  object \n",
      " 1   Domain        40950 non-null  object \n",
      " 2   Area Code     40950 non-null  int64  \n",
      " 3   Area          40950 non-null  object \n",
      " 4   Element Code  40950 non-null  int64  \n",
      " 5   Element       40950 non-null  object \n",
      " 6   Item Code     40950 non-null  int64  \n",
      " 7   Item          40950 non-null  object \n",
      " 8   Year Code     40950 non-null  int64  \n",
      " 9   Year          40950 non-null  int64  \n",
      " 10  Unit          40950 non-null  object \n",
      " 11  Value         40950 non-null  float64\n",
      "dtypes: float64(1), int64(5), object(6)\n",
      "memory usage: 3.7+ MB\n"
     ]
    }
   ],
   "source": [
    "data_animals.info()"
   ]
  },
  {
   "cell_type": "code",
   "execution_count": 113,
   "metadata": {
    "pycharm": {
     "name": "#%%\n"
    }
   },
   "outputs": [
    {
     "data": {
      "text/plain": "  Domain Code             Domain  Area Code         Area  Element Code  \\\n0         FBS  New Food Balances          2  Afghanistan          5511   \n1         FBS  New Food Balances          2  Afghanistan          5611   \n2         FBS  New Food Balances          2  Afghanistan          5072   \n3         FBS  New Food Balances          2  Afghanistan          5301   \n4         FBS  New Food Balances          2  Afghanistan          5123   \n\n                    Element  Item Code         Item  Year Code  Year  \\\n0                Production       2731  Bovine Meat       2017  2017   \n1           Import Quantity       2731  Bovine Meat       2017  2017   \n2           Stock Variation       2731  Bovine Meat       2017  2017   \n3  Domestic supply quantity       2731  Bovine Meat       2017  2017   \n4                    Losses       2731  Bovine Meat       2017  2017   \n\n          Unit  Value  \n0  1000 tonnes   94.0  \n1  1000 tonnes    6.0  \n2  1000 tonnes   -0.0  \n3  1000 tonnes  100.0  \n4  1000 tonnes    5.0  ",
      "text/html": "<div>\n<style scoped>\n    .dataframe tbody tr th:only-of-type {\n        vertical-align: middle;\n    }\n\n    .dataframe tbody tr th {\n        vertical-align: top;\n    }\n\n    .dataframe thead th {\n        text-align: right;\n    }\n</style>\n<table border=\"1\" class=\"dataframe\">\n  <thead>\n    <tr style=\"text-align: right;\">\n      <th></th>\n      <th>Domain Code</th>\n      <th>Domain</th>\n      <th>Area Code</th>\n      <th>Area</th>\n      <th>Element Code</th>\n      <th>Element</th>\n      <th>Item Code</th>\n      <th>Item</th>\n      <th>Year Code</th>\n      <th>Year</th>\n      <th>Unit</th>\n      <th>Value</th>\n    </tr>\n  </thead>\n  <tbody>\n    <tr>\n      <th>0</th>\n      <td>FBS</td>\n      <td>New Food Balances</td>\n      <td>2</td>\n      <td>Afghanistan</td>\n      <td>5511</td>\n      <td>Production</td>\n      <td>2731</td>\n      <td>Bovine Meat</td>\n      <td>2017</td>\n      <td>2017</td>\n      <td>1000 tonnes</td>\n      <td>94.0</td>\n    </tr>\n    <tr>\n      <th>1</th>\n      <td>FBS</td>\n      <td>New Food Balances</td>\n      <td>2</td>\n      <td>Afghanistan</td>\n      <td>5611</td>\n      <td>Import Quantity</td>\n      <td>2731</td>\n      <td>Bovine Meat</td>\n      <td>2017</td>\n      <td>2017</td>\n      <td>1000 tonnes</td>\n      <td>6.0</td>\n    </tr>\n    <tr>\n      <th>2</th>\n      <td>FBS</td>\n      <td>New Food Balances</td>\n      <td>2</td>\n      <td>Afghanistan</td>\n      <td>5072</td>\n      <td>Stock Variation</td>\n      <td>2731</td>\n      <td>Bovine Meat</td>\n      <td>2017</td>\n      <td>2017</td>\n      <td>1000 tonnes</td>\n      <td>-0.0</td>\n    </tr>\n    <tr>\n      <th>3</th>\n      <td>FBS</td>\n      <td>New Food Balances</td>\n      <td>2</td>\n      <td>Afghanistan</td>\n      <td>5301</td>\n      <td>Domestic supply quantity</td>\n      <td>2731</td>\n      <td>Bovine Meat</td>\n      <td>2017</td>\n      <td>2017</td>\n      <td>1000 tonnes</td>\n      <td>100.0</td>\n    </tr>\n    <tr>\n      <th>4</th>\n      <td>FBS</td>\n      <td>New Food Balances</td>\n      <td>2</td>\n      <td>Afghanistan</td>\n      <td>5123</td>\n      <td>Losses</td>\n      <td>2731</td>\n      <td>Bovine Meat</td>\n      <td>2017</td>\n      <td>2017</td>\n      <td>1000 tonnes</td>\n      <td>5.0</td>\n    </tr>\n  </tbody>\n</table>\n</div>"
     },
     "execution_count": 113,
     "metadata": {},
     "output_type": "execute_result"
    }
   ],
   "source": [
    "data_animals.head()"
   ]
  },
  {
   "cell_type": "code",
   "execution_count": 114,
   "metadata": {
    "pycharm": {
     "name": "#%%\n"
    }
   },
   "outputs": [
    {
     "data": {
      "text/plain": "      Domain Code             Domain  Area Code      Area  Element Code  \\\n40945         FBS  New Food Balances        181  Zimbabwe          5142   \n40946         FBS  New Food Balances        181  Zimbabwe           645   \n40947         FBS  New Food Balances        181  Zimbabwe           664   \n40948         FBS  New Food Balances        181  Zimbabwe           674   \n40949         FBS  New Food Balances        181  Zimbabwe           684   \n\n                                      Element  Item Code            Item  \\\n40945                                    Food       2775  Aquatic Plants   \n40946     Food supply quantity (kg/capita/yr)       2775  Aquatic Plants   \n40947           Food supply (kcal/capita/day)       2775  Aquatic Plants   \n40948  Protein supply quantity (g/capita/day)       2775  Aquatic Plants   \n40949      Fat supply quantity (g/capita/day)       2775  Aquatic Plants   \n\n       Year Code  Year             Unit  Value  \n40945       2017  2017      1000 tonnes    0.0  \n40946       2017  2017               kg    0.0  \n40947       2017  2017  kcal/capita/day    0.0  \n40948       2017  2017     g/capita/day    0.0  \n40949       2017  2017     g/capita/day    0.0  ",
      "text/html": "<div>\n<style scoped>\n    .dataframe tbody tr th:only-of-type {\n        vertical-align: middle;\n    }\n\n    .dataframe tbody tr th {\n        vertical-align: top;\n    }\n\n    .dataframe thead th {\n        text-align: right;\n    }\n</style>\n<table border=\"1\" class=\"dataframe\">\n  <thead>\n    <tr style=\"text-align: right;\">\n      <th></th>\n      <th>Domain Code</th>\n      <th>Domain</th>\n      <th>Area Code</th>\n      <th>Area</th>\n      <th>Element Code</th>\n      <th>Element</th>\n      <th>Item Code</th>\n      <th>Item</th>\n      <th>Year Code</th>\n      <th>Year</th>\n      <th>Unit</th>\n      <th>Value</th>\n    </tr>\n  </thead>\n  <tbody>\n    <tr>\n      <th>40945</th>\n      <td>FBS</td>\n      <td>New Food Balances</td>\n      <td>181</td>\n      <td>Zimbabwe</td>\n      <td>5142</td>\n      <td>Food</td>\n      <td>2775</td>\n      <td>Aquatic Plants</td>\n      <td>2017</td>\n      <td>2017</td>\n      <td>1000 tonnes</td>\n      <td>0.0</td>\n    </tr>\n    <tr>\n      <th>40946</th>\n      <td>FBS</td>\n      <td>New Food Balances</td>\n      <td>181</td>\n      <td>Zimbabwe</td>\n      <td>645</td>\n      <td>Food supply quantity (kg/capita/yr)</td>\n      <td>2775</td>\n      <td>Aquatic Plants</td>\n      <td>2017</td>\n      <td>2017</td>\n      <td>kg</td>\n      <td>0.0</td>\n    </tr>\n    <tr>\n      <th>40947</th>\n      <td>FBS</td>\n      <td>New Food Balances</td>\n      <td>181</td>\n      <td>Zimbabwe</td>\n      <td>664</td>\n      <td>Food supply (kcal/capita/day)</td>\n      <td>2775</td>\n      <td>Aquatic Plants</td>\n      <td>2017</td>\n      <td>2017</td>\n      <td>kcal/capita/day</td>\n      <td>0.0</td>\n    </tr>\n    <tr>\n      <th>40948</th>\n      <td>FBS</td>\n      <td>New Food Balances</td>\n      <td>181</td>\n      <td>Zimbabwe</td>\n      <td>674</td>\n      <td>Protein supply quantity (g/capita/day)</td>\n      <td>2775</td>\n      <td>Aquatic Plants</td>\n      <td>2017</td>\n      <td>2017</td>\n      <td>g/capita/day</td>\n      <td>0.0</td>\n    </tr>\n    <tr>\n      <th>40949</th>\n      <td>FBS</td>\n      <td>New Food Balances</td>\n      <td>181</td>\n      <td>Zimbabwe</td>\n      <td>684</td>\n      <td>Fat supply quantity (g/capita/day)</td>\n      <td>2775</td>\n      <td>Aquatic Plants</td>\n      <td>2017</td>\n      <td>2017</td>\n      <td>g/capita/day</td>\n      <td>0.0</td>\n    </tr>\n  </tbody>\n</table>\n</div>"
     },
     "execution_count": 114,
     "metadata": {},
     "output_type": "execute_result"
    }
   ],
   "source": [
    "\n",
    "data_animals.tail()"
   ]
  },
  {
   "cell_type": "code",
   "execution_count": 115,
   "metadata": {
    "pycharm": {
     "name": "#%%\n"
    }
   },
   "outputs": [
    {
     "name": "stdout",
     "output_type": "stream",
     "text": [
      "Animal elements: ['Production' 'Import Quantity' 'Stock Variation'\n",
      " 'Domestic supply quantity' 'Losses' 'Residuals' 'Food'\n",
      " 'Food supply quantity (kg/capita/yr)' 'Food supply (kcal/capita/day)'\n",
      " 'Protein supply quantity (g/capita/day)'\n",
      " 'Fat supply quantity (g/capita/day)' 'Export Quantity' 'Feed' 'Seed'\n",
      " 'Other uses (non-food)' 'Processing' 'Tourist consumption']\n"
     ]
    }
   ],
   "source": [
    "print( 'Animal elements:', data_animals.Element.unique())"
   ]
  },
  {
   "cell_type": "code",
   "execution_count": 116,
   "metadata": {
    "pycharm": {
     "name": "#%%\n"
    }
   },
   "outputs": [
    {
     "name": "stdout",
     "output_type": "stream",
     "text": [
      "Number of elements: 17\n"
     ]
    }
   ],
   "source": [
    "print('Number of elements:', len(data_animals.Element.unique()))"
   ]
  },
  {
   "cell_type": "code",
   "execution_count": 117,
   "metadata": {
    "pycharm": {
     "name": "#%%\n"
    }
   },
   "outputs": [
    {
     "name": "stdout",
     "output_type": "stream",
     "text": [
      "All items: ['Bovine Meat' 'Mutton & Goat Meat' 'Pigmeat' 'Poultry Meat' 'Meat, Other'\n",
      " 'Offals, Edible' 'Butter, Ghee' 'Cream' 'Fats, Animals, Raw' 'Eggs'\n",
      " 'Milk - Excluding Butter' 'Freshwater Fish' 'Fish, Body Oil'\n",
      " 'Fish, Liver Oil' 'Demersal Fish' 'Pelagic Fish' 'Marine Fish, Other'\n",
      " 'Crustaceans' 'Cephalopods' 'Molluscs, Other' 'Aquatic Animals, Others'\n",
      " 'Aquatic Plants' 'Meat, Aquatic Mammals']\n"
     ]
    }
   ],
   "source": [
    "print('All items:', data_animals.Item.unique())"
   ]
  },
  {
   "cell_type": "code",
   "execution_count": 118,
   "metadata": {
    "pycharm": {
     "name": "#%%\n"
    }
   },
   "outputs": [
    {
     "name": "stdout",
     "output_type": "stream",
     "text": [
      "Area or countries: ['Afghanistan' 'Albania' 'Algeria' 'Angola' 'Antigua and Barbuda'\n",
      " 'Argentina' 'Armenia' 'Australia' 'Austria' 'Azerbaijan' 'Bahamas'\n",
      " 'Bangladesh' 'Barbados' 'Belarus' 'Belgium' 'Belize' 'Benin'\n",
      " 'Bolivia (Plurinational State of)' 'Bosnia and Herzegovina' 'Botswana'\n",
      " 'Brazil' 'Bulgaria' 'Burkina Faso' 'Cabo Verde' 'Cambodia' 'Cameroon'\n",
      " 'Canada' 'Central African Republic' 'Chad' 'Chile' 'China'\n",
      " 'China, Hong Kong SAR' 'China, Macao SAR' 'China, mainland'\n",
      " 'China, Taiwan Province of' 'Colombia' 'Congo' 'Costa Rica'\n",
      " \"Côte d'Ivoire\" 'Croatia' 'Cuba' 'Cyprus' 'Czechia'\n",
      " \"Democratic People's Republic of Korea\" 'Denmark' 'Djibouti' 'Dominica'\n",
      " 'Dominican Republic' 'Ecuador' 'Egypt' 'El Salvador' 'Estonia' 'Eswatini'\n",
      " 'Ethiopia' 'Fiji' 'Finland' 'France' 'French Polynesia' 'Gabon' 'Gambia'\n",
      " 'Georgia' 'Germany' 'Ghana' 'Greece' 'Grenada' 'Guatemala' 'Guinea'\n",
      " 'Guinea-Bissau' 'Guyana' 'Haiti' 'Honduras' 'Hungary' 'Iceland' 'India'\n",
      " 'Indonesia' 'Iran (Islamic Republic of)' 'Iraq' 'Ireland' 'Israel'\n",
      " 'Italy' 'Jamaica' 'Japan' 'Jordan' 'Kazakhstan' 'Kenya' 'Kiribati'\n",
      " 'Kuwait' 'Kyrgyzstan' \"Lao People's Democratic Republic\" 'Latvia'\n",
      " 'Lebanon' 'Lesotho' 'Liberia' 'Lithuania' 'Luxembourg' 'Madagascar'\n",
      " 'Malawi' 'Malaysia' 'Maldives' 'Mali' 'Malta' 'Mauritania' 'Mauritius'\n",
      " 'Mexico' 'Mongolia' 'Montenegro' 'Morocco' 'Mozambique' 'Myanmar'\n",
      " 'Namibia' 'Nepal' 'Netherlands' 'New Caledonia' 'New Zealand' 'Nicaragua'\n",
      " 'Niger' 'Nigeria' 'North Macedonia' 'Norway' 'Oman' 'Pakistan' 'Panama'\n",
      " 'Paraguay' 'Peru' 'Philippines' 'Poland' 'Portugal' 'Republic of Korea'\n",
      " 'Republic of Moldova' 'Romania' 'Russian Federation' 'Rwanda'\n",
      " 'Saint Kitts and Nevis' 'Saint Lucia' 'Saint Vincent and the Grenadines'\n",
      " 'Samoa' 'Sao Tome and Principe' 'Saudi Arabia' 'Senegal' 'Serbia'\n",
      " 'Sierra Leone' 'Slovakia' 'Slovenia' 'Solomon Islands' 'South Africa'\n",
      " 'Spain' 'Sri Lanka' 'Sudan' 'Suriname' 'Sweden' 'Switzerland'\n",
      " 'Tajikistan' 'Thailand' 'Timor-Leste' 'Togo' 'Trinidad and Tobago'\n",
      " 'Tunisia' 'Turkey' 'Turkmenistan' 'Uganda' 'Ukraine'\n",
      " 'United Arab Emirates'\n",
      " 'United Kingdom of Great Britain and Northern Ireland'\n",
      " 'United Republic of Tanzania' 'United States of America' 'Uruguay'\n",
      " 'Uzbekistan' 'Vanuatu' 'Venezuela (Bolivarian Republic of)' 'Viet Nam'\n",
      " 'Yemen' 'Zambia' 'Zimbabwe']\n"
     ]
    }
   ],
   "source": [
    "print('Area or countries:', data_vegetables.Area.unique())"
   ]
  },
  {
   "cell_type": "code",
   "execution_count": 119,
   "metadata": {
    "pycharm": {
     "name": "#%%\n"
    }
   },
   "outputs": [
    {
     "name": "stdout",
     "output_type": "stream",
     "text": [
      "Area or countries amount to: 173\n"
     ]
    }
   ],
   "source": [
    "print('Area or countries amount to:', len(data_vegetables.Area.unique()))"
   ]
  },
  {
   "cell_type": "code",
   "execution_count": 120,
   "metadata": {
    "pycharm": {
     "name": "#%%\n"
    }
   },
   "outputs": [
    {
     "name": "stdout",
     "output_type": "stream",
     "text": [
      "Years: [2017]\n"
     ]
    }
   ],
   "source": [
    "print('Years:', data_vegetables.Year.unique())"
   ]
  },
  {
   "cell_type": "code",
   "execution_count": 121,
   "metadata": {
    "pycharm": {
     "name": "#%%\n"
    }
   },
   "outputs": [
    {
     "name": "stdout",
     "output_type": "stream",
     "text": [
      "<class 'pandas.core.frame.DataFrame'>\n",
      "RangeIndex: 171 entries, 0 to 170\n",
      "Data columns (total 12 columns):\n",
      " #   Column        Non-Null Count  Dtype  \n",
      "---  ------        --------------  -----  \n",
      " 0   Domain Code   171 non-null    object \n",
      " 1   Domain        171 non-null    object \n",
      " 2   Area Code     171 non-null    int64  \n",
      " 3   Area          171 non-null    object \n",
      " 4   Element Code  171 non-null    int64  \n",
      " 5   Element       171 non-null    object \n",
      " 6   Item Code     171 non-null    int64  \n",
      " 7   Item          171 non-null    object \n",
      " 8   Year Code     171 non-null    int64  \n",
      " 9   Year          171 non-null    int64  \n",
      " 10  Unit          171 non-null    object \n",
      " 11  Value         171 non-null    float64\n",
      "dtypes: float64(1), int64(5), object(6)\n",
      "memory usage: 16.2+ KB\n"
     ]
    }
   ],
   "source": [
    "data_population.info()"
   ]
  },
  {
   "cell_type": "code",
   "execution_count": 122,
   "metadata": {
    "pycharm": {
     "name": "#%%\n"
    }
   },
   "outputs": [
    {
     "data": {
      "text/plain": "  Domain Code             Domain  Area Code                 Area  \\\n0         FBS  New Food Balances          2          Afghanistan   \n1         FBS  New Food Balances          3              Albania   \n2         FBS  New Food Balances          4              Algeria   \n3         FBS  New Food Balances          7               Angola   \n4         FBS  New Food Balances          8  Antigua and Barbuda   \n\n   Element Code                        Element  Item Code        Item  \\\n0           511  Total Population - Both sexes       2501  Population   \n1           511  Total Population - Both sexes       2501  Population   \n2           511  Total Population - Both sexes       2501  Population   \n3           511  Total Population - Both sexes       2501  Population   \n4           511  Total Population - Both sexes       2501  Population   \n\n   Year Code  Year          Unit     Value  \n0       2017  2017  1000 persons  36296.11  \n1       2017  2017  1000 persons   2884.17  \n2       2017  2017  1000 persons  41389.19  \n3       2017  2017  1000 persons  29816.77  \n4       2017  2017  1000 persons     95.43  ",
      "text/html": "<div>\n<style scoped>\n    .dataframe tbody tr th:only-of-type {\n        vertical-align: middle;\n    }\n\n    .dataframe tbody tr th {\n        vertical-align: top;\n    }\n\n    .dataframe thead th {\n        text-align: right;\n    }\n</style>\n<table border=\"1\" class=\"dataframe\">\n  <thead>\n    <tr style=\"text-align: right;\">\n      <th></th>\n      <th>Domain Code</th>\n      <th>Domain</th>\n      <th>Area Code</th>\n      <th>Area</th>\n      <th>Element Code</th>\n      <th>Element</th>\n      <th>Item Code</th>\n      <th>Item</th>\n      <th>Year Code</th>\n      <th>Year</th>\n      <th>Unit</th>\n      <th>Value</th>\n    </tr>\n  </thead>\n  <tbody>\n    <tr>\n      <th>0</th>\n      <td>FBS</td>\n      <td>New Food Balances</td>\n      <td>2</td>\n      <td>Afghanistan</td>\n      <td>511</td>\n      <td>Total Population - Both sexes</td>\n      <td>2501</td>\n      <td>Population</td>\n      <td>2017</td>\n      <td>2017</td>\n      <td>1000 persons</td>\n      <td>36296.11</td>\n    </tr>\n    <tr>\n      <th>1</th>\n      <td>FBS</td>\n      <td>New Food Balances</td>\n      <td>3</td>\n      <td>Albania</td>\n      <td>511</td>\n      <td>Total Population - Both sexes</td>\n      <td>2501</td>\n      <td>Population</td>\n      <td>2017</td>\n      <td>2017</td>\n      <td>1000 persons</td>\n      <td>2884.17</td>\n    </tr>\n    <tr>\n      <th>2</th>\n      <td>FBS</td>\n      <td>New Food Balances</td>\n      <td>4</td>\n      <td>Algeria</td>\n      <td>511</td>\n      <td>Total Population - Both sexes</td>\n      <td>2501</td>\n      <td>Population</td>\n      <td>2017</td>\n      <td>2017</td>\n      <td>1000 persons</td>\n      <td>41389.19</td>\n    </tr>\n    <tr>\n      <th>3</th>\n      <td>FBS</td>\n      <td>New Food Balances</td>\n      <td>7</td>\n      <td>Angola</td>\n      <td>511</td>\n      <td>Total Population - Both sexes</td>\n      <td>2501</td>\n      <td>Population</td>\n      <td>2017</td>\n      <td>2017</td>\n      <td>1000 persons</td>\n      <td>29816.77</td>\n    </tr>\n    <tr>\n      <th>4</th>\n      <td>FBS</td>\n      <td>New Food Balances</td>\n      <td>8</td>\n      <td>Antigua and Barbuda</td>\n      <td>511</td>\n      <td>Total Population - Both sexes</td>\n      <td>2501</td>\n      <td>Population</td>\n      <td>2017</td>\n      <td>2017</td>\n      <td>1000 persons</td>\n      <td>95.43</td>\n    </tr>\n  </tbody>\n</table>\n</div>"
     },
     "execution_count": 122,
     "metadata": {},
     "output_type": "execute_result"
    }
   ],
   "source": [
    "data_population.head()"
   ]
  },
  {
   "cell_type": "code",
   "execution_count": 123,
   "metadata": {
    "pycharm": {
     "name": "#%%\n"
    }
   },
   "outputs": [
    {
     "data": {
      "text/plain": "    Domain Code             Domain  Area Code  \\\n166         FBS  New Food Balances        236   \n167         FBS  New Food Balances        237   \n168         FBS  New Food Balances        249   \n169         FBS  New Food Balances        251   \n170         FBS  New Food Balances        181   \n\n                                   Area  Element Code  \\\n166  Venezuela (Bolivarian Republic of)           511   \n167                            Viet Nam           511   \n168                               Yemen           511   \n169                              Zambia           511   \n170                            Zimbabwe           511   \n\n                           Element  Item Code        Item  Year Code  Year  \\\n166  Total Population - Both sexes       2501  Population       2017  2017   \n167  Total Population - Both sexes       2501  Population       2017  2017   \n168  Total Population - Both sexes       2501  Population       2017  2017   \n169  Total Population - Both sexes       2501  Population       2017  2017   \n170  Total Population - Both sexes       2501  Population       2017  2017   \n\n             Unit     Value  \n166  1000 persons  29402.48  \n167  1000 persons  94600.65  \n168  1000 persons  27834.82  \n169  1000 persons  16853.60  \n170  1000 persons  14236.59  ",
      "text/html": "<div>\n<style scoped>\n    .dataframe tbody tr th:only-of-type {\n        vertical-align: middle;\n    }\n\n    .dataframe tbody tr th {\n        vertical-align: top;\n    }\n\n    .dataframe thead th {\n        text-align: right;\n    }\n</style>\n<table border=\"1\" class=\"dataframe\">\n  <thead>\n    <tr style=\"text-align: right;\">\n      <th></th>\n      <th>Domain Code</th>\n      <th>Domain</th>\n      <th>Area Code</th>\n      <th>Area</th>\n      <th>Element Code</th>\n      <th>Element</th>\n      <th>Item Code</th>\n      <th>Item</th>\n      <th>Year Code</th>\n      <th>Year</th>\n      <th>Unit</th>\n      <th>Value</th>\n    </tr>\n  </thead>\n  <tbody>\n    <tr>\n      <th>166</th>\n      <td>FBS</td>\n      <td>New Food Balances</td>\n      <td>236</td>\n      <td>Venezuela (Bolivarian Republic of)</td>\n      <td>511</td>\n      <td>Total Population - Both sexes</td>\n      <td>2501</td>\n      <td>Population</td>\n      <td>2017</td>\n      <td>2017</td>\n      <td>1000 persons</td>\n      <td>29402.48</td>\n    </tr>\n    <tr>\n      <th>167</th>\n      <td>FBS</td>\n      <td>New Food Balances</td>\n      <td>237</td>\n      <td>Viet Nam</td>\n      <td>511</td>\n      <td>Total Population - Both sexes</td>\n      <td>2501</td>\n      <td>Population</td>\n      <td>2017</td>\n      <td>2017</td>\n      <td>1000 persons</td>\n      <td>94600.65</td>\n    </tr>\n    <tr>\n      <th>168</th>\n      <td>FBS</td>\n      <td>New Food Balances</td>\n      <td>249</td>\n      <td>Yemen</td>\n      <td>511</td>\n      <td>Total Population - Both sexes</td>\n      <td>2501</td>\n      <td>Population</td>\n      <td>2017</td>\n      <td>2017</td>\n      <td>1000 persons</td>\n      <td>27834.82</td>\n    </tr>\n    <tr>\n      <th>169</th>\n      <td>FBS</td>\n      <td>New Food Balances</td>\n      <td>251</td>\n      <td>Zambia</td>\n      <td>511</td>\n      <td>Total Population - Both sexes</td>\n      <td>2501</td>\n      <td>Population</td>\n      <td>2017</td>\n      <td>2017</td>\n      <td>1000 persons</td>\n      <td>16853.60</td>\n    </tr>\n    <tr>\n      <th>170</th>\n      <td>FBS</td>\n      <td>New Food Balances</td>\n      <td>181</td>\n      <td>Zimbabwe</td>\n      <td>511</td>\n      <td>Total Population - Both sexes</td>\n      <td>2501</td>\n      <td>Population</td>\n      <td>2017</td>\n      <td>2017</td>\n      <td>1000 persons</td>\n      <td>14236.59</td>\n    </tr>\n  </tbody>\n</table>\n</div>"
     },
     "execution_count": 123,
     "metadata": {},
     "output_type": "execute_result"
    }
   ],
   "source": [
    "data_population.tail()"
   ]
  },
  {
   "cell_type": "code",
   "execution_count": 124,
   "metadata": {
    "pycharm": {
     "name": "#%%\n"
    }
   },
   "outputs": [
    {
     "name": "stdout",
     "output_type": "stream",
     "text": [
      "Population elements: ['Total Population - Both sexes']\n"
     ]
    }
   ],
   "source": [
    "print( 'Population elements:', data_population.Element.unique())"
   ]
  },
  {
   "cell_type": "code",
   "execution_count": 125,
   "metadata": {
    "pycharm": {
     "name": "#%%\n"
    }
   },
   "outputs": [
    {
     "name": "stdout",
     "output_type": "stream",
     "text": [
      "Number of elements: 1\n"
     ]
    }
   ],
   "source": [
    "print('Number of elements:', len(data_population.Element.unique()))"
   ]
  },
  {
   "cell_type": "code",
   "execution_count": 126,
   "metadata": {
    "pycharm": {
     "name": "#%%\n"
    }
   },
   "outputs": [
    {
     "name": "stdout",
     "output_type": "stream",
     "text": [
      "All items: ['Population']\n"
     ]
    }
   ],
   "source": [
    "print('All items:', data_population.Item.unique())"
   ]
  },
  {
   "cell_type": "code",
   "execution_count": 127,
   "metadata": {
    "pycharm": {
     "name": "#%%\n"
    }
   },
   "outputs": [
    {
     "name": "stdout",
     "output_type": "stream",
     "text": [
      "Area or countries: ['Afghanistan' 'Albania' 'Algeria' 'Angola' 'Antigua and Barbuda'\n",
      " 'Argentina' 'Armenia' 'Australia' 'Austria' 'Azerbaijan' 'Bahamas'\n",
      " 'Bangladesh' 'Barbados' 'Belarus' 'Belgium' 'Belize' 'Benin'\n",
      " 'Bolivia (Plurinational State of)' 'Bosnia and Herzegovina' 'Botswana'\n",
      " 'Brazil' 'Bulgaria' 'Burkina Faso' 'Cabo Verde' 'Cambodia' 'Cameroon'\n",
      " 'Canada' 'Central African Republic' 'Chad' 'Chile' 'China'\n",
      " 'China, Hong Kong SAR' 'China, Macao SAR' 'China, mainland'\n",
      " 'China, Taiwan Province of' 'Colombia' 'Congo' 'Costa Rica'\n",
      " \"Côte d'Ivoire\" 'Croatia' 'Cuba' 'Cyprus' 'Czechia'\n",
      " \"Democratic People's Republic of Korea\" 'Denmark' 'Djibouti' 'Dominica'\n",
      " 'Dominican Republic' 'Ecuador' 'Egypt' 'El Salvador' 'Estonia' 'Eswatini'\n",
      " 'Ethiopia' 'Fiji' 'Finland' 'France' 'French Polynesia' 'Gabon' 'Gambia'\n",
      " 'Georgia' 'Germany' 'Ghana' 'Greece' 'Grenada' 'Guatemala' 'Guinea'\n",
      " 'Guinea-Bissau' 'Guyana' 'Haiti' 'Honduras' 'Hungary' 'Iceland' 'India'\n",
      " 'Indonesia' 'Iran (Islamic Republic of)' 'Iraq' 'Ireland' 'Israel'\n",
      " 'Italy' 'Jamaica' 'Japan' 'Jordan' 'Kazakhstan' 'Kenya' 'Kiribati'\n",
      " 'Kuwait' 'Kyrgyzstan' 'Latvia' 'Lebanon' 'Lesotho' 'Liberia' 'Lithuania'\n",
      " 'Luxembourg' 'Madagascar' 'Malawi' 'Malaysia' 'Maldives' 'Mali' 'Malta'\n",
      " 'Mauritania' 'Mauritius' 'Mexico' 'Mongolia' 'Montenegro' 'Morocco'\n",
      " 'Mozambique' 'Myanmar' 'Namibia' 'Nepal' 'Netherlands' 'New Caledonia'\n",
      " 'New Zealand' 'Nicaragua' 'Niger' 'Nigeria' 'North Macedonia' 'Norway'\n",
      " 'Oman' 'Pakistan' 'Panama' 'Paraguay' 'Peru' 'Philippines' 'Poland'\n",
      " 'Portugal' 'Republic of Korea' 'Republic of Moldova' 'Romania'\n",
      " 'Russian Federation' 'Rwanda' 'Saint Kitts and Nevis' 'Saint Lucia'\n",
      " 'Saint Vincent and the Grenadines' 'Samoa' 'Sao Tome and Principe'\n",
      " 'Saudi Arabia' 'Senegal' 'Serbia' 'Sierra Leone' 'Slovakia' 'Slovenia'\n",
      " 'Solomon Islands' 'South Africa' 'Spain' 'Sri Lanka' 'Sudan' 'Suriname'\n",
      " 'Sweden' 'Switzerland' 'Tajikistan' 'Thailand' 'Timor-Leste' 'Togo'\n",
      " 'Trinidad and Tobago' 'Tunisia' 'Turkey' 'Turkmenistan' 'Uganda'\n",
      " 'Ukraine' 'United Arab Emirates'\n",
      " 'United Kingdom of Great Britain and Northern Ireland'\n",
      " 'United Republic of Tanzania' 'United States of America' 'Uruguay'\n",
      " 'Vanuatu' 'Venezuela (Bolivarian Republic of)' 'Viet Nam' 'Yemen'\n",
      " 'Zambia' 'Zimbabwe']\n"
     ]
    }
   ],
   "source": [
    "print('Area or countries:', data_population.Area.unique())"
   ]
  },
  {
   "cell_type": "code",
   "execution_count": 128,
   "metadata": {
    "pycharm": {
     "name": "#%%\n"
    }
   },
   "outputs": [
    {
     "name": "stdout",
     "output_type": "stream",
     "text": [
      "Area or countries amount to: 171\n"
     ]
    }
   ],
   "source": [
    "print('Area or countries amount to:', len(data_population.Area.unique()))"
   ]
  },
  {
   "cell_type": "code",
   "execution_count": 129,
   "metadata": {
    "pycharm": {
     "name": "#%%\n"
    }
   },
   "outputs": [
    {
     "name": "stdout",
     "output_type": "stream",
     "text": [
      "Years: [2017]\n"
     ]
    }
   ],
   "source": [
    "print('Years:', data_population.Year.unique())"
   ]
  },
  {
   "cell_type": "code",
   "execution_count": 130,
   "metadata": {
    "pycharm": {
     "name": "#%%\n"
    }
   },
   "outputs": [
    {
     "name": "stdout",
     "output_type": "stream",
     "text": [
      "<class 'pandas.core.frame.DataFrame'>\n",
      "RangeIndex: 1020 entries, 0 to 1019\n",
      "Data columns (total 13 columns):\n",
      " #   Column        Non-Null Count  Dtype  \n",
      "---  ------        --------------  -----  \n",
      " 0   Domain Code   1020 non-null   object \n",
      " 1   Domain        1020 non-null   object \n",
      " 2   Area Code     1020 non-null   int64  \n",
      " 3   Area          1020 non-null   object \n",
      " 4   Element Code  1020 non-null   int64  \n",
      " 5   Element       1020 non-null   object \n",
      " 6   Item Code     1020 non-null   int64  \n",
      " 7   Item          1020 non-null   object \n",
      " 8   Year Code     1020 non-null   int64  \n",
      " 9   Year          1020 non-null   object \n",
      " 10  Unit          1020 non-null   object \n",
      " 11  Value         519 non-null    object \n",
      " 12  Note          0 non-null      float64\n",
      "dtypes: float64(1), int64(4), object(8)\n",
      "memory usage: 103.7+ KB\n"
     ]
    }
   ],
   "source": [
    "data_undernourished.info()\n"
   ]
  },
  {
   "cell_type": "code",
   "execution_count": 131,
   "metadata": {
    "pycharm": {
     "name": "#%%\n"
    }
   },
   "outputs": [
    {
     "data": {
      "text/plain": "  Domain Code                             Domain  Area Code         Area  \\\n0          FS  Suite of Food Security Indicators          2  Afghanistan   \n1          FS  Suite of Food Security Indicators          2  Afghanistan   \n2          FS  Suite of Food Security Indicators          2  Afghanistan   \n3          FS  Suite of Food Security Indicators          2  Afghanistan   \n4          FS  Suite of Food Security Indicators          2  Afghanistan   \n\n   Element Code Element  Item Code  \\\n0          6132   Value     210011   \n1          6132   Value     210011   \n2          6132   Value     210011   \n3          6132   Value     210011   \n4          6132   Value     210011   \n\n                                                Item  Year Code       Year  \\\n0  Number of people undernourished (million) (3-y...   20132015  2013-2015   \n1  Number of people undernourished (million) (3-y...   20142016  2014-2016   \n2  Number of people undernourished (million) (3-y...   20152017  2015-2017   \n3  Number of people undernourished (million) (3-y...   20162018  2016-2018   \n4  Number of people undernourished (million) (3-y...   20172019  2017-2019   \n\n       Unit Value  Note  \n0  millions   8.8   NaN  \n1  millions   8.9   NaN  \n2  millions   9.7   NaN  \n3  millions  10.5   NaN  \n4  millions  11.1   NaN  ",
      "text/html": "<div>\n<style scoped>\n    .dataframe tbody tr th:only-of-type {\n        vertical-align: middle;\n    }\n\n    .dataframe tbody tr th {\n        vertical-align: top;\n    }\n\n    .dataframe thead th {\n        text-align: right;\n    }\n</style>\n<table border=\"1\" class=\"dataframe\">\n  <thead>\n    <tr style=\"text-align: right;\">\n      <th></th>\n      <th>Domain Code</th>\n      <th>Domain</th>\n      <th>Area Code</th>\n      <th>Area</th>\n      <th>Element Code</th>\n      <th>Element</th>\n      <th>Item Code</th>\n      <th>Item</th>\n      <th>Year Code</th>\n      <th>Year</th>\n      <th>Unit</th>\n      <th>Value</th>\n      <th>Note</th>\n    </tr>\n  </thead>\n  <tbody>\n    <tr>\n      <th>0</th>\n      <td>FS</td>\n      <td>Suite of Food Security Indicators</td>\n      <td>2</td>\n      <td>Afghanistan</td>\n      <td>6132</td>\n      <td>Value</td>\n      <td>210011</td>\n      <td>Number of people undernourished (million) (3-y...</td>\n      <td>20132015</td>\n      <td>2013-2015</td>\n      <td>millions</td>\n      <td>8.8</td>\n      <td>NaN</td>\n    </tr>\n    <tr>\n      <th>1</th>\n      <td>FS</td>\n      <td>Suite of Food Security Indicators</td>\n      <td>2</td>\n      <td>Afghanistan</td>\n      <td>6132</td>\n      <td>Value</td>\n      <td>210011</td>\n      <td>Number of people undernourished (million) (3-y...</td>\n      <td>20142016</td>\n      <td>2014-2016</td>\n      <td>millions</td>\n      <td>8.9</td>\n      <td>NaN</td>\n    </tr>\n    <tr>\n      <th>2</th>\n      <td>FS</td>\n      <td>Suite of Food Security Indicators</td>\n      <td>2</td>\n      <td>Afghanistan</td>\n      <td>6132</td>\n      <td>Value</td>\n      <td>210011</td>\n      <td>Number of people undernourished (million) (3-y...</td>\n      <td>20152017</td>\n      <td>2015-2017</td>\n      <td>millions</td>\n      <td>9.7</td>\n      <td>NaN</td>\n    </tr>\n    <tr>\n      <th>3</th>\n      <td>FS</td>\n      <td>Suite of Food Security Indicators</td>\n      <td>2</td>\n      <td>Afghanistan</td>\n      <td>6132</td>\n      <td>Value</td>\n      <td>210011</td>\n      <td>Number of people undernourished (million) (3-y...</td>\n      <td>20162018</td>\n      <td>2016-2018</td>\n      <td>millions</td>\n      <td>10.5</td>\n      <td>NaN</td>\n    </tr>\n    <tr>\n      <th>4</th>\n      <td>FS</td>\n      <td>Suite of Food Security Indicators</td>\n      <td>2</td>\n      <td>Afghanistan</td>\n      <td>6132</td>\n      <td>Value</td>\n      <td>210011</td>\n      <td>Number of people undernourished (million) (3-y...</td>\n      <td>20172019</td>\n      <td>2017-2019</td>\n      <td>millions</td>\n      <td>11.1</td>\n      <td>NaN</td>\n    </tr>\n  </tbody>\n</table>\n</div>"
     },
     "execution_count": 131,
     "metadata": {},
     "output_type": "execute_result"
    }
   ],
   "source": [
    "data_undernourished.head()"
   ]
  },
  {
   "cell_type": "code",
   "execution_count": 132,
   "metadata": {
    "pycharm": {
     "name": "#%%\n"
    }
   },
   "outputs": [
    {
     "name": "stdout",
     "output_type": "stream",
     "text": [
      "Population elements: ['Value']\n"
     ]
    }
   ],
   "source": [
    "print( 'Population elements:', data_undernourished.Element.unique())"
   ]
  },
  {
   "cell_type": "code",
   "execution_count": 133,
   "metadata": {
    "pycharm": {
     "name": "#%%\n"
    }
   },
   "outputs": [
    {
     "name": "stdout",
     "output_type": "stream",
     "text": [
      "Number of elements: 1\n"
     ]
    }
   ],
   "source": [
    "print('Number of elements:', len(data_undernourished.Element.unique()))"
   ]
  },
  {
   "cell_type": "code",
   "execution_count": 134,
   "metadata": {
    "pycharm": {
     "name": "#%%\n"
    }
   },
   "outputs": [
    {
     "name": "stdout",
     "output_type": "stream",
     "text": [
      "Area or countries: ['Afghanistan' 'Albania' 'Algeria' 'American Samoa' 'Andorra' 'Angola'\n",
      " 'Antigua and Barbuda' 'Argentina' 'Armenia' 'Australia' 'Austria'\n",
      " 'Azerbaijan' 'Bahamas' 'Bahrain' 'Bangladesh' 'Barbados' 'Belarus'\n",
      " 'Belgium' 'Belize' 'Benin' 'Bermuda' 'Bhutan'\n",
      " 'Bolivia (Plurinational State of)' 'Bosnia and Herzegovina' 'Botswana'\n",
      " 'Brazil' 'Brunei Darussalam' 'Bulgaria' 'Burkina Faso' 'Burundi'\n",
      " 'Cabo Verde' 'Cambodia' 'Cameroon' 'Canada' 'Central African Republic'\n",
      " 'Chad' 'Chile' 'China' 'China, Hong Kong SAR' 'China, Macao SAR'\n",
      " 'China, mainland' 'China, Taiwan Province of' 'Colombia' 'Comoros'\n",
      " 'Congo' 'Cook Islands' 'Costa Rica' \"Côte d'Ivoire\" 'Croatia' 'Cuba'\n",
      " 'Cyprus' 'Czechia' \"Democratic People's Republic of Korea\"\n",
      " 'Democratic Republic of the Congo' 'Denmark' 'Djibouti' 'Dominica'\n",
      " 'Dominican Republic' 'Ecuador' 'Egypt' 'El Salvador' 'Equatorial Guinea'\n",
      " 'Eritrea' 'Estonia' 'Eswatini' 'Ethiopia' 'Fiji' 'Finland' 'France'\n",
      " 'French Polynesia' 'Gabon' 'Gambia' 'Georgia' 'Germany' 'Ghana' 'Greece'\n",
      " 'Greenland' 'Grenada' 'Guatemala' 'Guinea' 'Guinea-Bissau' 'Guyana'\n",
      " 'Haiti' 'Honduras' 'Hungary' 'Iceland' 'India' 'Indonesia'\n",
      " 'Iran (Islamic Republic of)' 'Iraq' 'Ireland' 'Israel' 'Italy' 'Jamaica'\n",
      " 'Japan' 'Jordan' 'Kazakhstan' 'Kenya' 'Kiribati' 'Kuwait' 'Kyrgyzstan'\n",
      " \"Lao People's Democratic Republic\" 'Latvia' 'Lebanon' 'Lesotho' 'Liberia'\n",
      " 'Libya' 'Lithuania' 'Luxembourg' 'Madagascar' 'Malawi' 'Malaysia'\n",
      " 'Maldives' 'Mali' 'Malta' 'Marshall Islands' 'Mauritania' 'Mauritius'\n",
      " 'Mexico' 'Micronesia (Federated States of)' 'Mongolia' 'Montenegro'\n",
      " 'Morocco' 'Mozambique' 'Myanmar' 'Namibia' 'Nauru' 'Nepal' 'Netherlands'\n",
      " 'New Caledonia' 'New Zealand' 'Nicaragua' 'Niger' 'Nigeria' 'Niue'\n",
      " 'North Macedonia' 'Norway' 'Oman' 'Pakistan' 'Palau' 'Palestine' 'Panama'\n",
      " 'Papua New Guinea' 'Paraguay' 'Peru' 'Philippines' 'Poland' 'Portugal'\n",
      " 'Puerto Rico' 'Qatar' 'Republic of Korea' 'Republic of Moldova' 'Romania'\n",
      " 'Russian Federation' 'Rwanda' 'Saint Kitts and Nevis' 'Saint Lucia'\n",
      " 'Saint Vincent and the Grenadines' 'Samoa' 'Sao Tome and Principe'\n",
      " 'Saudi Arabia' 'Senegal' 'Serbia' 'Seychelles' 'Sierra Leone' 'Singapore'\n",
      " 'Slovakia' 'Slovenia' 'Solomon Islands' 'Somalia' 'South Africa'\n",
      " 'South Sudan' 'Spain' 'Sri Lanka' 'Sudan' 'Suriname' 'Sweden'\n",
      " 'Switzerland' 'Syrian Arab Republic' 'Tajikistan' 'Thailand'\n",
      " 'Timor-Leste' 'Togo' 'Tokelau' 'Tonga' 'Trinidad and Tobago' 'Tunisia'\n",
      " 'Turkey' 'Turkmenistan' 'Tuvalu' 'Uganda' 'Ukraine'\n",
      " 'United Arab Emirates'\n",
      " 'United Kingdom of Great Britain and Northern Ireland'\n",
      " 'United Republic of Tanzania' 'United States of America' 'Uruguay'\n",
      " 'Uzbekistan' 'Vanuatu' 'Venezuela (Bolivarian Republic of)' 'Viet Nam'\n",
      " 'Yemen' 'Zambia' 'Zimbabwe']\n"
     ]
    }
   ],
   "source": [
    "print('Area or countries:', data_undernourished.Area.unique())"
   ]
  },
  {
   "cell_type": "code",
   "execution_count": 135,
   "metadata": {
    "pycharm": {
     "name": "#%%\n"
    }
   },
   "outputs": [
    {
     "name": "stdout",
     "output_type": "stream",
     "text": [
      "Area or countries amount to: 204\n"
     ]
    }
   ],
   "source": [
    "print('Area or countries amount to:', len(data_undernourished.Area.unique()))"
   ]
  },
  {
   "cell_type": "code",
   "execution_count": 136,
   "metadata": {
    "pycharm": {
     "name": "#%%\n"
    }
   },
   "outputs": [
    {
     "name": "stdout",
     "output_type": "stream",
     "text": [
      "Years: ['2013-2015' '2014-2016' '2015-2017' '2016-2018' '2017-2019']\n"
     ]
    }
   ],
   "source": [
    "print('Years:', data_undernourished.Year.unique())"
   ]
  },
  {
   "cell_type": "markdown",
   "metadata": {},
   "source": [
    "**Replace NaN with zeros**"
   ]
  },
  {
   "cell_type": "code",
   "execution_count": 137,
   "metadata": {
    "pycharm": {
     "name": "#%%\n"
    }
   },
   "outputs": [],
   "source": [
    "data_crops.fillna(0, inplace=True)\n",
    "data_undernourished.fillna(0, inplace=True)\n",
    "data_animals.fillna(0, inplace=True)\n",
    "data_vegetables.fillna(0, inplace=True)\n",
    "data_population.fillna(0, inplace=True)"
   ]
  },
  {
   "cell_type": "markdown",
   "metadata": {},
   "source": [
    "**Converting value object dtype to a numerical one.**"
   ]
  },
  {
   "cell_type": "code",
   "execution_count": 138,
   "metadata": {
    "pycharm": {
     "name": "#%%\n"
    }
   },
   "outputs": [],
   "source": [
    "data_undernourished.Value = data_undernourished.Value.apply(lambda x: 0.09 if x  == '<0.1' else x)\n",
    "\n",
    "data_undernourished.Value = data_undernourished.Value.astype(float)"
   ]
  },
  {
   "cell_type": "markdown",
   "metadata": {},
   "source": [
    "# Task 2 : Data Discovery"
   ]
  },
  {
   "cell_type": "code",
   "execution_count": 139,
   "metadata": {
    "pycharm": {
     "name": "#%%\n"
    }
   },
   "outputs": [],
   "source": [
    "# Creating properties Product origin that contain vegetal and animal\n",
    "data_animals['origin'] = 'animal'\n",
    "data_vegetables['origin'] = 'vegetal'"
   ]
  },
  {
   "cell_type": "markdown",
   "metadata": {},
   "source": [
    "**renaming data columns**"
   ]
  },
  {
   "cell_type": "code",
   "execution_count": 140,
   "metadata": {
    "pycharm": {
     "name": "#%%\n"
    }
   },
   "outputs": [],
   "source": [
    "\n",
    "col_renamed = {'Domain Code' : 'domain_code','Domain' : 'domain', 'Area Code' : 'country_code',\n",
    "                           'Area' : 'country', 'Element Code' : 'element_code','Element' : 'element',\n",
    "                           'Item Code' : 'item_code', 'Item' : 'item', 'Year Code' : 'year_code', 'Year' : 'year',\n",
    "                           'Unit' : 'unit', 'Value' : 'value', 'Flag' : 'flag', 'Flag Description' : 'flag_description'}\n",
    "\n",
    "\n",
    "data_crops =  data_crops.rename(columns= col_renamed)\n",
    "data_vegetables = data_vegetables.rename(columns= col_renamed)\n",
    "data_animals = data_animals.rename(columns= col_renamed)\n",
    "data_population = data_population.rename(columns= col_renamed)\n",
    "data_undernourished = data_undernourished.rename(columns= col_renamed)"
   ]
  },
  {
   "cell_type": "code",
   "execution_count": 141,
   "metadata": {
    "pycharm": {
     "name": "#%%\n"
    }
   },
   "outputs": [],
   "source": [
    "# Creating a temporary dataframe combined from vegetables and animals products and rename its column name.\n",
    "temp = data_animals.append(data_vegetables).rename(columns= col_renamed)"
   ]
  },
  {
   "cell_type": "code",
   "execution_count": 142,
   "metadata": {
    "pycharm": {
     "name": "#%%\n"
    }
   },
   "outputs": [
    {
     "data": {
      "text/plain": "  domain_code             domain  country_code      country  element_code  \\\n0         FBS  New Food Balances             2  Afghanistan          5511   \n1         FBS  New Food Balances             2  Afghanistan          5611   \n2         FBS  New Food Balances             2  Afghanistan          5072   \n3         FBS  New Food Balances             2  Afghanistan          5301   \n4         FBS  New Food Balances             2  Afghanistan          5123   \n5         FBS  New Food Balances             2  Afghanistan          5170   \n6         FBS  New Food Balances             2  Afghanistan          5142   \n7         FBS  New Food Balances             2  Afghanistan           645   \n8         FBS  New Food Balances             2  Afghanistan           664   \n9         FBS  New Food Balances             2  Afghanistan           674   \n\n                                  element  item_code         item  year_code  \\\n0                              Production       2731  Bovine Meat       2017   \n1                         Import Quantity       2731  Bovine Meat       2017   \n2                         Stock Variation       2731  Bovine Meat       2017   \n3                Domestic supply quantity       2731  Bovine Meat       2017   \n4                                  Losses       2731  Bovine Meat       2017   \n5                               Residuals       2731  Bovine Meat       2017   \n6                                    Food       2731  Bovine Meat       2017   \n7     Food supply quantity (kg/capita/yr)       2731  Bovine Meat       2017   \n8           Food supply (kcal/capita/day)       2731  Bovine Meat       2017   \n9  Protein supply quantity (g/capita/day)       2731  Bovine Meat       2017   \n\n   year             unit   value  origin  \n0  2017      1000 tonnes   94.00  animal  \n1  2017      1000 tonnes    6.00  animal  \n2  2017      1000 tonnes   -0.00  animal  \n3  2017      1000 tonnes  100.00  animal  \n4  2017      1000 tonnes    5.00  animal  \n5  2017      1000 tonnes   -0.00  animal  \n6  2017      1000 tonnes   95.00  animal  \n7  2017               kg    2.61  animal  \n8  2017  kcal/capita/day   15.00  animal  \n9  2017     g/capita/day    1.09  animal  ",
      "text/html": "<div>\n<style scoped>\n    .dataframe tbody tr th:only-of-type {\n        vertical-align: middle;\n    }\n\n    .dataframe tbody tr th {\n        vertical-align: top;\n    }\n\n    .dataframe thead th {\n        text-align: right;\n    }\n</style>\n<table border=\"1\" class=\"dataframe\">\n  <thead>\n    <tr style=\"text-align: right;\">\n      <th></th>\n      <th>domain_code</th>\n      <th>domain</th>\n      <th>country_code</th>\n      <th>country</th>\n      <th>element_code</th>\n      <th>element</th>\n      <th>item_code</th>\n      <th>item</th>\n      <th>year_code</th>\n      <th>year</th>\n      <th>unit</th>\n      <th>value</th>\n      <th>origin</th>\n    </tr>\n  </thead>\n  <tbody>\n    <tr>\n      <th>0</th>\n      <td>FBS</td>\n      <td>New Food Balances</td>\n      <td>2</td>\n      <td>Afghanistan</td>\n      <td>5511</td>\n      <td>Production</td>\n      <td>2731</td>\n      <td>Bovine Meat</td>\n      <td>2017</td>\n      <td>2017</td>\n      <td>1000 tonnes</td>\n      <td>94.00</td>\n      <td>animal</td>\n    </tr>\n    <tr>\n      <th>1</th>\n      <td>FBS</td>\n      <td>New Food Balances</td>\n      <td>2</td>\n      <td>Afghanistan</td>\n      <td>5611</td>\n      <td>Import Quantity</td>\n      <td>2731</td>\n      <td>Bovine Meat</td>\n      <td>2017</td>\n      <td>2017</td>\n      <td>1000 tonnes</td>\n      <td>6.00</td>\n      <td>animal</td>\n    </tr>\n    <tr>\n      <th>2</th>\n      <td>FBS</td>\n      <td>New Food Balances</td>\n      <td>2</td>\n      <td>Afghanistan</td>\n      <td>5072</td>\n      <td>Stock Variation</td>\n      <td>2731</td>\n      <td>Bovine Meat</td>\n      <td>2017</td>\n      <td>2017</td>\n      <td>1000 tonnes</td>\n      <td>-0.00</td>\n      <td>animal</td>\n    </tr>\n    <tr>\n      <th>3</th>\n      <td>FBS</td>\n      <td>New Food Balances</td>\n      <td>2</td>\n      <td>Afghanistan</td>\n      <td>5301</td>\n      <td>Domestic supply quantity</td>\n      <td>2731</td>\n      <td>Bovine Meat</td>\n      <td>2017</td>\n      <td>2017</td>\n      <td>1000 tonnes</td>\n      <td>100.00</td>\n      <td>animal</td>\n    </tr>\n    <tr>\n      <th>4</th>\n      <td>FBS</td>\n      <td>New Food Balances</td>\n      <td>2</td>\n      <td>Afghanistan</td>\n      <td>5123</td>\n      <td>Losses</td>\n      <td>2731</td>\n      <td>Bovine Meat</td>\n      <td>2017</td>\n      <td>2017</td>\n      <td>1000 tonnes</td>\n      <td>5.00</td>\n      <td>animal</td>\n    </tr>\n    <tr>\n      <th>5</th>\n      <td>FBS</td>\n      <td>New Food Balances</td>\n      <td>2</td>\n      <td>Afghanistan</td>\n      <td>5170</td>\n      <td>Residuals</td>\n      <td>2731</td>\n      <td>Bovine Meat</td>\n      <td>2017</td>\n      <td>2017</td>\n      <td>1000 tonnes</td>\n      <td>-0.00</td>\n      <td>animal</td>\n    </tr>\n    <tr>\n      <th>6</th>\n      <td>FBS</td>\n      <td>New Food Balances</td>\n      <td>2</td>\n      <td>Afghanistan</td>\n      <td>5142</td>\n      <td>Food</td>\n      <td>2731</td>\n      <td>Bovine Meat</td>\n      <td>2017</td>\n      <td>2017</td>\n      <td>1000 tonnes</td>\n      <td>95.00</td>\n      <td>animal</td>\n    </tr>\n    <tr>\n      <th>7</th>\n      <td>FBS</td>\n      <td>New Food Balances</td>\n      <td>2</td>\n      <td>Afghanistan</td>\n      <td>645</td>\n      <td>Food supply quantity (kg/capita/yr)</td>\n      <td>2731</td>\n      <td>Bovine Meat</td>\n      <td>2017</td>\n      <td>2017</td>\n      <td>kg</td>\n      <td>2.61</td>\n      <td>animal</td>\n    </tr>\n    <tr>\n      <th>8</th>\n      <td>FBS</td>\n      <td>New Food Balances</td>\n      <td>2</td>\n      <td>Afghanistan</td>\n      <td>664</td>\n      <td>Food supply (kcal/capita/day)</td>\n      <td>2731</td>\n      <td>Bovine Meat</td>\n      <td>2017</td>\n      <td>2017</td>\n      <td>kcal/capita/day</td>\n      <td>15.00</td>\n      <td>animal</td>\n    </tr>\n    <tr>\n      <th>9</th>\n      <td>FBS</td>\n      <td>New Food Balances</td>\n      <td>2</td>\n      <td>Afghanistan</td>\n      <td>674</td>\n      <td>Protein supply quantity (g/capita/day)</td>\n      <td>2731</td>\n      <td>Bovine Meat</td>\n      <td>2017</td>\n      <td>2017</td>\n      <td>g/capita/day</td>\n      <td>1.09</td>\n      <td>animal</td>\n    </tr>\n  </tbody>\n</table>\n</div>"
     },
     "execution_count": 142,
     "metadata": {},
     "output_type": "execute_result"
    }
   ],
   "source": [
    "temp.head(10)"
   ]
  },
  {
   "cell_type": "markdown",
   "metadata": {},
   "source": [
    "**Vegetables and animals Summary statistics**"
   ]
  },
  {
   "cell_type": "code",
   "execution_count": 143,
   "metadata": {
    "pycharm": {
     "name": "#%%\n"
    }
   },
   "outputs": [
    {
     "data": {
      "text/plain": "               value\nmin    -1.038800e+04\nmax     7.585480e+05\nsum     4.430852e+07\nmedian  1.300000e-01\nmean    2.489844e+02\nskew    7.729947e+01\ncount   1.779570e+05",
      "text/html": "<div>\n<style scoped>\n    .dataframe tbody tr th:only-of-type {\n        vertical-align: middle;\n    }\n\n    .dataframe tbody tr th {\n        vertical-align: top;\n    }\n\n    .dataframe thead th {\n        text-align: right;\n    }\n</style>\n<table border=\"1\" class=\"dataframe\">\n  <thead>\n    <tr style=\"text-align: right;\">\n      <th></th>\n      <th>value</th>\n    </tr>\n  </thead>\n  <tbody>\n    <tr>\n      <th>min</th>\n      <td>-1.038800e+04</td>\n    </tr>\n    <tr>\n      <th>max</th>\n      <td>7.585480e+05</td>\n    </tr>\n    <tr>\n      <th>sum</th>\n      <td>4.430852e+07</td>\n    </tr>\n    <tr>\n      <th>median</th>\n      <td>1.300000e-01</td>\n    </tr>\n    <tr>\n      <th>mean</th>\n      <td>2.489844e+02</td>\n    </tr>\n    <tr>\n      <th>skew</th>\n      <td>7.729947e+01</td>\n    </tr>\n    <tr>\n      <th>count</th>\n      <td>1.779570e+05</td>\n    </tr>\n  </tbody>\n</table>\n</div>"
     },
     "execution_count": 143,
     "metadata": {},
     "output_type": "execute_result"
    }
   ],
   "source": [
    "temp.agg({'value': ['min', 'max', 'sum', 'median', 'mean', 'skew', 'count']})"
   ]
  },
  {
   "cell_type": "markdown",
   "metadata": {},
   "source": [
    "## Domestic supply quantity equation"
   ]
  },
  {
   "cell_type": "code",
   "execution_count": 144,
   "metadata": {
    "pycharm": {
     "name": "#%%\n"
    }
   },
   "outputs": [],
   "source": [
    "data_france = temp[(temp.country == 'France') & (temp.item == 'Wheat and products')]"
   ]
  },
  {
   "cell_type": "code",
   "execution_count": 145,
   "metadata": {
    "pycharm": {
     "name": "#%%\n"
    }
   },
   "outputs": [],
   "source": [
    "# Creating another custom function for selection using function composition.\n",
    "def dataElementSelection(elementName = ''):\n",
    "    return np.array(data_france[data_france.loc[:]['element'] == elementName]['value'])"
   ]
  },
  {
   "cell_type": "markdown",
   "metadata": {},
   "source": [
    "  **Calculating the 4 term equation**"
   ]
  },
  {
   "cell_type": "code",
   "execution_count": 146,
   "metadata": {
    "pycharm": {
     "name": "#%%\n"
    }
   },
   "outputs": [
    {
     "data": {
      "text/plain": "array([False])"
     },
     "execution_count": 146,
     "metadata": {},
     "output_type": "execute_result"
    }
   ],
   "source": [
    "dataElementSelection('Production') + dataElementSelection('Import Quantity') - dataElementSelection('Export Quantity') + \\\n",
    "dataElementSelection('Stock Variation') == dataElementSelection('Domestic supply quantity')\n",
    "\n",
    "# How is that false now even with the notebook calculation.\n",
    "\n",
    "# dataElementSelection('Domestic supply quantity') + dataElementSelection('Production') + dataElementSelection('Import Quantity') - \\\n",
    "# dataElementSelection('Export Quantity') + dataElementSelection('Stock Variation') == (dataElementSelection('Seed') + \\\n",
    "# dataElementSelection('Residuals') + dataElementSelection('Food') + dataElementSelection('Feed') + dataElementSelection('Processing') + dataElementSelection('Other uses (non-food)'))"
   ]
  },
  {
   "cell_type": "markdown",
   "metadata": {},
   "source": [
    "## Task 3 : Data Cleaning"
   ]
  },
  {
   "cell_type": "code",
   "execution_count": 147,
   "metadata": {
    "pycharm": {
     "name": "#%%\n"
    }
   },
   "outputs": [
    {
     "data": {
      "text/plain": "0                               production\n1                          import_quantity\n2                          stock_variation\n3                 domestic_supply_quantity\n4                                   losses\n5                                residuals\n6                                     food\n7        food_supply_quantity_kg_capita_yr\n8              food_supply_kcal_capita_day\n9     protein_supply_quantity_g_capita_day\n10        fat_supply_quantity_g_capita_day\n11                         export_quantity\n12                                    feed\n13                                    seed\n14                     other_uses_non-food\n15                              processing\n16                     tourist_consumption\ndtype: object"
     },
     "execution_count": 147,
     "metadata": {},
     "output_type": "execute_result"
    }
   ],
   "source": [
    "# removing hard to read characters from element names.\n",
    "temp = data_animals.append(data_vegetables)\n",
    "\n",
    "elements_columns = pd.Series(temp.element.unique()).replace(regex={' ': '_', '[()]': '', '/': '_'}).str.lower()\n",
    "elements_columns"
   ]
  },
  {
   "cell_type": "code",
   "execution_count": 148,
   "metadata": {
    "pycharm": {
     "name": "#%%\n"
    }
   },
   "outputs": [],
   "source": [
    "# Columns selection according to Paul protocol.\n",
    "# temp.columns = ['xx', 'xx2', 'country_code', 'country', 'xx3', 'element'\n",
    "# ,'item_code', 'item', 'xx4', 'year', 'unit', \"value\", 'xx5', 'xx6' , 'origin']\n",
    "\n",
    "# Creating the main dataFrame pivot table that will be used to Answer most question.\n",
    "data = temp.pivot_table(\n",
    "     index=[\"country_code\", \"country\", \"item_code\", \"item\", \"year\", \"origin\"],\n",
    "       columns = [\"element\"], values=[\"value\"], aggfunc= sum)\n",
    "\n",
    "# Selecting columns based on elements.\n",
    "data.columns = elements_columns"
   ]
  },
  {
   "cell_type": "code",
   "execution_count": 149,
   "metadata": {
    "pycharm": {
     "name": "#%%\n"
    }
   },
   "outputs": [],
   "source": [
    "# Reset the index based on the pivot table and columns changes.\n",
    "data = data.reset_index()"
   ]
  },
  {
   "cell_type": "markdown",
   "metadata": {},
   "source": [
    "**Checking for data anomaly and removing it.**"
   ]
  },
  {
   "cell_type": "code",
   "execution_count": 150,
   "metadata": {
    "pycharm": {
     "name": "#%%\n"
    }
   },
   "outputs": [
    {
     "data": {
      "text/plain": "       country_code  country  item_code                     item  year  \\\n0                 1  Armenia       2511       Wheat and products  2017   \n1                 1  Armenia       2513      Barley and products  2017   \n2                 1  Armenia       2514       Maize and products  2017   \n3                 1  Armenia       2515         Rye and products  2017   \n4                 1  Armenia       2516                     Oats  2017   \n...             ...      ...        ...                      ...   ...   \n16139           351    China       2781           Fish, Body Oil  2017   \n16140           351    China       2782          Fish, Liver Oil  2017   \n16141           351    China       2805        Rice and products  2017   \n16142           351    China       2848  Milk - Excluding Butter  2017   \n16143           351    China       2899            Miscellaneous  2017   \n\n        origin  production  import_quantity  stock_variation  \\\n0      vegetal       558.0              1.0             3.97   \n1      vegetal       114.0              0.0             0.02   \n2      vegetal        58.0              0.0             0.60   \n3      vegetal         1.0              NaN             0.01   \n4      vegetal         7.0              NaN             0.12   \n...        ...         ...              ...              ...   \n16139   animal        83.0             30.0             0.00   \n16140   animal         0.0              1.0             0.00   \n16141  vegetal    215825.0           1793.0             2.86   \n16142   animal     37887.0            140.0             2.81   \n16143  vegetal       273.0           2097.0             0.00   \n\n       domestic_supply_quantity  ...  food_supply_quantity_kg_capita_yr  \\\n0                         105.0  ...                              337.0   \n1                          91.0  ...                               14.0   \n2                          32.0  ...                               48.0   \n3                           0.0  ...                                0.0   \n4                           6.0  ...                                1.0   \n...                         ...  ...                                ...   \n16139                       8.0  ...                               63.0   \n16140                       0.0  ...                                1.0   \n16141                   18357.0  ...                             6681.0   \n16142                    1718.0  ...                             2740.0   \n16143                       NaN  ...                              890.0   \n\n       food_supply_kcal_capita_day  protein_supply_quantity_g_capita_day  \\\n0                             10.0                                   0.0   \n1                             10.0                                   6.0   \n2                              4.0                                   NaN   \n3                              0.0                                   NaN   \n4                              0.0                                   NaN   \n...                            ...                                   ...   \n16139                          NaN                                  75.0   \n16140                          NaN                                   0.0   \n16141                      10423.0                                3123.0   \n16142                       1691.0                                  10.0   \n16143                          NaN                                   7.0   \n\n       fat_supply_quantity_g_capita_day  export_quantity   feed   seed  \\\n0                                  60.0            176.0  31.35  -31.0   \n1                                   4.0             93.0   0.15  -12.0   \n2                                   0.0             10.0   2.64    0.0   \n3                                   0.0              0.0   0.03    0.0   \n4                                   NaN              6.0   0.26   -2.0   \n...                                 ...              ...    ...    ...   \n16139                               NaN             50.0   0.00    NaN   \n16140                               NaN              0.0   0.00    NaN   \n16141                             256.0         214430.0  15.22    0.0   \n16142                               0.0          35309.0   2.72 -446.0   \n16143                               NaN           1481.0   0.01    0.0   \n\n       other_uses_non-food  processing  tourist_consumption  \n0                     25.0       -45.0                  NaN  \n1                     13.0        -7.0                  NaN  \n2                      0.0         1.0                  NaN  \n3                      0.0         0.0                  NaN  \n4                      1.0         0.0                  NaN  \n...                    ...         ...                  ...  \n16139                  NaN         0.0                  NaN  \n16140                  NaN         0.0                  NaN  \n16141               6802.0      3493.0                -32.0  \n16142                  NaN        22.0                -16.0  \n16143                  NaN         1.0                -14.0  \n\n[16144 rows x 23 columns]",
      "text/html": "<div>\n<style scoped>\n    .dataframe tbody tr th:only-of-type {\n        vertical-align: middle;\n    }\n\n    .dataframe tbody tr th {\n        vertical-align: top;\n    }\n\n    .dataframe thead th {\n        text-align: right;\n    }\n</style>\n<table border=\"1\" class=\"dataframe\">\n  <thead>\n    <tr style=\"text-align: right;\">\n      <th></th>\n      <th>country_code</th>\n      <th>country</th>\n      <th>item_code</th>\n      <th>item</th>\n      <th>year</th>\n      <th>origin</th>\n      <th>production</th>\n      <th>import_quantity</th>\n      <th>stock_variation</th>\n      <th>domestic_supply_quantity</th>\n      <th>...</th>\n      <th>food_supply_quantity_kg_capita_yr</th>\n      <th>food_supply_kcal_capita_day</th>\n      <th>protein_supply_quantity_g_capita_day</th>\n      <th>fat_supply_quantity_g_capita_day</th>\n      <th>export_quantity</th>\n      <th>feed</th>\n      <th>seed</th>\n      <th>other_uses_non-food</th>\n      <th>processing</th>\n      <th>tourist_consumption</th>\n    </tr>\n  </thead>\n  <tbody>\n    <tr>\n      <th>0</th>\n      <td>1</td>\n      <td>Armenia</td>\n      <td>2511</td>\n      <td>Wheat and products</td>\n      <td>2017</td>\n      <td>vegetal</td>\n      <td>558.0</td>\n      <td>1.0</td>\n      <td>3.97</td>\n      <td>105.0</td>\n      <td>...</td>\n      <td>337.0</td>\n      <td>10.0</td>\n      <td>0.0</td>\n      <td>60.0</td>\n      <td>176.0</td>\n      <td>31.35</td>\n      <td>-31.0</td>\n      <td>25.0</td>\n      <td>-45.0</td>\n      <td>NaN</td>\n    </tr>\n    <tr>\n      <th>1</th>\n      <td>1</td>\n      <td>Armenia</td>\n      <td>2513</td>\n      <td>Barley and products</td>\n      <td>2017</td>\n      <td>vegetal</td>\n      <td>114.0</td>\n      <td>0.0</td>\n      <td>0.02</td>\n      <td>91.0</td>\n      <td>...</td>\n      <td>14.0</td>\n      <td>10.0</td>\n      <td>6.0</td>\n      <td>4.0</td>\n      <td>93.0</td>\n      <td>0.15</td>\n      <td>-12.0</td>\n      <td>13.0</td>\n      <td>-7.0</td>\n      <td>NaN</td>\n    </tr>\n    <tr>\n      <th>2</th>\n      <td>1</td>\n      <td>Armenia</td>\n      <td>2514</td>\n      <td>Maize and products</td>\n      <td>2017</td>\n      <td>vegetal</td>\n      <td>58.0</td>\n      <td>0.0</td>\n      <td>0.60</td>\n      <td>32.0</td>\n      <td>...</td>\n      <td>48.0</td>\n      <td>4.0</td>\n      <td>NaN</td>\n      <td>0.0</td>\n      <td>10.0</td>\n      <td>2.64</td>\n      <td>0.0</td>\n      <td>0.0</td>\n      <td>1.0</td>\n      <td>NaN</td>\n    </tr>\n    <tr>\n      <th>3</th>\n      <td>1</td>\n      <td>Armenia</td>\n      <td>2515</td>\n      <td>Rye and products</td>\n      <td>2017</td>\n      <td>vegetal</td>\n      <td>1.0</td>\n      <td>NaN</td>\n      <td>0.01</td>\n      <td>0.0</td>\n      <td>...</td>\n      <td>0.0</td>\n      <td>0.0</td>\n      <td>NaN</td>\n      <td>0.0</td>\n      <td>0.0</td>\n      <td>0.03</td>\n      <td>0.0</td>\n      <td>0.0</td>\n      <td>0.0</td>\n      <td>NaN</td>\n    </tr>\n    <tr>\n      <th>4</th>\n      <td>1</td>\n      <td>Armenia</td>\n      <td>2516</td>\n      <td>Oats</td>\n      <td>2017</td>\n      <td>vegetal</td>\n      <td>7.0</td>\n      <td>NaN</td>\n      <td>0.12</td>\n      <td>6.0</td>\n      <td>...</td>\n      <td>1.0</td>\n      <td>0.0</td>\n      <td>NaN</td>\n      <td>NaN</td>\n      <td>6.0</td>\n      <td>0.26</td>\n      <td>-2.0</td>\n      <td>1.0</td>\n      <td>0.0</td>\n      <td>NaN</td>\n    </tr>\n    <tr>\n      <th>...</th>\n      <td>...</td>\n      <td>...</td>\n      <td>...</td>\n      <td>...</td>\n      <td>...</td>\n      <td>...</td>\n      <td>...</td>\n      <td>...</td>\n      <td>...</td>\n      <td>...</td>\n      <td>...</td>\n      <td>...</td>\n      <td>...</td>\n      <td>...</td>\n      <td>...</td>\n      <td>...</td>\n      <td>...</td>\n      <td>...</td>\n      <td>...</td>\n      <td>...</td>\n      <td>...</td>\n    </tr>\n    <tr>\n      <th>16139</th>\n      <td>351</td>\n      <td>China</td>\n      <td>2781</td>\n      <td>Fish, Body Oil</td>\n      <td>2017</td>\n      <td>animal</td>\n      <td>83.0</td>\n      <td>30.0</td>\n      <td>0.00</td>\n      <td>8.0</td>\n      <td>...</td>\n      <td>63.0</td>\n      <td>NaN</td>\n      <td>75.0</td>\n      <td>NaN</td>\n      <td>50.0</td>\n      <td>0.00</td>\n      <td>NaN</td>\n      <td>NaN</td>\n      <td>0.0</td>\n      <td>NaN</td>\n    </tr>\n    <tr>\n      <th>16140</th>\n      <td>351</td>\n      <td>China</td>\n      <td>2782</td>\n      <td>Fish, Liver Oil</td>\n      <td>2017</td>\n      <td>animal</td>\n      <td>0.0</td>\n      <td>1.0</td>\n      <td>0.00</td>\n      <td>0.0</td>\n      <td>...</td>\n      <td>1.0</td>\n      <td>NaN</td>\n      <td>0.0</td>\n      <td>NaN</td>\n      <td>0.0</td>\n      <td>0.00</td>\n      <td>NaN</td>\n      <td>NaN</td>\n      <td>0.0</td>\n      <td>NaN</td>\n    </tr>\n    <tr>\n      <th>16141</th>\n      <td>351</td>\n      <td>China</td>\n      <td>2805</td>\n      <td>Rice and products</td>\n      <td>2017</td>\n      <td>vegetal</td>\n      <td>215825.0</td>\n      <td>1793.0</td>\n      <td>2.86</td>\n      <td>18357.0</td>\n      <td>...</td>\n      <td>6681.0</td>\n      <td>10423.0</td>\n      <td>3123.0</td>\n      <td>256.0</td>\n      <td>214430.0</td>\n      <td>15.22</td>\n      <td>0.0</td>\n      <td>6802.0</td>\n      <td>3493.0</td>\n      <td>-32.0</td>\n    </tr>\n    <tr>\n      <th>16142</th>\n      <td>351</td>\n      <td>China</td>\n      <td>2848</td>\n      <td>Milk - Excluding Butter</td>\n      <td>2017</td>\n      <td>animal</td>\n      <td>37887.0</td>\n      <td>140.0</td>\n      <td>2.81</td>\n      <td>1718.0</td>\n      <td>...</td>\n      <td>2740.0</td>\n      <td>1691.0</td>\n      <td>10.0</td>\n      <td>0.0</td>\n      <td>35309.0</td>\n      <td>2.72</td>\n      <td>-446.0</td>\n      <td>NaN</td>\n      <td>22.0</td>\n      <td>-16.0</td>\n    </tr>\n    <tr>\n      <th>16143</th>\n      <td>351</td>\n      <td>China</td>\n      <td>2899</td>\n      <td>Miscellaneous</td>\n      <td>2017</td>\n      <td>vegetal</td>\n      <td>273.0</td>\n      <td>2097.0</td>\n      <td>0.00</td>\n      <td>NaN</td>\n      <td>...</td>\n      <td>890.0</td>\n      <td>NaN</td>\n      <td>7.0</td>\n      <td>NaN</td>\n      <td>1481.0</td>\n      <td>0.01</td>\n      <td>0.0</td>\n      <td>NaN</td>\n      <td>1.0</td>\n      <td>-14.0</td>\n    </tr>\n  </tbody>\n</table>\n<p>16144 rows × 23 columns</p>\n</div>"
     },
     "execution_count": 150,
     "metadata": {},
     "output_type": "execute_result"
    }
   ],
   "source": [
    "data"
   ]
  },
  {
   "cell_type": "code",
   "execution_count": 151,
   "metadata": {
    "pycharm": {
     "name": "#%%\n"
    }
   },
   "outputs": [
    {
     "data": {
      "text/plain": "0"
     },
     "execution_count": 151,
     "metadata": {},
     "output_type": "execute_result"
    }
   ],
   "source": [
    "data.duplicated().sum()"
   ]
  },
  {
   "cell_type": "code",
   "execution_count": 152,
   "metadata": {
    "pycharm": {
     "name": "#%%\n"
    }
   },
   "outputs": [
    {
     "data": {
      "text/plain": "country_code                                0\ncountry                                     0\nitem_code                                   0\nitem                                        0\nyear                                        0\norigin                                      0\nproduction                                142\nimport_quantity                          3936\nstock_variation                          1538\ndomestic_supply_quantity                11910\nlosses                                   1552\nresiduals                                1574\nfood                                     1432\nfood_supply_quantity_kg_capita_yr         788\nfood_supply_kcal_capita_day             10270\nprotein_supply_quantity_g_capita_day    10777\nfat_supply_quantity_g_capita_day        12553\nexport_quantity                          5718\nfeed                                     1543\nseed                                     3492\nother_uses_non-food                     14007\nprocessing                               4757\ntourist_consumption                     10502\ndtype: int64"
     },
     "execution_count": 152,
     "metadata": {},
     "output_type": "execute_result"
    }
   ],
   "source": [
    "data.isnull().sum()"
   ]
  },
  {
   "cell_type": "code",
   "execution_count": 153,
   "metadata": {
    "pycharm": {
     "name": "#%%\n"
    }
   },
   "outputs": [
    {
     "data": {
      "text/plain": "country_code                            0\ncountry                                 0\nitem_code                               0\nitem                                    0\nyear                                    0\norigin                                  0\nproduction                              0\nimport_quantity                         0\nstock_variation                         0\ndomestic_supply_quantity                0\nlosses                                  0\nresiduals                               0\nfood                                    0\nfood_supply_quantity_kg_capita_yr       0\nfood_supply_kcal_capita_day             0\nprotein_supply_quantity_g_capita_day    0\nfat_supply_quantity_g_capita_day        0\nexport_quantity                         0\nfeed                                    0\nseed                                    0\nother_uses_non-food                     0\nprocessing                              0\ntourist_consumption                     0\ndtype: int64"
     },
     "execution_count": 153,
     "metadata": {},
     "output_type": "execute_result"
    }
   ],
   "source": [
    "data.fillna(0, inplace=True)\n",
    "data.isna().sum()"
   ]
  },
  {
   "cell_type": "markdown",
   "metadata": {},
   "source": [
    "## total world population\n",
    "\n",
    "calculating and find anomaly, removing it."
   ]
  },
  {
   "cell_type": "code",
   "execution_count": 154,
   "metadata": {
    "pycharm": {
     "name": "#%%\n"
    }
   },
   "outputs": [],
   "source": [
    "# Using the above selection as mask for filtering the founded anomaly\n",
    "china =  data_population.loc[data_population.country_code == 351]\n",
    "# in FAO new methodology data set is this anomaly not present."
   ]
  },
  {
   "cell_type": "markdown",
   "metadata": {},
   "source": [
    "**Creating World population constant**"
   ]
  },
  {
   "cell_type": "code",
   "execution_count": 155,
   "metadata": {
    "pycharm": {
     "name": "#%%\n"
    }
   },
   "outputs": [],
   "source": [
    "# this value is calculated according to FAO http://faostat.fao.org/static/syb/syb_5000.pdf\n",
    "# This instead is my calculated value after without China data anomaly.\n",
    "WORLD_POPULATION = data_population.value.sum() * 1000000 - china.value"
   ]
  },
  {
   "cell_type": "code",
   "execution_count": 156,
   "metadata": {
    "pycharm": {
     "name": "#%%\n"
    }
   },
   "outputs": [
    {
     "data": {
      "text/plain": "8782494.2"
     },
     "execution_count": 156,
     "metadata": {},
     "output_type": "execute_result"
    }
   ],
   "source": [
    "# Complete removing the already know data anomaly involved chin and main land china.\n",
    "#data_population = data_population.drop([30])\n",
    "\n",
    "data_population.value.sum()"
   ]
  },
  {
   "cell_type": "markdown",
   "metadata": {},
   "source": [
    "## Task 4 : Computing new variables\n"
   ]
  },
  {
   "cell_type": "code",
   "execution_count": 157,
   "metadata": {
    "pycharm": {
     "name": "#%%\n"
    }
   },
   "outputs": [],
   "source": [
    "# Checking the values of the columns that will be used on this task.\n",
    "data.loc[:][['food_supply_kcal_capita_day', 'protein_supply_quantity_g_capita_day',\n",
    "                  'food_supply_quantity_kg_capita_yr', 'fat_supply_quantity_g_capita_day']]\n",
    "\n",
    "# Merging the county populations values to our major dataframe for further calculations.\n",
    "data = data.merge(data_population[['country_code', 'value']], on= 'country_code', suffixes=('population', True))\n",
    "\n",
    "# Renaming its column value to population to be more clear.\n",
    "data = data.rename(columns={'value': 'population'})"
   ]
  },
  {
   "cell_type": "code",
   "execution_count": 158,
   "metadata": {
    "pycharm": {
     "name": "#%%\n"
    }
   },
   "outputs": [],
   "source": [
    "# Calculating all need variables.\n",
    "data['food_supply_kcal'] = data.food_supply_kcal_capita_day * 365 * data.population\n",
    "data['food_supply_kgprotein'] = data.protein_supply_quantity_g_capita_day * 365 * data.population / 1000\n",
    "data['food_supply_kg'] = data.food * np.power(10,6)\n",
    "mask = data.food_supply_kg != 0\n",
    "data['ratio_kcalkg'] = data.loc[mask, 'food_supply_kcal'] / data.loc[mask, 'food_supply_kg']\n",
    "data['protein_percentage'] = data.loc[ mask, 'food_supply_kgprotein'] / data.loc[mask, 'food_supply_kg'] * 100\n",
    "data['dom_sup_kcal'] = data.domestic_supply_quantity * np.power(10,6) *  data.ratio_kcalkg\n",
    "data['dom_sup_kgprot'] = data.domestic_supply_quantity * np.power(10,6) *  data.protein_percentage / 100"
   ]
  },
  {
   "cell_type": "markdown",
   "metadata": {},
   "source": [
    "**Generating great_import_from_undern_countries variable**"
   ]
  },
  {
   "cell_type": "code",
   "execution_count": 159,
   "metadata": {
    "pycharm": {
     "name": "#%%\n"
    }
   },
   "outputs": [],
   "source": [
    "# Creating a new Dataframe copy by value so that original will not modified.\n",
    "undernourished = data_undernourished[['country_code', 'country', 'year', 'value' ]].copy()\n",
    "# Repassing undernourished based on a specific year in this case 2017.\n",
    "undernourished = undernourished[(undernourished.year == '2015-2017')]\n",
    "# Recalculating bade from its unit\n",
    "undernourished['value'] *= 1000000\n",
    "# Renaming its value for clarity.\n",
    "undernourished = undernourished.rename({'value': 'nb_people_under'}, axis= 1)\n",
    "# Merging it with population based on country code sort that for every county has its population and its undernourished value.\n",
    "undernourished = pd.merge(undernourished, data_population[['country_code', 'year', 'value']], on= ['country_code'])\n",
    "# Renaming its value for clarity after merging it with population.\n",
    "undernourished = undernourished.rename({'value': 'population', 'year_y': 'year'}, axis=1)\n",
    "# Calculating undernourished in percentage.\n",
    "undernourished['undern_percentage'] = 100 * undernourished.loc[undernourished.nb_people_under != 0, 'nb_people_under'] / undernourished.population\n",
    "# Calculating its undernourished under 10 percentage.\n",
    "undernourished['under_10%'] = undernourished.undern_percentage >= 10"
   ]
  },
  {
   "cell_type": "code",
   "execution_count": 160,
   "metadata": {
    "pycharm": {
     "name": "#%%\n"
    }
   },
   "outputs": [
    {
     "data": {
      "text/plain": "     country_code                                country     year_x  \\\n46             55                               Dominica  2015-2017   \n133           191       Saint Vincent and the Grenadines  2015-2017   \n85             83                               Kiribati  2015-2017   \n69             93                                  Haiti  2015-2017   \n43            116  Democratic People's Republic of Korea  2015-2017   \n\n     nb_people_under  year  population  undern_percentage  under_10%  \n46           90000.0  2017       71.46      125944.584383       True  \n133          90000.0  2017      109.83       81944.823819       True  \n85           90000.0  2017      114.16       78836.720392       True  \n69         5200000.0  2017    10982.37       47348.614188       True  \n43        11600000.0  2017    25429.83       45615.719806       True  ",
      "text/html": "<div>\n<style scoped>\n    .dataframe tbody tr th:only-of-type {\n        vertical-align: middle;\n    }\n\n    .dataframe tbody tr th {\n        vertical-align: top;\n    }\n\n    .dataframe thead th {\n        text-align: right;\n    }\n</style>\n<table border=\"1\" class=\"dataframe\">\n  <thead>\n    <tr style=\"text-align: right;\">\n      <th></th>\n      <th>country_code</th>\n      <th>country</th>\n      <th>year_x</th>\n      <th>nb_people_under</th>\n      <th>year</th>\n      <th>population</th>\n      <th>undern_percentage</th>\n      <th>under_10%</th>\n    </tr>\n  </thead>\n  <tbody>\n    <tr>\n      <th>46</th>\n      <td>55</td>\n      <td>Dominica</td>\n      <td>2015-2017</td>\n      <td>90000.0</td>\n      <td>2017</td>\n      <td>71.46</td>\n      <td>125944.584383</td>\n      <td>True</td>\n    </tr>\n    <tr>\n      <th>133</th>\n      <td>191</td>\n      <td>Saint Vincent and the Grenadines</td>\n      <td>2015-2017</td>\n      <td>90000.0</td>\n      <td>2017</td>\n      <td>109.83</td>\n      <td>81944.823819</td>\n      <td>True</td>\n    </tr>\n    <tr>\n      <th>85</th>\n      <td>83</td>\n      <td>Kiribati</td>\n      <td>2015-2017</td>\n      <td>90000.0</td>\n      <td>2017</td>\n      <td>114.16</td>\n      <td>78836.720392</td>\n      <td>True</td>\n    </tr>\n    <tr>\n      <th>69</th>\n      <td>93</td>\n      <td>Haiti</td>\n      <td>2015-2017</td>\n      <td>5200000.0</td>\n      <td>2017</td>\n      <td>10982.37</td>\n      <td>47348.614188</td>\n      <td>True</td>\n    </tr>\n    <tr>\n      <th>43</th>\n      <td>116</td>\n      <td>Democratic People's Republic of Korea</td>\n      <td>2015-2017</td>\n      <td>11600000.0</td>\n      <td>2017</td>\n      <td>25429.83</td>\n      <td>45615.719806</td>\n      <td>True</td>\n    </tr>\n  </tbody>\n</table>\n</div>"
     },
     "execution_count": 160,
     "metadata": {},
     "output_type": "execute_result"
    }
   ],
   "source": [
    "undernourished.sort_values('undern_percentage', ascending=False).head()"
   ]
  },
  {
   "cell_type": "code",
   "execution_count": 161,
   "metadata": {
    "pycharm": {
     "name": "#%%\n"
    }
   },
   "outputs": [
    {
     "name": "stderr",
     "output_type": "stream",
     "text": [
      "/Users/souzaalves/.conda/envs/untitled1/lib/python3.7/site-packages/ipykernel_launcher.py:8: FutureWarning: Indexing with multiple keys (implicitly converted to a tuple of keys) will be deprecated, use a list instead.\n",
      "  \n"
     ]
    },
    {
     "data": {
      "text/plain": "13     25928.0\n95     26785.0\n96     46133.0\n29         0.0\n2     147051.0\n47      1012.0\n9      56599.0\n0      27129.0\n8       5388.0\n58      1062.0\n52       867.0\n22      7518.0\n16        69.0\n12      4548.0\n38         0.0\n45       239.0\n27      1247.0\n46        86.0\n67         0.0\n48        11.0\n6      12072.0\n75         0.0\n10      2822.0\n14       361.0\n20      4103.0\nName: domestic_supply_quantity, dtype: float64"
     },
     "execution_count": 161,
     "metadata": {},
     "output_type": "execute_result"
    }
   ],
   "source": [
    "selected_year = 2017\n",
    "# Country under the 10% undernourished\n",
    "under_countries = undernourished.loc[undernourished['under_10%'], 'country_code']\n",
    "under_data = data[(data.country_code.isin(under_countries)) & (data.year == selected_year)].copy()\n",
    "\n",
    "# The sum of the above filter county.\n",
    "under_data = under_data.groupby(['item_code', 'item', 'year'])[\n",
    "     'domestic_supply_quantity', 'export_quantity', 'feed', 'food', 'import_quantity', 'other_uses_non-food', 'processing',\n",
    "     'stock_variation', 'production', 'seed', 'food_supply_kcal', 'food_supply_kg', 'losses'\n",
    " ].sum()\n",
    "#\n",
    "under_data = under_data.reset_index()\n",
    "under_data = under_data.sort_values('export_quantity', ascending = False)\n",
    "#\n",
    "most_exported_products = under_data.iloc[:25].item.values\n",
    "under_data[under_data.item.isin(most_exported_products)].iloc[:25].domestic_supply_quantity"
   ]
  },
  {
   "cell_type": "code",
   "execution_count": 162,
   "metadata": {
    "pycharm": {
     "name": "#%%\n"
    }
   },
   "outputs": [
    {
     "data": {
      "text/plain": "    index  country_code                   country  item_code  \\\n0    1325            21                    Brazil       2555   \n1   14569           231  United States of America       2555   \n2   14550           231  United States of America       2514   \n3   11760           185        Russian Federation       2511   \n4    1306            21                    Brazil       2514   \n5   13618           216                  Thailand       2532   \n6    1319            21                    Brazil       2542   \n7   14548           231  United States of America       2511   \n8    6197           101                 Indonesia       2577   \n9     548             9                 Argentina       2514   \n10   1866            33                    Canada       2511   \n11    639            10                 Australia       2511   \n12  10165           156               New Zealand       2848   \n13  14459           230                   Ukraine       2514   \n14   6156           100                     India       2805   \n15  14457           230                   Ukraine       2511   \n16  13702           216                  Thailand       2805   \n17   4131            68                    France       2511   \n18   4769            79                   Germany       2848   \n19    546             9                 Argentina       2511   \n\n                       item  year   origin  production  import_quantity  \\\n0                 Soyabeans  2017  vegetal     47183.0          68156.0   \n1                 Soyabeans  2017  vegetal     61675.0          55412.0   \n2        Maize and products  2017  vegetal    345852.0          53507.0   \n3        Wheat and products  2017  vegetal     51621.0          33544.0   \n4        Maize and products  2017  vegetal     76213.0          29555.0   \n5      Cassava and products  2017  vegetal      8495.0          29409.0   \n6    Sugar (Raw Equivalent)  2017  vegetal     12165.0          29254.0   \n7        Wheat and products  2017  vegetal     32155.0          28733.0   \n8                  Palm Oil  2017  vegetal      9737.0          27212.0   \n9        Maize and products  2017  vegetal     20709.0          23780.0   \n10       Wheat and products  2017  vegetal     10114.0          23429.0   \n11       Wheat and products  2017  vegetal      7921.0          22304.0   \n12  Milk - Excluding Butter  2017   animal       616.0          20654.0   \n13       Maize and products  2017  vegetal      5973.0          19531.0   \n14        Rice and products  2017  vegetal    150954.0          18088.0   \n15       Wheat and products  2017  vegetal      8797.0          18027.0   \n16        Rice and products  2017  vegetal     17382.0          17609.0   \n17       Wheat and products  2017  vegetal     20665.0          16769.0   \n18  Milk - Excluding Butter  2017   animal     26261.0          16698.0   \n19       Wheat and products  2017  vegetal      5403.0          14041.0   \n\n    stock_variation  ...  tourist_consumption  population  food_supply_kcal  \\\n0              0.00  ...                  0.0   207833.82      0.000000e+00   \n1              0.00  ...                  0.0   325084.76      7.190550e+10   \n2              0.26  ...                  0.0   325084.76      2.467450e+12   \n3              3.05  ...                  0.0   145530.08      2.735602e+10   \n4              1.02  ...                  0.0   207833.82      4.155575e+11   \n5              0.04  ...                  0.0    69209.81      5.855634e+10   \n6              0.00  ...                  0.0   207833.82      0.000000e+00   \n7              3.57  ...                  0.0   325084.76      3.150315e+11   \n8             13.53  ...                  0.0   264650.96      0.000000e+00   \n9              0.30  ...                  0.0    43937.14      1.154668e+10   \n10             3.76  ...                  0.0    36732.10      4.022165e+08   \n11             2.55  ...                  0.0    24584.62      2.853537e+09   \n12            10.00  ...                  0.0     4702.03      3.672756e+08   \n13             0.33  ...                  0.0    44487.71      1.136661e+10   \n14             1.56  ...                  0.0  1338676.78      4.733722e+12   \n15             3.61  ...                  0.0    44487.71      8.671100e+09   \n16             2.59  ...                  0.0    69209.81      4.511718e+10   \n17             4.00  ...                  0.0    64842.51      8.378301e+09   \n18            19.05  ...                  0.0    82658.41      1.116302e+09   \n19             2.48  ...                  0.0    43937.14      4.939413e+09   \n\n    food_supply_kgprotein  food_supply_kg   ratio_kcalkg  protein_percentage  \\\n0            0.000000e+00             0.0            NaN                 NaN   \n1            0.000000e+00        110000.0  653686.346040            0.000000   \n2            1.888113e+10      12040000.0  204937.725767       156819.983711   \n3            1.593554e+05     129430000.0     211.357620            0.123121   \n4            0.000000e+00      28940000.0   14359.277404            0.000000   \n5            9.761075e+07      11590000.0    5052.316130          842.197995   \n6            3.016168e+08      39300000.0       0.000000          767.472654   \n7            4.864893e+06      80840000.0    3896.975678            6.017929   \n8            4.829880e+08       4940000.0       0.000000         9777.085061   \n9            7.431572e+07      11570000.0     997.984476          642.313898   \n10           5.456737e+06      83540000.0       4.814658            6.531885   \n11           7.923500e+06      76030000.0      37.531722           10.421544   \n12           1.905027e+05     110040000.0       3.337655            0.173121   \n13           1.510135e+07      13270000.0     856.564424          113.800702   \n14           0.000000e+00     103210000.0   45864.952381            0.000000   \n15           3.604839e+06     123210000.0      70.376589            2.925768   \n16           0.000000e+00     177770000.0     253.795258            0.000000   \n17           6.811511e+07     111090000.0      75.419036           61.315250   \n18           1.979173e+07     267520000.0       4.172779            7.398224   \n19           2.084817e+05     105170000.0      46.965991            0.198233   \n\n    dom_sup_kcal  dom_sup_kgprot  great_import_from_undern_countries  \n0            NaN             NaN                                True  \n1   2.148013e+15    0.000000e+00                                True  \n2   2.761228e+16    2.112914e+14                                True  \n3   3.743355e+12    2.180595e+07                                True  \n4   9.201569e+14    0.000000e+00                                True  \n5   7.628997e+12    1.271719e+10                                True  \n6   0.000000e+00    0.000000e+00                                True  \n7   5.011511e+12    7.739056e+07                                True  \n8   0.000000e+00    0.000000e+00                                True  \n9   1.379215e+13    8.876778e+10                                True  \n10  2.874832e+10    3.900189e+08                                True  \n11  1.590594e+11    4.416650e+08                                True  \n12  1.068050e+09    5.539884e+05                                True  \n13  2.827519e+12    3.756561e+09                                True  \n14  7.200798e+12    0.000000e+00                                True  \n15  1.000051e+11    4.157517e+07                                True  \n16  4.131787e+11    0.000000e+00                                True  \n17  5.726567e+11    4.655667e+09                                True  \n18  1.407896e+10    2.496161e+08                                True  \n19  0.000000e+00    0.000000e+00                                True  \n\n[20 rows x 33 columns]",
      "text/html": "<div>\n<style scoped>\n    .dataframe tbody tr th:only-of-type {\n        vertical-align: middle;\n    }\n\n    .dataframe tbody tr th {\n        vertical-align: top;\n    }\n\n    .dataframe thead th {\n        text-align: right;\n    }\n</style>\n<table border=\"1\" class=\"dataframe\">\n  <thead>\n    <tr style=\"text-align: right;\">\n      <th></th>\n      <th>index</th>\n      <th>country_code</th>\n      <th>country</th>\n      <th>item_code</th>\n      <th>item</th>\n      <th>year</th>\n      <th>origin</th>\n      <th>production</th>\n      <th>import_quantity</th>\n      <th>stock_variation</th>\n      <th>...</th>\n      <th>tourist_consumption</th>\n      <th>population</th>\n      <th>food_supply_kcal</th>\n      <th>food_supply_kgprotein</th>\n      <th>food_supply_kg</th>\n      <th>ratio_kcalkg</th>\n      <th>protein_percentage</th>\n      <th>dom_sup_kcal</th>\n      <th>dom_sup_kgprot</th>\n      <th>great_import_from_undern_countries</th>\n    </tr>\n  </thead>\n  <tbody>\n    <tr>\n      <th>0</th>\n      <td>1325</td>\n      <td>21</td>\n      <td>Brazil</td>\n      <td>2555</td>\n      <td>Soyabeans</td>\n      <td>2017</td>\n      <td>vegetal</td>\n      <td>47183.0</td>\n      <td>68156.0</td>\n      <td>0.00</td>\n      <td>...</td>\n      <td>0.0</td>\n      <td>207833.82</td>\n      <td>0.000000e+00</td>\n      <td>0.000000e+00</td>\n      <td>0.0</td>\n      <td>NaN</td>\n      <td>NaN</td>\n      <td>NaN</td>\n      <td>NaN</td>\n      <td>True</td>\n    </tr>\n    <tr>\n      <th>1</th>\n      <td>14569</td>\n      <td>231</td>\n      <td>United States of America</td>\n      <td>2555</td>\n      <td>Soyabeans</td>\n      <td>2017</td>\n      <td>vegetal</td>\n      <td>61675.0</td>\n      <td>55412.0</td>\n      <td>0.00</td>\n      <td>...</td>\n      <td>0.0</td>\n      <td>325084.76</td>\n      <td>7.190550e+10</td>\n      <td>0.000000e+00</td>\n      <td>110000.0</td>\n      <td>653686.346040</td>\n      <td>0.000000</td>\n      <td>2.148013e+15</td>\n      <td>0.000000e+00</td>\n      <td>True</td>\n    </tr>\n    <tr>\n      <th>2</th>\n      <td>14550</td>\n      <td>231</td>\n      <td>United States of America</td>\n      <td>2514</td>\n      <td>Maize and products</td>\n      <td>2017</td>\n      <td>vegetal</td>\n      <td>345852.0</td>\n      <td>53507.0</td>\n      <td>0.26</td>\n      <td>...</td>\n      <td>0.0</td>\n      <td>325084.76</td>\n      <td>2.467450e+12</td>\n      <td>1.888113e+10</td>\n      <td>12040000.0</td>\n      <td>204937.725767</td>\n      <td>156819.983711</td>\n      <td>2.761228e+16</td>\n      <td>2.112914e+14</td>\n      <td>True</td>\n    </tr>\n    <tr>\n      <th>3</th>\n      <td>11760</td>\n      <td>185</td>\n      <td>Russian Federation</td>\n      <td>2511</td>\n      <td>Wheat and products</td>\n      <td>2017</td>\n      <td>vegetal</td>\n      <td>51621.0</td>\n      <td>33544.0</td>\n      <td>3.05</td>\n      <td>...</td>\n      <td>0.0</td>\n      <td>145530.08</td>\n      <td>2.735602e+10</td>\n      <td>1.593554e+05</td>\n      <td>129430000.0</td>\n      <td>211.357620</td>\n      <td>0.123121</td>\n      <td>3.743355e+12</td>\n      <td>2.180595e+07</td>\n      <td>True</td>\n    </tr>\n    <tr>\n      <th>4</th>\n      <td>1306</td>\n      <td>21</td>\n      <td>Brazil</td>\n      <td>2514</td>\n      <td>Maize and products</td>\n      <td>2017</td>\n      <td>vegetal</td>\n      <td>76213.0</td>\n      <td>29555.0</td>\n      <td>1.02</td>\n      <td>...</td>\n      <td>0.0</td>\n      <td>207833.82</td>\n      <td>4.155575e+11</td>\n      <td>0.000000e+00</td>\n      <td>28940000.0</td>\n      <td>14359.277404</td>\n      <td>0.000000</td>\n      <td>9.201569e+14</td>\n      <td>0.000000e+00</td>\n      <td>True</td>\n    </tr>\n    <tr>\n      <th>5</th>\n      <td>13618</td>\n      <td>216</td>\n      <td>Thailand</td>\n      <td>2532</td>\n      <td>Cassava and products</td>\n      <td>2017</td>\n      <td>vegetal</td>\n      <td>8495.0</td>\n      <td>29409.0</td>\n      <td>0.04</td>\n      <td>...</td>\n      <td>0.0</td>\n      <td>69209.81</td>\n      <td>5.855634e+10</td>\n      <td>9.761075e+07</td>\n      <td>11590000.0</td>\n      <td>5052.316130</td>\n      <td>842.197995</td>\n      <td>7.628997e+12</td>\n      <td>1.271719e+10</td>\n      <td>True</td>\n    </tr>\n    <tr>\n      <th>6</th>\n      <td>1319</td>\n      <td>21</td>\n      <td>Brazil</td>\n      <td>2542</td>\n      <td>Sugar (Raw Equivalent)</td>\n      <td>2017</td>\n      <td>vegetal</td>\n      <td>12165.0</td>\n      <td>29254.0</td>\n      <td>0.00</td>\n      <td>...</td>\n      <td>0.0</td>\n      <td>207833.82</td>\n      <td>0.000000e+00</td>\n      <td>3.016168e+08</td>\n      <td>39300000.0</td>\n      <td>0.000000</td>\n      <td>767.472654</td>\n      <td>0.000000e+00</td>\n      <td>0.000000e+00</td>\n      <td>True</td>\n    </tr>\n    <tr>\n      <th>7</th>\n      <td>14548</td>\n      <td>231</td>\n      <td>United States of America</td>\n      <td>2511</td>\n      <td>Wheat and products</td>\n      <td>2017</td>\n      <td>vegetal</td>\n      <td>32155.0</td>\n      <td>28733.0</td>\n      <td>3.57</td>\n      <td>...</td>\n      <td>0.0</td>\n      <td>325084.76</td>\n      <td>3.150315e+11</td>\n      <td>4.864893e+06</td>\n      <td>80840000.0</td>\n      <td>3896.975678</td>\n      <td>6.017929</td>\n      <td>5.011511e+12</td>\n      <td>7.739056e+07</td>\n      <td>True</td>\n    </tr>\n    <tr>\n      <th>8</th>\n      <td>6197</td>\n      <td>101</td>\n      <td>Indonesia</td>\n      <td>2577</td>\n      <td>Palm Oil</td>\n      <td>2017</td>\n      <td>vegetal</td>\n      <td>9737.0</td>\n      <td>27212.0</td>\n      <td>13.53</td>\n      <td>...</td>\n      <td>0.0</td>\n      <td>264650.96</td>\n      <td>0.000000e+00</td>\n      <td>4.829880e+08</td>\n      <td>4940000.0</td>\n      <td>0.000000</td>\n      <td>9777.085061</td>\n      <td>0.000000e+00</td>\n      <td>0.000000e+00</td>\n      <td>True</td>\n    </tr>\n    <tr>\n      <th>9</th>\n      <td>548</td>\n      <td>9</td>\n      <td>Argentina</td>\n      <td>2514</td>\n      <td>Maize and products</td>\n      <td>2017</td>\n      <td>vegetal</td>\n      <td>20709.0</td>\n      <td>23780.0</td>\n      <td>0.30</td>\n      <td>...</td>\n      <td>0.0</td>\n      <td>43937.14</td>\n      <td>1.154668e+10</td>\n      <td>7.431572e+07</td>\n      <td>11570000.0</td>\n      <td>997.984476</td>\n      <td>642.313898</td>\n      <td>1.379215e+13</td>\n      <td>8.876778e+10</td>\n      <td>True</td>\n    </tr>\n    <tr>\n      <th>10</th>\n      <td>1866</td>\n      <td>33</td>\n      <td>Canada</td>\n      <td>2511</td>\n      <td>Wheat and products</td>\n      <td>2017</td>\n      <td>vegetal</td>\n      <td>10114.0</td>\n      <td>23429.0</td>\n      <td>3.76</td>\n      <td>...</td>\n      <td>0.0</td>\n      <td>36732.10</td>\n      <td>4.022165e+08</td>\n      <td>5.456737e+06</td>\n      <td>83540000.0</td>\n      <td>4.814658</td>\n      <td>6.531885</td>\n      <td>2.874832e+10</td>\n      <td>3.900189e+08</td>\n      <td>True</td>\n    </tr>\n    <tr>\n      <th>11</th>\n      <td>639</td>\n      <td>10</td>\n      <td>Australia</td>\n      <td>2511</td>\n      <td>Wheat and products</td>\n      <td>2017</td>\n      <td>vegetal</td>\n      <td>7921.0</td>\n      <td>22304.0</td>\n      <td>2.55</td>\n      <td>...</td>\n      <td>0.0</td>\n      <td>24584.62</td>\n      <td>2.853537e+09</td>\n      <td>7.923500e+06</td>\n      <td>76030000.0</td>\n      <td>37.531722</td>\n      <td>10.421544</td>\n      <td>1.590594e+11</td>\n      <td>4.416650e+08</td>\n      <td>True</td>\n    </tr>\n    <tr>\n      <th>12</th>\n      <td>10165</td>\n      <td>156</td>\n      <td>New Zealand</td>\n      <td>2848</td>\n      <td>Milk - Excluding Butter</td>\n      <td>2017</td>\n      <td>animal</td>\n      <td>616.0</td>\n      <td>20654.0</td>\n      <td>10.00</td>\n      <td>...</td>\n      <td>0.0</td>\n      <td>4702.03</td>\n      <td>3.672756e+08</td>\n      <td>1.905027e+05</td>\n      <td>110040000.0</td>\n      <td>3.337655</td>\n      <td>0.173121</td>\n      <td>1.068050e+09</td>\n      <td>5.539884e+05</td>\n      <td>True</td>\n    </tr>\n    <tr>\n      <th>13</th>\n      <td>14459</td>\n      <td>230</td>\n      <td>Ukraine</td>\n      <td>2514</td>\n      <td>Maize and products</td>\n      <td>2017</td>\n      <td>vegetal</td>\n      <td>5973.0</td>\n      <td>19531.0</td>\n      <td>0.33</td>\n      <td>...</td>\n      <td>0.0</td>\n      <td>44487.71</td>\n      <td>1.136661e+10</td>\n      <td>1.510135e+07</td>\n      <td>13270000.0</td>\n      <td>856.564424</td>\n      <td>113.800702</td>\n      <td>2.827519e+12</td>\n      <td>3.756561e+09</td>\n      <td>True</td>\n    </tr>\n    <tr>\n      <th>14</th>\n      <td>6156</td>\n      <td>100</td>\n      <td>India</td>\n      <td>2805</td>\n      <td>Rice and products</td>\n      <td>2017</td>\n      <td>vegetal</td>\n      <td>150954.0</td>\n      <td>18088.0</td>\n      <td>1.56</td>\n      <td>...</td>\n      <td>0.0</td>\n      <td>1338676.78</td>\n      <td>4.733722e+12</td>\n      <td>0.000000e+00</td>\n      <td>103210000.0</td>\n      <td>45864.952381</td>\n      <td>0.000000</td>\n      <td>7.200798e+12</td>\n      <td>0.000000e+00</td>\n      <td>True</td>\n    </tr>\n    <tr>\n      <th>15</th>\n      <td>14457</td>\n      <td>230</td>\n      <td>Ukraine</td>\n      <td>2511</td>\n      <td>Wheat and products</td>\n      <td>2017</td>\n      <td>vegetal</td>\n      <td>8797.0</td>\n      <td>18027.0</td>\n      <td>3.61</td>\n      <td>...</td>\n      <td>0.0</td>\n      <td>44487.71</td>\n      <td>8.671100e+09</td>\n      <td>3.604839e+06</td>\n      <td>123210000.0</td>\n      <td>70.376589</td>\n      <td>2.925768</td>\n      <td>1.000051e+11</td>\n      <td>4.157517e+07</td>\n      <td>True</td>\n    </tr>\n    <tr>\n      <th>16</th>\n      <td>13702</td>\n      <td>216</td>\n      <td>Thailand</td>\n      <td>2805</td>\n      <td>Rice and products</td>\n      <td>2017</td>\n      <td>vegetal</td>\n      <td>17382.0</td>\n      <td>17609.0</td>\n      <td>2.59</td>\n      <td>...</td>\n      <td>0.0</td>\n      <td>69209.81</td>\n      <td>4.511718e+10</td>\n      <td>0.000000e+00</td>\n      <td>177770000.0</td>\n      <td>253.795258</td>\n      <td>0.000000</td>\n      <td>4.131787e+11</td>\n      <td>0.000000e+00</td>\n      <td>True</td>\n    </tr>\n    <tr>\n      <th>17</th>\n      <td>4131</td>\n      <td>68</td>\n      <td>France</td>\n      <td>2511</td>\n      <td>Wheat and products</td>\n      <td>2017</td>\n      <td>vegetal</td>\n      <td>20665.0</td>\n      <td>16769.0</td>\n      <td>4.00</td>\n      <td>...</td>\n      <td>0.0</td>\n      <td>64842.51</td>\n      <td>8.378301e+09</td>\n      <td>6.811511e+07</td>\n      <td>111090000.0</td>\n      <td>75.419036</td>\n      <td>61.315250</td>\n      <td>5.726567e+11</td>\n      <td>4.655667e+09</td>\n      <td>True</td>\n    </tr>\n    <tr>\n      <th>18</th>\n      <td>4769</td>\n      <td>79</td>\n      <td>Germany</td>\n      <td>2848</td>\n      <td>Milk - Excluding Butter</td>\n      <td>2017</td>\n      <td>animal</td>\n      <td>26261.0</td>\n      <td>16698.0</td>\n      <td>19.05</td>\n      <td>...</td>\n      <td>0.0</td>\n      <td>82658.41</td>\n      <td>1.116302e+09</td>\n      <td>1.979173e+07</td>\n      <td>267520000.0</td>\n      <td>4.172779</td>\n      <td>7.398224</td>\n      <td>1.407896e+10</td>\n      <td>2.496161e+08</td>\n      <td>True</td>\n    </tr>\n    <tr>\n      <th>19</th>\n      <td>546</td>\n      <td>9</td>\n      <td>Argentina</td>\n      <td>2511</td>\n      <td>Wheat and products</td>\n      <td>2017</td>\n      <td>vegetal</td>\n      <td>5403.0</td>\n      <td>14041.0</td>\n      <td>2.48</td>\n      <td>...</td>\n      <td>0.0</td>\n      <td>43937.14</td>\n      <td>4.939413e+09</td>\n      <td>2.084817e+05</td>\n      <td>105170000.0</td>\n      <td>46.965991</td>\n      <td>0.198233</td>\n      <td>0.000000e+00</td>\n      <td>0.000000e+00</td>\n      <td>True</td>\n    </tr>\n  </tbody>\n</table>\n<p>20 rows × 33 columns</p>\n</div>"
     },
     "execution_count": 162,
     "metadata": {},
     "output_type": "execute_result"
    }
   ],
   "source": [
    "imp = data[(data.item.isin(most_exported_products)) & (data.year == selected_year)]\n",
    "imp = imp.sort_values('import_quantity', ascending= False)\n",
    "\n",
    "imp = imp.reset_index()\n",
    "imp['great_import_from_undern_countries'] = imp.index < 200\n",
    "\n",
    "imp.head(20)"
   ]
  },
  {
   "cell_type": "markdown",
   "metadata": {},
   "source": [
    "# Task 5 : Identify major trends\n"
   ]
  },
  {
   "cell_type": "code",
   "execution_count": 163,
   "metadata": {
    "pycharm": {
     "name": "#%%\n"
    }
   },
   "outputs": [],
   "source": [
    "# Assign vegetal oring values only to vegetables_data to be used on question that require only vegetables\n",
    "vegetables_data = data[:][data.origin == 'vegetal']"
   ]
  },
  {
   "cell_type": "markdown",
   "metadata": {},
   "source": [
    "**1. Considering only plant products, what proportion of the global domestic supply is used as :**\n",
    "    * food\n",
    "    * feed\n",
    "    * losses\n",
    "    * other uses"
   ]
  },
  {
   "cell_type": "code",
   "execution_count": 164,
   "metadata": {
    "pycharm": {
     "name": "#%%\n"
    }
   },
   "outputs": [
    {
     "name": "stderr",
     "output_type": "stream",
     "text": [
      "/Users/souzaalves/.conda/envs/untitled1/lib/python3.7/site-packages/ipykernel_launcher.py:2: FutureWarning: Indexing with multiple keys (implicitly converted to a tuple of keys) will be deprecated, use a list instead.\n",
      "  \n"
     ]
    },
    {
     "data": {
      "text/plain": "          food     feed     losses  other_uses_non-food  \\\nyear                                                      \n2017  87006.61  7563.76  5205155.0             194000.0   \n\n      domestic_supply_quantity       total  \nyear                                        \n2017                 1796223.0  5493725.37  ",
      "text/html": "<div>\n<style scoped>\n    .dataframe tbody tr th:only-of-type {\n        vertical-align: middle;\n    }\n\n    .dataframe tbody tr th {\n        vertical-align: top;\n    }\n\n    .dataframe thead th {\n        text-align: right;\n    }\n</style>\n<table border=\"1\" class=\"dataframe\">\n  <thead>\n    <tr style=\"text-align: right;\">\n      <th></th>\n      <th>food</th>\n      <th>feed</th>\n      <th>losses</th>\n      <th>other_uses_non-food</th>\n      <th>domestic_supply_quantity</th>\n      <th>total</th>\n    </tr>\n    <tr>\n      <th>year</th>\n      <th></th>\n      <th></th>\n      <th></th>\n      <th></th>\n      <th></th>\n      <th></th>\n    </tr>\n  </thead>\n  <tbody>\n    <tr>\n      <th>2017</th>\n      <td>87006.61</td>\n      <td>7563.76</td>\n      <td>5205155.0</td>\n      <td>194000.0</td>\n      <td>1796223.0</td>\n      <td>5493725.37</td>\n    </tr>\n  </tbody>\n</table>\n</div>"
     },
     "execution_count": 164,
     "metadata": {},
     "output_type": "execute_result"
    }
   ],
   "source": [
    "# Calculating the total global of all origin vegetables\n",
    "global_food_total_supply = data[data.origin == 'vegetal'].groupby('year')['food','feed', 'losses', 'other_uses_non-food', 'domestic_supply_quantity'].sum()\n",
    "global_food_total_supply.food = global_food_total_supply.food.fillna(global_food_total_supply.food.median())\n",
    "global_food_total_supply.feed = global_food_total_supply.feed.fillna(global_food_total_supply.feed.median())\n",
    "global_food_total_supply['other_uses_non-food'] = global_food_total_supply['other_uses_non-food'].fillna(global_food_total_supply['other_uses_non-food'].median())\n",
    "global_food_total_supply['total'] = (global_food_total_supply.food +global_food_total_supply.feed +global_food_total_supply.losses + global_food_total_supply['other_uses_non-food'])\n",
    "global_food_total_supply"
   ]
  },
  {
   "cell_type": "code",
   "execution_count": 165,
   "metadata": {
    "pycharm": {
     "name": "#%%\n"
    }
   },
   "outputs": [
    {
     "data": {
      "text/plain": "       food   feed  losses  other_uses_non-food\nyear                                           \n2017  0.016  0.001   0.947                0.035",
      "text/html": "<div>\n<style scoped>\n    .dataframe tbody tr th:only-of-type {\n        vertical-align: middle;\n    }\n\n    .dataframe tbody tr th {\n        vertical-align: top;\n    }\n\n    .dataframe thead th {\n        text-align: right;\n    }\n</style>\n<table border=\"1\" class=\"dataframe\">\n  <thead>\n    <tr style=\"text-align: right;\">\n      <th></th>\n      <th>food</th>\n      <th>feed</th>\n      <th>losses</th>\n      <th>other_uses_non-food</th>\n    </tr>\n    <tr>\n      <th>year</th>\n      <th></th>\n      <th></th>\n      <th></th>\n      <th></th>\n    </tr>\n  </thead>\n  <tbody>\n    <tr>\n      <th>2017</th>\n      <td>0.016</td>\n      <td>0.001</td>\n      <td>0.947</td>\n      <td>0.035</td>\n    </tr>\n  </tbody>\n</table>\n</div>"
     },
     "execution_count": 165,
     "metadata": {},
     "output_type": "execute_result"
    }
   ],
   "source": [
    "# divide food, feed, losses, other_uses_non-food by domestic_supply_quantity to get ist global supply proportions.\n",
    "(global_food_total_supply[['food','feed', 'losses', 'other_uses_non-food']]  / global_food_total_supply.total.iloc[0]).round(3)"
   ]
  },
  {
   "cell_type": "markdown",
   "metadata": {},
   "source": [
    "**2. How many humans on earth could be fed if all the plant-based food supply (crops),\n",
    "including food and feed, was used for human consumption? Give the results in terms of calories, and protein.\n",
    "Express these two results as a percentage of the world's population.**\n"
   ]
  },
  {
   "cell_type": "code",
   "execution_count": 166,
   "metadata": {
    "pycharm": {
     "name": "#%%\n"
    }
   },
   "outputs": [],
   "source": [
    "# Daily kcal, protein recommend Per capita and global average weight\n",
    "# according to Wikipedia https://en.wikipedia.org/wiki/Human_body_weight.\n",
    "NB_KCAL_PER_CAPITA_PER_DAY = 2500\n",
    "KG_PROT_PER_CAPITA_PER_DAY = 62 * .0009"
   ]
  },
  {
   "cell_type": "code",
   "execution_count": 167,
   "metadata": {
    "pycharm": {
     "name": "#%%\n"
    }
   },
   "outputs": [],
   "source": [
    "# Calculating food_feed_kcal using it unit 10^6 extracting its kcal value from ration kcal kg.\n",
    "# Calculating food_feed_kgprot using it unit 10^6 extracting its kg value from protein percentage removing its percentage  0.1.\n",
    "data[\"food_feed_kcal\"] = vegetables_data[[\"food\",\"feed\"]].sum(axis=1) * 1000000 * vegetables_data[\"ratio_kcalkg\"]\n",
    "data[\"food_feed_kgprot\"] = vegetables_data[[\"food\",\"feed\"]].sum(axis=1) * 1000000 * vegetables_data[\"protein_percentage\"] * .01"
   ]
  },
  {
   "cell_type": "code",
   "execution_count": 168,
   "metadata": {
    "pycharm": {
     "name": "#%%\n"
    }
   },
   "outputs": [
    {
     "data": {
      "text/plain": "year\n2017    1.872525e+14\nName: food_feed_kcal, dtype: float64"
     },
     "execution_count": 168,
     "metadata": {},
     "output_type": "execute_result"
    }
   ],
   "source": [
    "# Calculating food_feed_kcal sum\n",
    "ff_kcal = data.groupby(\"year\")[\"food_feed_kcal\"].sum()\n",
    "ff_kcal"
   ]
  },
  {
   "cell_type": "code",
   "execution_count": 169,
   "metadata": {
    "pycharm": {
     "name": "#%%\n"
    }
   },
   "outputs": [
    {
     "data": {
      "text/plain": "year\n2017    1.651205e+11\nName: food_feed_kgprot, dtype: float64"
     },
     "execution_count": 169,
     "metadata": {},
     "output_type": "execute_result"
    }
   ],
   "source": [
    "#Calculating food_feed_kgprot sum\n",
    "ff_kgprot = data.groupby(\"year\")[\"food_feed_kgprot\"].sum()\n",
    "ff_kgprot"
   ]
  },
  {
   "cell_type": "code",
   "execution_count": 170,
   "metadata": {
    "pycharm": {
     "name": "#%%\n"
    }
   },
   "outputs": [
    {
     "data": {
      "text/plain": "      energy_ng_feed  proteins_nb_feed  energy_ng_feed_percentage  \\\nyear                                                                \n2017    2.052082e+08      8.107256e+09                        0.0   \n\n      proteins_nb_feed_percentage  \nyear                               \n2017                          0.0  ",
      "text/html": "<div>\n<style scoped>\n    .dataframe tbody tr th:only-of-type {\n        vertical-align: middle;\n    }\n\n    .dataframe tbody tr th {\n        vertical-align: top;\n    }\n\n    .dataframe thead th {\n        text-align: right;\n    }\n</style>\n<table border=\"1\" class=\"dataframe\">\n  <thead>\n    <tr style=\"text-align: right;\">\n      <th></th>\n      <th>energy_ng_feed</th>\n      <th>proteins_nb_feed</th>\n      <th>energy_ng_feed_percentage</th>\n      <th>proteins_nb_feed_percentage</th>\n    </tr>\n    <tr>\n      <th>year</th>\n      <th></th>\n      <th></th>\n      <th></th>\n      <th></th>\n    </tr>\n  </thead>\n  <tbody>\n    <tr>\n      <th>2017</th>\n      <td>2.052082e+08</td>\n      <td>8.107256e+09</td>\n      <td>0.0</td>\n      <td>0.0</td>\n    </tr>\n  </tbody>\n</table>\n</div>"
     },
     "execution_count": 170,
     "metadata": {},
     "output_type": "execute_result"
    }
   ],
   "source": [
    "# Creating food feed quantities in oder calculating its humans nutrients recommend values.\n",
    "ff_quantities = pd.DataFrame({'ffKcal': ff_kcal, 'ffKgprot': ff_kgprot})\n",
    "# Recommended food and feed per capita\n",
    "temp = ff_quantities / [NB_KCAL_PER_CAPITA_PER_DAY, KG_PROT_PER_CAPITA_PER_DAY] / 365\n",
    "temp.columns = ['energy_ng_feed', 'proteins_nb_feed']\n",
    "\n",
    "# Calculating the percentage of Engine and Protein need for the global population .\n",
    "temp['energy_ng_feed_percentage'] = round(100 * temp['energy_ng_feed'] / WORLD_POPULATION.iloc[0])\n",
    "temp['proteins_nb_feed_percentage'] = round(100 * temp['proteins_nb_feed'] / WORLD_POPULATION.iloc[0])\n",
    "temp"
   ]
  },
  {
   "cell_type": "markdown",
   "metadata": {},
   "source": [
    "**3. How many humans could be fed with the global food supply? Give the results in terms of calories and protein.\n",
    "Express these two results as a percentage of the world's population.**"
   ]
  },
  {
   "cell_type": "code",
   "execution_count": 171,
   "metadata": {
    "pycharm": {
     "name": "#%%\n"
    }
   },
   "outputs": [],
   "source": [
    "#Calculating totalFoodSupplyKcal and food_supply_kgprotein sum\n",
    "total_food_supply_kcal = data.groupby('year')['food_supply_kcal'].sum()\n",
    "total_food_supply_proteins = data.groupby('year')['food_supply_kgprotein'].sum()\n",
    "\n",
    "# Creating food feed quantities in oder calculating its humans nutrients recommend values.\n",
    "fs_quantities = pd.DataFrame({'totalFoodSupplyKcal': total_food_supply_kcal, 'totalFoodSupplyProteins': total_food_supply_proteins})"
   ]
  },
  {
   "cell_type": "code",
   "execution_count": 172,
   "metadata": {
    "pycharm": {
     "name": "#%%\n"
    }
   },
   "outputs": [
    {
     "data": {
      "text/plain": "      energy_ng_feed  proteins_nb_feed  energy_ng_feed_percentage  \\\nyear                                                                \n2017    2.114803e+08      8.945629e+09                        0.0   \n\n      proteins_nb_feed_percentage  \nyear                               \n2017                          0.0  ",
      "text/html": "<div>\n<style scoped>\n    .dataframe tbody tr th:only-of-type {\n        vertical-align: middle;\n    }\n\n    .dataframe tbody tr th {\n        vertical-align: top;\n    }\n\n    .dataframe thead th {\n        text-align: right;\n    }\n</style>\n<table border=\"1\" class=\"dataframe\">\n  <thead>\n    <tr style=\"text-align: right;\">\n      <th></th>\n      <th>energy_ng_feed</th>\n      <th>proteins_nb_feed</th>\n      <th>energy_ng_feed_percentage</th>\n      <th>proteins_nb_feed_percentage</th>\n    </tr>\n    <tr>\n      <th>year</th>\n      <th></th>\n      <th></th>\n      <th></th>\n      <th></th>\n    </tr>\n  </thead>\n  <tbody>\n    <tr>\n      <th>2017</th>\n      <td>2.114803e+08</td>\n      <td>8.945629e+09</td>\n      <td>0.0</td>\n      <td>0.0</td>\n    </tr>\n  </tbody>\n</table>\n</div>"
     },
     "execution_count": 172,
     "metadata": {},
     "output_type": "execute_result"
    }
   ],
   "source": [
    "temp = fs_quantities / [NB_KCAL_PER_CAPITA_PER_DAY, KG_PROT_PER_CAPITA_PER_DAY] / 365\n",
    "temp.columns = ['energy_ng_feed', 'proteins_nb_feed']\n",
    "\n",
    "# Calculating the percentage of Engine and Protein need for the global population . use the population from pop\n",
    "temp['energy_ng_feed_percentage'] = round(100 * temp['energy_ng_feed'] / WORLD_POPULATION.iloc[0])\n",
    "temp['proteins_nb_feed_percentage'] = round(100 * temp['proteins_nb_feed'] / WORLD_POPULATION.iloc[0])\n",
    "\n",
    "temp"
   ]
  },
  {
   "cell_type": "markdown",
   "metadata": {},
   "source": [
    "**4. From the collected data on undernutrition, what proportion of the world's population is considered undernourished?**"
   ]
  },
  {
   "cell_type": "code",
   "execution_count": 173,
   "metadata": {
    "pycharm": {
     "name": "#%%\n"
    }
   },
   "outputs": [
    {
     "data": {
      "text/plain": "0.0"
     },
     "execution_count": 173,
     "metadata": {},
     "output_type": "execute_result"
    }
   ],
   "source": [
    "# Calculating the total global undernourished based on its unit 10^6.\n",
    "global_undernourished = data_undernourished.value.values.sum() * np.power(10,6)\n",
    "\n",
    "# Calculating the percentage of the global undernourished.\n",
    "global_undernourished_proportion = round(100 * global_undernourished / WORLD_POPULATION.iloc[0])\n",
    "global_undernourished_proportion"
   ]
  },
  {
   "cell_type": "markdown",
   "metadata": {},
   "source": [
    "**5. Considering the 25 items most exported by the countries with a high rate of undernutrition, which three of them:**\n",
    "    * Have the greatest other_uses to domestic_supply_quantity ratio and what are they used for?\n",
    "    * Have the greatest feed to (food+feed) ratio and what are they used for?\n"
   ]
  },
  {
   "cell_type": "code",
   "execution_count": 174,
   "metadata": {
    "pycharm": {
     "name": "#%%\n"
    }
   },
   "outputs": [
    {
     "data": {
      "text/plain": "                                   index  country_code    year  production  \\\nitem                  item_code                                              \nSugar cane            2536       1214010         19468  302550   1960083.0   \nYams                  2535        933844         14972  238006     65952.0   \nPotatoes and products 2531       1357896         21778  344907    475914.0   \n\n                                 import_quantity  stock_variation  \\\nitem                  item_code                                     \nSugar cane            2536                 154.0             0.62   \nYams                  2535                 123.0             6.16   \nPotatoes and products 2531               33811.0            15.54   \n\n                                 domestic_supply_quantity    losses  \\\nitem                  item_code                                       \nSugar cane            2536                        49298.0   13168.0   \nYams                  2535                         4668.0   34823.0   \nPotatoes and products 2531                        65407.0  307118.0   \n\n                                 residuals     food  ...  food_supply_kcal  \\\nitem                  item_code                      ...                     \nSugar cane            2536           136.0   173.22  ...      1.540929e+13   \nYams                  2535          3189.0  1178.09  ...      2.793145e+11   \nPotatoes and products 2531         10244.0  5351.03  ...      1.400091e+13   \n\n                                 food_supply_kgprotein  food_supply_kg  \\\nitem                  item_code                                          \nSugar cane            2536                2.458220e+10    1.732200e+08   \nYams                  2535                1.086037e+09    1.178090e+09   \nPotatoes and products 2531                1.618615e+08    5.351030e+09   \n\n                                 ratio_kcalkg  protein_percentage  \\\nitem                  item_code                                     \nSugar cane            2536       5.000285e+07       157025.247559   \nYams                  2535       7.678143e+03         1067.773767   \nPotatoes and products 2531       4.159124e+05          304.168850   \n\n                                 dom_sup_kcal  dom_sup_kgprot  \\\nitem                  item_code                                 \nSugar cane            2536       3.492148e+17    1.046730e+13   \nYams                  2535       8.632404e+12    3.543309e+10   \nPotatoes and products 2531       3.417071e+15    9.147405e+09   \n\n                                 great_import_from_undern_countries  \\\nitem                  item_code                                       \nSugar cane            2536                                      0.0   \nYams                  2535                                      0.0   \nPotatoes and products 2531                                      8.0   \n\n                                 other_uses_%  feed_vs_food  \nitem                  item_code                              \nSugar cane            2536           0.699298      0.004597  \nYams                  2535           0.558055      0.041938  \nPotatoes and products 2531           0.506949      0.041989  \n\n[3 rows x 31 columns]",
      "text/html": "<div>\n<style scoped>\n    .dataframe tbody tr th:only-of-type {\n        vertical-align: middle;\n    }\n\n    .dataframe tbody tr th {\n        vertical-align: top;\n    }\n\n    .dataframe thead th {\n        text-align: right;\n    }\n</style>\n<table border=\"1\" class=\"dataframe\">\n  <thead>\n    <tr style=\"text-align: right;\">\n      <th></th>\n      <th></th>\n      <th>index</th>\n      <th>country_code</th>\n      <th>year</th>\n      <th>production</th>\n      <th>import_quantity</th>\n      <th>stock_variation</th>\n      <th>domestic_supply_quantity</th>\n      <th>losses</th>\n      <th>residuals</th>\n      <th>food</th>\n      <th>...</th>\n      <th>food_supply_kcal</th>\n      <th>food_supply_kgprotein</th>\n      <th>food_supply_kg</th>\n      <th>ratio_kcalkg</th>\n      <th>protein_percentage</th>\n      <th>dom_sup_kcal</th>\n      <th>dom_sup_kgprot</th>\n      <th>great_import_from_undern_countries</th>\n      <th>other_uses_%</th>\n      <th>feed_vs_food</th>\n    </tr>\n    <tr>\n      <th>item</th>\n      <th>item_code</th>\n      <th></th>\n      <th></th>\n      <th></th>\n      <th></th>\n      <th></th>\n      <th></th>\n      <th></th>\n      <th></th>\n      <th></th>\n      <th></th>\n      <th></th>\n      <th></th>\n      <th></th>\n      <th></th>\n      <th></th>\n      <th></th>\n      <th></th>\n      <th></th>\n      <th></th>\n      <th></th>\n      <th></th>\n    </tr>\n  </thead>\n  <tbody>\n    <tr>\n      <th>Sugar cane</th>\n      <th>2536</th>\n      <td>1214010</td>\n      <td>19468</td>\n      <td>302550</td>\n      <td>1960083.0</td>\n      <td>154.0</td>\n      <td>0.62</td>\n      <td>49298.0</td>\n      <td>13168.0</td>\n      <td>136.0</td>\n      <td>173.22</td>\n      <td>...</td>\n      <td>1.540929e+13</td>\n      <td>2.458220e+10</td>\n      <td>1.732200e+08</td>\n      <td>5.000285e+07</td>\n      <td>157025.247559</td>\n      <td>3.492148e+17</td>\n      <td>1.046730e+13</td>\n      <td>0.0</td>\n      <td>0.699298</td>\n      <td>0.004597</td>\n    </tr>\n    <tr>\n      <th>Yams</th>\n      <th>2535</th>\n      <td>933844</td>\n      <td>14972</td>\n      <td>238006</td>\n      <td>65952.0</td>\n      <td>123.0</td>\n      <td>6.16</td>\n      <td>4668.0</td>\n      <td>34823.0</td>\n      <td>3189.0</td>\n      <td>1178.09</td>\n      <td>...</td>\n      <td>2.793145e+11</td>\n      <td>1.086037e+09</td>\n      <td>1.178090e+09</td>\n      <td>7.678143e+03</td>\n      <td>1067.773767</td>\n      <td>8.632404e+12</td>\n      <td>3.543309e+10</td>\n      <td>0.0</td>\n      <td>0.558055</td>\n      <td>0.041938</td>\n    </tr>\n    <tr>\n      <th>Potatoes and products</th>\n      <th>2531</th>\n      <td>1357896</td>\n      <td>21778</td>\n      <td>344907</td>\n      <td>475914.0</td>\n      <td>33811.0</td>\n      <td>15.54</td>\n      <td>65407.0</td>\n      <td>307118.0</td>\n      <td>10244.0</td>\n      <td>5351.03</td>\n      <td>...</td>\n      <td>1.400091e+13</td>\n      <td>1.618615e+08</td>\n      <td>5.351030e+09</td>\n      <td>4.159124e+05</td>\n      <td>304.168850</td>\n      <td>3.417071e+15</td>\n      <td>9.147405e+09</td>\n      <td>8.0</td>\n      <td>0.506949</td>\n      <td>0.041989</td>\n    </tr>\n  </tbody>\n</table>\n<p>3 rows × 31 columns</p>\n</div>"
     },
     "execution_count": 174,
     "metadata": {},
     "output_type": "execute_result"
    }
   ],
   "source": [
    "# Calculating the total of the most imported products.\n",
    "imp = imp.groupby(['item', 'item_code']).sum()\n",
    "# Calculating the proportion of the most imported products in the other uses food, feed vs food related to domestic supply quantity.\n",
    "safe_mask_div = imp['domestic_supply_quantity'] != 0\n",
    "imp['other_uses_%'] = imp.loc[ safe_mask_div, 'other_uses_non-food'] / imp.loc[safe_mask_div, 'domestic_supply_quantity']\n",
    "\n",
    "# Calculating the proportion of the most imported products based on the sum of feed and food related to feed.\n",
    "imp['feed_vs_food'] = imp['feed'] / (imp['feed'] + imp['food'])\n",
    "\n",
    "# Top 3 other uses percentage.\n",
    "imp.sort_values('other_uses_%', ascending = False).iloc[:3]"
   ]
  },
  {
   "cell_type": "code",
   "execution_count": 175,
   "metadata": {
    "pycharm": {
     "name": "#%%\n"
    }
   },
   "outputs": [
    {
     "data": {
      "text/plain": "                                        index  country_code    year  \\\nitem                       item_code                                  \nSoyabeans                  2555       1360014         21778  344907   \nPulses, Other and products 2549       1359672         21778  344907   \nPoultry Meat               2734       1368823         21778  344907   \n\n                                      production  import_quantity  \\\nitem                       item_code                                \nSoyabeans                  2555         450535.0         152263.0   \nPulses, Other and products 2549          46061.0           8616.0   \nPoultry Meat               2734         136136.0          19093.0   \n\n                                      stock_variation  \\\nitem                       item_code                    \nSoyabeans                  2555                 41.66   \nPulses, Other and products 2549                 30.57   \nPoultry Meat               2734                844.09   \n\n                                      domestic_supply_quantity    losses  \\\nitem                       item_code                                       \nSoyabeans                  2555                        38702.0   16201.0   \nPulses, Other and products 2549                        10421.0   30755.0   \nPoultry Meat               2734                            0.0  130414.0   \n\n                                      residuals     food  ...  \\\nitem                       item_code                      ...   \nSoyabeans                  2555           938.0   117.93  ...   \nPulses, Other and products 2549          4648.0   495.96  ...   \nPoultry Meat               2734         12838.0  3476.71  ...   \n\n                                      food_supply_kcal  food_supply_kgprotein  \\\nitem                       item_code                                            \nSoyabeans                  2555           1.404806e+12           4.422685e+07   \nPulses, Other and products 2549           4.424378e+11           7.665469e+06   \nPoultry Meat               2734           1.059099e+12           4.146087e+07   \n\n                                      food_supply_kg  ratio_kcalkg  \\\nitem                       item_code                                 \nSoyabeans                  2555         1.179300e+08  3.555831e+06   \nPulses, Other and products 2549         4.959600e+08  1.979845e+05   \nPoultry Meat               2734         3.476710e+09  2.117976e+05   \n\n                                      protein_percentage  dom_sup_kcal  \\\nitem                       item_code                                     \nSoyabeans                  2555            234908.103925  9.422165e+15   \nPulses, Other and products 2549                71.183426  1.683899e+14   \nPoultry Meat               2734               234.318160  0.000000e+00   \n\n                                      dom_sup_kgprot  \\\nitem                       item_code                   \nSoyabeans                  2555         1.351083e+12   \nPulses, Other and products 2549         2.791809e+08   \nPoultry Meat               2734         0.000000e+00   \n\n                                      great_import_from_undern_countries  \\\nitem                       item_code                                       \nSoyabeans                  2555                                      8.0   \nPulses, Other and products 2549                                      2.0   \nPoultry Meat               2734                                      6.0   \n\n                                      other_uses_%  feed_vs_food  \nitem                       item_code                              \nSoyabeans                  2555           0.307633      0.445375  \nPulses, Other and products 2549           0.224163      0.376088  \nPoultry Meat               2734                NaN      0.260514  \n\n[3 rows x 31 columns]",
      "text/html": "<div>\n<style scoped>\n    .dataframe tbody tr th:only-of-type {\n        vertical-align: middle;\n    }\n\n    .dataframe tbody tr th {\n        vertical-align: top;\n    }\n\n    .dataframe thead th {\n        text-align: right;\n    }\n</style>\n<table border=\"1\" class=\"dataframe\">\n  <thead>\n    <tr style=\"text-align: right;\">\n      <th></th>\n      <th></th>\n      <th>index</th>\n      <th>country_code</th>\n      <th>year</th>\n      <th>production</th>\n      <th>import_quantity</th>\n      <th>stock_variation</th>\n      <th>domestic_supply_quantity</th>\n      <th>losses</th>\n      <th>residuals</th>\n      <th>food</th>\n      <th>...</th>\n      <th>food_supply_kcal</th>\n      <th>food_supply_kgprotein</th>\n      <th>food_supply_kg</th>\n      <th>ratio_kcalkg</th>\n      <th>protein_percentage</th>\n      <th>dom_sup_kcal</th>\n      <th>dom_sup_kgprot</th>\n      <th>great_import_from_undern_countries</th>\n      <th>other_uses_%</th>\n      <th>feed_vs_food</th>\n    </tr>\n    <tr>\n      <th>item</th>\n      <th>item_code</th>\n      <th></th>\n      <th></th>\n      <th></th>\n      <th></th>\n      <th></th>\n      <th></th>\n      <th></th>\n      <th></th>\n      <th></th>\n      <th></th>\n      <th></th>\n      <th></th>\n      <th></th>\n      <th></th>\n      <th></th>\n      <th></th>\n      <th></th>\n      <th></th>\n      <th></th>\n      <th></th>\n      <th></th>\n    </tr>\n  </thead>\n  <tbody>\n    <tr>\n      <th>Soyabeans</th>\n      <th>2555</th>\n      <td>1360014</td>\n      <td>21778</td>\n      <td>344907</td>\n      <td>450535.0</td>\n      <td>152263.0</td>\n      <td>41.66</td>\n      <td>38702.0</td>\n      <td>16201.0</td>\n      <td>938.0</td>\n      <td>117.93</td>\n      <td>...</td>\n      <td>1.404806e+12</td>\n      <td>4.422685e+07</td>\n      <td>1.179300e+08</td>\n      <td>3.555831e+06</td>\n      <td>234908.103925</td>\n      <td>9.422165e+15</td>\n      <td>1.351083e+12</td>\n      <td>8.0</td>\n      <td>0.307633</td>\n      <td>0.445375</td>\n    </tr>\n    <tr>\n      <th>Pulses, Other and products</th>\n      <th>2549</th>\n      <td>1359672</td>\n      <td>21778</td>\n      <td>344907</td>\n      <td>46061.0</td>\n      <td>8616.0</td>\n      <td>30.57</td>\n      <td>10421.0</td>\n      <td>30755.0</td>\n      <td>4648.0</td>\n      <td>495.96</td>\n      <td>...</td>\n      <td>4.424378e+11</td>\n      <td>7.665469e+06</td>\n      <td>4.959600e+08</td>\n      <td>1.979845e+05</td>\n      <td>71.183426</td>\n      <td>1.683899e+14</td>\n      <td>2.791809e+08</td>\n      <td>2.0</td>\n      <td>0.224163</td>\n      <td>0.376088</td>\n    </tr>\n    <tr>\n      <th>Poultry Meat</th>\n      <th>2734</th>\n      <td>1368823</td>\n      <td>21778</td>\n      <td>344907</td>\n      <td>136136.0</td>\n      <td>19093.0</td>\n      <td>844.09</td>\n      <td>0.0</td>\n      <td>130414.0</td>\n      <td>12838.0</td>\n      <td>3476.71</td>\n      <td>...</td>\n      <td>1.059099e+12</td>\n      <td>4.146087e+07</td>\n      <td>3.476710e+09</td>\n      <td>2.117976e+05</td>\n      <td>234.318160</td>\n      <td>0.000000e+00</td>\n      <td>0.000000e+00</td>\n      <td>6.0</td>\n      <td>NaN</td>\n      <td>0.260514</td>\n    </tr>\n  </tbody>\n</table>\n<p>3 rows × 31 columns</p>\n</div>"
     },
     "execution_count": 175,
     "metadata": {},
     "output_type": "execute_result"
    }
   ],
   "source": [
    "# Top 3 feed vs food percentage.\n",
    "imp.sort_values('feed_vs_food', ascending = False).iloc[:3]"
   ]
  },
  {
   "cell_type": "markdown",
   "metadata": {},
   "source": [
    "**6. Taking only grains (cereals) for food and feed into account, what proportion (in terms of weight) is used for feed?**"
   ]
  },
  {
   "cell_type": "code",
   "execution_count": 176,
   "metadata": {
    "pycharm": {
     "name": "#%%\n"
    }
   },
   "outputs": [],
   "source": [
    "#Feed_proportion = vegetables_data[ data_crops.item ].feed / vegetables_data[ data_crops.item ].feed + vegetables_data[ data_crops.item  ].food\n",
    "\n",
    "# Creating only cereal columns on the all food and animal data set.\n",
    "data['only_cereal'] = data.item_code.isin(data_crops.item_code.unique())\n",
    "\n",
    "total_cereal_food = data.loc[data.only_cereal, 'food'].sum()\n",
    "total_cereal_feed = data.loc[data.only_cereal, 'feed'].sum()"
   ]
  },
  {
   "cell_type": "code",
   "execution_count": 177,
   "metadata": {
    "pycharm": {
     "name": "#%%\n"
    }
   },
   "outputs": [
    {
     "data": {
      "text/plain": "17.0"
     },
     "execution_count": 177,
     "metadata": {},
     "output_type": "execute_result"
    }
   ],
   "source": [
    "# Calculating feed vs food percentage.\n",
    "round(100 * total_cereal_feed / (total_cereal_feed + total_cereal_food))"
   ]
  },
  {
   "cell_type": "markdown",
   "metadata": {},
   "source": [
    "**7. How many tons of grains (cereals) could be released if the US reduced its production of animal products by 10%?\n",
    "Convert this quantity to kcal, and the number of potentially fed humans.**\n"
   ]
  },
  {
   "cell_type": "code",
   "execution_count": 178,
   "metadata": {
    "pycharm": {
     "name": "#%%\n"
    }
   },
   "outputs": [
    {
     "data": {
      "text/plain": "year\n2017    268300.0\nName: value, dtype: float64"
     },
     "execution_count": 178,
     "metadata": {},
     "output_type": "execute_result"
    }
   ],
   "source": [
    "# Creating USA animal data set.\n",
    "Us_animals_data = data_animals[ data_animals.country_code == 231 ]\n",
    "\n",
    "# Calculating the total USA animal feed percentage.\n",
    "Us_animal_production =   Us_animals_data[Us_animals_data.element == 'Feed'].groupby('year')['value'].sum() * 1000 * 0.1\n",
    "Us_animal_production"
   ]
  },
  {
   "cell_type": "code",
   "execution_count": 179,
   "metadata": {
    "pycharm": {
     "name": "#%%\n"
    }
   },
   "outputs": [
    {
     "data": {
      "text/plain": "year\n2017    1.993343e+13\ndtype: float64"
     },
     "execution_count": 179,
     "metadata": {},
     "output_type": "execute_result"
    }
   ],
   "source": [
    "# Creating the total USA animal ratio kcal production.\n",
    "Us_animal_production_kcal = Us_animal_production * data.groupby(['year'])['ratio_kcalkg'].sum() \n",
    "Us_animal_production_kcal"
   ]
  },
  {
   "cell_type": "code",
   "execution_count": 180,
   "metadata": {
    "pycharm": {
     "name": "#%%\n"
    }
   },
   "outputs": [
    {
     "data": {
      "text/plain": "year\n2017    2.683000e+11\nName: value, dtype: float64"
     },
     "execution_count": 180,
     "metadata": {},
     "output_type": "execute_result"
    }
   ],
   "source": [
    "# Creating the total USA animal ratio kg production.\n",
    "Us_animal_production_kg = Us_animal_production * np.power(10,6) \n",
    "Us_animal_production_kg"
   ]
  },
  {
   "cell_type": "markdown",
   "metadata": {},
   "source": [
    "**8. In Thailand, what proportion of cassava is exported? What is the proportion of undernutrition?**"
   ]
  },
  {
   "cell_type": "code",
   "execution_count": 181,
   "metadata": {
    "pycharm": {
     "name": "#%%\n"
    }
   },
   "outputs": [
    {
     "data": {
      "text/plain": "13618    3.646027\ndtype: float64"
     },
     "execution_count": 181,
     "metadata": {},
     "output_type": "execute_result"
    }
   ],
   "source": [
    "# Creating Thailand vegetables data set.\n",
    "thai_vegetables_data = vegetables_data[vegetables_data.country.str.startswith('Thai')]\n",
    "\n",
    "# Filtering Cassava Products from Thailand vegetables.\n",
    "thai_cassava =  thai_vegetables_data[thai_vegetables_data.item.str.startswith('Cassava')]\n",
    "\n",
    "# Calculating the proportion of Cassava production export.\n",
    "thai_cassava_proportion =  thai_cassava.export_quantity / thai_cassava.production\n",
    "thai_cassava_proportion"
   ]
  },
  {
   "cell_type": "code",
   "execution_count": 182,
   "metadata": {
    "pycharm": {
     "name": "#%%\n"
    }
   },
   "outputs": [
    {
     "data": {
      "text/plain": "151    2665.700026\nName: value, dtype: float64"
     },
     "execution_count": 182,
     "metadata": {},
     "output_type": "execute_result"
    }
   ],
   "source": [
    "# Calculating the proportion of thailand globally undernourished.\n",
    "thai_undernourished_proportion = data_undernourished.value.sum() + data_population[data_population.country_code == 216].value / global_undernourished\n",
    "thai_undernourished_proportion"
   ]
  },
  {
   "cell_type": "code",
   "execution_count": 182,
   "metadata": {
    "pycharm": {
     "name": "#%%\n"
    }
   },
   "outputs": [],
   "source": []
  }
 ],
 "metadata": {
  "kernelspec": {
   "display_name": "Python 3",
   "language": "python",
   "name": "python3"
  },
  "language_info": {
   "codemirror_mode": {
    "name": "ipython",
    "version": 3
   },
   "file_extension": ".py",
   "mimetype": "text/x-python",
   "name": "python",
   "nbconvert_exporter": "python",
   "pygments_lexer": "ipython3",
   "version": "3.7.7"
  }
 },
 "nbformat": 4,
 "nbformat_minor": 1
}