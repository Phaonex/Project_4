{
 "cells": [
  {
   "cell_type": "code",
   "execution_count": 1,
   "metadata": {
    "pycharm": {
     "name": "#%%\n"
    }
   },
   "outputs": [],
   "source": [
    "import pandas as pd\n",
    "import numpy as np\n",
    "#import seaborn as sn\n"
   ]
  },
  {
   "cell_type": "markdown",
   "metadata": {
    "pycharm": {
     "name": "#%% md\n"
    }
   },
   "source": [
    "# Task 1 : Data Collection\n",
    "**importing data sets**"
   ]
  },
  {
   "cell_type": "code",
   "execution_count": 9,
   "metadata": {
    "pycharm": {
     "name": "#%%\n"
    }
   },
   "outputs": [],
   "source": [
    "data_crops = pd.read_csv('../data/latest_v3/cereals.csv')\n",
    "data_vegetables_2014 = pd.read_csv('../data/latest_v3/veg_prod_2014.csv')\n",
    "data_vegetables_2017 = pd.read_csv('../data/latest_v3/veg_prod_2017.csv')\n",
    "data_animals = pd.read_csv('../data/latest_v3/animal_products.csv')\n",
    "data_population = pd.read_csv('../data/latest_v3/total_population.csv')\n",
    "data_undernourished = pd.read_csv('../data/latest_v3/people_undernourished.csv')"
   ]
  },
  {
   "cell_type": "markdown",
   "metadata": {
    "pycharm": {
     "name": "#%% md\n"
    }
   },
   "source": [
    "## Analysis"
   ]
  },
  {
   "cell_type": "code",
   "execution_count": 10,
   "metadata": {
    "pycharm": {
     "name": "#%%\n"
    }
   },
   "outputs": [
    {
     "name": "stdout",
     "output_type": "stream",
     "text": [
      "<class 'pandas.core.frame.DataFrame'>\n",
      "RangeIndex: 18 entries, 0 to 17\n",
      "Data columns (total 14 columns):\n",
      " #   Column            Non-Null Count  Dtype \n",
      "---  ------            --------------  ----- \n",
      " 0   Domain Code       18 non-null     object\n",
      " 1   Domain            18 non-null     object\n",
      " 2   Area Code         18 non-null     int64 \n",
      " 3   Area              18 non-null     object\n",
      " 4   Element Code      18 non-null     int64 \n",
      " 5   Element           18 non-null     object\n",
      " 6   Item Code         18 non-null     int64 \n",
      " 7   Item              18 non-null     object\n",
      " 8   Year Code         18 non-null     int64 \n",
      " 9   Year              18 non-null     int64 \n",
      " 10  Unit              18 non-null     object\n",
      " 11  Value             18 non-null     int64 \n",
      " 12  Flag              18 non-null     object\n",
      " 13  Flag Description  18 non-null     object\n",
      "dtypes: int64(6), object(8)\n",
      "memory usage: 2.1+ KB\n"
     ]
    }
   ],
   "source": [
    "data_crops.info()"
   ]
  },
  {
   "cell_type": "code",
   "execution_count": 11,
   "metadata": {
    "pycharm": {
     "name": "#%%\n"
    }
   },
   "outputs": [
    {
     "data": {
      "text/html": [
       "<div>\n",
       "<style scoped>\n",
       "    .dataframe tbody tr th:only-of-type {\n",
       "        vertical-align: middle;\n",
       "    }\n",
       "\n",
       "    .dataframe tbody tr th {\n",
       "        vertical-align: top;\n",
       "    }\n",
       "\n",
       "    .dataframe thead th {\n",
       "        text-align: right;\n",
       "    }\n",
       "</style>\n",
       "<table border=\"1\" class=\"dataframe\">\n",
       "  <thead>\n",
       "    <tr style=\"text-align: right;\">\n",
       "      <th></th>\n",
       "      <th>Domain Code</th>\n",
       "      <th>Domain</th>\n",
       "      <th>Area Code</th>\n",
       "      <th>Area</th>\n",
       "      <th>Element Code</th>\n",
       "      <th>Element</th>\n",
       "      <th>Item Code</th>\n",
       "      <th>Item</th>\n",
       "      <th>Year Code</th>\n",
       "      <th>Year</th>\n",
       "      <th>Unit</th>\n",
       "      <th>Value</th>\n",
       "      <th>Flag</th>\n",
       "      <th>Flag Description</th>\n",
       "    </tr>\n",
       "  </thead>\n",
       "  <tbody>\n",
       "    <tr>\n",
       "      <th>0</th>\n",
       "      <td>FBS</td>\n",
       "      <td>New Food Balances</td>\n",
       "      <td>5000</td>\n",
       "      <td>World</td>\n",
       "      <td>5511</td>\n",
       "      <td>Production</td>\n",
       "      <td>2511</td>\n",
       "      <td>Wheat and products</td>\n",
       "      <td>2014</td>\n",
       "      <td>2014</td>\n",
       "      <td>1000 tonnes</td>\n",
       "      <td>724952</td>\n",
       "      <td>A</td>\n",
       "      <td>Aggregate, may include official, semi-official...</td>\n",
       "    </tr>\n",
       "    <tr>\n",
       "      <th>1</th>\n",
       "      <td>FBS</td>\n",
       "      <td>New Food Balances</td>\n",
       "      <td>5000</td>\n",
       "      <td>World</td>\n",
       "      <td>5511</td>\n",
       "      <td>Production</td>\n",
       "      <td>2511</td>\n",
       "      <td>Wheat and products</td>\n",
       "      <td>2017</td>\n",
       "      <td>2017</td>\n",
       "      <td>1000 tonnes</td>\n",
       "      <td>771775</td>\n",
       "      <td>A</td>\n",
       "      <td>Aggregate, may include official, semi-official...</td>\n",
       "    </tr>\n",
       "    <tr>\n",
       "      <th>2</th>\n",
       "      <td>FBS</td>\n",
       "      <td>New Food Balances</td>\n",
       "      <td>5000</td>\n",
       "      <td>World</td>\n",
       "      <td>5511</td>\n",
       "      <td>Production</td>\n",
       "      <td>2805</td>\n",
       "      <td>Rice and products</td>\n",
       "      <td>2014</td>\n",
       "      <td>2014</td>\n",
       "      <td>1000 tonnes</td>\n",
       "      <td>741547</td>\n",
       "      <td>A</td>\n",
       "      <td>Aggregate, may include official, semi-official...</td>\n",
       "    </tr>\n",
       "    <tr>\n",
       "      <th>3</th>\n",
       "      <td>FBS</td>\n",
       "      <td>New Food Balances</td>\n",
       "      <td>5000</td>\n",
       "      <td>World</td>\n",
       "      <td>5511</td>\n",
       "      <td>Production</td>\n",
       "      <td>2805</td>\n",
       "      <td>Rice and products</td>\n",
       "      <td>2017</td>\n",
       "      <td>2017</td>\n",
       "      <td>1000 tonnes</td>\n",
       "      <td>767558</td>\n",
       "      <td>A</td>\n",
       "      <td>Aggregate, may include official, semi-official...</td>\n",
       "    </tr>\n",
       "    <tr>\n",
       "      <th>4</th>\n",
       "      <td>FBS</td>\n",
       "      <td>New Food Balances</td>\n",
       "      <td>5000</td>\n",
       "      <td>World</td>\n",
       "      <td>5511</td>\n",
       "      <td>Production</td>\n",
       "      <td>2513</td>\n",
       "      <td>Barley and products</td>\n",
       "      <td>2014</td>\n",
       "      <td>2014</td>\n",
       "      <td>1000 tonnes</td>\n",
       "      <td>144312</td>\n",
       "      <td>A</td>\n",
       "      <td>Aggregate, may include official, semi-official...</td>\n",
       "    </tr>\n",
       "  </tbody>\n",
       "</table>\n",
       "</div>"
      ],
      "text/plain": [
       "  Domain Code             Domain  Area Code   Area  Element Code     Element  \\\n",
       "0         FBS  New Food Balances       5000  World          5511  Production   \n",
       "1         FBS  New Food Balances       5000  World          5511  Production   \n",
       "2         FBS  New Food Balances       5000  World          5511  Production   \n",
       "3         FBS  New Food Balances       5000  World          5511  Production   \n",
       "4         FBS  New Food Balances       5000  World          5511  Production   \n",
       "\n",
       "   Item Code                 Item  Year Code  Year         Unit   Value Flag  \\\n",
       "0       2511   Wheat and products       2014  2014  1000 tonnes  724952    A   \n",
       "1       2511   Wheat and products       2017  2017  1000 tonnes  771775    A   \n",
       "2       2805    Rice and products       2014  2014  1000 tonnes  741547    A   \n",
       "3       2805    Rice and products       2017  2017  1000 tonnes  767558    A   \n",
       "4       2513  Barley and products       2014  2014  1000 tonnes  144312    A   \n",
       "\n",
       "                                    Flag Description  \n",
       "0  Aggregate, may include official, semi-official...  \n",
       "1  Aggregate, may include official, semi-official...  \n",
       "2  Aggregate, may include official, semi-official...  \n",
       "3  Aggregate, may include official, semi-official...  \n",
       "4  Aggregate, may include official, semi-official...  "
      ]
     },
     "execution_count": 11,
     "metadata": {},
     "output_type": "execute_result"
    }
   ],
   "source": [
    "data_crops.head()"
   ]
  },
  {
   "cell_type": "code",
   "execution_count": 12,
   "metadata": {
    "pycharm": {
     "name": "#%%\n"
    }
   },
   "outputs": [
    {
     "data": {
      "text/html": [
       "<div>\n",
       "<style scoped>\n",
       "    .dataframe tbody tr th:only-of-type {\n",
       "        vertical-align: middle;\n",
       "    }\n",
       "\n",
       "    .dataframe tbody tr th {\n",
       "        vertical-align: top;\n",
       "    }\n",
       "\n",
       "    .dataframe thead th {\n",
       "        text-align: right;\n",
       "    }\n",
       "</style>\n",
       "<table border=\"1\" class=\"dataframe\">\n",
       "  <thead>\n",
       "    <tr style=\"text-align: right;\">\n",
       "      <th></th>\n",
       "      <th>Domain Code</th>\n",
       "      <th>Domain</th>\n",
       "      <th>Area Code</th>\n",
       "      <th>Area</th>\n",
       "      <th>Element Code</th>\n",
       "      <th>Element</th>\n",
       "      <th>Item Code</th>\n",
       "      <th>Item</th>\n",
       "      <th>Year Code</th>\n",
       "      <th>Year</th>\n",
       "      <th>Unit</th>\n",
       "      <th>Value</th>\n",
       "      <th>Flag</th>\n",
       "      <th>Flag Description</th>\n",
       "    </tr>\n",
       "  </thead>\n",
       "  <tbody>\n",
       "    <tr>\n",
       "      <th>13</th>\n",
       "      <td>FBS</td>\n",
       "      <td>New Food Balances</td>\n",
       "      <td>5000</td>\n",
       "      <td>World</td>\n",
       "      <td>5511</td>\n",
       "      <td>Production</td>\n",
       "      <td>2517</td>\n",
       "      <td>Millet and products</td>\n",
       "      <td>2017</td>\n",
       "      <td>2017</td>\n",
       "      <td>1000 tonnes</td>\n",
       "      <td>28452</td>\n",
       "      <td>A</td>\n",
       "      <td>Aggregate, may include official, semi-official...</td>\n",
       "    </tr>\n",
       "    <tr>\n",
       "      <th>14</th>\n",
       "      <td>FBS</td>\n",
       "      <td>New Food Balances</td>\n",
       "      <td>5000</td>\n",
       "      <td>World</td>\n",
       "      <td>5511</td>\n",
       "      <td>Production</td>\n",
       "      <td>2518</td>\n",
       "      <td>Sorghum and products</td>\n",
       "      <td>2014</td>\n",
       "      <td>2014</td>\n",
       "      <td>1000 tonnes</td>\n",
       "      <td>66982</td>\n",
       "      <td>A</td>\n",
       "      <td>Aggregate, may include official, semi-official...</td>\n",
       "    </tr>\n",
       "    <tr>\n",
       "      <th>15</th>\n",
       "      <td>FBS</td>\n",
       "      <td>New Food Balances</td>\n",
       "      <td>5000</td>\n",
       "      <td>World</td>\n",
       "      <td>5511</td>\n",
       "      <td>Production</td>\n",
       "      <td>2518</td>\n",
       "      <td>Sorghum and products</td>\n",
       "      <td>2017</td>\n",
       "      <td>2017</td>\n",
       "      <td>1000 tonnes</td>\n",
       "      <td>56610</td>\n",
       "      <td>A</td>\n",
       "      <td>Aggregate, may include official, semi-official...</td>\n",
       "    </tr>\n",
       "    <tr>\n",
       "      <th>16</th>\n",
       "      <td>FBS</td>\n",
       "      <td>New Food Balances</td>\n",
       "      <td>5000</td>\n",
       "      <td>World</td>\n",
       "      <td>5511</td>\n",
       "      <td>Production</td>\n",
       "      <td>2520</td>\n",
       "      <td>Cereals, Other</td>\n",
       "      <td>2014</td>\n",
       "      <td>2014</td>\n",
       "      <td>1000 tonnes</td>\n",
       "      <td>31373</td>\n",
       "      <td>A</td>\n",
       "      <td>Aggregate, may include official, semi-official...</td>\n",
       "    </tr>\n",
       "    <tr>\n",
       "      <th>17</th>\n",
       "      <td>FBS</td>\n",
       "      <td>New Food Balances</td>\n",
       "      <td>5000</td>\n",
       "      <td>World</td>\n",
       "      <td>5511</td>\n",
       "      <td>Production</td>\n",
       "      <td>2520</td>\n",
       "      <td>Cereals, Other</td>\n",
       "      <td>2017</td>\n",
       "      <td>2017</td>\n",
       "      <td>1000 tonnes</td>\n",
       "      <td>32443</td>\n",
       "      <td>A</td>\n",
       "      <td>Aggregate, may include official, semi-official...</td>\n",
       "    </tr>\n",
       "  </tbody>\n",
       "</table>\n",
       "</div>"
      ],
      "text/plain": [
       "   Domain Code             Domain  Area Code   Area  Element Code     Element  \\\n",
       "13         FBS  New Food Balances       5000  World          5511  Production   \n",
       "14         FBS  New Food Balances       5000  World          5511  Production   \n",
       "15         FBS  New Food Balances       5000  World          5511  Production   \n",
       "16         FBS  New Food Balances       5000  World          5511  Production   \n",
       "17         FBS  New Food Balances       5000  World          5511  Production   \n",
       "\n",
       "    Item Code                  Item  Year Code  Year         Unit  Value Flag  \\\n",
       "13       2517   Millet and products       2017  2017  1000 tonnes  28452    A   \n",
       "14       2518  Sorghum and products       2014  2014  1000 tonnes  66982    A   \n",
       "15       2518  Sorghum and products       2017  2017  1000 tonnes  56610    A   \n",
       "16       2520        Cereals, Other       2014  2014  1000 tonnes  31373    A   \n",
       "17       2520        Cereals, Other       2017  2017  1000 tonnes  32443    A   \n",
       "\n",
       "                                     Flag Description  \n",
       "13  Aggregate, may include official, semi-official...  \n",
       "14  Aggregate, may include official, semi-official...  \n",
       "15  Aggregate, may include official, semi-official...  \n",
       "16  Aggregate, may include official, semi-official...  \n",
       "17  Aggregate, may include official, semi-official...  "
      ]
     },
     "execution_count": 12,
     "metadata": {},
     "output_type": "execute_result"
    }
   ],
   "source": [
    "data_crops.tail()"
   ]
  },
  {
   "cell_type": "code",
   "execution_count": 13,
   "metadata": {
    "pycharm": {
     "name": "#%%\n"
    }
   },
   "outputs": [
    {
     "name": "stdout",
     "output_type": "stream",
     "text": [
      "Crops has only one element: ['Production']\n"
     ]
    }
   ],
   "source": [
    "print( 'Crops has only one element:', data_crops.Element.unique())"
   ]
  },
  {
   "cell_type": "code",
   "execution_count": 14,
   "metadata": {
    "pycharm": {
     "name": "#%%\n"
    }
   },
   "outputs": [
    {
     "name": "stdout",
     "output_type": "stream",
     "text": [
      "All items: ['Wheat and products' 'Rice and products' 'Barley and products'\n",
      " 'Maize and products' 'Rye and products' 'Oats' 'Millet and products'\n",
      " 'Sorghum and products' 'Cereals, Other']\n"
     ]
    }
   ],
   "source": [
    "print('All items:', data_crops.Item.unique())\n",
    "\n"
   ]
  },
  {
   "cell_type": "code",
   "execution_count": 15,
   "metadata": {
    "pycharm": {
     "name": "#%%\n"
    }
   },
   "outputs": [
    {
     "name": "stdout",
     "output_type": "stream",
     "text": [
      "Number of items: 9\n"
     ]
    }
   ],
   "source": [
    "print('Number of items:', len(data_crops.Item.unique()))"
   ]
  },
  {
   "cell_type": "code",
   "execution_count": 16,
   "metadata": {
    "pycharm": {
     "name": "#%%\n"
    }
   },
   "outputs": [
    {
     "name": "stdout",
     "output_type": "stream",
     "text": [
      "Area or country aggregate World + Total: ['World']\n"
     ]
    }
   ],
   "source": [
    "print('Area or country aggregate World + Total:', data_crops.Area.unique())"
   ]
  },
  {
   "cell_type": "code",
   "execution_count": 17,
   "metadata": {
    "pycharm": {
     "name": "#%%\n"
    }
   },
   "outputs": [
    {
     "name": "stdout",
     "output_type": "stream",
     "text": [
      "Years: [2014 2017]\n"
     ]
    }
   ],
   "source": [
    "print('Years:', data_crops.Year.unique())"
   ]
  },
  {
   "cell_type": "code",
   "execution_count": 18,
   "metadata": {
    "pycharm": {
     "name": "#%%\n"
    }
   },
   "outputs": [
    {
     "name": "stdout",
     "output_type": "stream",
     "text": [
      "<class 'pandas.core.frame.DataFrame'>\n",
      "RangeIndex: 137007 entries, 0 to 137006\n",
      "Data columns (total 14 columns):\n",
      " #   Column            Non-Null Count   Dtype  \n",
      "---  ------            --------------   -----  \n",
      " 0   Domain Code       137007 non-null  object \n",
      " 1   Domain            137007 non-null  object \n",
      " 2   Area Code         137007 non-null  int64  \n",
      " 3   Area              137007 non-null  object \n",
      " 4   Element Code      137007 non-null  int64  \n",
      " 5   Element           137007 non-null  object \n",
      " 6   Item Code         137007 non-null  int64  \n",
      " 7   Item              137007 non-null  object \n",
      " 8   Year Code         137007 non-null  int64  \n",
      " 9   Year              137007 non-null  int64  \n",
      " 10  Unit              137007 non-null  object \n",
      " 11  Value             137007 non-null  float64\n",
      " 12  Flag              137007 non-null  object \n",
      " 13  Flag Description  137007 non-null  object \n",
      "dtypes: float64(1), int64(5), object(8)\n",
      "memory usage: 14.6+ MB\n"
     ]
    }
   ],
   "source": [
    "data_vegetables_2017.info()"
   ]
  },
  {
   "cell_type": "code",
   "execution_count": 19,
   "metadata": {
    "pycharm": {
     "name": "#%%\n"
    }
   },
   "outputs": [
    {
     "data": {
      "text/html": [
       "<div>\n",
       "<style scoped>\n",
       "    .dataframe tbody tr th:only-of-type {\n",
       "        vertical-align: middle;\n",
       "    }\n",
       "\n",
       "    .dataframe tbody tr th {\n",
       "        vertical-align: top;\n",
       "    }\n",
       "\n",
       "    .dataframe thead th {\n",
       "        text-align: right;\n",
       "    }\n",
       "</style>\n",
       "<table border=\"1\" class=\"dataframe\">\n",
       "  <thead>\n",
       "    <tr style=\"text-align: right;\">\n",
       "      <th></th>\n",
       "      <th>Domain Code</th>\n",
       "      <th>Domain</th>\n",
       "      <th>Area Code</th>\n",
       "      <th>Area</th>\n",
       "      <th>Element Code</th>\n",
       "      <th>Element</th>\n",
       "      <th>Item Code</th>\n",
       "      <th>Item</th>\n",
       "      <th>Year Code</th>\n",
       "      <th>Year</th>\n",
       "      <th>Unit</th>\n",
       "      <th>Value</th>\n",
       "      <th>Flag</th>\n",
       "      <th>Flag Description</th>\n",
       "    </tr>\n",
       "  </thead>\n",
       "  <tbody>\n",
       "    <tr>\n",
       "      <th>0</th>\n",
       "      <td>FBS</td>\n",
       "      <td>New Food Balances</td>\n",
       "      <td>2</td>\n",
       "      <td>Afghanistan</td>\n",
       "      <td>5511</td>\n",
       "      <td>Production</td>\n",
       "      <td>2511</td>\n",
       "      <td>Wheat and products</td>\n",
       "      <td>2017</td>\n",
       "      <td>2017</td>\n",
       "      <td>1000 tonnes</td>\n",
       "      <td>4281.0</td>\n",
       "      <td>S</td>\n",
       "      <td>Standardized data</td>\n",
       "    </tr>\n",
       "    <tr>\n",
       "      <th>1</th>\n",
       "      <td>FBS</td>\n",
       "      <td>New Food Balances</td>\n",
       "      <td>2</td>\n",
       "      <td>Afghanistan</td>\n",
       "      <td>5611</td>\n",
       "      <td>Import Quantity</td>\n",
       "      <td>2511</td>\n",
       "      <td>Wheat and products</td>\n",
       "      <td>2017</td>\n",
       "      <td>2017</td>\n",
       "      <td>1000 tonnes</td>\n",
       "      <td>2302.0</td>\n",
       "      <td>S</td>\n",
       "      <td>Standardized data</td>\n",
       "    </tr>\n",
       "    <tr>\n",
       "      <th>2</th>\n",
       "      <td>FBS</td>\n",
       "      <td>New Food Balances</td>\n",
       "      <td>2</td>\n",
       "      <td>Afghanistan</td>\n",
       "      <td>5072</td>\n",
       "      <td>Stock Variation</td>\n",
       "      <td>2511</td>\n",
       "      <td>Wheat and products</td>\n",
       "      <td>2017</td>\n",
       "      <td>2017</td>\n",
       "      <td>1000 tonnes</td>\n",
       "      <td>-119.0</td>\n",
       "      <td>S</td>\n",
       "      <td>Standardized data</td>\n",
       "    </tr>\n",
       "    <tr>\n",
       "      <th>3</th>\n",
       "      <td>FBS</td>\n",
       "      <td>New Food Balances</td>\n",
       "      <td>2</td>\n",
       "      <td>Afghanistan</td>\n",
       "      <td>5911</td>\n",
       "      <td>Export Quantity</td>\n",
       "      <td>2511</td>\n",
       "      <td>Wheat and products</td>\n",
       "      <td>2017</td>\n",
       "      <td>2017</td>\n",
       "      <td>1000 tonnes</td>\n",
       "      <td>0.0</td>\n",
       "      <td>S</td>\n",
       "      <td>Standardized data</td>\n",
       "    </tr>\n",
       "    <tr>\n",
       "      <th>4</th>\n",
       "      <td>FBS</td>\n",
       "      <td>New Food Balances</td>\n",
       "      <td>2</td>\n",
       "      <td>Afghanistan</td>\n",
       "      <td>5301</td>\n",
       "      <td>Domestic supply quantity</td>\n",
       "      <td>2511</td>\n",
       "      <td>Wheat and products</td>\n",
       "      <td>2017</td>\n",
       "      <td>2017</td>\n",
       "      <td>1000 tonnes</td>\n",
       "      <td>6701.0</td>\n",
       "      <td>S</td>\n",
       "      <td>Standardized data</td>\n",
       "    </tr>\n",
       "  </tbody>\n",
       "</table>\n",
       "</div>"
      ],
      "text/plain": [
       "  Domain Code             Domain  Area Code         Area  Element Code  \\\n",
       "0         FBS  New Food Balances          2  Afghanistan          5511   \n",
       "1         FBS  New Food Balances          2  Afghanistan          5611   \n",
       "2         FBS  New Food Balances          2  Afghanistan          5072   \n",
       "3         FBS  New Food Balances          2  Afghanistan          5911   \n",
       "4         FBS  New Food Balances          2  Afghanistan          5301   \n",
       "\n",
       "                    Element  Item Code                Item  Year Code  Year  \\\n",
       "0                Production       2511  Wheat and products       2017  2017   \n",
       "1           Import Quantity       2511  Wheat and products       2017  2017   \n",
       "2           Stock Variation       2511  Wheat and products       2017  2017   \n",
       "3           Export Quantity       2511  Wheat and products       2017  2017   \n",
       "4  Domestic supply quantity       2511  Wheat and products       2017  2017   \n",
       "\n",
       "          Unit   Value Flag   Flag Description  \n",
       "0  1000 tonnes  4281.0    S  Standardized data  \n",
       "1  1000 tonnes  2302.0    S  Standardized data  \n",
       "2  1000 tonnes  -119.0    S  Standardized data  \n",
       "3  1000 tonnes     0.0    S  Standardized data  \n",
       "4  1000 tonnes  6701.0    S  Standardized data  "
      ]
     },
     "execution_count": 19,
     "metadata": {},
     "output_type": "execute_result"
    }
   ],
   "source": [
    "data_vegetables_2017.head()"
   ]
  },
  {
   "cell_type": "code",
   "execution_count": 20,
   "metadata": {
    "pycharm": {
     "name": "#%%\n"
    }
   },
   "outputs": [
    {
     "data": {
      "text/html": [
       "<div>\n",
       "<style scoped>\n",
       "    .dataframe tbody tr th:only-of-type {\n",
       "        vertical-align: middle;\n",
       "    }\n",
       "\n",
       "    .dataframe tbody tr th {\n",
       "        vertical-align: top;\n",
       "    }\n",
       "\n",
       "    .dataframe thead th {\n",
       "        text-align: right;\n",
       "    }\n",
       "</style>\n",
       "<table border=\"1\" class=\"dataframe\">\n",
       "  <thead>\n",
       "    <tr style=\"text-align: right;\">\n",
       "      <th></th>\n",
       "      <th>Domain Code</th>\n",
       "      <th>Domain</th>\n",
       "      <th>Area Code</th>\n",
       "      <th>Area</th>\n",
       "      <th>Element Code</th>\n",
       "      <th>Element</th>\n",
       "      <th>Item Code</th>\n",
       "      <th>Item</th>\n",
       "      <th>Year Code</th>\n",
       "      <th>Year</th>\n",
       "      <th>Unit</th>\n",
       "      <th>Value</th>\n",
       "      <th>Flag</th>\n",
       "      <th>Flag Description</th>\n",
       "    </tr>\n",
       "  </thead>\n",
       "  <tbody>\n",
       "    <tr>\n",
       "      <th>137002</th>\n",
       "      <td>FBS</td>\n",
       "      <td>New Food Balances</td>\n",
       "      <td>181</td>\n",
       "      <td>Zimbabwe</td>\n",
       "      <td>5142</td>\n",
       "      <td>Food</td>\n",
       "      <td>2899</td>\n",
       "      <td>Miscellaneous</td>\n",
       "      <td>2017</td>\n",
       "      <td>2017</td>\n",
       "      <td>1000 tonnes</td>\n",
       "      <td>19.00</td>\n",
       "      <td>S</td>\n",
       "      <td>Standardized data</td>\n",
       "    </tr>\n",
       "    <tr>\n",
       "      <th>137003</th>\n",
       "      <td>FBS</td>\n",
       "      <td>New Food Balances</td>\n",
       "      <td>181</td>\n",
       "      <td>Zimbabwe</td>\n",
       "      <td>645</td>\n",
       "      <td>Food supply quantity (kg/capita/yr)</td>\n",
       "      <td>2899</td>\n",
       "      <td>Miscellaneous</td>\n",
       "      <td>2017</td>\n",
       "      <td>2017</td>\n",
       "      <td>kg</td>\n",
       "      <td>1.33</td>\n",
       "      <td>Fc</td>\n",
       "      <td>Calculated data</td>\n",
       "    </tr>\n",
       "    <tr>\n",
       "      <th>137004</th>\n",
       "      <td>FBS</td>\n",
       "      <td>New Food Balances</td>\n",
       "      <td>181</td>\n",
       "      <td>Zimbabwe</td>\n",
       "      <td>664</td>\n",
       "      <td>Food supply (kcal/capita/day)</td>\n",
       "      <td>2899</td>\n",
       "      <td>Miscellaneous</td>\n",
       "      <td>2017</td>\n",
       "      <td>2017</td>\n",
       "      <td>kcal/capita/day</td>\n",
       "      <td>1.00</td>\n",
       "      <td>Fc</td>\n",
       "      <td>Calculated data</td>\n",
       "    </tr>\n",
       "    <tr>\n",
       "      <th>137005</th>\n",
       "      <td>FBS</td>\n",
       "      <td>New Food Balances</td>\n",
       "      <td>181</td>\n",
       "      <td>Zimbabwe</td>\n",
       "      <td>674</td>\n",
       "      <td>Protein supply quantity (g/capita/day)</td>\n",
       "      <td>2899</td>\n",
       "      <td>Miscellaneous</td>\n",
       "      <td>2017</td>\n",
       "      <td>2017</td>\n",
       "      <td>g/capita/day</td>\n",
       "      <td>0.04</td>\n",
       "      <td>Fc</td>\n",
       "      <td>Calculated data</td>\n",
       "    </tr>\n",
       "    <tr>\n",
       "      <th>137006</th>\n",
       "      <td>FBS</td>\n",
       "      <td>New Food Balances</td>\n",
       "      <td>181</td>\n",
       "      <td>Zimbabwe</td>\n",
       "      <td>684</td>\n",
       "      <td>Fat supply quantity (g/capita/day)</td>\n",
       "      <td>2899</td>\n",
       "      <td>Miscellaneous</td>\n",
       "      <td>2017</td>\n",
       "      <td>2017</td>\n",
       "      <td>g/capita/day</td>\n",
       "      <td>0.02</td>\n",
       "      <td>Fc</td>\n",
       "      <td>Calculated data</td>\n",
       "    </tr>\n",
       "  </tbody>\n",
       "</table>\n",
       "</div>"
      ],
      "text/plain": [
       "       Domain Code             Domain  Area Code      Area  Element Code  \\\n",
       "137002         FBS  New Food Balances        181  Zimbabwe          5142   \n",
       "137003         FBS  New Food Balances        181  Zimbabwe           645   \n",
       "137004         FBS  New Food Balances        181  Zimbabwe           664   \n",
       "137005         FBS  New Food Balances        181  Zimbabwe           674   \n",
       "137006         FBS  New Food Balances        181  Zimbabwe           684   \n",
       "\n",
       "                                       Element  Item Code           Item  \\\n",
       "137002                                    Food       2899  Miscellaneous   \n",
       "137003     Food supply quantity (kg/capita/yr)       2899  Miscellaneous   \n",
       "137004           Food supply (kcal/capita/day)       2899  Miscellaneous   \n",
       "137005  Protein supply quantity (g/capita/day)       2899  Miscellaneous   \n",
       "137006      Fat supply quantity (g/capita/day)       2899  Miscellaneous   \n",
       "\n",
       "        Year Code  Year             Unit  Value Flag   Flag Description  \n",
       "137002       2017  2017      1000 tonnes  19.00    S  Standardized data  \n",
       "137003       2017  2017               kg   1.33   Fc    Calculated data  \n",
       "137004       2017  2017  kcal/capita/day   1.00   Fc    Calculated data  \n",
       "137005       2017  2017     g/capita/day   0.04   Fc    Calculated data  \n",
       "137006       2017  2017     g/capita/day   0.02   Fc    Calculated data  "
      ]
     },
     "execution_count": 20,
     "metadata": {},
     "output_type": "execute_result"
    }
   ],
   "source": [
    "data_vegetables_2017.tail()"
   ]
  },
  {
   "cell_type": "code",
   "execution_count": 21,
   "metadata": {
    "pycharm": {
     "name": "#%%\n"
    }
   },
   "outputs": [
    {
     "name": "stdout",
     "output_type": "stream",
     "text": [
      "Vegetable elements: ['Production' 'Import Quantity' 'Stock Variation' 'Export Quantity'\n",
      " 'Domestic supply quantity' 'Feed' 'Seed' 'Losses' 'Residuals' 'Food'\n",
      " 'Food supply quantity (kg/capita/yr)' 'Food supply (kcal/capita/day)'\n",
      " 'Protein supply quantity (g/capita/day)'\n",
      " 'Fat supply quantity (g/capita/day)' 'Processing' 'Other uses (non-food)'\n",
      " 'Tourist consumption']\n"
     ]
    }
   ],
   "source": [
    "print( 'Vegetable elements:', data_vegetables_2017.Element.unique())"
   ]
  },
  {
   "cell_type": "code",
   "execution_count": 22,
   "metadata": {
    "pycharm": {
     "name": "#%%\n"
    }
   },
   "outputs": [
    {
     "name": "stdout",
     "output_type": "stream",
     "text": [
      "Number of elements: 17\n"
     ]
    }
   ],
   "source": [
    "print('Number of elements:', len(data_vegetables_2017.Element.unique()))"
   ]
  },
  {
   "cell_type": "code",
   "execution_count": 23,
   "metadata": {
    "pycharm": {
     "name": "#%%\n"
    }
   },
   "outputs": [
    {
     "name": "stdout",
     "output_type": "stream",
     "text": [
      "All items: ['Wheat and products' 'Rice and products' 'Barley and products'\n",
      " 'Maize and products' 'Rye and products' 'Oats' 'Millet and products'\n",
      " 'Sorghum and products' 'Cereals, Other' 'Potatoes and products' 'Yams'\n",
      " 'Roots, Other' 'Sugar cane' 'Sugar beet' 'Sugar (Raw Equivalent)'\n",
      " 'Sweeteners, Other' 'Honey' 'Beans' 'Peas' 'Pulses, Other and products'\n",
      " 'Nuts and products' 'Soyabeans' 'Groundnuts (Shelled Eq)'\n",
      " 'Sunflower seed' 'Rape and Mustardseed' 'Cottonseed'\n",
      " 'Coconuts - Incl Copra' 'Sesame seed' 'Olives (including preserved)'\n",
      " 'Oilcrops, Other' 'Soyabean Oil' 'Groundnut Oil' 'Sunflowerseed Oil'\n",
      " 'Rape and Mustard Oil' 'Cottonseed Oil' 'Palmkernel Oil' 'Palm Oil'\n",
      " 'Coconut Oil' 'Sesameseed Oil' 'Olive Oil' 'Ricebran Oil'\n",
      " 'Maize Germ Oil' 'Oilcrops Oil, Other' 'Tomatoes and products' 'Onions'\n",
      " 'Vegetables, Other' 'Oranges, Mandarines' 'Lemons, Limes and products'\n",
      " 'Grapefruit and products' 'Citrus, Other' 'Bananas' 'Apples and products'\n",
      " 'Pineapples and products' 'Dates' 'Grapes and products (excl wine)'\n",
      " 'Fruits, Other' 'Coffee and products' 'Cocoa Beans and products'\n",
      " 'Tea (including mate)' 'Pepper' 'Pimento' 'Cloves' 'Spices, Other' 'Wine'\n",
      " 'Beer' 'Beverages, Fermented' 'Beverages, Alcoholic' 'Alcohol, Non-Food'\n",
      " 'Infant food' 'Miscellaneous' 'Cassava and products' 'Sweet potatoes'\n",
      " 'Palm kernels' 'Plantains' 'Sugar non-centrifugal']\n"
     ]
    }
   ],
   "source": [
    "print('All items:', data_vegetables_2017.Item.unique())"
   ]
  },
  {
   "cell_type": "code",
   "execution_count": 24,
   "metadata": {
    "pycharm": {
     "name": "#%%\n"
    }
   },
   "outputs": [
    {
     "name": "stdout",
     "output_type": "stream",
     "text": [
      "Number of items: 75\n"
     ]
    }
   ],
   "source": [
    "print('Number of items:', len(data_vegetables_2017.Item.unique()))"
   ]
  },
  {
   "cell_type": "code",
   "execution_count": 25,
   "metadata": {
    "pycharm": {
     "name": "#%%\n"
    }
   },
   "outputs": [
    {
     "name": "stdout",
     "output_type": "stream",
     "text": [
      "Area or countries: ['Afghanistan' 'Albania' 'Algeria' 'Angola' 'Antigua and Barbuda'\n",
      " 'Argentina' 'Armenia' 'Australia' 'Austria' 'Azerbaijan' 'Bahamas'\n",
      " 'Bangladesh' 'Barbados' 'Belarus' 'Belgium' 'Belize' 'Benin'\n",
      " 'Bolivia (Plurinational State of)' 'Bosnia and Herzegovina' 'Botswana'\n",
      " 'Brazil' 'Bulgaria' 'Burkina Faso' 'Cabo Verde' 'Cambodia' 'Cameroon'\n",
      " 'Canada' 'Central African Republic' 'Chad' 'Chile' 'China'\n",
      " 'China, Hong Kong SAR' 'China, Macao SAR' 'China, mainland'\n",
      " 'China, Taiwan Province of' 'Colombia' 'Congo' 'Costa Rica'\n",
      " \"Côte d'Ivoire\" 'Croatia' 'Cuba' 'Cyprus' 'Czechia'\n",
      " \"Democratic People's Republic of Korea\" 'Denmark' 'Djibouti' 'Dominica'\n",
      " 'Dominican Republic' 'Ecuador' 'Egypt' 'El Salvador' 'Estonia' 'Eswatini'\n",
      " 'Ethiopia' 'Fiji' 'Finland' 'France' 'French Polynesia' 'Gabon' 'Gambia'\n",
      " 'Georgia' 'Germany' 'Ghana' 'Greece' 'Grenada' 'Guatemala' 'Guinea'\n",
      " 'Guinea-Bissau' 'Guyana' 'Haiti' 'Honduras' 'Hungary' 'Iceland' 'India'\n",
      " 'Indonesia' 'Iran (Islamic Republic of)' 'Iraq' 'Ireland' 'Israel'\n",
      " 'Italy' 'Jamaica' 'Japan' 'Jordan' 'Kazakhstan' 'Kenya' 'Kiribati'\n",
      " 'Kuwait' 'Kyrgyzstan' \"Lao People's Democratic Republic\" 'Latvia'\n",
      " 'Lebanon' 'Lesotho' 'Liberia' 'Lithuania' 'Luxembourg' 'Madagascar'\n",
      " 'Malawi' 'Malaysia' 'Maldives' 'Mali' 'Malta' 'Mauritania' 'Mauritius'\n",
      " 'Mexico' 'Mongolia' 'Montenegro' 'Morocco' 'Mozambique' 'Myanmar'\n",
      " 'Namibia' 'Nepal' 'Netherlands' 'New Caledonia' 'New Zealand' 'Nicaragua'\n",
      " 'Niger' 'Nigeria' 'North Macedonia' 'Norway' 'Oman' 'Pakistan' 'Panama'\n",
      " 'Paraguay' 'Peru' 'Philippines' 'Poland' 'Portugal' 'Republic of Korea'\n",
      " 'Republic of Moldova' 'Romania' 'Russian Federation' 'Rwanda'\n",
      " 'Saint Kitts and Nevis' 'Saint Lucia' 'Saint Vincent and the Grenadines'\n",
      " 'Samoa' 'Sao Tome and Principe' 'Saudi Arabia' 'Senegal' 'Serbia'\n",
      " 'Sierra Leone' 'Slovakia' 'Slovenia' 'Solomon Islands' 'South Africa'\n",
      " 'Spain' 'Sri Lanka' 'Sudan' 'Suriname' 'Sweden' 'Switzerland'\n",
      " 'Tajikistan' 'Thailand' 'Timor-Leste' 'Togo' 'Trinidad and Tobago'\n",
      " 'Tunisia' 'Turkey' 'Turkmenistan' 'Uganda' 'Ukraine'\n",
      " 'United Arab Emirates'\n",
      " 'United Kingdom of Great Britain and Northern Ireland'\n",
      " 'United Republic of Tanzania' 'United States of America' 'Uruguay'\n",
      " 'Uzbekistan' 'Vanuatu' 'Venezuela (Bolivarian Republic of)' 'Viet Nam'\n",
      " 'Yemen' 'Zambia' 'Zimbabwe']\n"
     ]
    }
   ],
   "source": [
    "print('Area or countries:', data_vegetables_2017.Area.unique())"
   ]
  },
  {
   "cell_type": "code",
   "execution_count": 26,
   "metadata": {
    "pycharm": {
     "name": "#%%\n"
    }
   },
   "outputs": [
    {
     "name": "stdout",
     "output_type": "stream",
     "text": [
      "Area or countries amount to: 173\n"
     ]
    }
   ],
   "source": [
    "print('Area or countries amount to:', len(data_vegetables_2017.Area.unique()))"
   ]
  },
  {
   "cell_type": "code",
   "execution_count": 27,
   "metadata": {
    "pycharm": {
     "name": "#%%\n"
    }
   },
   "outputs": [
    {
     "name": "stdout",
     "output_type": "stream",
     "text": [
      "Years: [2017]\n"
     ]
    }
   ],
   "source": [
    "print('Years:', data_vegetables_2017.Year.unique())"
   ]
  },
  {
   "cell_type": "code",
   "execution_count": 28,
   "metadata": {
    "pycharm": {
     "name": "#%%\n"
    }
   },
   "outputs": [
    {
     "name": "stdout",
     "output_type": "stream",
     "text": [
      "<class 'pandas.core.frame.DataFrame'>\n",
      "RangeIndex: 84525 entries, 0 to 84524\n",
      "Data columns (total 14 columns):\n",
      " #   Column            Non-Null Count  Dtype  \n",
      "---  ------            --------------  -----  \n",
      " 0   Domain Code       84525 non-null  object \n",
      " 1   Domain            84525 non-null  object \n",
      " 2   Area Code         84525 non-null  int64  \n",
      " 3   Area              84525 non-null  object \n",
      " 4   Element Code      84525 non-null  int64  \n",
      " 5   Element           84525 non-null  object \n",
      " 6   Item Code         84525 non-null  int64  \n",
      " 7   Item              84525 non-null  object \n",
      " 8   Year Code         84525 non-null  int64  \n",
      " 9   Year              84525 non-null  int64  \n",
      " 10  Unit              84525 non-null  object \n",
      " 11  Value             84525 non-null  float64\n",
      " 12  Flag              84525 non-null  object \n",
      " 13  Flag Description  84525 non-null  object \n",
      "dtypes: float64(1), int64(5), object(8)\n",
      "memory usage: 9.0+ MB\n"
     ]
    }
   ],
   "source": [
    "data_animals.info()"
   ]
  },
  {
   "cell_type": "code",
   "execution_count": 29,
   "metadata": {
    "pycharm": {
     "name": "#%%\n"
    }
   },
   "outputs": [
    {
     "data": {
      "text/html": [
       "<div>\n",
       "<style scoped>\n",
       "    .dataframe tbody tr th:only-of-type {\n",
       "        vertical-align: middle;\n",
       "    }\n",
       "\n",
       "    .dataframe tbody tr th {\n",
       "        vertical-align: top;\n",
       "    }\n",
       "\n",
       "    .dataframe thead th {\n",
       "        text-align: right;\n",
       "    }\n",
       "</style>\n",
       "<table border=\"1\" class=\"dataframe\">\n",
       "  <thead>\n",
       "    <tr style=\"text-align: right;\">\n",
       "      <th></th>\n",
       "      <th>Domain Code</th>\n",
       "      <th>Domain</th>\n",
       "      <th>Area Code</th>\n",
       "      <th>Area</th>\n",
       "      <th>Element Code</th>\n",
       "      <th>Element</th>\n",
       "      <th>Item Code</th>\n",
       "      <th>Item</th>\n",
       "      <th>Year Code</th>\n",
       "      <th>Year</th>\n",
       "      <th>Unit</th>\n",
       "      <th>Value</th>\n",
       "      <th>Flag</th>\n",
       "      <th>Flag Description</th>\n",
       "    </tr>\n",
       "  </thead>\n",
       "  <tbody>\n",
       "    <tr>\n",
       "      <th>0</th>\n",
       "      <td>FBS</td>\n",
       "      <td>New Food Balances</td>\n",
       "      <td>2</td>\n",
       "      <td>Afghanistan</td>\n",
       "      <td>5511</td>\n",
       "      <td>Production</td>\n",
       "      <td>2731</td>\n",
       "      <td>Bovine Meat</td>\n",
       "      <td>2014</td>\n",
       "      <td>2014</td>\n",
       "      <td>1000 tonnes</td>\n",
       "      <td>121.0</td>\n",
       "      <td>S</td>\n",
       "      <td>Standardized data</td>\n",
       "    </tr>\n",
       "    <tr>\n",
       "      <th>1</th>\n",
       "      <td>FBS</td>\n",
       "      <td>New Food Balances</td>\n",
       "      <td>2</td>\n",
       "      <td>Afghanistan</td>\n",
       "      <td>5511</td>\n",
       "      <td>Production</td>\n",
       "      <td>2731</td>\n",
       "      <td>Bovine Meat</td>\n",
       "      <td>2017</td>\n",
       "      <td>2017</td>\n",
       "      <td>1000 tonnes</td>\n",
       "      <td>94.0</td>\n",
       "      <td>S</td>\n",
       "      <td>Standardized data</td>\n",
       "    </tr>\n",
       "    <tr>\n",
       "      <th>2</th>\n",
       "      <td>FBS</td>\n",
       "      <td>New Food Balances</td>\n",
       "      <td>2</td>\n",
       "      <td>Afghanistan</td>\n",
       "      <td>5611</td>\n",
       "      <td>Import Quantity</td>\n",
       "      <td>2731</td>\n",
       "      <td>Bovine Meat</td>\n",
       "      <td>2014</td>\n",
       "      <td>2014</td>\n",
       "      <td>1000 tonnes</td>\n",
       "      <td>16.0</td>\n",
       "      <td>S</td>\n",
       "      <td>Standardized data</td>\n",
       "    </tr>\n",
       "    <tr>\n",
       "      <th>3</th>\n",
       "      <td>FBS</td>\n",
       "      <td>New Food Balances</td>\n",
       "      <td>2</td>\n",
       "      <td>Afghanistan</td>\n",
       "      <td>5611</td>\n",
       "      <td>Import Quantity</td>\n",
       "      <td>2731</td>\n",
       "      <td>Bovine Meat</td>\n",
       "      <td>2017</td>\n",
       "      <td>2017</td>\n",
       "      <td>1000 tonnes</td>\n",
       "      <td>6.0</td>\n",
       "      <td>S</td>\n",
       "      <td>Standardized data</td>\n",
       "    </tr>\n",
       "    <tr>\n",
       "      <th>4</th>\n",
       "      <td>FBS</td>\n",
       "      <td>New Food Balances</td>\n",
       "      <td>2</td>\n",
       "      <td>Afghanistan</td>\n",
       "      <td>5072</td>\n",
       "      <td>Stock Variation</td>\n",
       "      <td>2731</td>\n",
       "      <td>Bovine Meat</td>\n",
       "      <td>2014</td>\n",
       "      <td>2014</td>\n",
       "      <td>1000 tonnes</td>\n",
       "      <td>0.0</td>\n",
       "      <td>S</td>\n",
       "      <td>Standardized data</td>\n",
       "    </tr>\n",
       "  </tbody>\n",
       "</table>\n",
       "</div>"
      ],
      "text/plain": [
       "  Domain Code             Domain  Area Code         Area  Element Code  \\\n",
       "0         FBS  New Food Balances          2  Afghanistan          5511   \n",
       "1         FBS  New Food Balances          2  Afghanistan          5511   \n",
       "2         FBS  New Food Balances          2  Afghanistan          5611   \n",
       "3         FBS  New Food Balances          2  Afghanistan          5611   \n",
       "4         FBS  New Food Balances          2  Afghanistan          5072   \n",
       "\n",
       "           Element  Item Code         Item  Year Code  Year         Unit  \\\n",
       "0       Production       2731  Bovine Meat       2014  2014  1000 tonnes   \n",
       "1       Production       2731  Bovine Meat       2017  2017  1000 tonnes   \n",
       "2  Import Quantity       2731  Bovine Meat       2014  2014  1000 tonnes   \n",
       "3  Import Quantity       2731  Bovine Meat       2017  2017  1000 tonnes   \n",
       "4  Stock Variation       2731  Bovine Meat       2014  2014  1000 tonnes   \n",
       "\n",
       "   Value Flag   Flag Description  \n",
       "0  121.0    S  Standardized data  \n",
       "1   94.0    S  Standardized data  \n",
       "2   16.0    S  Standardized data  \n",
       "3    6.0    S  Standardized data  \n",
       "4    0.0    S  Standardized data  "
      ]
     },
     "execution_count": 29,
     "metadata": {},
     "output_type": "execute_result"
    }
   ],
   "source": [
    "data_animals.head()"
   ]
  },
  {
   "cell_type": "code",
   "execution_count": 30,
   "metadata": {
    "pycharm": {
     "name": "#%%\n"
    }
   },
   "outputs": [
    {
     "data": {
      "text/html": [
       "<div>\n",
       "<style scoped>\n",
       "    .dataframe tbody tr th:only-of-type {\n",
       "        vertical-align: middle;\n",
       "    }\n",
       "\n",
       "    .dataframe tbody tr th {\n",
       "        vertical-align: top;\n",
       "    }\n",
       "\n",
       "    .dataframe thead th {\n",
       "        text-align: right;\n",
       "    }\n",
       "</style>\n",
       "<table border=\"1\" class=\"dataframe\">\n",
       "  <thead>\n",
       "    <tr style=\"text-align: right;\">\n",
       "      <th></th>\n",
       "      <th>Domain Code</th>\n",
       "      <th>Domain</th>\n",
       "      <th>Area Code</th>\n",
       "      <th>Area</th>\n",
       "      <th>Element Code</th>\n",
       "      <th>Element</th>\n",
       "      <th>Item Code</th>\n",
       "      <th>Item</th>\n",
       "      <th>Year Code</th>\n",
       "      <th>Year</th>\n",
       "      <th>Unit</th>\n",
       "      <th>Value</th>\n",
       "      <th>Flag</th>\n",
       "      <th>Flag Description</th>\n",
       "    </tr>\n",
       "  </thead>\n",
       "  <tbody>\n",
       "    <tr>\n",
       "      <th>84520</th>\n",
       "      <td>FBS</td>\n",
       "      <td>New Food Balances</td>\n",
       "      <td>181</td>\n",
       "      <td>Zimbabwe</td>\n",
       "      <td>664</td>\n",
       "      <td>Food supply (kcal/capita/day)</td>\n",
       "      <td>2775</td>\n",
       "      <td>Aquatic Plants</td>\n",
       "      <td>2017</td>\n",
       "      <td>2017</td>\n",
       "      <td>kcal/capita/day</td>\n",
       "      <td>0.0</td>\n",
       "      <td>Fc</td>\n",
       "      <td>Calculated data</td>\n",
       "    </tr>\n",
       "    <tr>\n",
       "      <th>84521</th>\n",
       "      <td>FBS</td>\n",
       "      <td>New Food Balances</td>\n",
       "      <td>181</td>\n",
       "      <td>Zimbabwe</td>\n",
       "      <td>674</td>\n",
       "      <td>Protein supply quantity (g/capita/day)</td>\n",
       "      <td>2775</td>\n",
       "      <td>Aquatic Plants</td>\n",
       "      <td>2014</td>\n",
       "      <td>2014</td>\n",
       "      <td>g/capita/day</td>\n",
       "      <td>0.0</td>\n",
       "      <td>Fc</td>\n",
       "      <td>Calculated data</td>\n",
       "    </tr>\n",
       "    <tr>\n",
       "      <th>84522</th>\n",
       "      <td>FBS</td>\n",
       "      <td>New Food Balances</td>\n",
       "      <td>181</td>\n",
       "      <td>Zimbabwe</td>\n",
       "      <td>674</td>\n",
       "      <td>Protein supply quantity (g/capita/day)</td>\n",
       "      <td>2775</td>\n",
       "      <td>Aquatic Plants</td>\n",
       "      <td>2017</td>\n",
       "      <td>2017</td>\n",
       "      <td>g/capita/day</td>\n",
       "      <td>0.0</td>\n",
       "      <td>Fc</td>\n",
       "      <td>Calculated data</td>\n",
       "    </tr>\n",
       "    <tr>\n",
       "      <th>84523</th>\n",
       "      <td>FBS</td>\n",
       "      <td>New Food Balances</td>\n",
       "      <td>181</td>\n",
       "      <td>Zimbabwe</td>\n",
       "      <td>684</td>\n",
       "      <td>Fat supply quantity (g/capita/day)</td>\n",
       "      <td>2775</td>\n",
       "      <td>Aquatic Plants</td>\n",
       "      <td>2014</td>\n",
       "      <td>2014</td>\n",
       "      <td>g/capita/day</td>\n",
       "      <td>0.0</td>\n",
       "      <td>Fc</td>\n",
       "      <td>Calculated data</td>\n",
       "    </tr>\n",
       "    <tr>\n",
       "      <th>84524</th>\n",
       "      <td>FBS</td>\n",
       "      <td>New Food Balances</td>\n",
       "      <td>181</td>\n",
       "      <td>Zimbabwe</td>\n",
       "      <td>684</td>\n",
       "      <td>Fat supply quantity (g/capita/day)</td>\n",
       "      <td>2775</td>\n",
       "      <td>Aquatic Plants</td>\n",
       "      <td>2017</td>\n",
       "      <td>2017</td>\n",
       "      <td>g/capita/day</td>\n",
       "      <td>0.0</td>\n",
       "      <td>Fc</td>\n",
       "      <td>Calculated data</td>\n",
       "    </tr>\n",
       "  </tbody>\n",
       "</table>\n",
       "</div>"
      ],
      "text/plain": [
       "      Domain Code             Domain  Area Code      Area  Element Code  \\\n",
       "84520         FBS  New Food Balances        181  Zimbabwe           664   \n",
       "84521         FBS  New Food Balances        181  Zimbabwe           674   \n",
       "84522         FBS  New Food Balances        181  Zimbabwe           674   \n",
       "84523         FBS  New Food Balances        181  Zimbabwe           684   \n",
       "84524         FBS  New Food Balances        181  Zimbabwe           684   \n",
       "\n",
       "                                      Element  Item Code            Item  \\\n",
       "84520           Food supply (kcal/capita/day)       2775  Aquatic Plants   \n",
       "84521  Protein supply quantity (g/capita/day)       2775  Aquatic Plants   \n",
       "84522  Protein supply quantity (g/capita/day)       2775  Aquatic Plants   \n",
       "84523      Fat supply quantity (g/capita/day)       2775  Aquatic Plants   \n",
       "84524      Fat supply quantity (g/capita/day)       2775  Aquatic Plants   \n",
       "\n",
       "       Year Code  Year             Unit  Value Flag Flag Description  \n",
       "84520       2017  2017  kcal/capita/day    0.0   Fc  Calculated data  \n",
       "84521       2014  2014     g/capita/day    0.0   Fc  Calculated data  \n",
       "84522       2017  2017     g/capita/day    0.0   Fc  Calculated data  \n",
       "84523       2014  2014     g/capita/day    0.0   Fc  Calculated data  \n",
       "84524       2017  2017     g/capita/day    0.0   Fc  Calculated data  "
      ]
     },
     "execution_count": 30,
     "metadata": {},
     "output_type": "execute_result"
    }
   ],
   "source": [
    "\n",
    "data_animals.tail()"
   ]
  },
  {
   "cell_type": "code",
   "execution_count": 31,
   "metadata": {
    "pycharm": {
     "name": "#%%\n"
    }
   },
   "outputs": [
    {
     "name": "stdout",
     "output_type": "stream",
     "text": [
      "Animal elements: ['Production' 'Import Quantity' 'Stock Variation' 'Export Quantity'\n",
      " 'Domestic supply quantity' 'Feed' 'Seed' 'Losses' 'Processing'\n",
      " 'Other uses (non-food)' 'Tourist consumption' 'Residuals' 'Food'\n",
      " 'Food supply quantity (kg/capita/yr)' 'Food supply (kcal/capita/day)'\n",
      " 'Protein supply quantity (g/capita/day)'\n",
      " 'Fat supply quantity (g/capita/day)']\n"
     ]
    }
   ],
   "source": [
    "print( 'Animal elements:', data_animals.Element.unique())"
   ]
  },
  {
   "cell_type": "code",
   "execution_count": 32,
   "metadata": {
    "pycharm": {
     "name": "#%%\n"
    }
   },
   "outputs": [
    {
     "name": "stdout",
     "output_type": "stream",
     "text": [
      "Number of elements: 17\n"
     ]
    }
   ],
   "source": [
    "print('Number of elements:', len(data_animals.Element.unique()))"
   ]
  },
  {
   "cell_type": "code",
   "execution_count": 33,
   "metadata": {
    "pycharm": {
     "name": "#%%\n"
    }
   },
   "outputs": [
    {
     "name": "stdout",
     "output_type": "stream",
     "text": [
      "All items: ['Bovine Meat' 'Mutton & Goat Meat' 'Pigmeat' 'Poultry Meat' 'Meat, Other'\n",
      " 'Offals, Edible' 'Butter, Ghee' 'Cream' 'Fats, Animals, Raw' 'Eggs'\n",
      " 'Milk - Excluding Butter' 'Freshwater Fish' 'Fish, Body Oil'\n",
      " 'Fish, Liver Oil' 'Demersal Fish' 'Pelagic Fish' 'Marine Fish, Other'\n",
      " 'Crustaceans' 'Cephalopods' 'Molluscs, Other' 'Aquatic Animals, Others'\n",
      " 'Aquatic Plants' 'Meat, Aquatic Mammals']\n"
     ]
    }
   ],
   "source": [
    "print('All items:', data_animals.Item.unique())"
   ]
  },
  {
   "cell_type": "code",
   "execution_count": 34,
   "metadata": {
    "pycharm": {
     "name": "#%%\n"
    }
   },
   "outputs": [
    {
     "name": "stdout",
     "output_type": "stream",
     "text": [
      "Area or countries: ['Afghanistan' 'Albania' 'Algeria' 'Angola' 'Antigua and Barbuda'\n",
      " 'Argentina' 'Armenia' 'Australia' 'Austria' 'Azerbaijan' 'Bahamas'\n",
      " 'Bangladesh' 'Barbados' 'Belarus' 'Belgium' 'Belize' 'Benin'\n",
      " 'Bolivia (Plurinational State of)' 'Bosnia and Herzegovina' 'Botswana'\n",
      " 'Brazil' 'Bulgaria' 'Burkina Faso' 'Cabo Verde' 'Cambodia' 'Cameroon'\n",
      " 'Canada' 'Central African Republic' 'Chad' 'Chile' 'China'\n",
      " 'China, Hong Kong SAR' 'China, Macao SAR' 'China, mainland'\n",
      " 'China, Taiwan Province of' 'Colombia' 'Congo' 'Costa Rica'\n",
      " \"Côte d'Ivoire\" 'Croatia' 'Cuba' 'Cyprus' 'Czechia'\n",
      " \"Democratic People's Republic of Korea\" 'Denmark' 'Djibouti' 'Dominica'\n",
      " 'Dominican Republic' 'Ecuador' 'Egypt' 'El Salvador' 'Estonia' 'Eswatini'\n",
      " 'Ethiopia' 'Fiji' 'Finland' 'France' 'French Polynesia' 'Gabon' 'Gambia'\n",
      " 'Georgia' 'Germany' 'Ghana' 'Greece' 'Grenada' 'Guatemala' 'Guinea'\n",
      " 'Guinea-Bissau' 'Guyana' 'Haiti' 'Honduras' 'Hungary' 'Iceland' 'India'\n",
      " 'Indonesia' 'Iran (Islamic Republic of)' 'Iraq' 'Ireland' 'Israel'\n",
      " 'Italy' 'Jamaica' 'Japan' 'Jordan' 'Kazakhstan' 'Kenya' 'Kiribati'\n",
      " 'Kuwait' 'Kyrgyzstan' \"Lao People's Democratic Republic\" 'Latvia'\n",
      " 'Lebanon' 'Lesotho' 'Liberia' 'Lithuania' 'Luxembourg' 'Madagascar'\n",
      " 'Malawi' 'Malaysia' 'Maldives' 'Mali' 'Malta' 'Mauritania' 'Mauritius'\n",
      " 'Mexico' 'Mongolia' 'Montenegro' 'Morocco' 'Mozambique' 'Myanmar'\n",
      " 'Namibia' 'Nepal' 'Netherlands' 'New Caledonia' 'New Zealand' 'Nicaragua'\n",
      " 'Niger' 'Nigeria' 'North Macedonia' 'Norway' 'Oman' 'Pakistan' 'Panama'\n",
      " 'Paraguay' 'Peru' 'Philippines' 'Poland' 'Portugal' 'Republic of Korea'\n",
      " 'Republic of Moldova' 'Romania' 'Russian Federation' 'Rwanda'\n",
      " 'Saint Kitts and Nevis' 'Saint Lucia' 'Saint Vincent and the Grenadines'\n",
      " 'Samoa' 'Sao Tome and Principe' 'Saudi Arabia' 'Senegal' 'Serbia'\n",
      " 'Sierra Leone' 'Slovakia' 'Slovenia' 'Solomon Islands' 'South Africa'\n",
      " 'Spain' 'Sri Lanka' 'Sudan' 'Suriname' 'Sweden' 'Switzerland'\n",
      " 'Tajikistan' 'Thailand' 'Timor-Leste' 'Togo' 'Trinidad and Tobago'\n",
      " 'Tunisia' 'Turkey' 'Turkmenistan' 'Uganda' 'Ukraine'\n",
      " 'United Arab Emirates'\n",
      " 'United Kingdom of Great Britain and Northern Ireland'\n",
      " 'United Republic of Tanzania' 'United States of America' 'Uruguay'\n",
      " 'Uzbekistan' 'Vanuatu' 'Venezuela (Bolivarian Republic of)' 'Viet Nam'\n",
      " 'Yemen' 'Zambia' 'Zimbabwe']\n"
     ]
    }
   ],
   "source": [
    "print('Area or countries:', data_vegetables_2017.Area.unique())"
   ]
  },
  {
   "cell_type": "code",
   "execution_count": 35,
   "metadata": {
    "pycharm": {
     "name": "#%%\n"
    }
   },
   "outputs": [
    {
     "name": "stdout",
     "output_type": "stream",
     "text": [
      "Area or countries amount to: 173\n"
     ]
    }
   ],
   "source": [
    "print('Area or countries amount to:', len(data_vegetables_2017.Area.unique()))"
   ]
  },
  {
   "cell_type": "code",
   "execution_count": 36,
   "metadata": {
    "pycharm": {
     "name": "#%%\n"
    }
   },
   "outputs": [
    {
     "name": "stdout",
     "output_type": "stream",
     "text": [
      "Years: [2017]\n"
     ]
    }
   ],
   "source": [
    "print('Years:', data_vegetables_2017.Year.unique())"
   ]
  },
  {
   "cell_type": "code",
   "execution_count": 37,
   "metadata": {
    "pycharm": {
     "name": "#%%\n"
    }
   },
   "outputs": [
    {
     "name": "stdout",
     "output_type": "stream",
     "text": [
      "<class 'pandas.core.frame.DataFrame'>\n",
      "RangeIndex: 342 entries, 0 to 341\n",
      "Data columns (total 14 columns):\n",
      " #   Column            Non-Null Count  Dtype  \n",
      "---  ------            --------------  -----  \n",
      " 0   Domain Code       342 non-null    object \n",
      " 1   Domain            342 non-null    object \n",
      " 2   Area Code         342 non-null    int64  \n",
      " 3   Area              342 non-null    object \n",
      " 4   Element Code      342 non-null    int64  \n",
      " 5   Element           342 non-null    object \n",
      " 6   Item Code         342 non-null    int64  \n",
      " 7   Item              342 non-null    object \n",
      " 8   Year Code         342 non-null    int64  \n",
      " 9   Year              342 non-null    int64  \n",
      " 10  Unit              342 non-null    object \n",
      " 11  Value             342 non-null    float64\n",
      " 12  Flag              342 non-null    object \n",
      " 13  Flag Description  342 non-null    object \n",
      "dtypes: float64(1), int64(5), object(8)\n",
      "memory usage: 37.5+ KB\n"
     ]
    }
   ],
   "source": [
    "data_population.info()"
   ]
  },
  {
   "cell_type": "code",
   "execution_count": 38,
   "metadata": {
    "pycharm": {
     "name": "#%%\n"
    }
   },
   "outputs": [
    {
     "data": {
      "text/html": [
       "<div>\n",
       "<style scoped>\n",
       "    .dataframe tbody tr th:only-of-type {\n",
       "        vertical-align: middle;\n",
       "    }\n",
       "\n",
       "    .dataframe tbody tr th {\n",
       "        vertical-align: top;\n",
       "    }\n",
       "\n",
       "    .dataframe thead th {\n",
       "        text-align: right;\n",
       "    }\n",
       "</style>\n",
       "<table border=\"1\" class=\"dataframe\">\n",
       "  <thead>\n",
       "    <tr style=\"text-align: right;\">\n",
       "      <th></th>\n",
       "      <th>Domain Code</th>\n",
       "      <th>Domain</th>\n",
       "      <th>Area Code</th>\n",
       "      <th>Area</th>\n",
       "      <th>Element Code</th>\n",
       "      <th>Element</th>\n",
       "      <th>Item Code</th>\n",
       "      <th>Item</th>\n",
       "      <th>Year Code</th>\n",
       "      <th>Year</th>\n",
       "      <th>Unit</th>\n",
       "      <th>Value</th>\n",
       "      <th>Flag</th>\n",
       "      <th>Flag Description</th>\n",
       "    </tr>\n",
       "  </thead>\n",
       "  <tbody>\n",
       "    <tr>\n",
       "      <th>0</th>\n",
       "      <td>FBS</td>\n",
       "      <td>New Food Balances</td>\n",
       "      <td>2</td>\n",
       "      <td>Afghanistan</td>\n",
       "      <td>511</td>\n",
       "      <td>Total Population - Both sexes</td>\n",
       "      <td>2501</td>\n",
       "      <td>Population</td>\n",
       "      <td>2014</td>\n",
       "      <td>2014</td>\n",
       "      <td>1000 persons</td>\n",
       "      <td>33370.79</td>\n",
       "      <td>S</td>\n",
       "      <td>Standardized data</td>\n",
       "    </tr>\n",
       "    <tr>\n",
       "      <th>1</th>\n",
       "      <td>FBS</td>\n",
       "      <td>New Food Balances</td>\n",
       "      <td>2</td>\n",
       "      <td>Afghanistan</td>\n",
       "      <td>511</td>\n",
       "      <td>Total Population - Both sexes</td>\n",
       "      <td>2501</td>\n",
       "      <td>Population</td>\n",
       "      <td>2017</td>\n",
       "      <td>2017</td>\n",
       "      <td>1000 persons</td>\n",
       "      <td>36296.11</td>\n",
       "      <td>S</td>\n",
       "      <td>Standardized data</td>\n",
       "    </tr>\n",
       "    <tr>\n",
       "      <th>2</th>\n",
       "      <td>FBS</td>\n",
       "      <td>New Food Balances</td>\n",
       "      <td>3</td>\n",
       "      <td>Albania</td>\n",
       "      <td>511</td>\n",
       "      <td>Total Population - Both sexes</td>\n",
       "      <td>2501</td>\n",
       "      <td>Population</td>\n",
       "      <td>2014</td>\n",
       "      <td>2014</td>\n",
       "      <td>1000 persons</td>\n",
       "      <td>2896.30</td>\n",
       "      <td>S</td>\n",
       "      <td>Standardized data</td>\n",
       "    </tr>\n",
       "    <tr>\n",
       "      <th>3</th>\n",
       "      <td>FBS</td>\n",
       "      <td>New Food Balances</td>\n",
       "      <td>3</td>\n",
       "      <td>Albania</td>\n",
       "      <td>511</td>\n",
       "      <td>Total Population - Both sexes</td>\n",
       "      <td>2501</td>\n",
       "      <td>Population</td>\n",
       "      <td>2017</td>\n",
       "      <td>2017</td>\n",
       "      <td>1000 persons</td>\n",
       "      <td>2884.17</td>\n",
       "      <td>S</td>\n",
       "      <td>Standardized data</td>\n",
       "    </tr>\n",
       "    <tr>\n",
       "      <th>4</th>\n",
       "      <td>FBS</td>\n",
       "      <td>New Food Balances</td>\n",
       "      <td>4</td>\n",
       "      <td>Algeria</td>\n",
       "      <td>511</td>\n",
       "      <td>Total Population - Both sexes</td>\n",
       "      <td>2501</td>\n",
       "      <td>Population</td>\n",
       "      <td>2014</td>\n",
       "      <td>2014</td>\n",
       "      <td>1000 persons</td>\n",
       "      <td>38923.69</td>\n",
       "      <td>S</td>\n",
       "      <td>Standardized data</td>\n",
       "    </tr>\n",
       "  </tbody>\n",
       "</table>\n",
       "</div>"
      ],
      "text/plain": [
       "  Domain Code             Domain  Area Code         Area  Element Code  \\\n",
       "0         FBS  New Food Balances          2  Afghanistan           511   \n",
       "1         FBS  New Food Balances          2  Afghanistan           511   \n",
       "2         FBS  New Food Balances          3      Albania           511   \n",
       "3         FBS  New Food Balances          3      Albania           511   \n",
       "4         FBS  New Food Balances          4      Algeria           511   \n",
       "\n",
       "                         Element  Item Code        Item  Year Code  Year  \\\n",
       "0  Total Population - Both sexes       2501  Population       2014  2014   \n",
       "1  Total Population - Both sexes       2501  Population       2017  2017   \n",
       "2  Total Population - Both sexes       2501  Population       2014  2014   \n",
       "3  Total Population - Both sexes       2501  Population       2017  2017   \n",
       "4  Total Population - Both sexes       2501  Population       2014  2014   \n",
       "\n",
       "           Unit     Value Flag   Flag Description  \n",
       "0  1000 persons  33370.79    S  Standardized data  \n",
       "1  1000 persons  36296.11    S  Standardized data  \n",
       "2  1000 persons   2896.30    S  Standardized data  \n",
       "3  1000 persons   2884.17    S  Standardized data  \n",
       "4  1000 persons  38923.69    S  Standardized data  "
      ]
     },
     "execution_count": 38,
     "metadata": {},
     "output_type": "execute_result"
    }
   ],
   "source": [
    "data_population.head()"
   ]
  },
  {
   "cell_type": "code",
   "execution_count": 39,
   "metadata": {
    "pycharm": {
     "name": "#%%\n"
    }
   },
   "outputs": [
    {
     "data": {
      "text/html": [
       "<div>\n",
       "<style scoped>\n",
       "    .dataframe tbody tr th:only-of-type {\n",
       "        vertical-align: middle;\n",
       "    }\n",
       "\n",
       "    .dataframe tbody tr th {\n",
       "        vertical-align: top;\n",
       "    }\n",
       "\n",
       "    .dataframe thead th {\n",
       "        text-align: right;\n",
       "    }\n",
       "</style>\n",
       "<table border=\"1\" class=\"dataframe\">\n",
       "  <thead>\n",
       "    <tr style=\"text-align: right;\">\n",
       "      <th></th>\n",
       "      <th>Domain Code</th>\n",
       "      <th>Domain</th>\n",
       "      <th>Area Code</th>\n",
       "      <th>Area</th>\n",
       "      <th>Element Code</th>\n",
       "      <th>Element</th>\n",
       "      <th>Item Code</th>\n",
       "      <th>Item</th>\n",
       "      <th>Year Code</th>\n",
       "      <th>Year</th>\n",
       "      <th>Unit</th>\n",
       "      <th>Value</th>\n",
       "      <th>Flag</th>\n",
       "      <th>Flag Description</th>\n",
       "    </tr>\n",
       "  </thead>\n",
       "  <tbody>\n",
       "    <tr>\n",
       "      <th>337</th>\n",
       "      <td>FBS</td>\n",
       "      <td>New Food Balances</td>\n",
       "      <td>249</td>\n",
       "      <td>Yemen</td>\n",
       "      <td>511</td>\n",
       "      <td>Total Population - Both sexes</td>\n",
       "      <td>2501</td>\n",
       "      <td>Population</td>\n",
       "      <td>2017</td>\n",
       "      <td>2017</td>\n",
       "      <td>1000 persons</td>\n",
       "      <td>27834.82</td>\n",
       "      <td>S</td>\n",
       "      <td>Standardized data</td>\n",
       "    </tr>\n",
       "    <tr>\n",
       "      <th>338</th>\n",
       "      <td>FBS</td>\n",
       "      <td>New Food Balances</td>\n",
       "      <td>251</td>\n",
       "      <td>Zambia</td>\n",
       "      <td>511</td>\n",
       "      <td>Total Population - Both sexes</td>\n",
       "      <td>2501</td>\n",
       "      <td>Population</td>\n",
       "      <td>2014</td>\n",
       "      <td>2014</td>\n",
       "      <td>1000 persons</td>\n",
       "      <td>15399.79</td>\n",
       "      <td>S</td>\n",
       "      <td>Standardized data</td>\n",
       "    </tr>\n",
       "    <tr>\n",
       "      <th>339</th>\n",
       "      <td>FBS</td>\n",
       "      <td>New Food Balances</td>\n",
       "      <td>251</td>\n",
       "      <td>Zambia</td>\n",
       "      <td>511</td>\n",
       "      <td>Total Population - Both sexes</td>\n",
       "      <td>2501</td>\n",
       "      <td>Population</td>\n",
       "      <td>2017</td>\n",
       "      <td>2017</td>\n",
       "      <td>1000 persons</td>\n",
       "      <td>16853.60</td>\n",
       "      <td>S</td>\n",
       "      <td>Standardized data</td>\n",
       "    </tr>\n",
       "    <tr>\n",
       "      <th>340</th>\n",
       "      <td>FBS</td>\n",
       "      <td>New Food Balances</td>\n",
       "      <td>181</td>\n",
       "      <td>Zimbabwe</td>\n",
       "      <td>511</td>\n",
       "      <td>Total Population - Both sexes</td>\n",
       "      <td>2501</td>\n",
       "      <td>Population</td>\n",
       "      <td>2014</td>\n",
       "      <td>2014</td>\n",
       "      <td>1000 persons</td>\n",
       "      <td>13586.71</td>\n",
       "      <td>S</td>\n",
       "      <td>Standardized data</td>\n",
       "    </tr>\n",
       "    <tr>\n",
       "      <th>341</th>\n",
       "      <td>FBS</td>\n",
       "      <td>New Food Balances</td>\n",
       "      <td>181</td>\n",
       "      <td>Zimbabwe</td>\n",
       "      <td>511</td>\n",
       "      <td>Total Population - Both sexes</td>\n",
       "      <td>2501</td>\n",
       "      <td>Population</td>\n",
       "      <td>2017</td>\n",
       "      <td>2017</td>\n",
       "      <td>1000 persons</td>\n",
       "      <td>14236.59</td>\n",
       "      <td>S</td>\n",
       "      <td>Standardized data</td>\n",
       "    </tr>\n",
       "  </tbody>\n",
       "</table>\n",
       "</div>"
      ],
      "text/plain": [
       "    Domain Code             Domain  Area Code      Area  Element Code  \\\n",
       "337         FBS  New Food Balances        249     Yemen           511   \n",
       "338         FBS  New Food Balances        251    Zambia           511   \n",
       "339         FBS  New Food Balances        251    Zambia           511   \n",
       "340         FBS  New Food Balances        181  Zimbabwe           511   \n",
       "341         FBS  New Food Balances        181  Zimbabwe           511   \n",
       "\n",
       "                           Element  Item Code        Item  Year Code  Year  \\\n",
       "337  Total Population - Both sexes       2501  Population       2017  2017   \n",
       "338  Total Population - Both sexes       2501  Population       2014  2014   \n",
       "339  Total Population - Both sexes       2501  Population       2017  2017   \n",
       "340  Total Population - Both sexes       2501  Population       2014  2014   \n",
       "341  Total Population - Both sexes       2501  Population       2017  2017   \n",
       "\n",
       "             Unit     Value Flag   Flag Description  \n",
       "337  1000 persons  27834.82    S  Standardized data  \n",
       "338  1000 persons  15399.79    S  Standardized data  \n",
       "339  1000 persons  16853.60    S  Standardized data  \n",
       "340  1000 persons  13586.71    S  Standardized data  \n",
       "341  1000 persons  14236.59    S  Standardized data  "
      ]
     },
     "execution_count": 39,
     "metadata": {},
     "output_type": "execute_result"
    }
   ],
   "source": [
    "data_population.tail()"
   ]
  },
  {
   "cell_type": "code",
   "execution_count": 40,
   "metadata": {
    "pycharm": {
     "name": "#%%\n"
    }
   },
   "outputs": [
    {
     "name": "stdout",
     "output_type": "stream",
     "text": [
      "Population elements: ['Total Population - Both sexes']\n"
     ]
    }
   ],
   "source": [
    "print( 'Population elements:', data_population.Element.unique())"
   ]
  },
  {
   "cell_type": "code",
   "execution_count": 41,
   "metadata": {
    "pycharm": {
     "name": "#%%\n"
    }
   },
   "outputs": [
    {
     "name": "stdout",
     "output_type": "stream",
     "text": [
      "Number of elements: 1\n"
     ]
    }
   ],
   "source": [
    "print('Number of elements:', len(data_population.Element.unique()))"
   ]
  },
  {
   "cell_type": "code",
   "execution_count": 42,
   "metadata": {
    "pycharm": {
     "name": "#%%\n"
    }
   },
   "outputs": [
    {
     "name": "stdout",
     "output_type": "stream",
     "text": [
      "All items: ['Population']\n"
     ]
    }
   ],
   "source": [
    "print('All items:', data_population.Item.unique())"
   ]
  },
  {
   "cell_type": "code",
   "execution_count": 43,
   "metadata": {
    "pycharm": {
     "name": "#%%\n"
    }
   },
   "outputs": [
    {
     "name": "stdout",
     "output_type": "stream",
     "text": [
      "Area or countries: ['Afghanistan' 'Albania' 'Algeria' 'Angola' 'Antigua and Barbuda'\n",
      " 'Argentina' 'Armenia' 'Australia' 'Austria' 'Azerbaijan' 'Bahamas'\n",
      " 'Bangladesh' 'Barbados' 'Belarus' 'Belgium' 'Belize' 'Benin'\n",
      " 'Bolivia (Plurinational State of)' 'Bosnia and Herzegovina' 'Botswana'\n",
      " 'Brazil' 'Bulgaria' 'Burkina Faso' 'Cabo Verde' 'Cambodia' 'Cameroon'\n",
      " 'Canada' 'Central African Republic' 'Chad' 'Chile' 'China'\n",
      " 'China, Hong Kong SAR' 'China, Macao SAR' 'China, mainland'\n",
      " 'China, Taiwan Province of' 'Colombia' 'Congo' 'Costa Rica'\n",
      " \"Côte d'Ivoire\" 'Croatia' 'Cuba' 'Cyprus' 'Czechia'\n",
      " \"Democratic People's Republic of Korea\" 'Denmark' 'Djibouti' 'Dominica'\n",
      " 'Dominican Republic' 'Ecuador' 'Egypt' 'El Salvador' 'Estonia' 'Eswatini'\n",
      " 'Ethiopia' 'Fiji' 'Finland' 'France' 'French Polynesia' 'Gabon' 'Gambia'\n",
      " 'Georgia' 'Germany' 'Ghana' 'Greece' 'Grenada' 'Guatemala' 'Guinea'\n",
      " 'Guinea-Bissau' 'Guyana' 'Haiti' 'Honduras' 'Hungary' 'Iceland' 'India'\n",
      " 'Indonesia' 'Iran (Islamic Republic of)' 'Iraq' 'Ireland' 'Israel'\n",
      " 'Italy' 'Jamaica' 'Japan' 'Jordan' 'Kazakhstan' 'Kenya' 'Kiribati'\n",
      " 'Kuwait' 'Kyrgyzstan' 'Latvia' 'Lebanon' 'Lesotho' 'Liberia' 'Lithuania'\n",
      " 'Luxembourg' 'Madagascar' 'Malawi' 'Malaysia' 'Maldives' 'Mali' 'Malta'\n",
      " 'Mauritania' 'Mauritius' 'Mexico' 'Mongolia' 'Montenegro' 'Morocco'\n",
      " 'Mozambique' 'Myanmar' 'Namibia' 'Nepal' 'Netherlands' 'New Caledonia'\n",
      " 'New Zealand' 'Nicaragua' 'Niger' 'Nigeria' 'North Macedonia' 'Norway'\n",
      " 'Oman' 'Pakistan' 'Panama' 'Paraguay' 'Peru' 'Philippines' 'Poland'\n",
      " 'Portugal' 'Republic of Korea' 'Republic of Moldova' 'Romania'\n",
      " 'Russian Federation' 'Rwanda' 'Saint Kitts and Nevis' 'Saint Lucia'\n",
      " 'Saint Vincent and the Grenadines' 'Samoa' 'Sao Tome and Principe'\n",
      " 'Saudi Arabia' 'Senegal' 'Serbia' 'Sierra Leone' 'Slovakia' 'Slovenia'\n",
      " 'Solomon Islands' 'South Africa' 'Spain' 'Sri Lanka' 'Sudan' 'Suriname'\n",
      " 'Sweden' 'Switzerland' 'Tajikistan' 'Thailand' 'Timor-Leste' 'Togo'\n",
      " 'Trinidad and Tobago' 'Tunisia' 'Turkey' 'Turkmenistan' 'Uganda'\n",
      " 'Ukraine' 'United Arab Emirates'\n",
      " 'United Kingdom of Great Britain and Northern Ireland'\n",
      " 'United Republic of Tanzania' 'United States of America' 'Uruguay'\n",
      " 'Vanuatu' 'Venezuela (Bolivarian Republic of)' 'Viet Nam' 'Yemen'\n",
      " 'Zambia' 'Zimbabwe']\n"
     ]
    }
   ],
   "source": [
    "print('Area or countries:', data_population.Area.unique())"
   ]
  },
  {
   "cell_type": "code",
   "execution_count": 44,
   "metadata": {
    "pycharm": {
     "name": "#%%\n"
    }
   },
   "outputs": [
    {
     "name": "stdout",
     "output_type": "stream",
     "text": [
      "Area or countries amount to: 171\n"
     ]
    }
   ],
   "source": [
    "print('Area or countries amount to:', len(data_population.Area.unique()))"
   ]
  },
  {
   "cell_type": "code",
   "execution_count": 45,
   "metadata": {
    "pycharm": {
     "name": "#%%\n"
    }
   },
   "outputs": [
    {
     "name": "stdout",
     "output_type": "stream",
     "text": [
      "Years: [2014 2017]\n"
     ]
    }
   ],
   "source": [
    "print('Years:', data_population.Year.unique())"
   ]
  },
  {
   "cell_type": "code",
   "execution_count": 46,
   "metadata": {
    "pycharm": {
     "name": "#%%\n"
    }
   },
   "outputs": [
    {
     "name": "stdout",
     "output_type": "stream",
     "text": [
      "<class 'pandas.core.frame.DataFrame'>\n",
      "RangeIndex: 1020 entries, 0 to 1019\n",
      "Data columns (total 15 columns):\n",
      " #   Column            Non-Null Count  Dtype  \n",
      "---  ------            --------------  -----  \n",
      " 0   Domain Code       1020 non-null   object \n",
      " 1   Domain            1020 non-null   object \n",
      " 2   Area Code         1020 non-null   int64  \n",
      " 3   Area              1020 non-null   object \n",
      " 4   Element Code      1020 non-null   int64  \n",
      " 5   Element           1020 non-null   object \n",
      " 6   Item Code         1020 non-null   int64  \n",
      " 7   Item              1020 non-null   object \n",
      " 8   Year Code         1020 non-null   int64  \n",
      " 9   Year              1020 non-null   object \n",
      " 10  Unit              1020 non-null   object \n",
      " 11  Value             605 non-null    object \n",
      " 12  Flag              1020 non-null   object \n",
      " 13  Flag Description  1020 non-null   object \n",
      " 14  Note              0 non-null      float64\n",
      "dtypes: float64(1), int64(4), object(10)\n",
      "memory usage: 119.7+ KB\n"
     ]
    }
   ],
   "source": [
    "data_undernourished.info()\n"
   ]
  },
  {
   "cell_type": "code",
   "execution_count": 47,
   "metadata": {
    "pycharm": {
     "name": "#%%\n"
    }
   },
   "outputs": [
    {
     "data": {
      "text/html": [
       "<div>\n",
       "<style scoped>\n",
       "    .dataframe tbody tr th:only-of-type {\n",
       "        vertical-align: middle;\n",
       "    }\n",
       "\n",
       "    .dataframe tbody tr th {\n",
       "        vertical-align: top;\n",
       "    }\n",
       "\n",
       "    .dataframe thead th {\n",
       "        text-align: right;\n",
       "    }\n",
       "</style>\n",
       "<table border=\"1\" class=\"dataframe\">\n",
       "  <thead>\n",
       "    <tr style=\"text-align: right;\">\n",
       "      <th></th>\n",
       "      <th>Domain Code</th>\n",
       "      <th>Domain</th>\n",
       "      <th>Area Code</th>\n",
       "      <th>Area</th>\n",
       "      <th>Element Code</th>\n",
       "      <th>Element</th>\n",
       "      <th>Item Code</th>\n",
       "      <th>Item</th>\n",
       "      <th>Year Code</th>\n",
       "      <th>Year</th>\n",
       "      <th>Unit</th>\n",
       "      <th>Value</th>\n",
       "      <th>Flag</th>\n",
       "      <th>Flag Description</th>\n",
       "      <th>Note</th>\n",
       "    </tr>\n",
       "  </thead>\n",
       "  <tbody>\n",
       "    <tr>\n",
       "      <th>0</th>\n",
       "      <td>FS</td>\n",
       "      <td>Suite of Food Security Indicators</td>\n",
       "      <td>2</td>\n",
       "      <td>Afghanistan</td>\n",
       "      <td>6132</td>\n",
       "      <td>Value</td>\n",
       "      <td>210011</td>\n",
       "      <td>Number of people undernourished (million) (3-y...</td>\n",
       "      <td>20122014</td>\n",
       "      <td>2012-2014</td>\n",
       "      <td>millions</td>\n",
       "      <td>7.9</td>\n",
       "      <td>F</td>\n",
       "      <td>FAO estimate</td>\n",
       "      <td>NaN</td>\n",
       "    </tr>\n",
       "    <tr>\n",
       "      <th>1</th>\n",
       "      <td>FS</td>\n",
       "      <td>Suite of Food Security Indicators</td>\n",
       "      <td>2</td>\n",
       "      <td>Afghanistan</td>\n",
       "      <td>6132</td>\n",
       "      <td>Value</td>\n",
       "      <td>210011</td>\n",
       "      <td>Number of people undernourished (million) (3-y...</td>\n",
       "      <td>20132015</td>\n",
       "      <td>2013-2015</td>\n",
       "      <td>millions</td>\n",
       "      <td>8.8</td>\n",
       "      <td>F</td>\n",
       "      <td>FAO estimate</td>\n",
       "      <td>NaN</td>\n",
       "    </tr>\n",
       "    <tr>\n",
       "      <th>2</th>\n",
       "      <td>FS</td>\n",
       "      <td>Suite of Food Security Indicators</td>\n",
       "      <td>2</td>\n",
       "      <td>Afghanistan</td>\n",
       "      <td>6132</td>\n",
       "      <td>Value</td>\n",
       "      <td>210011</td>\n",
       "      <td>Number of people undernourished (million) (3-y...</td>\n",
       "      <td>20142016</td>\n",
       "      <td>2014-2016</td>\n",
       "      <td>millions</td>\n",
       "      <td>9.6</td>\n",
       "      <td>F</td>\n",
       "      <td>FAO estimate</td>\n",
       "      <td>NaN</td>\n",
       "    </tr>\n",
       "    <tr>\n",
       "      <th>3</th>\n",
       "      <td>FS</td>\n",
       "      <td>Suite of Food Security Indicators</td>\n",
       "      <td>2</td>\n",
       "      <td>Afghanistan</td>\n",
       "      <td>6132</td>\n",
       "      <td>Value</td>\n",
       "      <td>210011</td>\n",
       "      <td>Number of people undernourished (million) (3-y...</td>\n",
       "      <td>20152017</td>\n",
       "      <td>2015-2017</td>\n",
       "      <td>millions</td>\n",
       "      <td>10.2</td>\n",
       "      <td>F</td>\n",
       "      <td>FAO estimate</td>\n",
       "      <td>NaN</td>\n",
       "    </tr>\n",
       "    <tr>\n",
       "      <th>4</th>\n",
       "      <td>FS</td>\n",
       "      <td>Suite of Food Security Indicators</td>\n",
       "      <td>2</td>\n",
       "      <td>Afghanistan</td>\n",
       "      <td>6132</td>\n",
       "      <td>Value</td>\n",
       "      <td>210011</td>\n",
       "      <td>Number of people undernourished (million) (3-y...</td>\n",
       "      <td>20162018</td>\n",
       "      <td>2016-2018</td>\n",
       "      <td>millions</td>\n",
       "      <td>10.6</td>\n",
       "      <td>F</td>\n",
       "      <td>FAO estimate</td>\n",
       "      <td>NaN</td>\n",
       "    </tr>\n",
       "  </tbody>\n",
       "</table>\n",
       "</div>"
      ],
      "text/plain": [
       "  Domain Code                             Domain  Area Code         Area  \\\n",
       "0          FS  Suite of Food Security Indicators          2  Afghanistan   \n",
       "1          FS  Suite of Food Security Indicators          2  Afghanistan   \n",
       "2          FS  Suite of Food Security Indicators          2  Afghanistan   \n",
       "3          FS  Suite of Food Security Indicators          2  Afghanistan   \n",
       "4          FS  Suite of Food Security Indicators          2  Afghanistan   \n",
       "\n",
       "   Element Code Element  Item Code  \\\n",
       "0          6132   Value     210011   \n",
       "1          6132   Value     210011   \n",
       "2          6132   Value     210011   \n",
       "3          6132   Value     210011   \n",
       "4          6132   Value     210011   \n",
       "\n",
       "                                                Item  Year Code       Year  \\\n",
       "0  Number of people undernourished (million) (3-y...   20122014  2012-2014   \n",
       "1  Number of people undernourished (million) (3-y...   20132015  2013-2015   \n",
       "2  Number of people undernourished (million) (3-y...   20142016  2014-2016   \n",
       "3  Number of people undernourished (million) (3-y...   20152017  2015-2017   \n",
       "4  Number of people undernourished (million) (3-y...   20162018  2016-2018   \n",
       "\n",
       "       Unit Value Flag Flag Description  Note  \n",
       "0  millions   7.9    F     FAO estimate   NaN  \n",
       "1  millions   8.8    F     FAO estimate   NaN  \n",
       "2  millions   9.6    F     FAO estimate   NaN  \n",
       "3  millions  10.2    F     FAO estimate   NaN  \n",
       "4  millions  10.6    F     FAO estimate   NaN  "
      ]
     },
     "execution_count": 47,
     "metadata": {},
     "output_type": "execute_result"
    }
   ],
   "source": [
    "data_undernourished.head()"
   ]
  },
  {
   "cell_type": "code",
   "execution_count": 48,
   "metadata": {
    "pycharm": {
     "name": "#%%\n"
    }
   },
   "outputs": [
    {
     "name": "stdout",
     "output_type": "stream",
     "text": [
      "Population elements: ['Value']\n"
     ]
    }
   ],
   "source": [
    "print( 'Population elements:', data_undernourished.Element.unique())"
   ]
  },
  {
   "cell_type": "code",
   "execution_count": 49,
   "metadata": {
    "pycharm": {
     "name": "#%%\n"
    }
   },
   "outputs": [
    {
     "name": "stdout",
     "output_type": "stream",
     "text": [
      "Number of elements: 1\n"
     ]
    }
   ],
   "source": [
    "print('Number of elements:', len(data_undernourished.Element.unique()))"
   ]
  },
  {
   "cell_type": "code",
   "execution_count": 50,
   "metadata": {
    "pycharm": {
     "name": "#%%\n"
    }
   },
   "outputs": [
    {
     "name": "stdout",
     "output_type": "stream",
     "text": [
      "Area or countries: ['Afghanistan' 'Albania' 'Algeria' 'American Samoa' 'Andorra' 'Angola'\n",
      " 'Antigua and Barbuda' 'Argentina' 'Armenia' 'Australia' 'Austria'\n",
      " 'Azerbaijan' 'Bahamas' 'Bahrain' 'Bangladesh' 'Barbados' 'Belarus'\n",
      " 'Belgium' 'Belize' 'Benin' 'Bermuda' 'Bhutan'\n",
      " 'Bolivia (Plurinational State of)' 'Bosnia and Herzegovina' 'Botswana'\n",
      " 'Brazil' 'Brunei Darussalam' 'Bulgaria' 'Burkina Faso' 'Burundi'\n",
      " 'Cabo Verde' 'Cambodia' 'Cameroon' 'Canada' 'Central African Republic'\n",
      " 'Chad' 'Chile' 'China' 'China, Hong Kong SAR' 'China, Macao SAR'\n",
      " 'China, mainland' 'China, Taiwan Province of' 'Colombia' 'Comoros'\n",
      " 'Congo' 'Cook Islands' 'Costa Rica' \"Côte d'Ivoire\" 'Croatia' 'Cuba'\n",
      " 'Cyprus' 'Czechia' \"Democratic People's Republic of Korea\"\n",
      " 'Democratic Republic of the Congo' 'Denmark' 'Djibouti' 'Dominica'\n",
      " 'Dominican Republic' 'Ecuador' 'Egypt' 'El Salvador' 'Equatorial Guinea'\n",
      " 'Eritrea' 'Estonia' 'Eswatini' 'Ethiopia' 'Fiji' 'Finland' 'France'\n",
      " 'French Polynesia' 'Gabon' 'Gambia' 'Georgia' 'Germany' 'Ghana' 'Greece'\n",
      " 'Greenland' 'Grenada' 'Guatemala' 'Guinea' 'Guinea-Bissau' 'Guyana'\n",
      " 'Haiti' 'Honduras' 'Hungary' 'Iceland' 'India' 'Indonesia'\n",
      " 'Iran (Islamic Republic of)' 'Iraq' 'Ireland' 'Israel' 'Italy' 'Jamaica'\n",
      " 'Japan' 'Jordan' 'Kazakhstan' 'Kenya' 'Kiribati' 'Kuwait' 'Kyrgyzstan'\n",
      " \"Lao People's Democratic Republic\" 'Latvia' 'Lebanon' 'Lesotho' 'Liberia'\n",
      " 'Libya' 'Lithuania' 'Luxembourg' 'Madagascar' 'Malawi' 'Malaysia'\n",
      " 'Maldives' 'Mali' 'Malta' 'Marshall Islands' 'Mauritania' 'Mauritius'\n",
      " 'Mexico' 'Micronesia (Federated States of)' 'Mongolia' 'Montenegro'\n",
      " 'Morocco' 'Mozambique' 'Myanmar' 'Namibia' 'Nauru' 'Nepal' 'Netherlands'\n",
      " 'New Caledonia' 'New Zealand' 'Nicaragua' 'Niger' 'Nigeria' 'Niue'\n",
      " 'North Macedonia' 'Norway' 'Oman' 'Pakistan' 'Palau' 'Palestine' 'Panama'\n",
      " 'Papua New Guinea' 'Paraguay' 'Peru' 'Philippines' 'Poland' 'Portugal'\n",
      " 'Puerto Rico' 'Qatar' 'Republic of Korea' 'Republic of Moldova' 'Romania'\n",
      " 'Russian Federation' 'Rwanda' 'Saint Kitts and Nevis' 'Saint Lucia'\n",
      " 'Saint Vincent and the Grenadines' 'Samoa' 'Sao Tome and Principe'\n",
      " 'Saudi Arabia' 'Senegal' 'Serbia' 'Seychelles' 'Sierra Leone' 'Singapore'\n",
      " 'Slovakia' 'Slovenia' 'Solomon Islands' 'Somalia' 'South Africa'\n",
      " 'South Sudan' 'Spain' 'Sri Lanka' 'Sudan' 'Suriname' 'Sweden'\n",
      " 'Switzerland' 'Syrian Arab Republic' 'Tajikistan' 'Thailand'\n",
      " 'Timor-Leste' 'Togo' 'Tokelau' 'Tonga' 'Trinidad and Tobago' 'Tunisia'\n",
      " 'Turkey' 'Turkmenistan' 'Tuvalu' 'Uganda' 'Ukraine'\n",
      " 'United Arab Emirates'\n",
      " 'United Kingdom of Great Britain and Northern Ireland'\n",
      " 'United Republic of Tanzania' 'United States of America' 'Uruguay'\n",
      " 'Uzbekistan' 'Vanuatu' 'Venezuela (Bolivarian Republic of)' 'Viet Nam'\n",
      " 'Yemen' 'Zambia' 'Zimbabwe']\n"
     ]
    }
   ],
   "source": [
    "print('Area or countries:', data_undernourished.Area.unique())"
   ]
  },
  {
   "cell_type": "code",
   "execution_count": 51,
   "metadata": {
    "pycharm": {
     "name": "#%%\n"
    }
   },
   "outputs": [
    {
     "name": "stdout",
     "output_type": "stream",
     "text": [
      "Area or countries amount to: 204\n"
     ]
    }
   ],
   "source": [
    "print('Area or countries amount to:', len(data_undernourished.Area.unique()))"
   ]
  },
  {
   "cell_type": "code",
   "execution_count": 52,
   "metadata": {
    "pycharm": {
     "name": "#%%\n"
    }
   },
   "outputs": [
    {
     "name": "stdout",
     "output_type": "stream",
     "text": [
      "Years: ['2012-2014' '2013-2015' '2014-2016' '2015-2017' '2016-2018']\n"
     ]
    }
   ],
   "source": [
    "print('Years:', data_undernourished.Year.unique())"
   ]
  },
  {
   "cell_type": "markdown",
   "metadata": {
    "pycharm": {
     "name": "#%% md\n"
    }
   },
   "source": [
    "**Replace NaN with zeros**"
   ]
  },
  {
   "cell_type": "code",
   "execution_count": 53,
   "metadata": {
    "pycharm": {
     "name": "#%%\n"
    }
   },
   "outputs": [],
   "source": [
    "data_crops.fillna(0, inplace=True)\n",
    "data_undernourished.fillna(0, inplace=True)\n",
    "data_animals.fillna(0, inplace=True)\n",
    "data_vegetables_2017.fillna(0, inplace=True)\n",
    "data_population.fillna(0, inplace=True)"
   ]
  },
  {
   "cell_type": "markdown",
   "metadata": {
    "pycharm": {
     "name": "#%% md\n"
    }
   },
   "source": [
    "**Converting value object dtype to a numerical one.**"
   ]
  },
  {
   "cell_type": "code",
   "execution_count": 54,
   "metadata": {
    "pycharm": {
     "name": "#%%\n"
    }
   },
   "outputs": [],
   "source": [
    "data_undernourished.Value = pd.to_numeric(data_undernourished.Value, errors ='coerce')"
   ]
  },
  {
   "cell_type": "markdown",
   "metadata": {
    "pycharm": {
     "name": "#%% md\n"
    }
   },
   "source": [
    "**renaming data columns**"
   ]
  },
  {
   "cell_type": "code",
   "execution_count": null,
   "metadata": {
    "pycharm": {
     "name": "#%%\n"
    }
   },
   "outputs": [],
   "source": []
  },
  {
   "cell_type": "markdown",
   "metadata": {
    "pycharm": {
     "name": "#%% md\n"
    }
   },
   "source": [
    "# Task 2 : Data Discovery"
   ]
  },
  {
   "cell_type": "markdown",
   "metadata": {
    "collapsed": false,
    "pycharm": {
     "name": "#%% md\n"
    }
   },
   "source": [
    "**Data default generated ids have been identified here:**\n",
    "\n",
    "They are simply all data set columns with \"code\" as its suffix like, Item Code, Area Code and Element Code etc."
   ]
  },
  {
   "cell_type": "code",
   "execution_count": 55,
   "metadata": {
    "pycharm": {
     "name": "#%%\n"
    }
   },
   "outputs": [
    {
     "name": "stderr",
     "output_type": "stream",
     "text": [
      "/var/folders/6t/cs55bt816j7360h_wfmskqtm0000gn/T/ipykernel_51105/1836731455.py:2: FutureWarning: The frame.append method is deprecated and will be removed from pandas in a future version. Use pandas.concat instead.\n",
      "  data_vegetables =  data_vegetables_2014.append(data_vegetables_2017)\n"
     ]
    }
   ],
   "source": [
    "# Creating properties Product origin that contain vegetal and animal\n",
    "data_vegetables =  data_vegetables_2014.append(data_vegetables_2017)\n",
    "data_animals['origin'] = 'animal'\n",
    "data_vegetables['origin'] = 'vegetal'"
   ]
  },
  {
   "cell_type": "code",
   "execution_count": 56,
   "metadata": {
    "pycharm": {
     "name": "#%%\n"
    }
   },
   "outputs": [
    {
     "name": "stderr",
     "output_type": "stream",
     "text": [
      "/var/folders/6t/cs55bt816j7360h_wfmskqtm0000gn/T/ipykernel_51105/3624635257.py:2: FutureWarning: The frame.append method is deprecated and will be removed from pandas in a future version. Use pandas.concat instead.\n",
      "  temp = data_animals.append(data_vegetables)\n"
     ]
    }
   ],
   "source": [
    "# Creating a temporary dataframe combined from vegetables and animals products and rename its column name.\n",
    "temp = data_animals.append(data_vegetables)"
   ]
  },
  {
   "cell_type": "code",
   "execution_count": 57,
   "metadata": {
    "pycharm": {
     "name": "#%%\n"
    }
   },
   "outputs": [],
   "source": [
    "# Columns selection according to Paul protocol.\n",
    "temp.columns = [\"xx\", \"xx2\", \"country_code\", \"country\", 'xx3', 'element'\n",
    ",'item_code', 'item', 'xx4', \"year\", \"unit\", \"value\", 'xx5', 'xx6'\n",
    ", 'origin']\n",
    "\n",
    "# Creating the main dataFrame pivot table that will be used to Answer most question.\n",
    "data = temp.pivot_table(\n",
    "index=[\"country_code\", \"country\", \"item_code\", \"item\", \"year\", \"origin\"],\n",
    "columns = [\"element\"], values=[\"value\"], aggfunc=sum)\n",
    "\n",
    "#elements_columns = pd.Series(data.columns.unique()).replace(regex={' ': '_', '[()]': '', '/': '_', '-': '_'}).str.lower()\n",
    "\n",
    "# Selecting columns based on elements.\n",
    "data.columns =  ['domestic_supply_quantity', 'export_quantity', 'fat_supply_quantity_g_capita_day', 'feed',\n",
    "'food', 'food_supply_kcal_capita_day',\n",
    "'food_supply_quantity_kg_capita_yr', 'import_quantity', 'losses', 'other_uses_non_food',\n",
    "'processing', 'production', 'protein_supply_quantity_g_capita_day',\n",
    "'residuals', 'seed', 'stock_variation', 'tourist_consumption']\n",
    "\n",
    "# removing not need columns like fat_supply_quantity_g_capita_day, residuals and tourist_consumption.\n",
    "data = data[ ['domestic_supply_quantity', 'export_quantity', 'feed',\n",
    "'food', 'food_supply_kcal_capita_day',\n",
    "'food_supply_quantity_kg_capita_yr', 'import_quantity', 'losses', 'other_uses_non_food',\n",
    "'processing', 'production', 'protein_supply_quantity_g_capita_day', 'seed', 'stock_variation',]]\n",
    "\n",
    "#Removing NaN values.\n",
    "#data.fillna(0, inplace=True)\n",
    "\n",
    "#data.drop(columns=['residuals', 'tourist_consumption', 'fat_supply_quantity_g_capita_day'], inplace= True)\n",
    "\n",
    "# Reset the index based on the pivot table and columns changes.\n",
    "data = data.reset_index()\n",
    "data = data[data.country_code != 351]\n",
    "\n",
    "\n",
    "col_renamed = {'Domain Code' : 'domain_code','Domain' : 'domain', 'Area Code' : 'country_code',\n",
    "                           'Area' : 'country', 'Element Code' : 'element_code','Element' : 'element',\n",
    "                           'Item Code' : 'item_code', 'Item' : 'item', 'Year Code' : 'year_code', 'Year' : 'year',\n",
    "                           'Unit' : 'unit', 'Value' : 'value', 'Flag' : 'flag', 'Flag Description' : 'flag_description'}\n",
    "\n",
    "data_crops =  data_crops.rename(columns= col_renamed)\n",
    "data_vegetables_2017 = data_vegetables_2017.rename(columns= col_renamed)\n",
    "data_animals = data_animals.rename(columns= col_renamed)\n",
    "data_population = data_population.rename(columns= col_renamed)\n",
    "data_undernourished = data_undernourished.rename(columns= col_renamed)\n"
   ]
  },
  {
   "cell_type": "markdown",
   "metadata": {
    "pycharm": {
     "name": "#%% md\n"
    }
   },
   "source": [
    "**Data vegetables and animals Summary statistics**"
   ]
  },
  {
   "cell_type": "code",
   "execution_count": 58,
   "metadata": {
    "pycharm": {
     "name": "#%%\n"
    }
   },
   "outputs": [
    {
     "data": {
      "text/html": [
       "<div>\n",
       "<style scoped>\n",
       "    .dataframe tbody tr th:only-of-type {\n",
       "        vertical-align: middle;\n",
       "    }\n",
       "\n",
       "    .dataframe tbody tr th {\n",
       "        vertical-align: top;\n",
       "    }\n",
       "\n",
       "    .dataframe thead th {\n",
       "        text-align: right;\n",
       "    }\n",
       "</style>\n",
       "<table border=\"1\" class=\"dataframe\">\n",
       "  <thead>\n",
       "    <tr style=\"text-align: right;\">\n",
       "      <th></th>\n",
       "      <th>country_code</th>\n",
       "      <th>item_code</th>\n",
       "      <th>year</th>\n",
       "      <th>domestic_supply_quantity</th>\n",
       "      <th>export_quantity</th>\n",
       "      <th>feed</th>\n",
       "      <th>food</th>\n",
       "      <th>food_supply_kcal_capita_day</th>\n",
       "      <th>food_supply_quantity_kg_capita_yr</th>\n",
       "      <th>import_quantity</th>\n",
       "      <th>losses</th>\n",
       "      <th>other_uses_non_food</th>\n",
       "      <th>processing</th>\n",
       "      <th>production</th>\n",
       "      <th>protein_supply_quantity_g_capita_day</th>\n",
       "      <th>seed</th>\n",
       "      <th>stock_variation</th>\n",
       "    </tr>\n",
       "  </thead>\n",
       "  <tbody>\n",
       "    <tr>\n",
       "      <th>count</th>\n",
       "      <td>32110.00000</td>\n",
       "      <td>32110.000000</td>\n",
       "      <td>32110.000000</td>\n",
       "      <td>31819.000000</td>\n",
       "      <td>24954.000000</td>\n",
       "      <td>11082.000000</td>\n",
       "      <td>29218.000000</td>\n",
       "      <td>28885.000000</td>\n",
       "      <td>29466.000000</td>\n",
       "      <td>30590.000000</td>\n",
       "      <td>13538.000000</td>\n",
       "      <td>13415.000000</td>\n",
       "      <td>9568.000000</td>\n",
       "      <td>21850.000000</td>\n",
       "      <td>28947.000000</td>\n",
       "      <td>7236.000000</td>\n",
       "      <td>24540.000000</td>\n",
       "    </tr>\n",
       "    <tr>\n",
       "      <th>mean</th>\n",
       "      <td>126.44497</td>\n",
       "      <td>2630.218966</td>\n",
       "      <td>2015.499253</td>\n",
       "      <td>677.701091</td>\n",
       "      <td>121.145748</td>\n",
       "      <td>264.402454</td>\n",
       "      <td>351.422924</td>\n",
       "      <td>33.940696</td>\n",
       "      <td>8.059022</td>\n",
       "      <td>91.567898</td>\n",
       "      <td>88.520239</td>\n",
       "      <td>134.782408</td>\n",
       "      <td>533.577132</td>\n",
       "      <td>1006.895606</td>\n",
       "      <td>0.963096</td>\n",
       "      <td>48.202460</td>\n",
       "      <td>9.021394</td>\n",
       "    </tr>\n",
       "    <tr>\n",
       "      <th>std</th>\n",
       "      <td>72.88545</td>\n",
       "      <td>91.346924</td>\n",
       "      <td>1.500023</td>\n",
       "      <td>9477.193907</td>\n",
       "      <td>1263.307094</td>\n",
       "      <td>3336.243914</td>\n",
       "      <td>4856.313333</td>\n",
       "      <td>106.717938</td>\n",
       "      <td>24.160516</td>\n",
       "      <td>876.353008</td>\n",
       "      <td>1242.231894</td>\n",
       "      <td>4338.122656</td>\n",
       "      <td>7519.101272</td>\n",
       "      <td>11794.015558</td>\n",
       "      <td>3.252872</td>\n",
       "      <td>525.596477</td>\n",
       "      <td>346.290652</td>\n",
       "    </tr>\n",
       "    <tr>\n",
       "      <th>min</th>\n",
       "      <td>1.00000</td>\n",
       "      <td>2511.000000</td>\n",
       "      <td>2014.000000</td>\n",
       "      <td>-828.000000</td>\n",
       "      <td>0.000000</td>\n",
       "      <td>-2.000000</td>\n",
       "      <td>0.000000</td>\n",
       "      <td>0.000000</td>\n",
       "      <td>0.000000</td>\n",
       "      <td>0.000000</td>\n",
       "      <td>0.000000</td>\n",
       "      <td>-1.000000</td>\n",
       "      <td>0.000000</td>\n",
       "      <td>0.000000</td>\n",
       "      <td>0.000000</td>\n",
       "      <td>0.000000</td>\n",
       "      <td>-10388.000000</td>\n",
       "    </tr>\n",
       "    <tr>\n",
       "      <th>25%</th>\n",
       "      <td>66.00000</td>\n",
       "      <td>2558.000000</td>\n",
       "      <td>2014.000000</td>\n",
       "      <td>0.000000</td>\n",
       "      <td>0.000000</td>\n",
       "      <td>0.000000</td>\n",
       "      <td>0.000000</td>\n",
       "      <td>0.000000</td>\n",
       "      <td>0.020000</td>\n",
       "      <td>0.000000</td>\n",
       "      <td>0.000000</td>\n",
       "      <td>0.000000</td>\n",
       "      <td>0.000000</td>\n",
       "      <td>0.000000</td>\n",
       "      <td>0.000000</td>\n",
       "      <td>0.000000</td>\n",
       "      <td>0.000000</td>\n",
       "    </tr>\n",
       "    <tr>\n",
       "      <th>50%</th>\n",
       "      <td>121.00000</td>\n",
       "      <td>2612.000000</td>\n",
       "      <td>2014.000000</td>\n",
       "      <td>6.000000</td>\n",
       "      <td>0.000000</td>\n",
       "      <td>0.000000</td>\n",
       "      <td>4.000000</td>\n",
       "      <td>3.000000</td>\n",
       "      <td>0.590000</td>\n",
       "      <td>1.000000</td>\n",
       "      <td>1.000000</td>\n",
       "      <td>0.000000</td>\n",
       "      <td>0.000000</td>\n",
       "      <td>11.000000</td>\n",
       "      <td>0.030000</td>\n",
       "      <td>0.000000</td>\n",
       "      <td>0.000000</td>\n",
       "    </tr>\n",
       "    <tr>\n",
       "      <th>75%</th>\n",
       "      <td>188.00000</td>\n",
       "      <td>2732.000000</td>\n",
       "      <td>2017.000000</td>\n",
       "      <td>73.000000</td>\n",
       "      <td>8.000000</td>\n",
       "      <td>11.000000</td>\n",
       "      <td>47.000000</td>\n",
       "      <td>20.000000</td>\n",
       "      <td>4.540000</td>\n",
       "      <td>17.000000</td>\n",
       "      <td>13.000000</td>\n",
       "      <td>1.000000</td>\n",
       "      <td>16.000000</td>\n",
       "      <td>131.000000</td>\n",
       "      <td>0.410000</td>\n",
       "      <td>4.000000</td>\n",
       "      <td>0.000000</td>\n",
       "    </tr>\n",
       "    <tr>\n",
       "      <th>max</th>\n",
       "      <td>276.00000</td>\n",
       "      <td>2899.000000</td>\n",
       "      <td>2017.000000</td>\n",
       "      <td>758548.000000</td>\n",
       "      <td>68156.000000</td>\n",
       "      <td>187553.000000</td>\n",
       "      <td>473967.000000</td>\n",
       "      <td>1785.000000</td>\n",
       "      <td>457.700000</td>\n",
       "      <td>95538.000000</td>\n",
       "      <td>83476.000000</td>\n",
       "      <td>324186.000000</td>\n",
       "      <td>345510.000000</td>\n",
       "      <td>758548.000000</td>\n",
       "      <td>49.110000</td>\n",
       "      <td>26679.000000</td>\n",
       "      <td>25089.000000</td>\n",
       "    </tr>\n",
       "  </tbody>\n",
       "</table>\n",
       "</div>"
      ],
      "text/plain": [
       "       country_code     item_code          year  domestic_supply_quantity  \\\n",
       "count   32110.00000  32110.000000  32110.000000              31819.000000   \n",
       "mean      126.44497   2630.218966   2015.499253                677.701091   \n",
       "std        72.88545     91.346924      1.500023               9477.193907   \n",
       "min         1.00000   2511.000000   2014.000000               -828.000000   \n",
       "25%        66.00000   2558.000000   2014.000000                  0.000000   \n",
       "50%       121.00000   2612.000000   2014.000000                  6.000000   \n",
       "75%       188.00000   2732.000000   2017.000000                 73.000000   \n",
       "max       276.00000   2899.000000   2017.000000             758548.000000   \n",
       "\n",
       "       export_quantity           feed           food  \\\n",
       "count     24954.000000   11082.000000   29218.000000   \n",
       "mean        121.145748     264.402454     351.422924   \n",
       "std        1263.307094    3336.243914    4856.313333   \n",
       "min           0.000000      -2.000000       0.000000   \n",
       "25%           0.000000       0.000000       0.000000   \n",
       "50%           0.000000       0.000000       4.000000   \n",
       "75%           8.000000      11.000000      47.000000   \n",
       "max       68156.000000  187553.000000  473967.000000   \n",
       "\n",
       "       food_supply_kcal_capita_day  food_supply_quantity_kg_capita_yr  \\\n",
       "count                 28885.000000                       29466.000000   \n",
       "mean                     33.940696                           8.059022   \n",
       "std                     106.717938                          24.160516   \n",
       "min                       0.000000                           0.000000   \n",
       "25%                       0.000000                           0.020000   \n",
       "50%                       3.000000                           0.590000   \n",
       "75%                      20.000000                           4.540000   \n",
       "max                    1785.000000                         457.700000   \n",
       "\n",
       "       import_quantity        losses  other_uses_non_food     processing  \\\n",
       "count     30590.000000  13538.000000         13415.000000    9568.000000   \n",
       "mean         91.567898     88.520239           134.782408     533.577132   \n",
       "std         876.353008   1242.231894          4338.122656    7519.101272   \n",
       "min           0.000000      0.000000            -1.000000       0.000000   \n",
       "25%           0.000000      0.000000             0.000000       0.000000   \n",
       "50%           1.000000      1.000000             0.000000       0.000000   \n",
       "75%          17.000000     13.000000             1.000000      16.000000   \n",
       "max       95538.000000  83476.000000        324186.000000  345510.000000   \n",
       "\n",
       "          production  protein_supply_quantity_g_capita_day          seed  \\\n",
       "count   21850.000000                          28947.000000   7236.000000   \n",
       "mean     1006.895606                              0.963096     48.202460   \n",
       "std     11794.015558                              3.252872    525.596477   \n",
       "min         0.000000                              0.000000      0.000000   \n",
       "25%         0.000000                              0.000000      0.000000   \n",
       "50%        11.000000                              0.030000      0.000000   \n",
       "75%       131.000000                              0.410000      4.000000   \n",
       "max    758548.000000                             49.110000  26679.000000   \n",
       "\n",
       "       stock_variation  \n",
       "count     24540.000000  \n",
       "mean          9.021394  \n",
       "std         346.290652  \n",
       "min      -10388.000000  \n",
       "25%           0.000000  \n",
       "50%           0.000000  \n",
       "75%           0.000000  \n",
       "max       25089.000000  "
      ]
     },
     "execution_count": 58,
     "metadata": {},
     "output_type": "execute_result"
    }
   ],
   "source": [
    "data.describe()"
   ]
  },
  {
   "cell_type": "markdown",
   "metadata": {
    "pycharm": {
     "name": "#%% md\n"
    }
   },
   "source": [
    "## Domestic supply quantity data redundancy equation"
   ]
  },
  {
   "cell_type": "code",
   "execution_count": 59,
   "metadata": {
    "pycharm": {
     "name": "#%%\n"
    }
   },
   "outputs": [],
   "source": [
    "data_france = data_vegetables_2017[(data_vegetables_2017.country == 'France') & (data_vegetables_2017.item == 'Wheat and products')]"
   ]
  },
  {
   "cell_type": "code",
   "execution_count": 60,
   "metadata": {
    "pycharm": {
     "name": "#%%\n"
    }
   },
   "outputs": [
    {
     "name": "stdout",
     "output_type": "stream",
     "text": [
      "<class 'pandas.core.frame.DataFrame'>\n",
      "Int64Index: 16 entries, 46170 to 46185\n",
      "Data columns (total 14 columns):\n",
      " #   Column            Non-Null Count  Dtype  \n",
      "---  ------            --------------  -----  \n",
      " 0   domain_code       16 non-null     object \n",
      " 1   domain            16 non-null     object \n",
      " 2   country_code      16 non-null     int64  \n",
      " 3   country           16 non-null     object \n",
      " 4   element_code      16 non-null     int64  \n",
      " 5   element           16 non-null     object \n",
      " 6   item_code         16 non-null     int64  \n",
      " 7   item              16 non-null     object \n",
      " 8   year_code         16 non-null     int64  \n",
      " 9   year              16 non-null     int64  \n",
      " 10  unit              16 non-null     object \n",
      " 11  value             16 non-null     float64\n",
      " 12  flag              16 non-null     object \n",
      " 13  flag_description  16 non-null     object \n",
      "dtypes: float64(1), int64(5), object(8)\n",
      "memory usage: 1.9+ KB\n"
     ]
    }
   ],
   "source": [
    "data_france.info()"
   ]
  },
  {
   "cell_type": "markdown",
   "metadata": {
    "pycharm": {
     "name": "#%% md\n"
    }
   },
   "source": [
    "  **Calculating the 4 term equation of a specific country in this case france item Wheat and products, proving so some data redundancy.**"
   ]
  },
  {
   "cell_type": "code",
   "execution_count": 61,
   "metadata": {
    "pycharm": {
     "name": "#%%\n"
    }
   },
   "outputs": [
    {
     "data": {
      "text/plain": [
       "array([ True])"
      ]
     },
     "execution_count": 61,
     "metadata": {},
     "output_type": "execute_result"
    }
   ],
   "source": [
    "data_france[data_france.loc[:]['element'] == 'Production'].value.values + \\\n",
    "data_france[data_france.loc[:]['element'] == 'Import Quantity'].value.values \\\n",
    "- data_france[data_france.loc[:]['element'] == 'Export Quantity'].value.values - \\\n",
    "data_france[data_france.loc[:]['element'] == 'Stock Variation'].value.values \\\n",
    "== data_france[data_france.loc[:]['element'] == 'Domestic supply quantity'].value.values"
   ]
  },
  {
   "cell_type": "markdown",
   "metadata": {
    "collapsed": false,
    "pycharm": {
     "name": "#%% md\n"
    }
   },
   "source": [
    "This equation return to be **TRUE** Domestic supply quantity is a result of a 4 term equation."
   ]
  },
  {
   "cell_type": "markdown",
   "metadata": {
    "pycharm": {
     "name": "#%% md\n"
    }
   },
   "source": [
    "## Task 3 : Data Cleaning"
   ]
  },
  {
   "cell_type": "markdown",
   "metadata": {
    "pycharm": {
     "name": "#%% md\n"
    }
   },
   "source": [
    "**Checking for data anomaly and removing it.**"
   ]
  },
  {
   "cell_type": "code",
   "execution_count": 62,
   "metadata": {
    "pycharm": {
     "name": "#%%\n"
    }
   },
   "outputs": [
    {
     "data": {
      "text/html": [
       "<div>\n",
       "<style scoped>\n",
       "    .dataframe tbody tr th:only-of-type {\n",
       "        vertical-align: middle;\n",
       "    }\n",
       "\n",
       "    .dataframe tbody tr th {\n",
       "        vertical-align: top;\n",
       "    }\n",
       "\n",
       "    .dataframe thead th {\n",
       "        text-align: right;\n",
       "    }\n",
       "</style>\n",
       "<table border=\"1\" class=\"dataframe\">\n",
       "  <thead>\n",
       "    <tr style=\"text-align: right;\">\n",
       "      <th></th>\n",
       "      <th>country_code</th>\n",
       "      <th>country</th>\n",
       "      <th>item_code</th>\n",
       "      <th>item</th>\n",
       "      <th>year</th>\n",
       "      <th>origin</th>\n",
       "      <th>domestic_supply_quantity</th>\n",
       "      <th>export_quantity</th>\n",
       "      <th>feed</th>\n",
       "      <th>food</th>\n",
       "      <th>food_supply_kcal_capita_day</th>\n",
       "      <th>food_supply_quantity_kg_capita_yr</th>\n",
       "      <th>import_quantity</th>\n",
       "      <th>losses</th>\n",
       "      <th>other_uses_non_food</th>\n",
       "      <th>processing</th>\n",
       "      <th>production</th>\n",
       "      <th>protein_supply_quantity_g_capita_day</th>\n",
       "      <th>seed</th>\n",
       "      <th>stock_variation</th>\n",
       "    </tr>\n",
       "  </thead>\n",
       "  <tbody>\n",
       "    <tr>\n",
       "      <th>0</th>\n",
       "      <td>1</td>\n",
       "      <td>Armenia</td>\n",
       "      <td>2511</td>\n",
       "      <td>Wheat and products</td>\n",
       "      <td>2014</td>\n",
       "      <td>vegetal</td>\n",
       "      <td>639.0</td>\n",
       "      <td>1.0</td>\n",
       "      <td>110.0</td>\n",
       "      <td>380.0</td>\n",
       "      <td>1039.0</td>\n",
       "      <td>130.58</td>\n",
       "      <td>344.0</td>\n",
       "      <td>30.0</td>\n",
       "      <td>0.0</td>\n",
       "      <td>61.0</td>\n",
       "      <td>338.0</td>\n",
       "      <td>30.98</td>\n",
       "      <td>32.0</td>\n",
       "      <td>42.0</td>\n",
       "    </tr>\n",
       "    <tr>\n",
       "      <th>1</th>\n",
       "      <td>1</td>\n",
       "      <td>Armenia</td>\n",
       "      <td>2511</td>\n",
       "      <td>Wheat and products</td>\n",
       "      <td>2017</td>\n",
       "      <td>vegetal</td>\n",
       "      <td>558.0</td>\n",
       "      <td>1.0</td>\n",
       "      <td>105.0</td>\n",
       "      <td>390.0</td>\n",
       "      <td>1053.0</td>\n",
       "      <td>132.49</td>\n",
       "      <td>337.0</td>\n",
       "      <td>10.0</td>\n",
       "      <td>0.0</td>\n",
       "      <td>60.0</td>\n",
       "      <td>176.0</td>\n",
       "      <td>31.35</td>\n",
       "      <td>25.0</td>\n",
       "      <td>-45.0</td>\n",
       "    </tr>\n",
       "    <tr>\n",
       "      <th>2</th>\n",
       "      <td>1</td>\n",
       "      <td>Armenia</td>\n",
       "      <td>2513</td>\n",
       "      <td>Barley and products</td>\n",
       "      <td>2014</td>\n",
       "      <td>vegetal</td>\n",
       "      <td>196.0</td>\n",
       "      <td>0.0</td>\n",
       "      <td>145.0</td>\n",
       "      <td>3.0</td>\n",
       "      <td>8.0</td>\n",
       "      <td>0.94</td>\n",
       "      <td>6.0</td>\n",
       "      <td>16.0</td>\n",
       "      <td>13.0</td>\n",
       "      <td>6.0</td>\n",
       "      <td>190.0</td>\n",
       "      <td>0.27</td>\n",
       "      <td>14.0</td>\n",
       "      <td>0.0</td>\n",
       "    </tr>\n",
       "    <tr>\n",
       "      <th>3</th>\n",
       "      <td>1</td>\n",
       "      <td>Armenia</td>\n",
       "      <td>2513</td>\n",
       "      <td>Barley and products</td>\n",
       "      <td>2017</td>\n",
       "      <td>vegetal</td>\n",
       "      <td>114.0</td>\n",
       "      <td>0.0</td>\n",
       "      <td>91.0</td>\n",
       "      <td>2.0</td>\n",
       "      <td>4.0</td>\n",
       "      <td>0.54</td>\n",
       "      <td>14.0</td>\n",
       "      <td>10.0</td>\n",
       "      <td>6.0</td>\n",
       "      <td>4.0</td>\n",
       "      <td>93.0</td>\n",
       "      <td>0.15</td>\n",
       "      <td>13.0</td>\n",
       "      <td>-7.0</td>\n",
       "    </tr>\n",
       "    <tr>\n",
       "      <th>4</th>\n",
       "      <td>1</td>\n",
       "      <td>Armenia</td>\n",
       "      <td>2514</td>\n",
       "      <td>Maize and products</td>\n",
       "      <td>2014</td>\n",
       "      <td>vegetal</td>\n",
       "      <td>88.0</td>\n",
       "      <td>NaN</td>\n",
       "      <td>64.0</td>\n",
       "      <td>18.0</td>\n",
       "      <td>60.0</td>\n",
       "      <td>6.02</td>\n",
       "      <td>52.0</td>\n",
       "      <td>7.0</td>\n",
       "      <td>NaN</td>\n",
       "      <td>0.0</td>\n",
       "      <td>20.0</td>\n",
       "      <td>3.14</td>\n",
       "      <td>0.0</td>\n",
       "      <td>-16.0</td>\n",
       "    </tr>\n",
       "    <tr>\n",
       "      <th>...</th>\n",
       "      <td>...</td>\n",
       "      <td>...</td>\n",
       "      <td>...</td>\n",
       "      <td>...</td>\n",
       "      <td>...</td>\n",
       "      <td>...</td>\n",
       "      <td>...</td>\n",
       "      <td>...</td>\n",
       "      <td>...</td>\n",
       "      <td>...</td>\n",
       "      <td>...</td>\n",
       "      <td>...</td>\n",
       "      <td>...</td>\n",
       "      <td>...</td>\n",
       "      <td>...</td>\n",
       "      <td>...</td>\n",
       "      <td>...</td>\n",
       "      <td>...</td>\n",
       "      <td>...</td>\n",
       "      <td>...</td>\n",
       "    </tr>\n",
       "    <tr>\n",
       "      <th>32105</th>\n",
       "      <td>276</td>\n",
       "      <td>Sudan</td>\n",
       "      <td>2805</td>\n",
       "      <td>Rice and products</td>\n",
       "      <td>2017</td>\n",
       "      <td>vegetal</td>\n",
       "      <td>130.0</td>\n",
       "      <td>NaN</td>\n",
       "      <td>0.0</td>\n",
       "      <td>128.0</td>\n",
       "      <td>22.0</td>\n",
       "      <td>3.13</td>\n",
       "      <td>115.0</td>\n",
       "      <td>1.0</td>\n",
       "      <td>NaN</td>\n",
       "      <td>NaN</td>\n",
       "      <td>27.0</td>\n",
       "      <td>0.41</td>\n",
       "      <td>1.0</td>\n",
       "      <td>13.0</td>\n",
       "    </tr>\n",
       "    <tr>\n",
       "      <th>32106</th>\n",
       "      <td>276</td>\n",
       "      <td>Sudan</td>\n",
       "      <td>2848</td>\n",
       "      <td>Milk - Excluding Butter</td>\n",
       "      <td>2014</td>\n",
       "      <td>animal</td>\n",
       "      <td>4417.0</td>\n",
       "      <td>0.0</td>\n",
       "      <td>0.0</td>\n",
       "      <td>4232.0</td>\n",
       "      <td>243.0</td>\n",
       "      <td>111.43</td>\n",
       "      <td>26.0</td>\n",
       "      <td>217.0</td>\n",
       "      <td>NaN</td>\n",
       "      <td>0.0</td>\n",
       "      <td>4391.0</td>\n",
       "      <td>11.67</td>\n",
       "      <td>NaN</td>\n",
       "      <td>0.0</td>\n",
       "    </tr>\n",
       "    <tr>\n",
       "      <th>32107</th>\n",
       "      <td>276</td>\n",
       "      <td>Sudan</td>\n",
       "      <td>2848</td>\n",
       "      <td>Milk - Excluding Butter</td>\n",
       "      <td>2017</td>\n",
       "      <td>animal</td>\n",
       "      <td>4486.0</td>\n",
       "      <td>NaN</td>\n",
       "      <td>0.0</td>\n",
       "      <td>4301.0</td>\n",
       "      <td>230.0</td>\n",
       "      <td>105.38</td>\n",
       "      <td>35.0</td>\n",
       "      <td>220.0</td>\n",
       "      <td>0.0</td>\n",
       "      <td>0.0</td>\n",
       "      <td>4449.0</td>\n",
       "      <td>11.16</td>\n",
       "      <td>NaN</td>\n",
       "      <td>-2.0</td>\n",
       "    </tr>\n",
       "    <tr>\n",
       "      <th>32108</th>\n",
       "      <td>276</td>\n",
       "      <td>Sudan</td>\n",
       "      <td>2899</td>\n",
       "      <td>Miscellaneous</td>\n",
       "      <td>2014</td>\n",
       "      <td>vegetal</td>\n",
       "      <td>21.0</td>\n",
       "      <td>0.0</td>\n",
       "      <td>NaN</td>\n",
       "      <td>21.0</td>\n",
       "      <td>1.0</td>\n",
       "      <td>0.54</td>\n",
       "      <td>21.0</td>\n",
       "      <td>NaN</td>\n",
       "      <td>NaN</td>\n",
       "      <td>NaN</td>\n",
       "      <td>NaN</td>\n",
       "      <td>0.02</td>\n",
       "      <td>NaN</td>\n",
       "      <td>NaN</td>\n",
       "    </tr>\n",
       "    <tr>\n",
       "      <th>32109</th>\n",
       "      <td>276</td>\n",
       "      <td>Sudan</td>\n",
       "      <td>2899</td>\n",
       "      <td>Miscellaneous</td>\n",
       "      <td>2017</td>\n",
       "      <td>vegetal</td>\n",
       "      <td>30.0</td>\n",
       "      <td>0.0</td>\n",
       "      <td>NaN</td>\n",
       "      <td>30.0</td>\n",
       "      <td>1.0</td>\n",
       "      <td>0.73</td>\n",
       "      <td>30.0</td>\n",
       "      <td>NaN</td>\n",
       "      <td>NaN</td>\n",
       "      <td>NaN</td>\n",
       "      <td>NaN</td>\n",
       "      <td>0.02</td>\n",
       "      <td>NaN</td>\n",
       "      <td>NaN</td>\n",
       "    </tr>\n",
       "  </tbody>\n",
       "</table>\n",
       "<p>32110 rows × 20 columns</p>\n",
       "</div>"
      ],
      "text/plain": [
       "       country_code  country  item_code                     item  year  \\\n",
       "0                 1  Armenia       2511       Wheat and products  2014   \n",
       "1                 1  Armenia       2511       Wheat and products  2017   \n",
       "2                 1  Armenia       2513      Barley and products  2014   \n",
       "3                 1  Armenia       2513      Barley and products  2017   \n",
       "4                 1  Armenia       2514       Maize and products  2014   \n",
       "...             ...      ...        ...                      ...   ...   \n",
       "32105           276    Sudan       2805        Rice and products  2017   \n",
       "32106           276    Sudan       2848  Milk - Excluding Butter  2014   \n",
       "32107           276    Sudan       2848  Milk - Excluding Butter  2017   \n",
       "32108           276    Sudan       2899            Miscellaneous  2014   \n",
       "32109           276    Sudan       2899            Miscellaneous  2017   \n",
       "\n",
       "        origin  domestic_supply_quantity  export_quantity   feed    food  \\\n",
       "0      vegetal                     639.0              1.0  110.0   380.0   \n",
       "1      vegetal                     558.0              1.0  105.0   390.0   \n",
       "2      vegetal                     196.0              0.0  145.0     3.0   \n",
       "3      vegetal                     114.0              0.0   91.0     2.0   \n",
       "4      vegetal                      88.0              NaN   64.0    18.0   \n",
       "...        ...                       ...              ...    ...     ...   \n",
       "32105  vegetal                     130.0              NaN    0.0   128.0   \n",
       "32106   animal                    4417.0              0.0    0.0  4232.0   \n",
       "32107   animal                    4486.0              NaN    0.0  4301.0   \n",
       "32108  vegetal                      21.0              0.0    NaN    21.0   \n",
       "32109  vegetal                      30.0              0.0    NaN    30.0   \n",
       "\n",
       "       food_supply_kcal_capita_day  food_supply_quantity_kg_capita_yr  \\\n",
       "0                           1039.0                             130.58   \n",
       "1                           1053.0                             132.49   \n",
       "2                              8.0                               0.94   \n",
       "3                              4.0                               0.54   \n",
       "4                             60.0                               6.02   \n",
       "...                            ...                                ...   \n",
       "32105                         22.0                               3.13   \n",
       "32106                        243.0                             111.43   \n",
       "32107                        230.0                             105.38   \n",
       "32108                          1.0                               0.54   \n",
       "32109                          1.0                               0.73   \n",
       "\n",
       "       import_quantity  losses  other_uses_non_food  processing  production  \\\n",
       "0                344.0    30.0                  0.0        61.0       338.0   \n",
       "1                337.0    10.0                  0.0        60.0       176.0   \n",
       "2                  6.0    16.0                 13.0         6.0       190.0   \n",
       "3                 14.0    10.0                  6.0         4.0        93.0   \n",
       "4                 52.0     7.0                  NaN         0.0        20.0   \n",
       "...                ...     ...                  ...         ...         ...   \n",
       "32105            115.0     1.0                  NaN         NaN        27.0   \n",
       "32106             26.0   217.0                  NaN         0.0      4391.0   \n",
       "32107             35.0   220.0                  0.0         0.0      4449.0   \n",
       "32108             21.0     NaN                  NaN         NaN         NaN   \n",
       "32109             30.0     NaN                  NaN         NaN         NaN   \n",
       "\n",
       "       protein_supply_quantity_g_capita_day  seed  stock_variation  \n",
       "0                                     30.98  32.0             42.0  \n",
       "1                                     31.35  25.0            -45.0  \n",
       "2                                      0.27  14.0              0.0  \n",
       "3                                      0.15  13.0             -7.0  \n",
       "4                                      3.14   0.0            -16.0  \n",
       "...                                     ...   ...              ...  \n",
       "32105                                  0.41   1.0             13.0  \n",
       "32106                                 11.67   NaN              0.0  \n",
       "32107                                 11.16   NaN             -2.0  \n",
       "32108                                  0.02   NaN              NaN  \n",
       "32109                                  0.02   NaN              NaN  \n",
       "\n",
       "[32110 rows x 20 columns]"
      ]
     },
     "execution_count": 62,
     "metadata": {},
     "output_type": "execute_result"
    }
   ],
   "source": [
    "data"
   ]
  },
  {
   "cell_type": "code",
   "execution_count": 63,
   "metadata": {
    "pycharm": {
     "name": "#%%\n"
    }
   },
   "outputs": [
    {
     "data": {
      "text/plain": [
       "0"
      ]
     },
     "execution_count": 63,
     "metadata": {},
     "output_type": "execute_result"
    }
   ],
   "source": [
    "data.duplicated().sum()"
   ]
  },
  {
   "cell_type": "code",
   "execution_count": 64,
   "metadata": {
    "pycharm": {
     "name": "#%%\n"
    }
   },
   "outputs": [
    {
     "data": {
      "text/plain": [
       "country_code                                0\n",
       "country                                     0\n",
       "item_code                                   0\n",
       "item                                        0\n",
       "year                                        0\n",
       "origin                                      0\n",
       "domestic_supply_quantity                  291\n",
       "export_quantity                          7156\n",
       "feed                                    21028\n",
       "food                                     2892\n",
       "food_supply_kcal_capita_day              3225\n",
       "food_supply_quantity_kg_capita_yr        2644\n",
       "import_quantity                          1520\n",
       "losses                                  18572\n",
       "other_uses_non_food                     18695\n",
       "processing                              22542\n",
       "production                              10260\n",
       "protein_supply_quantity_g_capita_day     3163\n",
       "seed                                    24874\n",
       "stock_variation                          7570\n",
       "dtype: int64"
      ]
     },
     "execution_count": 64,
     "metadata": {},
     "output_type": "execute_result"
    }
   ],
   "source": [
    "data.isnull().sum()"
   ]
  },
  {
   "cell_type": "code",
   "execution_count": 65,
   "metadata": {
    "pycharm": {
     "name": "#%%\n"
    }
   },
   "outputs": [
    {
     "data": {
      "text/plain": [
       "country_code                                0\n",
       "country                                     0\n",
       "item_code                                   0\n",
       "item                                        0\n",
       "year                                        0\n",
       "origin                                      0\n",
       "domestic_supply_quantity                  291\n",
       "export_quantity                          7156\n",
       "feed                                    21028\n",
       "food                                     2892\n",
       "food_supply_kcal_capita_day              3225\n",
       "food_supply_quantity_kg_capita_yr        2644\n",
       "import_quantity                          1520\n",
       "losses                                  18572\n",
       "other_uses_non_food                     18695\n",
       "processing                              22542\n",
       "production                              10260\n",
       "protein_supply_quantity_g_capita_day     3163\n",
       "seed                                    24874\n",
       "stock_variation                          7570\n",
       "dtype: int64"
      ]
     },
     "execution_count": 65,
     "metadata": {},
     "output_type": "execute_result"
    }
   ],
   "source": [
    "data.isna().sum()"
   ]
  },
  {
   "cell_type": "markdown",
   "metadata": {
    "pycharm": {
     "name": "#%% md\n"
    }
   },
   "source": [
    "## total world population\n",
    "\n",
    "calculating and find anomaly, removing it."
   ]
  },
  {
   "cell_type": "code",
   "execution_count": 66,
   "metadata": {
    "pycharm": {
     "name": "#%%\n"
    }
   },
   "outputs": [
    {
     "data": {
      "text/html": [
       "<div>\n",
       "<style scoped>\n",
       "    .dataframe tbody tr th:only-of-type {\n",
       "        vertical-align: middle;\n",
       "    }\n",
       "\n",
       "    .dataframe tbody tr th {\n",
       "        vertical-align: top;\n",
       "    }\n",
       "\n",
       "    .dataframe thead th {\n",
       "        text-align: right;\n",
       "    }\n",
       "</style>\n",
       "<table border=\"1\" class=\"dataframe\">\n",
       "  <thead>\n",
       "    <tr style=\"text-align: right;\">\n",
       "      <th></th>\n",
       "      <th>domain_code</th>\n",
       "      <th>domain</th>\n",
       "      <th>country_code</th>\n",
       "      <th>country</th>\n",
       "      <th>element_code</th>\n",
       "      <th>element</th>\n",
       "      <th>item_code</th>\n",
       "      <th>item</th>\n",
       "      <th>year_code</th>\n",
       "      <th>year</th>\n",
       "      <th>unit</th>\n",
       "      <th>value</th>\n",
       "      <th>flag</th>\n",
       "      <th>flag_description</th>\n",
       "    </tr>\n",
       "  </thead>\n",
       "  <tbody>\n",
       "    <tr>\n",
       "      <th>60</th>\n",
       "      <td>FBS</td>\n",
       "      <td>New Food Balances</td>\n",
       "      <td>351</td>\n",
       "      <td>China</td>\n",
       "      <td>511</td>\n",
       "      <td>Total Population - Both sexes</td>\n",
       "      <td>2501</td>\n",
       "      <td>Population</td>\n",
       "      <td>2014</td>\n",
       "      <td>2014</td>\n",
       "      <td>1000 persons</td>\n",
       "      <td>1430670.82</td>\n",
       "      <td>A</td>\n",
       "      <td>Aggregate, may include official, semi-official...</td>\n",
       "    </tr>\n",
       "    <tr>\n",
       "      <th>61</th>\n",
       "      <td>FBS</td>\n",
       "      <td>New Food Balances</td>\n",
       "      <td>351</td>\n",
       "      <td>China</td>\n",
       "      <td>511</td>\n",
       "      <td>Total Population - Both sexes</td>\n",
       "      <td>2501</td>\n",
       "      <td>Population</td>\n",
       "      <td>2017</td>\n",
       "      <td>2017</td>\n",
       "      <td>1000 persons</td>\n",
       "      <td>1452625.24</td>\n",
       "      <td>A</td>\n",
       "      <td>Aggregate, may include official, semi-official...</td>\n",
       "    </tr>\n",
       "  </tbody>\n",
       "</table>\n",
       "</div>"
      ],
      "text/plain": [
       "   domain_code             domain  country_code country  element_code  \\\n",
       "60         FBS  New Food Balances           351   China           511   \n",
       "61         FBS  New Food Balances           351   China           511   \n",
       "\n",
       "                          element  item_code        item  year_code  year  \\\n",
       "60  Total Population - Both sexes       2501  Population       2014  2014   \n",
       "61  Total Population - Both sexes       2501  Population       2017  2017   \n",
       "\n",
       "            unit       value flag  \\\n",
       "60  1000 persons  1430670.82    A   \n",
       "61  1000 persons  1452625.24    A   \n",
       "\n",
       "                                     flag_description  \n",
       "60  Aggregate, may include official, semi-official...  \n",
       "61  Aggregate, may include official, semi-official...  "
      ]
     },
     "execution_count": 66,
     "metadata": {},
     "output_type": "execute_result"
    }
   ],
   "source": [
    "# Using the above selection as mask for filtering the founded anomaly\n",
    "china =  data_population.loc[data_population.country_code == 351]\n",
    "# in FAO new methodology data set is this anomaly not present.\n",
    "china"
   ]
  },
  {
   "cell_type": "markdown",
   "metadata": {
    "pycharm": {
     "name": "#%% md\n"
    }
   },
   "source": [
    "**Creating World population constant**"
   ]
  },
  {
   "cell_type": "markdown",
   "metadata": {
    "collapsed": false,
    "pycharm": {
     "name": "#%% md\n"
    }
   },
   "source": [
    "**Complete removing the already know data anomaly involved china and main land china.**"
   ]
  },
  {
   "cell_type": "code",
   "execution_count": 67,
   "metadata": {
    "collapsed": false,
    "pycharm": {
     "name": "#%%\n"
    }
   },
   "outputs": [],
   "source": [
    "data_population.drop([60,61], inplace=True)\n"
   ]
  },
  {
   "cell_type": "code",
   "execution_count": 68,
   "metadata": {
    "collapsed": false,
    "pycharm": {
     "name": "#%%\n"
    }
   },
   "outputs": [
    {
     "data": {
      "text/html": [
       "<div>\n",
       "<style scoped>\n",
       "    .dataframe tbody tr th:only-of-type {\n",
       "        vertical-align: middle;\n",
       "    }\n",
       "\n",
       "    .dataframe tbody tr th {\n",
       "        vertical-align: top;\n",
       "    }\n",
       "\n",
       "    .dataframe thead th {\n",
       "        text-align: right;\n",
       "    }\n",
       "</style>\n",
       "<table border=\"1\" class=\"dataframe\">\n",
       "  <thead>\n",
       "    <tr style=\"text-align: right;\">\n",
       "      <th></th>\n",
       "      <th>value</th>\n",
       "    </tr>\n",
       "    <tr>\n",
       "      <th>year</th>\n",
       "      <th></th>\n",
       "    </tr>\n",
       "  </thead>\n",
       "  <tbody>\n",
       "    <tr>\n",
       "      <th>2014</th>\n",
       "      <td>7089471330</td>\n",
       "    </tr>\n",
       "    <tr>\n",
       "      <th>2017</th>\n",
       "      <td>7329868960</td>\n",
       "    </tr>\n",
       "  </tbody>\n",
       "</table>\n",
       "</div>"
      ],
      "text/plain": [
       "           value\n",
       "year            \n",
       "2014  7089471330\n",
       "2017  7329868960"
      ]
     },
     "execution_count": 68,
     "metadata": {},
     "output_type": "execute_result"
    }
   ],
   "source": [
    "# 7 631.1 this value is calculated according to FAO http://faostat.fao.org/static/syb/syb_5000.pdf\n",
    "WORLD_POPULATION = pd.DataFrame(data_population.groupby('year').value.sum() * 1000)\n",
    "WORLD_POPULATION.astype('int')"
   ]
  },
  {
   "cell_type": "markdown",
   "metadata": {
    "pycharm": {
     "name": "#%% md\n"
    }
   },
   "source": [
    "## Task 4 : Computing new variables\n",
    "**food_supply_kcal, food_supply_kgprotein, food_supply_kg, ratio_kcalkg, protein_percentage, dom_sup_kcal, dom_sup_kgprot**"
   ]
  },
  {
   "cell_type": "markdown",
   "metadata": {
    "pycharm": {
     "name": "#%% md\n"
    }
   },
   "source": [
    "To carry out your future study, you’ll need to compute new variables from the one you already have.\n",
    "\n",
    "Here is the list of variables:"
   ]
  },
  {
   "cell_type": "markdown",
   "metadata": {
    "pycharm": {
     "name": "#%% md\n"
    }
   },
   "source": [
    "- **_food_supply_kcal_ and _food_supply_kgprotein_**\n"
   ]
  },
  {
   "cell_type": "code",
   "execution_count": 69,
   "metadata": {
    "collapsed": false,
    "pycharm": {
     "name": "#%%\n"
    }
   },
   "outputs": [
    {
     "name": "stderr",
     "output_type": "stream",
     "text": [
      "/var/folders/6t/cs55bt816j7360h_wfmskqtm0000gn/T/ipykernel_51105/1787925227.py:3: SettingWithCopyWarning: \n",
      "A value is trying to be set on a copy of a slice from a DataFrame.\n",
      "Try using .loc[row_indexer,col_indexer] = value instead\n",
      "\n",
      "See the caveats in the documentation: https://pandas.pydata.org/pandas-docs/stable/user_guide/indexing.html#returning-a-view-versus-a-copy\n",
      "  pop_data['value'] = pop_data.value * 1000\n"
     ]
    },
    {
     "data": {
      "text/html": [
       "<div>\n",
       "<style scoped>\n",
       "    .dataframe tbody tr th:only-of-type {\n",
       "        vertical-align: middle;\n",
       "    }\n",
       "\n",
       "    .dataframe tbody tr th {\n",
       "        vertical-align: top;\n",
       "    }\n",
       "\n",
       "    .dataframe thead th {\n",
       "        text-align: right;\n",
       "    }\n",
       "</style>\n",
       "<table border=\"1\" class=\"dataframe\">\n",
       "  <thead>\n",
       "    <tr style=\"text-align: right;\">\n",
       "      <th></th>\n",
       "      <th>country_code</th>\n",
       "      <th>country</th>\n",
       "      <th>item_code</th>\n",
       "      <th>item</th>\n",
       "      <th>year</th>\n",
       "      <th>origin</th>\n",
       "      <th>domestic_supply_quantity</th>\n",
       "      <th>export_quantity</th>\n",
       "      <th>feed</th>\n",
       "      <th>food</th>\n",
       "      <th>...</th>\n",
       "      <th>seed</th>\n",
       "      <th>stock_variation</th>\n",
       "      <th>population</th>\n",
       "      <th>food_supply_kcal</th>\n",
       "      <th>food_supply_kgprotein</th>\n",
       "      <th>food_supply_kg</th>\n",
       "      <th>ratio_kcalkg</th>\n",
       "      <th>protein_percentage</th>\n",
       "      <th>dom_sup_kcal</th>\n",
       "      <th>dom_sup_kgprot</th>\n",
       "    </tr>\n",
       "  </thead>\n",
       "  <tbody>\n",
       "    <tr>\n",
       "      <th>0</th>\n",
       "      <td>1</td>\n",
       "      <td>Armenia</td>\n",
       "      <td>2511</td>\n",
       "      <td>Wheat and products</td>\n",
       "      <td>2014</td>\n",
       "      <td>vegetal</td>\n",
       "      <td>639.0</td>\n",
       "      <td>1.0</td>\n",
       "      <td>110.0</td>\n",
       "      <td>380.0</td>\n",
       "      <td>...</td>\n",
       "      <td>32.0</td>\n",
       "      <td>42.0</td>\n",
       "      <td>2912410.0</td>\n",
       "      <td>1.104488e+12</td>\n",
       "      <td>3.293266e+07</td>\n",
       "      <td>380000000.0</td>\n",
       "      <td>2906.546859</td>\n",
       "      <td>8.666489</td>\n",
       "      <td>1.857283e+12</td>\n",
       "      <td>5.537887e+07</td>\n",
       "    </tr>\n",
       "    <tr>\n",
       "      <th>1</th>\n",
       "      <td>1</td>\n",
       "      <td>Armenia</td>\n",
       "      <td>2513</td>\n",
       "      <td>Barley and products</td>\n",
       "      <td>2014</td>\n",
       "      <td>vegetal</td>\n",
       "      <td>196.0</td>\n",
       "      <td>0.0</td>\n",
       "      <td>145.0</td>\n",
       "      <td>3.0</td>\n",
       "      <td>...</td>\n",
       "      <td>14.0</td>\n",
       "      <td>0.0</td>\n",
       "      <td>2912410.0</td>\n",
       "      <td>8.504237e+09</td>\n",
       "      <td>2.870180e+05</td>\n",
       "      <td>3000000.0</td>\n",
       "      <td>2834.745733</td>\n",
       "      <td>9.567267</td>\n",
       "      <td>5.556102e+11</td>\n",
       "      <td>1.875184e+07</td>\n",
       "    </tr>\n",
       "    <tr>\n",
       "      <th>2</th>\n",
       "      <td>1</td>\n",
       "      <td>Armenia</td>\n",
       "      <td>2514</td>\n",
       "      <td>Maize and products</td>\n",
       "      <td>2014</td>\n",
       "      <td>vegetal</td>\n",
       "      <td>88.0</td>\n",
       "      <td>NaN</td>\n",
       "      <td>64.0</td>\n",
       "      <td>18.0</td>\n",
       "      <td>...</td>\n",
       "      <td>0.0</td>\n",
       "      <td>-16.0</td>\n",
       "      <td>2912410.0</td>\n",
       "      <td>6.378178e+10</td>\n",
       "      <td>3.337913e+06</td>\n",
       "      <td>18000000.0</td>\n",
       "      <td>3543.432167</td>\n",
       "      <td>18.543962</td>\n",
       "      <td>3.118220e+11</td>\n",
       "      <td>1.631869e+07</td>\n",
       "    </tr>\n",
       "    <tr>\n",
       "      <th>3</th>\n",
       "      <td>1</td>\n",
       "      <td>Armenia</td>\n",
       "      <td>2515</td>\n",
       "      <td>Rye and products</td>\n",
       "      <td>2014</td>\n",
       "      <td>vegetal</td>\n",
       "      <td>1.0</td>\n",
       "      <td>NaN</td>\n",
       "      <td>1.0</td>\n",
       "      <td>0.0</td>\n",
       "      <td>...</td>\n",
       "      <td>0.0</td>\n",
       "      <td>0.0</td>\n",
       "      <td>2912410.0</td>\n",
       "      <td>1.063030e+09</td>\n",
       "      <td>3.189089e+04</td>\n",
       "      <td>0.0</td>\n",
       "      <td>NaN</td>\n",
       "      <td>NaN</td>\n",
       "      <td>NaN</td>\n",
       "      <td>NaN</td>\n",
       "    </tr>\n",
       "    <tr>\n",
       "      <th>4</th>\n",
       "      <td>1</td>\n",
       "      <td>Armenia</td>\n",
       "      <td>2516</td>\n",
       "      <td>Oats</td>\n",
       "      <td>2014</td>\n",
       "      <td>vegetal</td>\n",
       "      <td>8.0</td>\n",
       "      <td>NaN</td>\n",
       "      <td>6.0</td>\n",
       "      <td>1.0</td>\n",
       "      <td>...</td>\n",
       "      <td>1.0</td>\n",
       "      <td>-1.0</td>\n",
       "      <td>2912410.0</td>\n",
       "      <td>5.315148e+09</td>\n",
       "      <td>2.019756e+05</td>\n",
       "      <td>1000000.0</td>\n",
       "      <td>5315.148250</td>\n",
       "      <td>20.197563</td>\n",
       "      <td>4.252119e+10</td>\n",
       "      <td>1.615805e+06</td>\n",
       "    </tr>\n",
       "    <tr>\n",
       "      <th>5</th>\n",
       "      <td>1</td>\n",
       "      <td>Armenia</td>\n",
       "      <td>2517</td>\n",
       "      <td>Millet and products</td>\n",
       "      <td>2014</td>\n",
       "      <td>vegetal</td>\n",
       "      <td>0.0</td>\n",
       "      <td>NaN</td>\n",
       "      <td>0.0</td>\n",
       "      <td>NaN</td>\n",
       "      <td>...</td>\n",
       "      <td>NaN</td>\n",
       "      <td>0.0</td>\n",
       "      <td>2912410.0</td>\n",
       "      <td>NaN</td>\n",
       "      <td>NaN</td>\n",
       "      <td>NaN</td>\n",
       "      <td>NaN</td>\n",
       "      <td>NaN</td>\n",
       "      <td>NaN</td>\n",
       "      <td>NaN</td>\n",
       "    </tr>\n",
       "    <tr>\n",
       "      <th>6</th>\n",
       "      <td>1</td>\n",
       "      <td>Armenia</td>\n",
       "      <td>2518</td>\n",
       "      <td>Sorghum and products</td>\n",
       "      <td>2014</td>\n",
       "      <td>vegetal</td>\n",
       "      <td>0.0</td>\n",
       "      <td>NaN</td>\n",
       "      <td>0.0</td>\n",
       "      <td>NaN</td>\n",
       "      <td>...</td>\n",
       "      <td>NaN</td>\n",
       "      <td>0.0</td>\n",
       "      <td>2912410.0</td>\n",
       "      <td>NaN</td>\n",
       "      <td>NaN</td>\n",
       "      <td>NaN</td>\n",
       "      <td>NaN</td>\n",
       "      <td>NaN</td>\n",
       "      <td>NaN</td>\n",
       "      <td>NaN</td>\n",
       "    </tr>\n",
       "    <tr>\n",
       "      <th>7</th>\n",
       "      <td>1</td>\n",
       "      <td>Armenia</td>\n",
       "      <td>2520</td>\n",
       "      <td>Cereals, Other</td>\n",
       "      <td>2014</td>\n",
       "      <td>vegetal</td>\n",
       "      <td>22.0</td>\n",
       "      <td>1.0</td>\n",
       "      <td>1.0</td>\n",
       "      <td>7.0</td>\n",
       "      <td>...</td>\n",
       "      <td>1.0</td>\n",
       "      <td>0.0</td>\n",
       "      <td>2912410.0</td>\n",
       "      <td>2.232362e+10</td>\n",
       "      <td>6.059269e+05</td>\n",
       "      <td>7000000.0</td>\n",
       "      <td>3189.088950</td>\n",
       "      <td>8.656099</td>\n",
       "      <td>7.015996e+10</td>\n",
       "      <td>1.904342e+06</td>\n",
       "    </tr>\n",
       "    <tr>\n",
       "      <th>8</th>\n",
       "      <td>1</td>\n",
       "      <td>Armenia</td>\n",
       "      <td>2531</td>\n",
       "      <td>Potatoes and products</td>\n",
       "      <td>2014</td>\n",
       "      <td>vegetal</td>\n",
       "      <td>691.0</td>\n",
       "      <td>3.0</td>\n",
       "      <td>229.0</td>\n",
       "      <td>121.0</td>\n",
       "      <td>...</td>\n",
       "      <td>120.0</td>\n",
       "      <td>10.0</td>\n",
       "      <td>2912410.0</td>\n",
       "      <td>8.291631e+10</td>\n",
       "      <td>1.934714e+06</td>\n",
       "      <td>121000000.0</td>\n",
       "      <td>685.258783</td>\n",
       "      <td>1.598937</td>\n",
       "      <td>4.735138e+11</td>\n",
       "      <td>1.104866e+07</td>\n",
       "    </tr>\n",
       "    <tr>\n",
       "      <th>9</th>\n",
       "      <td>1</td>\n",
       "      <td>Armenia</td>\n",
       "      <td>2532</td>\n",
       "      <td>Cassava and products</td>\n",
       "      <td>2014</td>\n",
       "      <td>vegetal</td>\n",
       "      <td>0.0</td>\n",
       "      <td>NaN</td>\n",
       "      <td>0.0</td>\n",
       "      <td>NaN</td>\n",
       "      <td>...</td>\n",
       "      <td>NaN</td>\n",
       "      <td>NaN</td>\n",
       "      <td>2912410.0</td>\n",
       "      <td>NaN</td>\n",
       "      <td>NaN</td>\n",
       "      <td>NaN</td>\n",
       "      <td>NaN</td>\n",
       "      <td>NaN</td>\n",
       "      <td>NaN</td>\n",
       "      <td>NaN</td>\n",
       "    </tr>\n",
       "  </tbody>\n",
       "</table>\n",
       "<p>10 rows × 28 columns</p>\n",
       "</div>"
      ],
      "text/plain": [
       "   country_code  country  item_code                   item  year   origin  \\\n",
       "0             1  Armenia       2511     Wheat and products  2014  vegetal   \n",
       "1             1  Armenia       2513    Barley and products  2014  vegetal   \n",
       "2             1  Armenia       2514     Maize and products  2014  vegetal   \n",
       "3             1  Armenia       2515       Rye and products  2014  vegetal   \n",
       "4             1  Armenia       2516                   Oats  2014  vegetal   \n",
       "5             1  Armenia       2517    Millet and products  2014  vegetal   \n",
       "6             1  Armenia       2518   Sorghum and products  2014  vegetal   \n",
       "7             1  Armenia       2520         Cereals, Other  2014  vegetal   \n",
       "8             1  Armenia       2531  Potatoes and products  2014  vegetal   \n",
       "9             1  Armenia       2532   Cassava and products  2014  vegetal   \n",
       "\n",
       "   domestic_supply_quantity  export_quantity   feed   food  ...   seed  \\\n",
       "0                     639.0              1.0  110.0  380.0  ...   32.0   \n",
       "1                     196.0              0.0  145.0    3.0  ...   14.0   \n",
       "2                      88.0              NaN   64.0   18.0  ...    0.0   \n",
       "3                       1.0              NaN    1.0    0.0  ...    0.0   \n",
       "4                       8.0              NaN    6.0    1.0  ...    1.0   \n",
       "5                       0.0              NaN    0.0    NaN  ...    NaN   \n",
       "6                       0.0              NaN    0.0    NaN  ...    NaN   \n",
       "7                      22.0              1.0    1.0    7.0  ...    1.0   \n",
       "8                     691.0              3.0  229.0  121.0  ...  120.0   \n",
       "9                       0.0              NaN    0.0    NaN  ...    NaN   \n",
       "\n",
       "   stock_variation  population  food_supply_kcal  food_supply_kgprotein  \\\n",
       "0             42.0   2912410.0      1.104488e+12           3.293266e+07   \n",
       "1              0.0   2912410.0      8.504237e+09           2.870180e+05   \n",
       "2            -16.0   2912410.0      6.378178e+10           3.337913e+06   \n",
       "3              0.0   2912410.0      1.063030e+09           3.189089e+04   \n",
       "4             -1.0   2912410.0      5.315148e+09           2.019756e+05   \n",
       "5              0.0   2912410.0               NaN                    NaN   \n",
       "6              0.0   2912410.0               NaN                    NaN   \n",
       "7              0.0   2912410.0      2.232362e+10           6.059269e+05   \n",
       "8             10.0   2912410.0      8.291631e+10           1.934714e+06   \n",
       "9              NaN   2912410.0               NaN                    NaN   \n",
       "\n",
       "   food_supply_kg  ratio_kcalkg  protein_percentage  dom_sup_kcal  \\\n",
       "0     380000000.0   2906.546859            8.666489  1.857283e+12   \n",
       "1       3000000.0   2834.745733            9.567267  5.556102e+11   \n",
       "2      18000000.0   3543.432167           18.543962  3.118220e+11   \n",
       "3             0.0           NaN                 NaN           NaN   \n",
       "4       1000000.0   5315.148250           20.197563  4.252119e+10   \n",
       "5             NaN           NaN                 NaN           NaN   \n",
       "6             NaN           NaN                 NaN           NaN   \n",
       "7       7000000.0   3189.088950            8.656099  7.015996e+10   \n",
       "8     121000000.0    685.258783            1.598937  4.735138e+11   \n",
       "9             NaN           NaN                 NaN           NaN   \n",
       "\n",
       "   dom_sup_kgprot  \n",
       "0    5.537887e+07  \n",
       "1    1.875184e+07  \n",
       "2    1.631869e+07  \n",
       "3             NaN  \n",
       "4    1.615805e+06  \n",
       "5             NaN  \n",
       "6             NaN  \n",
       "7    1.904342e+06  \n",
       "8    1.104866e+07  \n",
       "9             NaN  \n",
       "\n",
       "[10 rows x 28 columns]"
      ]
     },
     "execution_count": 69,
     "metadata": {},
     "output_type": "execute_result"
    }
   ],
   "source": [
    "# Creating a lite version of our population_df dataframe\n",
    "pop_data = data_population[['country_code', 'country', 'year', 'value']]\n",
    "pop_data['value'] = pop_data.value * 1000\n",
    "# Merging the population dataframe with the global food balance sheet dataframe\n",
    "data = pd.merge(data, pop_data, on=['country_code', 'country', 'year'] )\n",
    "# Renaming its column value to population to be more clear.\n",
    "data = data.rename(columns={'value': 'population'})\n",
    "\n",
    "# Calculating all need variables.\n",
    "data['food_supply_kcal'] = data.food_supply_kcal_capita_day * 365 * data.population\n",
    "data['food_supply_kgprotein'] = (data['protein_supply_quantity_g_capita_day'] * data['population'] * 365) / 1000\n",
    "data['food_supply_kg'] = data.food * np.power(10,6)\n",
    "data[['country_code','country','item_code','item','year','origin', 'food_supply_kcal', 'food_supply_kgprotein']].sample()\n",
    "# Creating Mask for preventing unsafe division by zero.\n",
    "mask = data.food_supply_kg != 0\n",
    "\n",
    "# Continue the calculation of the last 4 variables.\n",
    "data.loc[mask, 'ratio_kcalkg'] = data.loc[mask, \"food_supply_kcal\"] / data.loc[mask, \"food_supply_kg\"]\n",
    "data.loc[mask, 'protein_percentage'] = 100 * data.loc[mask, \"food_supply_kgprotein\"] / data.loc[mask, \"food_supply_kg\"]\n",
    "\n",
    "#creating the domestic variables\n",
    "data['dom_sup_kcal'] = data.domestic_supply_quantity * np.power(10,6) * data.ratio_kcalkg\n",
    "data['dom_sup_kgprot'] = (data.domestic_supply_quantity * np.power(10,6) * data.protein_percentage) / 100\n",
    "\n",
    "data.head(10)"
   ]
  },
  {
   "cell_type": "markdown",
   "metadata": {
    "collapsed": false,
    "pycharm": {
     "name": "#%% md\n"
    }
   },
   "source": [
    "**Generating great_import_from_undern_countries variable**"
   ]
  },
  {
   "cell_type": "code",
   "execution_count": 70,
   "metadata": {
    "collapsed": false,
    "pycharm": {
     "name": "#%%\n"
    }
   },
   "outputs": [
    {
     "name": "stderr",
     "output_type": "stream",
     "text": [
      "/var/folders/6t/cs55bt816j7360h_wfmskqtm0000gn/T/ipykernel_51105/645055834.py:25: SettingWithCopyWarning: \n",
      "A value is trying to be set on a copy of a slice from a DataFrame.\n",
      "Try using .loc[row_indexer,col_indexer] = value instead\n",
      "\n",
      "See the caveats in the documentation: https://pandas.pydata.org/pandas-docs/stable/user_guide/indexing.html#returning-a-view-versus-a-copy\n",
      "  pop_data['population'] = pop_data.population * 1000\n"
     ]
    },
    {
     "data": {
      "text/html": [
       "<div>\n",
       "<style scoped>\n",
       "    .dataframe tbody tr th:only-of-type {\n",
       "        vertical-align: middle;\n",
       "    }\n",
       "\n",
       "    .dataframe tbody tr th {\n",
       "        vertical-align: top;\n",
       "    }\n",
       "\n",
       "    .dataframe thead th {\n",
       "        text-align: right;\n",
       "    }\n",
       "</style>\n",
       "<table border=\"1\" class=\"dataframe\">\n",
       "  <thead>\n",
       "    <tr style=\"text-align: right;\">\n",
       "      <th></th>\n",
       "      <th>country_code</th>\n",
       "      <th>country</th>\n",
       "      <th>year</th>\n",
       "      <th>population</th>\n",
       "      <th>u_population</th>\n",
       "      <th>u_percentage</th>\n",
       "    </tr>\n",
       "  </thead>\n",
       "  <tbody>\n",
       "    <tr>\n",
       "      <th>0</th>\n",
       "      <td>2</td>\n",
       "      <td>Afghanistan</td>\n",
       "      <td>2014</td>\n",
       "      <td>33370790.0</td>\n",
       "      <td>8800000.0</td>\n",
       "      <td>26.370368</td>\n",
       "    </tr>\n",
       "    <tr>\n",
       "      <th>1</th>\n",
       "      <td>2</td>\n",
       "      <td>Afghanistan</td>\n",
       "      <td>2017</td>\n",
       "      <td>36296110.0</td>\n",
       "      <td>10600000.0</td>\n",
       "      <td>29.204232</td>\n",
       "    </tr>\n",
       "    <tr>\n",
       "      <th>2</th>\n",
       "      <td>3</td>\n",
       "      <td>Albania</td>\n",
       "      <td>2014</td>\n",
       "      <td>2896300.0</td>\n",
       "      <td>200000.0</td>\n",
       "      <td>6.905362</td>\n",
       "    </tr>\n",
       "    <tr>\n",
       "      <th>3</th>\n",
       "      <td>3</td>\n",
       "      <td>Albania</td>\n",
       "      <td>2017</td>\n",
       "      <td>2884170.0</td>\n",
       "      <td>200000.0</td>\n",
       "      <td>6.934404</td>\n",
       "    </tr>\n",
       "    <tr>\n",
       "      <th>4</th>\n",
       "      <td>4</td>\n",
       "      <td>Algeria</td>\n",
       "      <td>2014</td>\n",
       "      <td>38923690.0</td>\n",
       "      <td>1600000.0</td>\n",
       "      <td>4.110607</td>\n",
       "    </tr>\n",
       "  </tbody>\n",
       "</table>\n",
       "</div>"
      ],
      "text/plain": [
       "   country_code      country  year  population  u_population  u_percentage\n",
       "0             2  Afghanistan  2014  33370790.0     8800000.0     26.370368\n",
       "1             2  Afghanistan  2017  36296110.0    10600000.0     29.204232\n",
       "2             3      Albania  2014   2896300.0      200000.0      6.905362\n",
       "3             3      Albania  2017   2884170.0      200000.0      6.934404\n",
       "4             4      Algeria  2014  38923690.0     1600000.0      4.110607"
      ]
     },
     "execution_count": 70,
     "metadata": {},
     "output_type": "execute_result"
    }
   ],
   "source": [
    "# Creating a new Dataframe copy by value so that original will not modified.\n",
    "people_undernourished_df = data_undernourished\n",
    "\n",
    "# Repassing undernourished based on a specific year range in this case 2014 to 2017.\n",
    "dictionary_year = {'2012-2014': 2013, '2013-2015':2014, '2014-2016': 2015, '2015-2017':2016, '2016-2018': 2017}\n",
    "people_undernourished_df['year'] = people_undernourished_df['year'].map(dictionary_year)\n",
    "\n",
    "# Creating another dataframe, this time keeping only the 'Area Code', 'Area', 'Year', 'Value' columns\n",
    "undernourished_data = people_undernourished_df[['country_code', 'country', 'year', 'value']]\n",
    "\n",
    "# Renaming its value for clarity.\n",
    "undernourished_data = undernourished_data.rename(columns={'value': 'u_population'})\n",
    "# Selecting specifics year range from 2014 to 2017\n",
    "undernourished_data = undernourished_data[(undernourished_data.year != 2013) & (undernourished_data.year != 2015) & (undernourished_data.year != 2016)]\n",
    "\n",
    "undernourished_data['u_population'] = pd.to_numeric(undernourished_data.u_population, errors ='coerce')\n",
    "# Recalculating values based on its unit.\n",
    "undernourished_data['u_population'] *= 1000000\n",
    "undernourished_data = undernourished_data[undernourished_data.country_code != 351]\n",
    "#Creating pop_data with only need columns\n",
    "pop_data = data_population[['country_code', 'country', 'year', 'value']]\n",
    "pop_data.columns = ['country_code', 'country', 'year', 'population']\n",
    "\n",
    "# reformatting values according to its unit.\n",
    "pop_data['population'] = pop_data.population * 1000\n",
    "pop_data = pop_data[pop_data.country_code != 351]\n",
    "\n",
    "# Merging it with population based on country code sort that for every county has its population and its undernourished value.\n",
    "pop_data = pd.merge(undernourished_data, pop_data, on=['country_code', 'country', 'year'] )\n",
    "mask = pop_data[\"population\"] != 0 # because it's not possible to divide by 0\n",
    "\n",
    "# Calculating undernourished in percentage.\n",
    "pop_data.loc[mask, 'u_percentage'] = 100 * pop_data.loc[mask, \"u_population\"] / pop_data.loc[mask, \"population\"]\n",
    "pop_data = pop_data[['country_code', 'country', 'year', 'population', 'u_population','u_percentage']]\n",
    "pop_data.head()"
   ]
  },
  {
   "cell_type": "code",
   "execution_count": 71,
   "metadata": {
    "collapsed": false,
    "pycharm": {
     "name": "#%%\n"
    }
   },
   "outputs": [
    {
     "data": {
      "text/html": [
       "<div>\n",
       "<style scoped>\n",
       "    .dataframe tbody tr th:only-of-type {\n",
       "        vertical-align: middle;\n",
       "    }\n",
       "\n",
       "    .dataframe tbody tr th {\n",
       "        vertical-align: top;\n",
       "    }\n",
       "\n",
       "    .dataframe thead th {\n",
       "        text-align: right;\n",
       "    }\n",
       "</style>\n",
       "<table border=\"1\" class=\"dataframe\">\n",
       "  <thead>\n",
       "    <tr style=\"text-align: right;\">\n",
       "      <th></th>\n",
       "      <th>country_code</th>\n",
       "      <th>country</th>\n",
       "      <th>item_code</th>\n",
       "      <th>item</th>\n",
       "      <th>year</th>\n",
       "      <th>origin</th>\n",
       "      <th>domestic_supply_quantity</th>\n",
       "      <th>export_quantity</th>\n",
       "      <th>feed</th>\n",
       "      <th>food</th>\n",
       "      <th>...</th>\n",
       "      <th>food_supply_kcal</th>\n",
       "      <th>food_supply_kgprotein</th>\n",
       "      <th>food_supply_kg</th>\n",
       "      <th>ratio_kcalkg</th>\n",
       "      <th>protein_percentage</th>\n",
       "      <th>dom_sup_kcal</th>\n",
       "      <th>dom_sup_kgprot</th>\n",
       "      <th>population</th>\n",
       "      <th>u_population</th>\n",
       "      <th>u_percentage</th>\n",
       "    </tr>\n",
       "  </thead>\n",
       "  <tbody>\n",
       "    <tr>\n",
       "      <th>0</th>\n",
       "      <td>1</td>\n",
       "      <td>Armenia</td>\n",
       "      <td>2511</td>\n",
       "      <td>Wheat and products</td>\n",
       "      <td>2014</td>\n",
       "      <td>vegetal</td>\n",
       "      <td>639.0</td>\n",
       "      <td>1.0</td>\n",
       "      <td>110.0</td>\n",
       "      <td>380.0</td>\n",
       "      <td>...</td>\n",
       "      <td>1.104488e+12</td>\n",
       "      <td>3.293266e+07</td>\n",
       "      <td>380000000.0</td>\n",
       "      <td>2906.546859</td>\n",
       "      <td>8.666489</td>\n",
       "      <td>1.857283e+12</td>\n",
       "      <td>5.537887e+07</td>\n",
       "      <td>2912410.0</td>\n",
       "      <td>100000.0</td>\n",
       "      <td>3.433582</td>\n",
       "    </tr>\n",
       "    <tr>\n",
       "      <th>1</th>\n",
       "      <td>1</td>\n",
       "      <td>Armenia</td>\n",
       "      <td>2513</td>\n",
       "      <td>Barley and products</td>\n",
       "      <td>2014</td>\n",
       "      <td>vegetal</td>\n",
       "      <td>196.0</td>\n",
       "      <td>0.0</td>\n",
       "      <td>145.0</td>\n",
       "      <td>3.0</td>\n",
       "      <td>...</td>\n",
       "      <td>8.504237e+09</td>\n",
       "      <td>2.870180e+05</td>\n",
       "      <td>3000000.0</td>\n",
       "      <td>2834.745733</td>\n",
       "      <td>9.567267</td>\n",
       "      <td>5.556102e+11</td>\n",
       "      <td>1.875184e+07</td>\n",
       "      <td>2912410.0</td>\n",
       "      <td>100000.0</td>\n",
       "      <td>3.433582</td>\n",
       "    </tr>\n",
       "    <tr>\n",
       "      <th>2</th>\n",
       "      <td>1</td>\n",
       "      <td>Armenia</td>\n",
       "      <td>2514</td>\n",
       "      <td>Maize and products</td>\n",
       "      <td>2014</td>\n",
       "      <td>vegetal</td>\n",
       "      <td>88.0</td>\n",
       "      <td>NaN</td>\n",
       "      <td>64.0</td>\n",
       "      <td>18.0</td>\n",
       "      <td>...</td>\n",
       "      <td>6.378178e+10</td>\n",
       "      <td>3.337913e+06</td>\n",
       "      <td>18000000.0</td>\n",
       "      <td>3543.432167</td>\n",
       "      <td>18.543962</td>\n",
       "      <td>3.118220e+11</td>\n",
       "      <td>1.631869e+07</td>\n",
       "      <td>2912410.0</td>\n",
       "      <td>100000.0</td>\n",
       "      <td>3.433582</td>\n",
       "    </tr>\n",
       "    <tr>\n",
       "      <th>3</th>\n",
       "      <td>1</td>\n",
       "      <td>Armenia</td>\n",
       "      <td>2515</td>\n",
       "      <td>Rye and products</td>\n",
       "      <td>2014</td>\n",
       "      <td>vegetal</td>\n",
       "      <td>1.0</td>\n",
       "      <td>NaN</td>\n",
       "      <td>1.0</td>\n",
       "      <td>0.0</td>\n",
       "      <td>...</td>\n",
       "      <td>1.063030e+09</td>\n",
       "      <td>3.189089e+04</td>\n",
       "      <td>0.0</td>\n",
       "      <td>NaN</td>\n",
       "      <td>NaN</td>\n",
       "      <td>NaN</td>\n",
       "      <td>NaN</td>\n",
       "      <td>2912410.0</td>\n",
       "      <td>100000.0</td>\n",
       "      <td>3.433582</td>\n",
       "    </tr>\n",
       "    <tr>\n",
       "      <th>4</th>\n",
       "      <td>1</td>\n",
       "      <td>Armenia</td>\n",
       "      <td>2516</td>\n",
       "      <td>Oats</td>\n",
       "      <td>2014</td>\n",
       "      <td>vegetal</td>\n",
       "      <td>8.0</td>\n",
       "      <td>NaN</td>\n",
       "      <td>6.0</td>\n",
       "      <td>1.0</td>\n",
       "      <td>...</td>\n",
       "      <td>5.315148e+09</td>\n",
       "      <td>2.019756e+05</td>\n",
       "      <td>1000000.0</td>\n",
       "      <td>5315.148250</td>\n",
       "      <td>20.197563</td>\n",
       "      <td>4.252119e+10</td>\n",
       "      <td>1.615805e+06</td>\n",
       "      <td>2912410.0</td>\n",
       "      <td>100000.0</td>\n",
       "      <td>3.433582</td>\n",
       "    </tr>\n",
       "  </tbody>\n",
       "</table>\n",
       "<p>5 rows × 31 columns</p>\n",
       "</div>"
      ],
      "text/plain": [
       "   country_code  country  item_code                 item  year   origin  \\\n",
       "0             1  Armenia       2511   Wheat and products  2014  vegetal   \n",
       "1             1  Armenia       2513  Barley and products  2014  vegetal   \n",
       "2             1  Armenia       2514   Maize and products  2014  vegetal   \n",
       "3             1  Armenia       2515     Rye and products  2014  vegetal   \n",
       "4             1  Armenia       2516                 Oats  2014  vegetal   \n",
       "\n",
       "   domestic_supply_quantity  export_quantity   feed   food  ...  \\\n",
       "0                     639.0              1.0  110.0  380.0  ...   \n",
       "1                     196.0              0.0  145.0    3.0  ...   \n",
       "2                      88.0              NaN   64.0   18.0  ...   \n",
       "3                       1.0              NaN    1.0    0.0  ...   \n",
       "4                       8.0              NaN    6.0    1.0  ...   \n",
       "\n",
       "   food_supply_kcal  food_supply_kgprotein  food_supply_kg  ratio_kcalkg  \\\n",
       "0      1.104488e+12           3.293266e+07     380000000.0   2906.546859   \n",
       "1      8.504237e+09           2.870180e+05       3000000.0   2834.745733   \n",
       "2      6.378178e+10           3.337913e+06      18000000.0   3543.432167   \n",
       "3      1.063030e+09           3.189089e+04             0.0           NaN   \n",
       "4      5.315148e+09           2.019756e+05       1000000.0   5315.148250   \n",
       "\n",
       "   protein_percentage  dom_sup_kcal  dom_sup_kgprot  population  u_population  \\\n",
       "0            8.666489  1.857283e+12    5.537887e+07   2912410.0      100000.0   \n",
       "1            9.567267  5.556102e+11    1.875184e+07   2912410.0      100000.0   \n",
       "2           18.543962  3.118220e+11    1.631869e+07   2912410.0      100000.0   \n",
       "3                 NaN           NaN             NaN   2912410.0      100000.0   \n",
       "4           20.197563  4.252119e+10    1.615805e+06   2912410.0      100000.0   \n",
       "\n",
       "   u_percentage  \n",
       "0      3.433582  \n",
       "1      3.433582  \n",
       "2      3.433582  \n",
       "3      3.433582  \n",
       "4      3.433582  \n",
       "\n",
       "[5 rows x 31 columns]"
      ]
     },
     "execution_count": 71,
     "metadata": {},
     "output_type": "execute_result"
    }
   ],
   "source": [
    "# Creating a merged dataframe containing the initial global food balance sheet data,\n",
    "# including the extra 7 columns created during Task 4 so far\n",
    "data = pd.merge(data, pop_data, on=['country_code', 'country', 'year'] )\n",
    "data = data.rename(columns={'population_y':'population'})\n",
    "\n",
    "data.head()"
   ]
  },
  {
   "cell_type": "markdown",
   "metadata": {
    "collapsed": false,
    "pycharm": {
     "name": "#%% md\n"
    }
   },
   "source": [
    "**Generating top 25 exports based on the undernourished percentage variable**"
   ]
  },
  {
   "cell_type": "code",
   "execution_count": 72,
   "metadata": {
    "collapsed": false,
    "pycharm": {
     "name": "#%%\n"
    }
   },
   "outputs": [
    {
     "data": {
      "text/html": [
       "<div>\n",
       "<style scoped>\n",
       "    .dataframe tbody tr th:only-of-type {\n",
       "        vertical-align: middle;\n",
       "    }\n",
       "\n",
       "    .dataframe tbody tr th {\n",
       "        vertical-align: top;\n",
       "    }\n",
       "\n",
       "    .dataframe thead th {\n",
       "        text-align: right;\n",
       "    }\n",
       "</style>\n",
       "<table border=\"1\" class=\"dataframe\">\n",
       "  <thead>\n",
       "    <tr style=\"text-align: right;\">\n",
       "      <th></th>\n",
       "      <th>year</th>\n",
       "      <th>item_code</th>\n",
       "      <th>item</th>\n",
       "      <th>export_quantity</th>\n",
       "    </tr>\n",
       "  </thead>\n",
       "  <tbody>\n",
       "    <tr>\n",
       "      <th>0</th>\n",
       "      <td>2014</td>\n",
       "      <td>2805</td>\n",
       "      <td>Rice and products</td>\n",
       "      <td>34875.0</td>\n",
       "    </tr>\n",
       "    <tr>\n",
       "      <th>1</th>\n",
       "      <td>2014</td>\n",
       "      <td>2542</td>\n",
       "      <td>Sugar (Raw Equivalent)</td>\n",
       "      <td>9630.0</td>\n",
       "    </tr>\n",
       "    <tr>\n",
       "      <th>2</th>\n",
       "      <td>2014</td>\n",
       "      <td>2532</td>\n",
       "      <td>Cassava and products</td>\n",
       "      <td>7529.0</td>\n",
       "    </tr>\n",
       "    <tr>\n",
       "      <th>3</th>\n",
       "      <td>2014</td>\n",
       "      <td>2514</td>\n",
       "      <td>Maize and products</td>\n",
       "      <td>7475.0</td>\n",
       "    </tr>\n",
       "    <tr>\n",
       "      <th>4</th>\n",
       "      <td>2014</td>\n",
       "      <td>2615</td>\n",
       "      <td>Bananas</td>\n",
       "      <td>7450.0</td>\n",
       "    </tr>\n",
       "  </tbody>\n",
       "</table>\n",
       "</div>"
      ],
      "text/plain": [
       "   year  item_code                    item  export_quantity\n",
       "0  2014       2805       Rice and products          34875.0\n",
       "1  2014       2542  Sugar (Raw Equivalent)           9630.0\n",
       "2  2014       2532    Cassava and products           7529.0\n",
       "3  2014       2514      Maize and products           7475.0\n",
       "4  2014       2615                 Bananas           7450.0"
      ]
     },
     "execution_count": 72,
     "metadata": {},
     "output_type": "execute_result"
    }
   ],
   "source": [
    "#Creating the 25 most exported products.\n",
    "most_exported_products = data[data.u_percentage >=10]\n",
    "#Saving the top 25 sum grouped by our selected year 2014 and 2017.\n",
    "most_exported_products_2014 = most_exported_products[most_exported_products.year == 2014].groupby([ 'year','item_code','item'], as_index = False)[['export_quantity']].sum().sort_values(by=['export_quantity'], ascending=False).head(25)\n",
    "most_exported_products_2017 = most_exported_products[most_exported_products.year == 2017].groupby([ 'year','item_code','item'], as_index = False)[['export_quantity']].sum().sort_values(by=['export_quantity'], ascending=False).head(25)\n",
    "\n",
    "#Create the top 25 selected year data frame and updating its index.\n",
    "most_exported_products = pd.concat([most_exported_products_2014, most_exported_products_2017])\n",
    "most_exported_products = most_exported_products.reset_index(drop = True)\n",
    "\n",
    "#example for 2014\n",
    "most_exported_products.head()"
   ]
  },
  {
   "cell_type": "code",
   "execution_count": 73,
   "metadata": {
    "collapsed": false,
    "pycharm": {
     "name": "#%%\n"
    }
   },
   "outputs": [
    {
     "data": {
      "text/html": [
       "<div>\n",
       "<style scoped>\n",
       "    .dataframe tbody tr th:only-of-type {\n",
       "        vertical-align: middle;\n",
       "    }\n",
       "\n",
       "    .dataframe tbody tr th {\n",
       "        vertical-align: top;\n",
       "    }\n",
       "\n",
       "    .dataframe thead th {\n",
       "        text-align: right;\n",
       "    }\n",
       "</style>\n",
       "<table border=\"1\" class=\"dataframe\">\n",
       "  <thead>\n",
       "    <tr style=\"text-align: right;\">\n",
       "      <th></th>\n",
       "      <th>year</th>\n",
       "      <th>item_code</th>\n",
       "      <th>item</th>\n",
       "      <th>export_quantity</th>\n",
       "    </tr>\n",
       "  </thead>\n",
       "  <tbody>\n",
       "    <tr>\n",
       "      <th>45</th>\n",
       "      <td>2017</td>\n",
       "      <td>2531</td>\n",
       "      <td>Potatoes and products</td>\n",
       "      <td>1257.0</td>\n",
       "    </tr>\n",
       "    <tr>\n",
       "      <th>46</th>\n",
       "      <td>2017</td>\n",
       "      <td>2543</td>\n",
       "      <td>Sweeteners, Other</td>\n",
       "      <td>1245.0</td>\n",
       "    </tr>\n",
       "    <tr>\n",
       "      <th>47</th>\n",
       "      <td>2017</td>\n",
       "      <td>2560</td>\n",
       "      <td>Coconuts - Incl Copra</td>\n",
       "      <td>1138.0</td>\n",
       "    </tr>\n",
       "    <tr>\n",
       "      <th>48</th>\n",
       "      <td>2017</td>\n",
       "      <td>2848</td>\n",
       "      <td>Milk - Excluding Butter</td>\n",
       "      <td>1022.0</td>\n",
       "    </tr>\n",
       "    <tr>\n",
       "      <th>49</th>\n",
       "      <td>2017</td>\n",
       "      <td>2765</td>\n",
       "      <td>Crustaceans</td>\n",
       "      <td>977.0</td>\n",
       "    </tr>\n",
       "  </tbody>\n",
       "</table>\n",
       "</div>"
      ],
      "text/plain": [
       "    year  item_code                     item  export_quantity\n",
       "45  2017       2531    Potatoes and products           1257.0\n",
       "46  2017       2543        Sweeteners, Other           1245.0\n",
       "47  2017       2560    Coconuts - Incl Copra           1138.0\n",
       "48  2017       2848  Milk - Excluding Butter           1022.0\n",
       "49  2017       2765              Crustaceans            977.0"
      ]
     },
     "execution_count": 73,
     "metadata": {},
     "output_type": "execute_result"
    }
   ],
   "source": [
    "#example for 2017\n",
    "most_exported_products.tail()"
   ]
  },
  {
   "cell_type": "markdown",
   "metadata": {
    "collapsed": false,
    "pycharm": {
     "name": "#%% md\n"
    }
   },
   "source": [
    "**Generating top 200 imports based on the top 25 most exported products items**"
   ]
  },
  {
   "cell_type": "code",
   "execution_count": 74,
   "metadata": {
    "collapsed": false,
    "pycharm": {
     "name": "#%%\n"
    }
   },
   "outputs": [
    {
     "data": {
      "text/html": [
       "<div>\n",
       "<style scoped>\n",
       "    .dataframe tbody tr th:only-of-type {\n",
       "        vertical-align: middle;\n",
       "    }\n",
       "\n",
       "    .dataframe tbody tr th {\n",
       "        vertical-align: top;\n",
       "    }\n",
       "\n",
       "    .dataframe thead th {\n",
       "        text-align: right;\n",
       "    }\n",
       "</style>\n",
       "<table border=\"1\" class=\"dataframe\">\n",
       "  <thead>\n",
       "    <tr style=\"text-align: right;\">\n",
       "      <th></th>\n",
       "      <th>country</th>\n",
       "      <th>item</th>\n",
       "      <th>year</th>\n",
       "      <th>import_quantity</th>\n",
       "      <th>great_import_from_undern_countries</th>\n",
       "    </tr>\n",
       "  </thead>\n",
       "  <tbody>\n",
       "    <tr>\n",
       "      <th>0</th>\n",
       "      <td>China, mainland</td>\n",
       "      <td>Soyabeans</td>\n",
       "      <td>2014</td>\n",
       "      <td>71406.0</td>\n",
       "      <td>True</td>\n",
       "    </tr>\n",
       "    <tr>\n",
       "      <th>1</th>\n",
       "      <td>China, mainland</td>\n",
       "      <td>Cassava and products</td>\n",
       "      <td>2014</td>\n",
       "      <td>35345.0</td>\n",
       "      <td>True</td>\n",
       "    </tr>\n",
       "    <tr>\n",
       "      <th>2</th>\n",
       "      <td>Japan</td>\n",
       "      <td>Maize and products</td>\n",
       "      <td>2014</td>\n",
       "      <td>15037.0</td>\n",
       "      <td>True</td>\n",
       "    </tr>\n",
       "    <tr>\n",
       "      <th>3</th>\n",
       "      <td>Egypt</td>\n",
       "      <td>Wheat and products</td>\n",
       "      <td>2014</td>\n",
       "      <td>11207.0</td>\n",
       "      <td>True</td>\n",
       "    </tr>\n",
       "    <tr>\n",
       "      <th>4</th>\n",
       "      <td>Republic of Korea</td>\n",
       "      <td>Maize and products</td>\n",
       "      <td>2014</td>\n",
       "      <td>10840.0</td>\n",
       "      <td>True</td>\n",
       "    </tr>\n",
       "  </tbody>\n",
       "</table>\n",
       "</div>"
      ],
      "text/plain": [
       "             country                  item  year  import_quantity  \\\n",
       "0    China, mainland             Soyabeans  2014          71406.0   \n",
       "1    China, mainland  Cassava and products  2014          35345.0   \n",
       "2              Japan    Maize and products  2014          15037.0   \n",
       "3              Egypt    Wheat and products  2014          11207.0   \n",
       "4  Republic of Korea    Maize and products  2014          10840.0   \n",
       "\n",
       "   great_import_from_undern_countries  \n",
       "0                                True  \n",
       "1                                True  \n",
       "2                                True  \n",
       "3                                True  \n",
       "4                                True  "
      ]
     },
     "execution_count": 74,
     "metadata": {},
     "output_type": "execute_result"
    }
   ],
   "source": [
    "# Saving our most exported items based on most exported products items years from 2014 and 2017.\n",
    "most_exported_items_2014 = list(most_exported_products_2014['item'])\n",
    "most_exported_items_2017 = list(most_exported_products_2017['item'])\n",
    "\n",
    "# Creating the top 200 from 2014.\n",
    "most_imported_200_items_2014 = data[data.year==2014]\n",
    "most_imported_200_items_2014 = most_imported_200_items_2014[most_imported_200_items_2014.item.isin(most_exported_items_2014)] \\\n",
    ".groupby(['country', 'item', 'year'], as_index = False)[['import_quantity']].sum().sort_values(by=['import_quantity'], ascending=False).head(200)\n",
    "\n",
    "# Creating the top 200 from 2017.\n",
    "most_imported_200_items_2017 = data[data.year==2017]\n",
    "most_imported_200_items_2017 = most_imported_200_items_2017[most_imported_200_items_2017.item.isin(most_exported_items_2017)] \\\n",
    ".groupby(['country', 'item', 'year'], as_index = False)[['import_quantity']].sum().sort_values(by=['import_quantity'], ascending=False).head(200)\n",
    "\n",
    "#Creating the most imported 200 items with the selected years.\n",
    "most_imported_200_items = pd.concat([most_imported_200_items_2014, most_imported_200_items_2017])\n",
    "most_imported_200_items = most_imported_200_items.reset_index(drop = True)\n",
    "\n",
    "# From the most imported 200 items i create the great_import_from_undern_countries flag or mask to be used for\n",
    "# further calculation.\n",
    "most_imported_200_items['great_import_from_undern_countries'] = True\n",
    "\n",
    "#example for 2014\n",
    "most_imported_200_items.head()"
   ]
  },
  {
   "cell_type": "code",
   "execution_count": 75,
   "metadata": {
    "collapsed": false,
    "pycharm": {
     "name": "#%%\n"
    }
   },
   "outputs": [
    {
     "data": {
      "text/html": [
       "<div>\n",
       "<style scoped>\n",
       "    .dataframe tbody tr th:only-of-type {\n",
       "        vertical-align: middle;\n",
       "    }\n",
       "\n",
       "    .dataframe tbody tr th {\n",
       "        vertical-align: top;\n",
       "    }\n",
       "\n",
       "    .dataframe thead th {\n",
       "        text-align: right;\n",
       "    }\n",
       "</style>\n",
       "<table border=\"1\" class=\"dataframe\">\n",
       "  <thead>\n",
       "    <tr style=\"text-align: right;\">\n",
       "      <th></th>\n",
       "      <th>country</th>\n",
       "      <th>item</th>\n",
       "      <th>year</th>\n",
       "      <th>import_quantity</th>\n",
       "      <th>great_import_from_undern_countries</th>\n",
       "    </tr>\n",
       "  </thead>\n",
       "  <tbody>\n",
       "    <tr>\n",
       "      <th>395</th>\n",
       "      <td>Ethiopia</td>\n",
       "      <td>Wheat and products</td>\n",
       "      <td>2017</td>\n",
       "      <td>1175.0</td>\n",
       "      <td>True</td>\n",
       "    </tr>\n",
       "    <tr>\n",
       "      <th>396</th>\n",
       "      <td>Bangladesh</td>\n",
       "      <td>Maize and products</td>\n",
       "      <td>2017</td>\n",
       "      <td>1172.0</td>\n",
       "      <td>True</td>\n",
       "    </tr>\n",
       "    <tr>\n",
       "      <th>397</th>\n",
       "      <td>Ecuador</td>\n",
       "      <td>Wheat and products</td>\n",
       "      <td>2017</td>\n",
       "      <td>1170.0</td>\n",
       "      <td>True</td>\n",
       "    </tr>\n",
       "    <tr>\n",
       "      <th>398</th>\n",
       "      <td>Morocco</td>\n",
       "      <td>Sugar (Raw Equivalent)</td>\n",
       "      <td>2017</td>\n",
       "      <td>1167.0</td>\n",
       "      <td>True</td>\n",
       "    </tr>\n",
       "    <tr>\n",
       "      <th>399</th>\n",
       "      <td>Brazil</td>\n",
       "      <td>Milk - Excluding Butter</td>\n",
       "      <td>2017</td>\n",
       "      <td>1155.0</td>\n",
       "      <td>True</td>\n",
       "    </tr>\n",
       "  </tbody>\n",
       "</table>\n",
       "</div>"
      ],
      "text/plain": [
       "        country                     item  year  import_quantity  \\\n",
       "395    Ethiopia       Wheat and products  2017           1175.0   \n",
       "396  Bangladesh       Maize and products  2017           1172.0   \n",
       "397     Ecuador       Wheat and products  2017           1170.0   \n",
       "398     Morocco   Sugar (Raw Equivalent)  2017           1167.0   \n",
       "399      Brazil  Milk - Excluding Butter  2017           1155.0   \n",
       "\n",
       "     great_import_from_undern_countries  \n",
       "395                                True  \n",
       "396                                True  \n",
       "397                                True  \n",
       "398                                True  \n",
       "399                                True  "
      ]
     },
     "execution_count": 75,
     "metadata": {},
     "output_type": "execute_result"
    }
   ],
   "source": [
    "#example for 2017\n",
    "most_imported_200_items.tail()"
   ]
  },
  {
   "cell_type": "code",
   "execution_count": 76,
   "metadata": {
    "collapsed": false,
    "pycharm": {
     "name": "#%%\n"
    }
   },
   "outputs": [
    {
     "data": {
      "text/html": [
       "<div>\n",
       "<style scoped>\n",
       "    .dataframe tbody tr th:only-of-type {\n",
       "        vertical-align: middle;\n",
       "    }\n",
       "\n",
       "    .dataframe tbody tr th {\n",
       "        vertical-align: top;\n",
       "    }\n",
       "\n",
       "    .dataframe thead th {\n",
       "        text-align: right;\n",
       "    }\n",
       "</style>\n",
       "<table border=\"1\" class=\"dataframe\">\n",
       "  <thead>\n",
       "    <tr style=\"text-align: right;\">\n",
       "      <th></th>\n",
       "      <th>country_code</th>\n",
       "      <th>country</th>\n",
       "      <th>item_code</th>\n",
       "      <th>item</th>\n",
       "      <th>year</th>\n",
       "      <th>origin</th>\n",
       "      <th>domestic_supply_quantity</th>\n",
       "      <th>export_quantity</th>\n",
       "      <th>feed</th>\n",
       "      <th>food</th>\n",
       "      <th>...</th>\n",
       "      <th>food_supply_kgprotein</th>\n",
       "      <th>food_supply_kg</th>\n",
       "      <th>ratio_kcalkg</th>\n",
       "      <th>protein_percentage</th>\n",
       "      <th>dom_sup_kcal</th>\n",
       "      <th>dom_sup_kgprot</th>\n",
       "      <th>population</th>\n",
       "      <th>u_population</th>\n",
       "      <th>u_percentage</th>\n",
       "      <th>great_import_from_undern_countries</th>\n",
       "    </tr>\n",
       "  </thead>\n",
       "  <tbody>\n",
       "    <tr>\n",
       "      <th>0</th>\n",
       "      <td>1</td>\n",
       "      <td>Armenia</td>\n",
       "      <td>2511</td>\n",
       "      <td>Wheat and products</td>\n",
       "      <td>2014</td>\n",
       "      <td>vegetal</td>\n",
       "      <td>639.0</td>\n",
       "      <td>1.0</td>\n",
       "      <td>110.0</td>\n",
       "      <td>380.0</td>\n",
       "      <td>...</td>\n",
       "      <td>3.293266e+07</td>\n",
       "      <td>380000000.0</td>\n",
       "      <td>2906.546859</td>\n",
       "      <td>8.666489</td>\n",
       "      <td>1.857283e+12</td>\n",
       "      <td>5.537887e+07</td>\n",
       "      <td>2912410.0</td>\n",
       "      <td>100000.0</td>\n",
       "      <td>3.433582</td>\n",
       "      <td>False</td>\n",
       "    </tr>\n",
       "    <tr>\n",
       "      <th>1</th>\n",
       "      <td>1</td>\n",
       "      <td>Armenia</td>\n",
       "      <td>2513</td>\n",
       "      <td>Barley and products</td>\n",
       "      <td>2014</td>\n",
       "      <td>vegetal</td>\n",
       "      <td>196.0</td>\n",
       "      <td>0.0</td>\n",
       "      <td>145.0</td>\n",
       "      <td>3.0</td>\n",
       "      <td>...</td>\n",
       "      <td>2.870180e+05</td>\n",
       "      <td>3000000.0</td>\n",
       "      <td>2834.745733</td>\n",
       "      <td>9.567267</td>\n",
       "      <td>5.556102e+11</td>\n",
       "      <td>1.875184e+07</td>\n",
       "      <td>2912410.0</td>\n",
       "      <td>100000.0</td>\n",
       "      <td>3.433582</td>\n",
       "      <td>False</td>\n",
       "    </tr>\n",
       "    <tr>\n",
       "      <th>2</th>\n",
       "      <td>1</td>\n",
       "      <td>Armenia</td>\n",
       "      <td>2514</td>\n",
       "      <td>Maize and products</td>\n",
       "      <td>2014</td>\n",
       "      <td>vegetal</td>\n",
       "      <td>88.0</td>\n",
       "      <td>NaN</td>\n",
       "      <td>64.0</td>\n",
       "      <td>18.0</td>\n",
       "      <td>...</td>\n",
       "      <td>3.337913e+06</td>\n",
       "      <td>18000000.0</td>\n",
       "      <td>3543.432167</td>\n",
       "      <td>18.543962</td>\n",
       "      <td>3.118220e+11</td>\n",
       "      <td>1.631869e+07</td>\n",
       "      <td>2912410.0</td>\n",
       "      <td>100000.0</td>\n",
       "      <td>3.433582</td>\n",
       "      <td>False</td>\n",
       "    </tr>\n",
       "    <tr>\n",
       "      <th>3</th>\n",
       "      <td>1</td>\n",
       "      <td>Armenia</td>\n",
       "      <td>2515</td>\n",
       "      <td>Rye and products</td>\n",
       "      <td>2014</td>\n",
       "      <td>vegetal</td>\n",
       "      <td>1.0</td>\n",
       "      <td>NaN</td>\n",
       "      <td>1.0</td>\n",
       "      <td>0.0</td>\n",
       "      <td>...</td>\n",
       "      <td>3.189089e+04</td>\n",
       "      <td>0.0</td>\n",
       "      <td>NaN</td>\n",
       "      <td>NaN</td>\n",
       "      <td>NaN</td>\n",
       "      <td>NaN</td>\n",
       "      <td>2912410.0</td>\n",
       "      <td>100000.0</td>\n",
       "      <td>3.433582</td>\n",
       "      <td>False</td>\n",
       "    </tr>\n",
       "    <tr>\n",
       "      <th>4</th>\n",
       "      <td>1</td>\n",
       "      <td>Armenia</td>\n",
       "      <td>2516</td>\n",
       "      <td>Oats</td>\n",
       "      <td>2014</td>\n",
       "      <td>vegetal</td>\n",
       "      <td>8.0</td>\n",
       "      <td>NaN</td>\n",
       "      <td>6.0</td>\n",
       "      <td>1.0</td>\n",
       "      <td>...</td>\n",
       "      <td>2.019756e+05</td>\n",
       "      <td>1000000.0</td>\n",
       "      <td>5315.148250</td>\n",
       "      <td>20.197563</td>\n",
       "      <td>4.252119e+10</td>\n",
       "      <td>1.615805e+06</td>\n",
       "      <td>2912410.0</td>\n",
       "      <td>100000.0</td>\n",
       "      <td>3.433582</td>\n",
       "      <td>False</td>\n",
       "    </tr>\n",
       "  </tbody>\n",
       "</table>\n",
       "<p>5 rows × 32 columns</p>\n",
       "</div>"
      ],
      "text/plain": [
       "   country_code  country  item_code                 item  year   origin  \\\n",
       "0             1  Armenia       2511   Wheat and products  2014  vegetal   \n",
       "1             1  Armenia       2513  Barley and products  2014  vegetal   \n",
       "2             1  Armenia       2514   Maize and products  2014  vegetal   \n",
       "3             1  Armenia       2515     Rye and products  2014  vegetal   \n",
       "4             1  Armenia       2516                 Oats  2014  vegetal   \n",
       "\n",
       "   domestic_supply_quantity  export_quantity   feed   food  ...  \\\n",
       "0                     639.0              1.0  110.0  380.0  ...   \n",
       "1                     196.0              0.0  145.0    3.0  ...   \n",
       "2                      88.0              NaN   64.0   18.0  ...   \n",
       "3                       1.0              NaN    1.0    0.0  ...   \n",
       "4                       8.0              NaN    6.0    1.0  ...   \n",
       "\n",
       "   food_supply_kgprotein  food_supply_kg  ratio_kcalkg  protein_percentage  \\\n",
       "0           3.293266e+07     380000000.0   2906.546859            8.666489   \n",
       "1           2.870180e+05       3000000.0   2834.745733            9.567267   \n",
       "2           3.337913e+06      18000000.0   3543.432167           18.543962   \n",
       "3           3.189089e+04             0.0           NaN                 NaN   \n",
       "4           2.019756e+05       1000000.0   5315.148250           20.197563   \n",
       "\n",
       "   dom_sup_kcal  dom_sup_kgprot  population  u_population  u_percentage  \\\n",
       "0  1.857283e+12    5.537887e+07   2912410.0      100000.0      3.433582   \n",
       "1  5.556102e+11    1.875184e+07   2912410.0      100000.0      3.433582   \n",
       "2  3.118220e+11    1.631869e+07   2912410.0      100000.0      3.433582   \n",
       "3           NaN             NaN   2912410.0      100000.0      3.433582   \n",
       "4  4.252119e+10    1.615805e+06   2912410.0      100000.0      3.433582   \n",
       "\n",
       "   great_import_from_undern_countries  \n",
       "0                               False  \n",
       "1                               False  \n",
       "2                               False  \n",
       "3                               False  \n",
       "4                               False  \n",
       "\n",
       "[5 rows x 32 columns]"
      ]
     },
     "execution_count": 76,
     "metadata": {},
     "output_type": "execute_result"
    }
   ],
   "source": [
    "# Save most imported 200 items to our main data frame.\n",
    "data = pd.merge(data, most_imported_200_items, on=['country','item','year','import_quantity'], how='left' )\n",
    "# selecting macking sure that our data great_import_from_undern_countries that are NaN are boolean false.\n",
    "data[\"great_import_from_undern_countries\"] = data[\"great_import_from_undern_countries\"].fillna(False)\n",
    "data.head()"
   ]
  },
  {
   "cell_type": "markdown",
   "metadata": {
    "collapsed": false,
    "pycharm": {
     "name": "#%% md\n"
    }
   },
   "source": []
  },
  {
   "cell_type": "markdown",
   "metadata": {
    "pycharm": {
     "name": "#%% md\n"
    }
   },
   "source": [
    "# Task 5 : Identify major trends\n"
   ]
  },
  {
   "cell_type": "code",
   "execution_count": 77,
   "metadata": {
    "pycharm": {
     "name": "#%%\n"
    }
   },
   "outputs": [],
   "source": [
    "# Assign vegetal oring values only to vegetables_data to be used on question that require only vegetables\n",
    "vegetables_data = data[:][data.origin == 'vegetal']"
   ]
  },
  {
   "cell_type": "markdown",
   "metadata": {
    "pycharm": {
     "name": "#%% md\n"
    }
   },
   "source": [
    "**1. Considering only plant products, what proportion of the global domestic supply is used as :**\n",
    "    * food\n",
    "    * feed\n",
    "    * losses\n",
    "    * other uses"
   ]
  },
  {
   "cell_type": "code",
   "execution_count": null,
   "metadata": {
    "pycharm": {
     "name": "#%%\n"
    }
   },
   "outputs": [],
   "source": []
  },
  {
   "cell_type": "code",
   "execution_count": 78,
   "metadata": {
    "collapsed": false,
    "pycharm": {
     "name": "#%%\n"
    }
   },
   "outputs": [
    {
     "data": {
      "text/html": [
       "<div>\n",
       "<style scoped>\n",
       "    .dataframe tbody tr th:only-of-type {\n",
       "        vertical-align: middle;\n",
       "    }\n",
       "\n",
       "    .dataframe tbody tr th {\n",
       "        vertical-align: top;\n",
       "    }\n",
       "\n",
       "    .dataframe thead th {\n",
       "        text-align: right;\n",
       "    }\n",
       "</style>\n",
       "<table border=\"1\" class=\"dataframe\">\n",
       "  <thead>\n",
       "    <tr style=\"text-align: right;\">\n",
       "      <th></th>\n",
       "      <th></th>\n",
       "      <th>proportion</th>\n",
       "    </tr>\n",
       "    <tr>\n",
       "      <th>year</th>\n",
       "      <th>variable</th>\n",
       "      <th></th>\n",
       "    </tr>\n",
       "  </thead>\n",
       "  <tbody>\n",
       "    <tr>\n",
       "      <th rowspan=\"4\" valign=\"top\">2014</th>\n",
       "      <th>feed</th>\n",
       "      <td>14.22</td>\n",
       "    </tr>\n",
       "    <tr>\n",
       "      <th>food</th>\n",
       "      <td>42.29</td>\n",
       "    </tr>\n",
       "    <tr>\n",
       "      <th>losses</th>\n",
       "      <td>6.06</td>\n",
       "    </tr>\n",
       "    <tr>\n",
       "      <th>other_uses_non_food</th>\n",
       "      <td>8.78</td>\n",
       "    </tr>\n",
       "    <tr>\n",
       "      <th rowspan=\"4\" valign=\"top\">2017</th>\n",
       "      <th>feed</th>\n",
       "      <td>14.48</td>\n",
       "    </tr>\n",
       "    <tr>\n",
       "      <th>food</th>\n",
       "      <td>41.89</td>\n",
       "    </tr>\n",
       "    <tr>\n",
       "      <th>losses</th>\n",
       "      <td>6.03</td>\n",
       "    </tr>\n",
       "    <tr>\n",
       "      <th>other_uses_non_food</th>\n",
       "      <td>9.06</td>\n",
       "    </tr>\n",
       "  </tbody>\n",
       "</table>\n",
       "</div>"
      ],
      "text/plain": [
       "                          proportion\n",
       "year variable                       \n",
       "2014 feed                      14.22\n",
       "     food                      42.29\n",
       "     losses                     6.06\n",
       "     other_uses_non_food        8.78\n",
       "2017 feed                      14.48\n",
       "     food                      41.89\n",
       "     losses                     6.03\n",
       "     other_uses_non_food        9.06"
      ]
     },
     "execution_count": 78,
     "metadata": {},
     "output_type": "execute_result"
    }
   ],
   "source": [
    "# Calculating the total global of all origin vegetables.\n",
    "used_plants_supply = data[data.origin == 'vegetal'].groupby(['year'], as_index = False)[['food', 'feed', 'losses', 'other_uses_non_food']].sum()\n",
    "\n",
    "# Caculating the domestic supply total.\n",
    "domestic_supply_quantity_total = data[data.origin == 'vegetal'].groupby(['year'], as_index = False).domestic_supply_quantity.sum()\n",
    "\n",
    "# Dividing the values in our used_plants_supply list by the 'domestic_supply_quantity' column value to get our list of proportions\n",
    "used_plants_supply['domestic_supply_quantity'] = domestic_supply_quantity_total.domestic_supply_quantity\n",
    "used_plants_supply=  pd.melt(used_plants_supply, id_vars=['year', 'domestic_supply_quantity'])\n",
    "\n",
    "# divide food, feed, losses, other_uses_non-food by domestic_supply_quantity to get ist global supply proportions.\n",
    "# divide by domestic surpply.\n",
    "used_plants_supply['proportion'] = (100*used_plants_supply['value'] / used_plants_supply.domestic_supply_quantity).round(2)\n",
    "used_plants_supply = used_plants_supply[['year','variable', 'proportion']]\n",
    "used_plants_supply = used_plants_supply.groupby(['year', 'variable']).sum()\n",
    "\n",
    "# Results\n",
    "used_plants_supply"
   ]
  },
  {
   "cell_type": "markdown",
   "metadata": {
    "pycharm": {
     "name": "#%% md\n"
    }
   },
   "source": [
    "**2. How many humans on earth could be fed if all the plant-based food supply (crops),\n",
    "including food and feed, was used for human consumption? Give the results in terms of calories, and protein.\n",
    "Express these two results as a percentage of the world's population.**\n"
   ]
  },
  {
   "cell_type": "code",
   "execution_count": 79,
   "metadata": {
    "pycharm": {
     "name": "#%%\n"
    }
   },
   "outputs": [
    {
     "data": {
      "text/html": [
       "<div>\n",
       "<style scoped>\n",
       "    .dataframe tbody tr th:only-of-type {\n",
       "        vertical-align: middle;\n",
       "    }\n",
       "\n",
       "    .dataframe tbody tr th {\n",
       "        vertical-align: top;\n",
       "    }\n",
       "\n",
       "    .dataframe thead th {\n",
       "        text-align: right;\n",
       "    }\n",
       "</style>\n",
       "<table border=\"1\" class=\"dataframe\">\n",
       "  <thead>\n",
       "    <tr style=\"text-align: right;\">\n",
       "      <th></th>\n",
       "      <th>year</th>\n",
       "      <th>percentage_human_feed_energy</th>\n",
       "      <th>percentage_human_feed_proteins</th>\n",
       "    </tr>\n",
       "  </thead>\n",
       "  <tbody>\n",
       "    <tr>\n",
       "      <th>0</th>\n",
       "      <td>2014</td>\n",
       "      <td>125.175239</td>\n",
       "      <td>14.840902</td>\n",
       "    </tr>\n",
       "    <tr>\n",
       "      <th>1</th>\n",
       "      <td>2017</td>\n",
       "      <td>112.624625</td>\n",
       "      <td>14.604608</td>\n",
       "    </tr>\n",
       "  </tbody>\n",
       "</table>\n",
       "</div>"
      ],
      "text/plain": [
       "   year  percentage_human_feed_energy  percentage_human_feed_proteins\n",
       "0  2014                    125.175239                       14.840902\n",
       "1  2017                    112.624625                       14.604608"
      ]
     },
     "execution_count": 79,
     "metadata": {},
     "output_type": "execute_result"
    }
   ],
   "source": [
    "# Daily kcal, protein recommend Per capita and global average weight\n",
    "# according to Wikipedia https://en.wikipedia.org/wiki/Human_body_weight.\n",
    "NB_KCAL_PER_CAPITA_PER_DAY = 2500\n",
    "KG_PROT_PER_CAPITA_PER_DAY = 62 * 0.008\n",
    "\n",
    "# Creating our dataframe, by filtering the big dataframe (data) by the \"origin == 'vegetal'\" condition\n",
    "# while keeping only a handful of columns\n",
    "plants_human_consumption = data[data.origin == 'vegetal']\n",
    "plants_human_consumption = plants_human_consumption[['country','year', 'item_code', 'item', 'feed', 'food', 'ratio_kcalkg', 'protein_percentage']]\n",
    "\n",
    "# Calculating food_feed_kcal using it unit 10^6 extracting its kcal value from ration kcal kg.\n",
    "# Calculating food_feed_kgprot using it unit 10^6 extracting its kg value from protein percentage removing its percentage  0.1.\n",
    "plants_human_consumption['food_feed_kcal'] = (plants_human_consumption.feed + plants_human_consumption.food) * np.power(10,6) * plants_human_consumption.ratio_kcalkg\n",
    "plants_human_consumption['food_feed_kg_protein'] = ( np.power(10,6) * (plants_human_consumption.feed + plants_human_consumption.food)) * plants_human_consumption.protein_percentage / 100\n",
    "\n",
    "# Removing anomaly NaN.\n",
    "plants_human_consumption[\"food_feed_kcal\"] = plants_human_consumption.food_feed_kcal.fillna(0)\n",
    "plants_human_consumption[\"food_feed_kg_protein\"] = plants_human_consumption.food_feed_kg_protein.fillna(0)\n",
    "\n",
    "# Calculating food_feed_kcal and food_feed_kg_protein sum by year.\n",
    "plants_human_consumption = plants_human_consumption.groupby(['year'], as_index = False)[['food_feed_kcal', 'food_feed_kg_protein']].sum()\n",
    "\n",
    "## Creating food feed quantities in oder calculating its humans nutrients recommend values.\n",
    "# Recommended food and feed per capita\n",
    "plants_human_consumption['human_feed_energy'] = plants_human_consumption.food_feed_kcal / NB_KCAL_PER_CAPITA_PER_DAY / 365\n",
    "plants_human_consumption['human_feed_energy'] = plants_human_consumption.human_feed_energy.round(0)\n",
    "\n",
    "plants_human_consumption['human_feed_proteins'] = plants_human_consumption.food_feed_kg_protein / KG_PROT_PER_CAPITA_PER_DAY / 365\n",
    "plants_human_consumption['human_feed_proteins'] = plants_human_consumption.human_feed_proteins.round(0)\n",
    "\n",
    "# Creating the population dataframe and calculating the total population for both 2014 and 2017\n",
    "tmp_total_pop = data_population\n",
    "tmp_total_pop = tmp_total_pop[tmp_total_pop['flag_description'] == 'Standardized data']\n",
    "tmp_total_pop = 1000 * tmp_total_pop.groupby(['year']).value.sum()\n",
    "\n",
    "# Preparing tor results.\n",
    "plants_human_consumption = pd.merge(plants_human_consumption, tmp_total_pop, left_on='year', right_on='year')\n",
    "plants_human_consumption = plants_human_consumption.rename(columns={\"value\": \"population\"})\n",
    "\n",
    "# Calculating the percentage of Engine and Protein need for the global population.\n",
    "plants_human_consumption['percentage_human_feed_energy'] = 100 * plants_human_consumption.human_feed_energy / plants_human_consumption.population\n",
    "plants_human_consumption['percentage_human_feed_proteins'] = 100 * plants_human_consumption.human_feed_proteins / plants_human_consumption.population\n",
    "\n",
    "# Results\n",
    "plants_human_consumption[['year','percentage_human_feed_energy', 'percentage_human_feed_proteins']]"
   ]
  },
  {
   "cell_type": "markdown",
   "metadata": {
    "pycharm": {
     "name": "#%% md\n"
    }
   },
   "source": [
    "**3. How many humans could be fed with the global food supply? Give the results in terms of calories and protein.\n",
    "Express these two results as a percentage of the world's population.**"
   ]
  },
  {
   "cell_type": "code",
   "execution_count": 80,
   "metadata": {
    "pycharm": {
     "name": "#%%\n"
    }
   },
   "outputs": [
    {
     "name": "stderr",
     "output_type": "stream",
     "text": [
      "/var/folders/6t/cs55bt816j7360h_wfmskqtm0000gn/T/ipykernel_51105/3397574853.py:7: SettingWithCopyWarning: \n",
      "A value is trying to be set on a copy of a slice from a DataFrame.\n",
      "Try using .loc[row_indexer,col_indexer] = value instead\n",
      "\n",
      "See the caveats in the documentation: https://pandas.pydata.org/pandas-docs/stable/user_guide/indexing.html#returning-a-view-versus-a-copy\n",
      "  total_human_feed['food_feed_kcal'] = (total_human_feed.feed + total_human_feed.food) * np.power(10,6) * total_human_feed.ratio_kcalkg\n",
      "/var/folders/6t/cs55bt816j7360h_wfmskqtm0000gn/T/ipykernel_51105/3397574853.py:8: SettingWithCopyWarning: \n",
      "A value is trying to be set on a copy of a slice from a DataFrame.\n",
      "Try using .loc[row_indexer,col_indexer] = value instead\n",
      "\n",
      "See the caveats in the documentation: https://pandas.pydata.org/pandas-docs/stable/user_guide/indexing.html#returning-a-view-versus-a-copy\n",
      "  total_human_feed['food_feed_kg_protein'] = np.power(10,6) * (total_human_feed.feed + total_human_feed.food) * (total_human_feed.protein_percentage /100)\n",
      "/var/folders/6t/cs55bt816j7360h_wfmskqtm0000gn/T/ipykernel_51105/3397574853.py:11: SettingWithCopyWarning: \n",
      "A value is trying to be set on a copy of a slice from a DataFrame.\n",
      "Try using .loc[row_indexer,col_indexer] = value instead\n",
      "\n",
      "See the caveats in the documentation: https://pandas.pydata.org/pandas-docs/stable/user_guide/indexing.html#returning-a-view-versus-a-copy\n",
      "  total_human_feed[\"food_feed_kcal\"] = total_human_feed.food_feed_kcal.fillna(0)\n",
      "/var/folders/6t/cs55bt816j7360h_wfmskqtm0000gn/T/ipykernel_51105/3397574853.py:12: SettingWithCopyWarning: \n",
      "A value is trying to be set on a copy of a slice from a DataFrame.\n",
      "Try using .loc[row_indexer,col_indexer] = value instead\n",
      "\n",
      "See the caveats in the documentation: https://pandas.pydata.org/pandas-docs/stable/user_guide/indexing.html#returning-a-view-versus-a-copy\n",
      "  total_human_feed[\"food_feed_kg_protein\"] = total_human_feed.food_feed_kg_protein.fillna(0)\n"
     ]
    },
    {
     "data": {
      "text/html": [
       "<div>\n",
       "<style scoped>\n",
       "    .dataframe tbody tr th:only-of-type {\n",
       "        vertical-align: middle;\n",
       "    }\n",
       "\n",
       "    .dataframe tbody tr th {\n",
       "        vertical-align: top;\n",
       "    }\n",
       "\n",
       "    .dataframe thead th {\n",
       "        text-align: right;\n",
       "    }\n",
       "</style>\n",
       "<table border=\"1\" class=\"dataframe\">\n",
       "  <thead>\n",
       "    <tr style=\"text-align: right;\">\n",
       "      <th></th>\n",
       "      <th>year</th>\n",
       "      <th>percentage_human_feed_energy</th>\n",
       "      <th>percentage_human_feed_proteins</th>\n",
       "    </tr>\n",
       "  </thead>\n",
       "  <tbody>\n",
       "    <tr>\n",
       "      <th>0</th>\n",
       "      <td>2014</td>\n",
       "      <td>140.873571</td>\n",
       "      <td>19.329163</td>\n",
       "    </tr>\n",
       "    <tr>\n",
       "      <th>1</th>\n",
       "      <td>2017</td>\n",
       "      <td>122.114983</td>\n",
       "      <td>17.819073</td>\n",
       "    </tr>\n",
       "  </tbody>\n",
       "</table>\n",
       "</div>"
      ],
      "text/plain": [
       "   year  percentage_human_feed_energy  percentage_human_feed_proteins\n",
       "0  2014                    140.873571                       19.329163\n",
       "1  2017                    122.114983                       17.819073"
      ]
     },
     "execution_count": 80,
     "metadata": {},
     "output_type": "execute_result"
    }
   ],
   "source": [
    "# Creating our dataframe, this time keeping the big dataframe (data) as it is\n",
    "# while still keeping only a handful of columns\n",
    "total_human_feed= data\n",
    "total_human_feed = total_human_feed[['country','year', 'item_code', 'item', 'feed', 'food', 'ratio_kcalkg', 'protein_percentage']]\n",
    "\n",
    "# Creating the two new columns kcal and food_feed_kg_protein\n",
    "total_human_feed['food_feed_kcal'] = (total_human_feed.feed + total_human_feed.food) * np.power(10,6) * total_human_feed.ratio_kcalkg\n",
    "total_human_feed['food_feed_kg_protein'] = np.power(10,6) * (total_human_feed.feed + total_human_feed.food) * (total_human_feed.protein_percentage /100)\n",
    "\n",
    "# Replacing the NaN values with zeros.\n",
    "total_human_feed[\"food_feed_kcal\"] = total_human_feed.food_feed_kcal.fillna(0)\n",
    "total_human_feed[\"food_feed_kg_protein\"] = total_human_feed.food_feed_kg_protein.fillna(0)\n",
    "\n",
    "# Grouping by year and summing the two new columns\n",
    "total_human_feed = total_human_feed.groupby(['year'], as_index = False)[['food_feed_kcal', 'food_feed_kg_protein']].sum()\n",
    "\n",
    "# Creating new columns calculating the amount of people that could've been fed (in 2014 and 2017)\n",
    "# First, by the amount of kcal in the crops.\n",
    "total_human_feed['human_feed_energy'] = total_human_feed.food_feed_kcal / NB_KCAL_PER_CAPITA_PER_DAY / 365\n",
    "total_human_feed['human_feed_energy'] = total_human_feed.human_feed_energy.round(0)\n",
    "\n",
    "# Second, by the amount of protein in the crops\n",
    "total_human_feed['human_feed_proteins'] = total_human_feed.food_feed_kg_protein / KG_PROT_PER_CAPITA_PER_DAY / 365\n",
    "total_human_feed['human_feed_proteins'] = total_human_feed.human_feed_proteins.round(0)\n",
    "\n",
    "\n",
    "# Preparing the results.\n",
    "total_human_feed = pd.merge(total_human_feed, tmp_total_pop, left_on='year', right_on='year')\n",
    "total_human_feed = total_human_feed.rename(columns={\"value\": \"population\"})\n",
    "\n",
    "# Calculating the percentage of Engine and Protein need for the global population . use the population from pop\n",
    "total_human_feed['percentage_human_feed_energy'] = 100 * total_human_feed.human_feed_energy / total_human_feed.population\n",
    "total_human_feed['percentage_human_feed_proteins'] = 100 * total_human_feed.human_feed_proteins / total_human_feed.population\n",
    "\n",
    "# Results.\n",
    "total_human_feed[['year','percentage_human_feed_energy', 'percentage_human_feed_proteins']]"
   ]
  },
  {
   "cell_type": "markdown",
   "metadata": {
    "pycharm": {
     "name": "#%% md\n"
    }
   },
   "source": [
    "**4. From the collected data on undernutrition, what proportion of the world's population is considered undernourished?**"
   ]
  },
  {
   "cell_type": "code",
   "execution_count": 81,
   "metadata": {
    "pycharm": {
     "name": "#%%\n"
    }
   },
   "outputs": [
    {
     "data": {
      "text/html": [
       "<div>\n",
       "<style scoped>\n",
       "    .dataframe tbody tr th:only-of-type {\n",
       "        vertical-align: middle;\n",
       "    }\n",
       "\n",
       "    .dataframe tbody tr th {\n",
       "        vertical-align: top;\n",
       "    }\n",
       "\n",
       "    .dataframe thead th {\n",
       "        text-align: right;\n",
       "    }\n",
       "</style>\n",
       "<table border=\"1\" class=\"dataframe\">\n",
       "  <thead>\n",
       "    <tr style=\"text-align: right;\">\n",
       "      <th></th>\n",
       "      <th>proportion</th>\n",
       "    </tr>\n",
       "  </thead>\n",
       "  <tbody>\n",
       "    <tr>\n",
       "      <th>2014</th>\n",
       "      <td>10.325170</td>\n",
       "    </tr>\n",
       "    <tr>\n",
       "      <th>2017</th>\n",
       "      <td>10.202092</td>\n",
       "    </tr>\n",
       "  </tbody>\n",
       "</table>\n",
       "</div>"
      ],
      "text/plain": [
       "      proportion\n",
       "2014   10.325170\n",
       "2017   10.202092"
      ]
     },
     "execution_count": 81,
     "metadata": {},
     "output_type": "execute_result"
    }
   ],
   "source": [
    "#Calculating the sum of the population by year.\n",
    "undernourished_proportion = pop_data.groupby(['year'])[['population', 'u_population']].sum()\n",
    "\n",
    "# Calculating the undernourished_proportion for the range year from 2014 to 2017.\n",
    "undernourished_proportion = 100 * undernourished_proportion.u_population/undernourished_proportion.population\n",
    "\n",
    "# Preparing the results\n",
    "undernourished = pd.DataFrame({'proportion':undernourished_proportion}, [2014, 2017])\n",
    "# Results\n",
    "undernourished"
   ]
  },
  {
   "cell_type": "markdown",
   "metadata": {
    "pycharm": {
     "name": "#%% md\n"
    }
   },
   "source": [
    "**5. Considering the 25 items most exported by the countries with a high rate of undernutrition, which three of them:**\n",
    "    1 Have the greatest other_uses_non_food to domestic_supply_quantity ratio and what are they used for?\n",
    "    2 Have the greatest feed to (food+feed) ratio and what are they used for?\n"
   ]
  },
  {
   "cell_type": "markdown",
   "metadata": {
    "collapsed": false,
    "pycharm": {
     "name": "#%% md\n"
    }
   },
   "source": [
    "*1 Have the greatest feed to (food+feed) ratio and what are they used for?*"
   ]
  },
  {
   "cell_type": "code",
   "execution_count": 82,
   "metadata": {
    "pycharm": {
     "name": "#%%\n"
    }
   },
   "outputs": [
    {
     "data": {
      "text/html": [
       "<div>\n",
       "<style scoped>\n",
       "    .dataframe tbody tr th:only-of-type {\n",
       "        vertical-align: middle;\n",
       "    }\n",
       "\n",
       "    .dataframe tbody tr th {\n",
       "        vertical-align: top;\n",
       "    }\n",
       "\n",
       "    .dataframe thead th {\n",
       "        text-align: right;\n",
       "    }\n",
       "</style>\n",
       "<table border=\"1\" class=\"dataframe\">\n",
       "  <thead>\n",
       "    <tr style=\"text-align: right;\">\n",
       "      <th></th>\n",
       "      <th>country</th>\n",
       "      <th>item</th>\n",
       "      <th>year</th>\n",
       "      <th>other_uses_non_food</th>\n",
       "      <th>domestic_supply_quantity</th>\n",
       "      <th>ratio</th>\n",
       "    </tr>\n",
       "  </thead>\n",
       "  <tbody>\n",
       "    <tr>\n",
       "      <th>0</th>\n",
       "      <td>Egypt</td>\n",
       "      <td>Cassava and products</td>\n",
       "      <td>2014</td>\n",
       "      <td>2.0</td>\n",
       "      <td>1.0</td>\n",
       "      <td>2.000000</td>\n",
       "    </tr>\n",
       "    <tr>\n",
       "      <th>1</th>\n",
       "      <td>China, Taiwan Province of</td>\n",
       "      <td>Cassava and products</td>\n",
       "      <td>2014</td>\n",
       "      <td>337.0</td>\n",
       "      <td>308.0</td>\n",
       "      <td>1.094156</td>\n",
       "    </tr>\n",
       "    <tr>\n",
       "      <th>2</th>\n",
       "      <td>Italy</td>\n",
       "      <td>Cassava and products</td>\n",
       "      <td>2014</td>\n",
       "      <td>2.0</td>\n",
       "      <td>2.0</td>\n",
       "      <td>1.000000</td>\n",
       "    </tr>\n",
       "    <tr>\n",
       "      <th>3</th>\n",
       "      <td>Spain</td>\n",
       "      <td>Sweeteners, Other</td>\n",
       "      <td>2017</td>\n",
       "      <td>123.0</td>\n",
       "      <td>28.0</td>\n",
       "      <td>4.392857</td>\n",
       "    </tr>\n",
       "    <tr>\n",
       "      <th>4</th>\n",
       "      <td>Malaysia</td>\n",
       "      <td>Sweeteners, Other</td>\n",
       "      <td>2017</td>\n",
       "      <td>58.0</td>\n",
       "      <td>22.0</td>\n",
       "      <td>2.636364</td>\n",
       "    </tr>\n",
       "    <tr>\n",
       "      <th>5</th>\n",
       "      <td>United Arab Emirates</td>\n",
       "      <td>Cocoa Beans and products</td>\n",
       "      <td>2017</td>\n",
       "      <td>5.0</td>\n",
       "      <td>2.0</td>\n",
       "      <td>2.500000</td>\n",
       "    </tr>\n",
       "  </tbody>\n",
       "</table>\n",
       "</div>"
      ],
      "text/plain": [
       "                     country                      item  year  \\\n",
       "0                      Egypt      Cassava and products  2014   \n",
       "1  China, Taiwan Province of      Cassava and products  2014   \n",
       "2                      Italy      Cassava and products  2014   \n",
       "3                      Spain         Sweeteners, Other  2017   \n",
       "4                   Malaysia         Sweeteners, Other  2017   \n",
       "5       United Arab Emirates  Cocoa Beans and products  2017   \n",
       "\n",
       "   other_uses_non_food  domestic_supply_quantity     ratio  \n",
       "0                  2.0                       1.0  2.000000  \n",
       "1                337.0                     308.0  1.094156  \n",
       "2                  2.0                       2.0  1.000000  \n",
       "3                123.0                      28.0  4.392857  \n",
       "4                 58.0                      22.0  2.636364  \n",
       "5                  5.0                       2.0  2.500000  "
      ]
     },
     "execution_count": 82,
     "metadata": {},
     "output_type": "execute_result"
    }
   ],
   "source": [
    "\n",
    "# Create ratio nbsp 2014 based on the most exported items with the selected columns.\n",
    "ratio_nbsp_2014 = data[data.year == 2014]\n",
    "ratio_nbsp_2014 = ratio_nbsp_2014[ratio_nbsp_2014.item.isin(most_exported_items_2014)].groupby(['country', 'item', 'year'], as_index = False)[['other_uses_non_food', 'domestic_supply_quantity']].sum()\n",
    "\n",
    "#Mask safe division\n",
    "safe_div_mask = ratio_nbsp_2014.domestic_supply_quantity != 0\n",
    "\n",
    "# Calculating the proportion of the most exported items in the other uses non food, ratio nbsp 2014 related to domestic supply quantity.\n",
    "ratio_nbsp_2014.loc[safe_div_mask,'ratio'] = ratio_nbsp_2014.loc[safe_div_mask, 'other_uses_non_food'] / ratio_nbsp_2014.loc[safe_div_mask, 'domestic_supply_quantity']\n",
    "ratio_nbsp_2014.ratio = ratio_nbsp_2014.ratio.fillna(0)\n",
    "ratio_nbsp_2014 = ratio_nbsp_2014.sort_values(by = ['ratio'], ascending = False).head(3)\n",
    "\n",
    "# Create ratio nbsp 2017 based on the most exported items with the selected columns.\n",
    "ratio_nbsp_2017 = data[data.year == 2017]\n",
    "ratio_nbsp_2017 = ratio_nbsp_2017[ratio_nbsp_2017.item.isin(most_exported_items_2017)].groupby(['country', 'item', 'year'], as_index = False)[['other_uses_non_food', 'domestic_supply_quantity']].sum()\n",
    "\n",
    "#Mask safe division\n",
    "safe_div_mask = ratio_nbsp_2017.domestic_supply_quantity != 0\n",
    "\n",
    "# Calculating the proportion of the most exported items in the other uses non food, ratio nbsp 2017 related to domestic supply quantity.\n",
    "ratio_nbsp_2017.loc[safe_div_mask,'ratio'] = ratio_nbsp_2017.loc[safe_div_mask, 'other_uses_non_food'] / ratio_nbsp_2017.loc[safe_div_mask, 'domestic_supply_quantity']\n",
    "ratio_nbsp_2017.ratio = ratio_nbsp_2017.ratio.fillna(0)\n",
    "ratio_nbsp_2017 = ratio_nbsp_2017.sort_values(by = ['ratio'], ascending = False).head(3)\n",
    "\n",
    "# Preparing the results\n",
    "results = pd.concat([ratio_nbsp_2014, ratio_nbsp_2017]).reset_index(drop= True)\n",
    "\n",
    "results"
   ]
  },
  {
   "cell_type": "markdown",
   "metadata": {
    "collapsed": false,
    "pycharm": {
     "name": "#%% md\n"
    }
   },
   "source": [
    "*2 Have the greatest feed to (food+feed) ratio and what are they used for?*"
   ]
  },
  {
   "cell_type": "code",
   "execution_count": 83,
   "metadata": {
    "collapsed": false,
    "pycharm": {
     "name": "#%%\n"
    }
   },
   "outputs": [
    {
     "data": {
      "text/html": [
       "<div>\n",
       "<style scoped>\n",
       "    .dataframe tbody tr th:only-of-type {\n",
       "        vertical-align: middle;\n",
       "    }\n",
       "\n",
       "    .dataframe tbody tr th {\n",
       "        vertical-align: top;\n",
       "    }\n",
       "\n",
       "    .dataframe thead th {\n",
       "        text-align: right;\n",
       "    }\n",
       "</style>\n",
       "<table border=\"1\" class=\"dataframe\">\n",
       "  <thead>\n",
       "    <tr style=\"text-align: right;\">\n",
       "      <th></th>\n",
       "      <th>country</th>\n",
       "      <th>item</th>\n",
       "      <th>year</th>\n",
       "      <th>food</th>\n",
       "      <th>feed</th>\n",
       "      <th>ratio</th>\n",
       "    </tr>\n",
       "  </thead>\n",
       "  <tbody>\n",
       "    <tr>\n",
       "      <th>0</th>\n",
       "      <td>Italy</td>\n",
       "      <td>Cassava and products</td>\n",
       "      <td>2014</td>\n",
       "      <td>0.0</td>\n",
       "      <td>1.0</td>\n",
       "      <td>1.0</td>\n",
       "    </tr>\n",
       "    <tr>\n",
       "      <th>1</th>\n",
       "      <td>Venezuela (Bolivarian Republic of)</td>\n",
       "      <td>Soyabeans</td>\n",
       "      <td>2014</td>\n",
       "      <td>0.0</td>\n",
       "      <td>54.0</td>\n",
       "      <td>1.0</td>\n",
       "    </tr>\n",
       "    <tr>\n",
       "      <th>2</th>\n",
       "      <td>Tajikistan</td>\n",
       "      <td>Soyabeans</td>\n",
       "      <td>2014</td>\n",
       "      <td>0.0</td>\n",
       "      <td>2.0</td>\n",
       "      <td>1.0</td>\n",
       "    </tr>\n",
       "    <tr>\n",
       "      <th>3</th>\n",
       "      <td>Benin</td>\n",
       "      <td>Soyabeans</td>\n",
       "      <td>2017</td>\n",
       "      <td>0.0</td>\n",
       "      <td>2.0</td>\n",
       "      <td>1.0</td>\n",
       "    </tr>\n",
       "    <tr>\n",
       "      <th>4</th>\n",
       "      <td>Sri Lanka</td>\n",
       "      <td>Soyabeans</td>\n",
       "      <td>2017</td>\n",
       "      <td>0.0</td>\n",
       "      <td>1.0</td>\n",
       "      <td>1.0</td>\n",
       "    </tr>\n",
       "    <tr>\n",
       "      <th>5</th>\n",
       "      <td>Turkey</td>\n",
       "      <td>Cassava and products</td>\n",
       "      <td>2017</td>\n",
       "      <td>0.0</td>\n",
       "      <td>259.0</td>\n",
       "      <td>1.0</td>\n",
       "    </tr>\n",
       "  </tbody>\n",
       "</table>\n",
       "</div>"
      ],
      "text/plain": [
       "                              country                  item  year  food  \\\n",
       "0                               Italy  Cassava and products  2014   0.0   \n",
       "1  Venezuela (Bolivarian Republic of)             Soyabeans  2014   0.0   \n",
       "2                          Tajikistan             Soyabeans  2014   0.0   \n",
       "3                               Benin             Soyabeans  2017   0.0   \n",
       "4                           Sri Lanka             Soyabeans  2017   0.0   \n",
       "5                              Turkey  Cassava and products  2017   0.0   \n",
       "\n",
       "    feed  ratio  \n",
       "0    1.0    1.0  \n",
       "1   54.0    1.0  \n",
       "2    2.0    1.0  \n",
       "3    2.0    1.0  \n",
       "4    1.0    1.0  \n",
       "5  259.0    1.0  "
      ]
     },
     "execution_count": 83,
     "metadata": {},
     "output_type": "execute_result"
    }
   ],
   "source": [
    "# Create ratio feed food nbsp 2014 based on the most exported items with the selected columns.\n",
    "ratio_feed_food_nbsp_2014 = data[data.year == 2014]\n",
    "ratio_feed_food_nbsp_2014 = ratio_feed_food_nbsp_2014[ratio_feed_food_nbsp_2014.item.isin(most_exported_items_2014)].groupby(['country', 'item', 'year'], as_index = False)[['food', 'feed']].sum()\n",
    "\n",
    "#Mask safe division\n",
    "safe_div_mask = (ratio_feed_food_nbsp_2014.food + ratio_feed_food_nbsp_2014.feed) != 0\n",
    "\n",
    "# Calculating the proportion of the most exported items in the other uses non food, ratio feed food nbsp 2014 related to domestic supply quantity.\n",
    "ratio_feed_food_nbsp_2014.loc[safe_div_mask,'ratio'] = ratio_feed_food_nbsp_2014.loc[safe_div_mask, 'feed'] / (ratio_feed_food_nbsp_2014.loc[safe_div_mask, 'feed'] + ratio_feed_food_nbsp_2014.loc[safe_div_mask, 'food'])\n",
    "ratio_feed_food_nbsp_2014.ratio = ratio_feed_food_nbsp_2014.ratio.fillna(0)\n",
    "ratio_feed_food_nbsp_2014 = ratio_feed_food_nbsp_2014.sort_values(by = ['ratio'], ascending = False).head(3)\n",
    "\n",
    "ratio_feed_food_nbsp_2017 = data[data.year == 2017]\n",
    "ratio_feed_food_nbsp_2017 = ratio_feed_food_nbsp_2017[ratio_feed_food_nbsp_2017.item.isin(most_exported_items_2017)].groupby(['country', 'item', 'year'], as_index = False)[['food', 'feed']].sum()\n",
    "\n",
    "#Mask safe division\n",
    "safe_div_mask = (ratio_feed_food_nbsp_2017.food + ratio_feed_food_nbsp_2017.feed) != 0\n",
    "\n",
    "# Calculating the proportion of the most exported items in the other uses non food, ratio nbsp 2017 related to domestic supply quantity.\n",
    "ratio_feed_food_nbsp_2017.loc[safe_div_mask,'ratio'] = ratio_feed_food_nbsp_2017.loc[safe_div_mask, 'feed'] / (ratio_feed_food_nbsp_2017.loc[safe_div_mask, 'feed'] + ratio_feed_food_nbsp_2017.loc[safe_div_mask, 'food'])\n",
    "ratio_feed_food_nbsp_2017.ratio = ratio_feed_food_nbsp_2017.ratio.fillna(0)\n",
    "ratio_feed_food_nbsp_2017 = ratio_feed_food_nbsp_2017.sort_values(by = ['ratio'], ascending = False).head(3)\n",
    "\n",
    "# Concatenating the two dataframes\n",
    "results = pd.concat([ratio_feed_food_nbsp_2014, ratio_feed_food_nbsp_2017]).reset_index(drop=True)\n",
    "\n",
    "results"
   ]
  },
  {
   "cell_type": "markdown",
   "metadata": {
    "pycharm": {
     "name": "#%% md\n"
    }
   },
   "source": [
    "**6. Taking only grains (cereals) for food and feed into account, what proportion (in terms of weight) is used for feed?**"
   ]
  },
  {
   "cell_type": "code",
   "execution_count": 84,
   "metadata": {
    "pycharm": {
     "name": "#%%\n"
    }
   },
   "outputs": [
    {
     "data": {
      "text/html": [
       "<div>\n",
       "<style scoped>\n",
       "    .dataframe tbody tr th:only-of-type {\n",
       "        vertical-align: middle;\n",
       "    }\n",
       "\n",
       "    .dataframe tbody tr th {\n",
       "        vertical-align: top;\n",
       "    }\n",
       "\n",
       "    .dataframe thead th {\n",
       "        text-align: right;\n",
       "    }\n",
       "</style>\n",
       "<table border=\"1\" class=\"dataframe\">\n",
       "  <thead>\n",
       "    <tr style=\"text-align: right;\">\n",
       "      <th></th>\n",
       "      <th>year</th>\n",
       "      <th>percentage</th>\n",
       "    </tr>\n",
       "  </thead>\n",
       "  <tbody>\n",
       "    <tr>\n",
       "      <th>0</th>\n",
       "      <td>2014</td>\n",
       "      <td>43.0</td>\n",
       "    </tr>\n",
       "    <tr>\n",
       "      <th>1</th>\n",
       "      <td>2017</td>\n",
       "      <td>44.0</td>\n",
       "    </tr>\n",
       "  </tbody>\n",
       "</table>\n",
       "</div>"
      ],
      "text/plain": [
       "   year  percentage\n",
       "0  2014        43.0\n",
       "1  2017        44.0"
      ]
     },
     "execution_count": 84,
     "metadata": {},
     "output_type": "execute_result"
    }
   ],
   "source": [
    "# Creating only cereal columns on the all food and animal data set.\n",
    "cereals_data = pd.read_csv(\"../data/latest_v3/cereals.csv\")\n",
    "cereals = cereals_data['Item'].unique()\n",
    "cereals\n",
    "\n",
    "#Selecting items and food and feed columns cereals only\n",
    "only_cereal = data[data['item'].isin(cereals)].groupby(['year'], as_index = False)[['food', 'feed']].sum()\n",
    "\n",
    "#Mask safe division\n",
    "safe_div_mask = (only_cereal[\"food\"]+ only_cereal[\"feed\"]) != 0\n",
    "\n",
    "# Preparing the results food and feed proportion ass percentage\n",
    "only_cereal.loc[safe_div_mask,'percentage'] = round(100*only_cereal.loc[safe_div_mask, 'feed']/(only_cereal.loc[safe_div_mask, 'food'] + only_cereal.loc[safe_div_mask, 'feed']))\n",
    "only_cereal[['year', 'percentage']]"
   ]
  },
  {
   "cell_type": "markdown",
   "metadata": {
    "pycharm": {
     "name": "#%% md\n"
    }
   },
   "source": [
    "**7. How many tons of grains (cereals) could be released if the US reduced its production of animal products by 10%?\n",
    "Convert this quantity to kcal, and the number of potentially fed humans.**"
   ]
  },
  {
   "cell_type": "code",
   "execution_count": 85,
   "metadata": {
    "pycharm": {
     "name": "#%%\n"
    }
   },
   "outputs": [
    {
     "data": {
      "text/html": [
       "<div>\n",
       "<style scoped>\n",
       "    .dataframe tbody tr th:only-of-type {\n",
       "        vertical-align: middle;\n",
       "    }\n",
       "\n",
       "    .dataframe tbody tr th {\n",
       "        vertical-align: top;\n",
       "    }\n",
       "\n",
       "    .dataframe thead th {\n",
       "        text-align: right;\n",
       "    }\n",
       "</style>\n",
       "<table border=\"1\" class=\"dataframe\">\n",
       "  <thead>\n",
       "    <tr style=\"text-align: right;\">\n",
       "      <th></th>\n",
       "      <th>10%_feed_kg</th>\n",
       "      <th>10%_feed_kcal</th>\n",
       "      <th>potential_humans_fed</th>\n",
       "    </tr>\n",
       "  </thead>\n",
       "  <tbody>\n",
       "    <tr>\n",
       "      <th>0</th>\n",
       "      <td>14042400.0</td>\n",
       "      <td>3.915597e+10</td>\n",
       "      <td>15662387.0</td>\n",
       "    </tr>\n",
       "  </tbody>\n",
       "</table>\n",
       "</div>"
      ],
      "text/plain": [
       "   10%_feed_kg  10%_feed_kcal  potential_humans_fed\n",
       "0   14042400.0   3.915597e+10            15662387.0"
      ]
     },
     "execution_count": 85,
     "metadata": {},
     "output_type": "execute_result"
    }
   ],
   "source": [
    "# Creating USA cereal only data set for the last year in this case 2017.\n",
    "USA_Cereals_data = data[data.item.isin(cereals)]\n",
    "USA_Cereals_data = USA_Cereals_data[USA_Cereals_data.country == 'United States of America']\n",
    "USA_Cereals_data = USA_Cereals_data[USA_Cereals_data.year == 2017]\n",
    "\n",
    "# Calculating the total USA cereals feed of 10% in kg.\n",
    "USA_Cereals_dataa = USA_Cereals_data.feed.sum()*1000*0.1\n",
    "\n",
    "# Calculating the total USA cereals feed of 10% in kcal.\n",
    "USA_Cereals_datab = round((USA_Cereals_data.feed*1000*0.1  * USA_Cereals_data.ratio_kcalkg).sum(), 0)\n",
    "\n",
    "# Calculating the total of feed Humans energy with the USA cereals only.\n",
    "USA_Cereals_datac = round(USA_Cereals_datab/NB_KCAL_PER_CAPITA_PER_DAY, 0)\n",
    "\n",
    "#Preparing the results.\n",
    "results = pd.DataFrame(np.array([[USA_Cereals_dataa, USA_Cereals_datab, USA_Cereals_datac]]), columns=['10%_feed_kg', '10%_feed_kcal', 'potential_humans_fed'])\n",
    "results"
   ]
  },
  {
   "cell_type": "markdown",
   "metadata": {
    "pycharm": {
     "name": "#%% md\n"
    }
   },
   "source": [
    "**8. In Thailand, what proportion of cassava is exported? What is the proportion of undernutrition?**"
   ]
  },
  {
   "cell_type": "code",
   "execution_count": 86,
   "metadata": {
    "pycharm": {
     "name": "#%%\n"
    }
   },
   "outputs": [
    {
     "data": {
      "text/html": [
       "<div>\n",
       "<style scoped>\n",
       "    .dataframe tbody tr th:only-of-type {\n",
       "        vertical-align: middle;\n",
       "    }\n",
       "\n",
       "    .dataframe tbody tr th {\n",
       "        vertical-align: top;\n",
       "    }\n",
       "\n",
       "    .dataframe thead th {\n",
       "        text-align: right;\n",
       "    }\n",
       "</style>\n",
       "<table border=\"1\" class=\"dataframe\">\n",
       "  <thead>\n",
       "    <tr style=\"text-align: right;\">\n",
       "      <th></th>\n",
       "      <th>country</th>\n",
       "      <th>item</th>\n",
       "      <th>proportion_exported_quantity</th>\n",
       "      <th>u_percentage</th>\n",
       "    </tr>\n",
       "    <tr>\n",
       "      <th>year</th>\n",
       "      <th></th>\n",
       "      <th></th>\n",
       "      <th></th>\n",
       "      <th></th>\n",
       "    </tr>\n",
       "  </thead>\n",
       "  <tbody>\n",
       "    <tr>\n",
       "      <th>2014</th>\n",
       "      <td>Thailand</td>\n",
       "      <td>Cassava and products</td>\n",
       "      <td>25.425589</td>\n",
       "      <td>8.036383</td>\n",
       "    </tr>\n",
       "    <tr>\n",
       "      <th>2017</th>\n",
       "      <td>Thailand</td>\n",
       "      <td>Cassava and products</td>\n",
       "      <td>28.882315</td>\n",
       "      <td>7.802362</td>\n",
       "    </tr>\n",
       "  </tbody>\n",
       "</table>\n",
       "</div>"
      ],
      "text/plain": [
       "       country                  item  proportion_exported_quantity  \\\n",
       "year                                                                 \n",
       "2014  Thailand  Cassava and products                     25.425589   \n",
       "2017  Thailand  Cassava and products                     28.882315   \n",
       "\n",
       "      u_percentage  \n",
       "year                \n",
       "2014      8.036383  \n",
       "2017      7.802362  "
      ]
     },
     "execution_count": 86,
     "metadata": {},
     "output_type": "execute_result"
    }
   ],
   "source": [
    "# Creating Thailand vegetables data set.\n",
    "thai_vegetables_data = data[data.country == 'Thailand']\n",
    "\n",
    "# Filtering Cassava Products from Thailand vegetables.\n",
    "thai_vegetables_data = thai_vegetables_data[thai_vegetables_data.item == 'Cassava and products']\n",
    "\n",
    "# Selecting the need columns.\n",
    "thai_vegetables_data = thai_vegetables_data[['year','country','item','domestic_supply_quantity', 'export_quantity', 'feed', 'food', 'import_quantity', 'losses',\n",
    "         'other_uses_non_food', 'processing', 'production', 'seed', 'stock_variation', 'u_percentage']]\n",
    "\n",
    "# Calculating the proportion of Cassava production export.\n",
    "thai_vegetables_data['proportion_exported_quantity'] = 100*(thai_vegetables_data['feed'] + thai_vegetables_data['food'] + thai_vegetables_data['losses'] + thai_vegetables_data['other_uses_non_food'])/thai_vegetables_data['export_quantity']\n",
    "thai_vegetables_data[['year','country','item','proportion_exported_quantity', 'u_percentage']].set_index('year')\n"
   ]
  }
 ],
 "metadata": {
  "kernelspec": {
   "display_name": "Python 3",
   "language": "python",
   "name": "python3"
  },
  "language_info": {
   "codemirror_mode": {
    "name": "ipython",
    "version": 3
   },
   "file_extension": ".py",
   "mimetype": "text/x-python",
   "name": "python",
   "nbconvert_exporter": "python",
   "pygments_lexer": "ipython3",
   "version": "3.10.9"
  }
 },
 "nbformat": 4,
 "nbformat_minor": 1
}
