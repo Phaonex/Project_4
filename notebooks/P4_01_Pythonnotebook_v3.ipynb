{
 "cells": [
  {
   "cell_type": "markdown",
   "metadata": {
    "pycharm": {
     "name": "#%% md\n"
    }
   },
   "source": [
    "## Task 2"
   ]
  },
  {
   "cell_type": "code",
   "execution_count": 25,
   "metadata": {
    "pycharm": {
     "name": "#%%\n"
    }
   },
   "outputs": [],
   "source": [
    "import numpy as np\n",
    "import pandas as pd\n",
    "import seaborn as sns\n",
    "import warnings\n",
    "warnings.filterwarnings('ignore')"
   ]
  },
  {
   "cell_type": "markdown",
   "metadata": {
    "pycharm": {
     "name": "#%% md\n"
    }
   },
   "source": [
    "**Primary keys for each table**\n",
    "- Total population:   _Area Code_ & _Year Code_\n",
    "- Animal products:    _Area Code_ & _Item Code_ & _Element_ & _Year Code_\n",
    "- Vegetal products:   _Area Code_ & _Item Code_ & _Element_ & _Year Code_\n",
    "- Cereals: _Item Code_\n",
    "- People undernourished: _Area Code_ & _Year Code_\n",
    "\n",
    "Or simply an auto-generated id."
   ]
  },
  {
   "cell_type": "markdown",
   "metadata": {
    "pycharm": {
     "name": "#%% md\n"
    }
   },
   "source": [
    "After checking the **\"Definition and standards\"** section on the FAO website, we realised some elements are redundant.\n",
    "\n",
    "We learned that:\n",
    "      \n",
    "      \n",
    "    Production + Import Quantity - Export Quantity - Stock Variation = Domestic supply quantity  =  \n",
    "    = Feed + Seed + Losses + Processing + Other uses (non-food) + Residuals + Food \n",
    "\n",
    "To illustrate this, we have taken the example of _Wheat and Products_ in France:\n",
    "\n",
    "\n",
    "    38950 + 2394  -(-1209) - 22226 = 20327 = 7524 + 770 + 359 + 1788 + 2851 + 0 + 7035 \n",
    "        \n",
    "We conclude that the _Domestic supply quantity_ column is redundant. (Obviously, there are also a few descriptive columns like _Domain Code_ , _Domain_ , _Flag_ that are also considered redundant to our study)"
   ]
  },
  {
   "cell_type": "code",
   "execution_count": 26,
   "metadata": {
    "pycharm": {
     "name": "#%%\n"
    }
   },
   "outputs": [
    {
     "data": {
      "text/plain": "      Area                   Element                Item    Value\n0   France                Production  Wheat and products  38950.0\n1   France           Import Quantity  Wheat and products   2394.0\n2   France           Stock Variation  Wheat and products  -1209.0\n3   France           Export Quantity  Wheat and products  22226.0\n4   France  Domestic supply quantity  Wheat and products  20327.0\n5   France                      Feed  Wheat and products   7524.0\n6   France                      Seed  Wheat and products    770.0\n7   France                    Losses  Wheat and products    359.0\n8   France                Processing  Wheat and products   1788.0\n9   France     Other uses (non-food)  Wheat and products   2851.0\n10  France                 Residuals  Wheat and products      0.0\n11  France                      Food  Wheat and products   7035.0",
      "text/html": "<div>\n<style scoped>\n    .dataframe tbody tr th:only-of-type {\n        vertical-align: middle;\n    }\n\n    .dataframe tbody tr th {\n        vertical-align: top;\n    }\n\n    .dataframe thead th {\n        text-align: right;\n    }\n</style>\n<table border=\"1\" class=\"dataframe\">\n  <thead>\n    <tr style=\"text-align: right;\">\n      <th></th>\n      <th>Area</th>\n      <th>Element</th>\n      <th>Item</th>\n      <th>Value</th>\n    </tr>\n  </thead>\n  <tbody>\n    <tr>\n      <th>0</th>\n      <td>France</td>\n      <td>Production</td>\n      <td>Wheat and products</td>\n      <td>38950.0</td>\n    </tr>\n    <tr>\n      <th>1</th>\n      <td>France</td>\n      <td>Import Quantity</td>\n      <td>Wheat and products</td>\n      <td>2394.0</td>\n    </tr>\n    <tr>\n      <th>2</th>\n      <td>France</td>\n      <td>Stock Variation</td>\n      <td>Wheat and products</td>\n      <td>-1209.0</td>\n    </tr>\n    <tr>\n      <th>3</th>\n      <td>France</td>\n      <td>Export Quantity</td>\n      <td>Wheat and products</td>\n      <td>22226.0</td>\n    </tr>\n    <tr>\n      <th>4</th>\n      <td>France</td>\n      <td>Domestic supply quantity</td>\n      <td>Wheat and products</td>\n      <td>20327.0</td>\n    </tr>\n    <tr>\n      <th>5</th>\n      <td>France</td>\n      <td>Feed</td>\n      <td>Wheat and products</td>\n      <td>7524.0</td>\n    </tr>\n    <tr>\n      <th>6</th>\n      <td>France</td>\n      <td>Seed</td>\n      <td>Wheat and products</td>\n      <td>770.0</td>\n    </tr>\n    <tr>\n      <th>7</th>\n      <td>France</td>\n      <td>Losses</td>\n      <td>Wheat and products</td>\n      <td>359.0</td>\n    </tr>\n    <tr>\n      <th>8</th>\n      <td>France</td>\n      <td>Processing</td>\n      <td>Wheat and products</td>\n      <td>1788.0</td>\n    </tr>\n    <tr>\n      <th>9</th>\n      <td>France</td>\n      <td>Other uses (non-food)</td>\n      <td>Wheat and products</td>\n      <td>2851.0</td>\n    </tr>\n    <tr>\n      <th>10</th>\n      <td>France</td>\n      <td>Residuals</td>\n      <td>Wheat and products</td>\n      <td>0.0</td>\n    </tr>\n    <tr>\n      <th>11</th>\n      <td>France</td>\n      <td>Food</td>\n      <td>Wheat and products</td>\n      <td>7035.0</td>\n    </tr>\n  </tbody>\n</table>\n</div>"
     },
     "execution_count": 26,
     "metadata": {},
     "output_type": "execute_result"
    }
   ],
   "source": [
    "wheat_france = pd.read_csv(\"../data/latest_v3/veg_prod_2014.csv\")\n",
    "wheat_france = wheat_france[(wheat_france['Area']=='France') & (wheat_france['Item'] == 'Wheat and products')].reset_index()\n",
    "wheat_france[['Area', 'Element', 'Item', 'Value']][:12]"
   ]
  },
  {
   "cell_type": "code",
   "execution_count": 27,
   "metadata": {
    "scrolled": true,
    "pycharm": {
     "name": "#%%\n"
    }
   },
   "outputs": [
    {
     "data": {
      "text/plain": "  Domain Code             Domain  Area Code         Area  Element Code  \\\n0         FBS  New Food Balances          2  Afghanistan           511   \n1         FBS  New Food Balances          2  Afghanistan           511   \n2         FBS  New Food Balances          3      Albania           511   \n3         FBS  New Food Balances          3      Albania           511   \n4         FBS  New Food Balances          4      Algeria           511   \n\n                         Element  Item Code        Item  Year Code  Year  \\\n0  Total Population - Both sexes       2501  Population       2014  2014   \n1  Total Population - Both sexes       2501  Population       2017  2017   \n2  Total Population - Both sexes       2501  Population       2014  2014   \n3  Total Population - Both sexes       2501  Population       2017  2017   \n4  Total Population - Both sexes       2501  Population       2014  2014   \n\n           Unit     Value Flag   Flag Description  \n0  1000 persons  33370.79    S  Standardized data  \n1  1000 persons  36296.11    S  Standardized data  \n2  1000 persons   2896.30    S  Standardized data  \n3  1000 persons   2884.17    S  Standardized data  \n4  1000 persons  38923.69    S  Standardized data  ",
      "text/html": "<div>\n<style scoped>\n    .dataframe tbody tr th:only-of-type {\n        vertical-align: middle;\n    }\n\n    .dataframe tbody tr th {\n        vertical-align: top;\n    }\n\n    .dataframe thead th {\n        text-align: right;\n    }\n</style>\n<table border=\"1\" class=\"dataframe\">\n  <thead>\n    <tr style=\"text-align: right;\">\n      <th></th>\n      <th>Domain Code</th>\n      <th>Domain</th>\n      <th>Area Code</th>\n      <th>Area</th>\n      <th>Element Code</th>\n      <th>Element</th>\n      <th>Item Code</th>\n      <th>Item</th>\n      <th>Year Code</th>\n      <th>Year</th>\n      <th>Unit</th>\n      <th>Value</th>\n      <th>Flag</th>\n      <th>Flag Description</th>\n    </tr>\n  </thead>\n  <tbody>\n    <tr>\n      <th>0</th>\n      <td>FBS</td>\n      <td>New Food Balances</td>\n      <td>2</td>\n      <td>Afghanistan</td>\n      <td>511</td>\n      <td>Total Population - Both sexes</td>\n      <td>2501</td>\n      <td>Population</td>\n      <td>2014</td>\n      <td>2014</td>\n      <td>1000 persons</td>\n      <td>33370.79</td>\n      <td>S</td>\n      <td>Standardized data</td>\n    </tr>\n    <tr>\n      <th>1</th>\n      <td>FBS</td>\n      <td>New Food Balances</td>\n      <td>2</td>\n      <td>Afghanistan</td>\n      <td>511</td>\n      <td>Total Population - Both sexes</td>\n      <td>2501</td>\n      <td>Population</td>\n      <td>2017</td>\n      <td>2017</td>\n      <td>1000 persons</td>\n      <td>36296.11</td>\n      <td>S</td>\n      <td>Standardized data</td>\n    </tr>\n    <tr>\n      <th>2</th>\n      <td>FBS</td>\n      <td>New Food Balances</td>\n      <td>3</td>\n      <td>Albania</td>\n      <td>511</td>\n      <td>Total Population - Both sexes</td>\n      <td>2501</td>\n      <td>Population</td>\n      <td>2014</td>\n      <td>2014</td>\n      <td>1000 persons</td>\n      <td>2896.30</td>\n      <td>S</td>\n      <td>Standardized data</td>\n    </tr>\n    <tr>\n      <th>3</th>\n      <td>FBS</td>\n      <td>New Food Balances</td>\n      <td>3</td>\n      <td>Albania</td>\n      <td>511</td>\n      <td>Total Population - Both sexes</td>\n      <td>2501</td>\n      <td>Population</td>\n      <td>2017</td>\n      <td>2017</td>\n      <td>1000 persons</td>\n      <td>2884.17</td>\n      <td>S</td>\n      <td>Standardized data</td>\n    </tr>\n    <tr>\n      <th>4</th>\n      <td>FBS</td>\n      <td>New Food Balances</td>\n      <td>4</td>\n      <td>Algeria</td>\n      <td>511</td>\n      <td>Total Population - Both sexes</td>\n      <td>2501</td>\n      <td>Population</td>\n      <td>2014</td>\n      <td>2014</td>\n      <td>1000 persons</td>\n      <td>38923.69</td>\n      <td>S</td>\n      <td>Standardized data</td>\n    </tr>\n  </tbody>\n</table>\n</div>"
     },
     "execution_count": 27,
     "metadata": {},
     "output_type": "execute_result"
    }
   ],
   "source": [
    "# Creating our initial population dataframe\n",
    "population_data = pd.read_csv(\"../data/latest_v3/total_population.csv\")\n",
    "population_df = pd.DataFrame(data = population_data)\n",
    "population_df.head()"
   ]
  },
  {
   "cell_type": "markdown",
   "metadata": {
    "pycharm": {
     "name": "#%% md\n"
    }
   },
   "source": [
    "Calculating the world population for 2014 and 2017"
   ]
  },
  {
   "cell_type": "code",
   "execution_count": 28,
   "metadata": {
    "scrolled": false,
    "pycharm": {
     "name": "#%%\n"
    }
   },
   "outputs": [
    {
     "data": {
      "text/plain": "   year  world_population\n0  2014        7089471330\n1  2017        7329868959",
      "text/html": "<div>\n<style scoped>\n    .dataframe tbody tr th:only-of-type {\n        vertical-align: middle;\n    }\n\n    .dataframe tbody tr th {\n        vertical-align: top;\n    }\n\n    .dataframe thead th {\n        text-align: right;\n    }\n</style>\n<table border=\"1\" class=\"dataframe\">\n  <thead>\n    <tr style=\"text-align: right;\">\n      <th></th>\n      <th>year</th>\n      <th>world_population</th>\n    </tr>\n  </thead>\n  <tbody>\n    <tr>\n      <th>0</th>\n      <td>2014</td>\n      <td>7089471330</td>\n    </tr>\n    <tr>\n      <th>1</th>\n      <td>2017</td>\n      <td>7329868959</td>\n    </tr>\n  </tbody>\n</table>\n</div>"
     },
     "execution_count": 28,
     "metadata": {},
     "output_type": "execute_result"
    }
   ],
   "source": [
    "# Creating a dataframe of population that contains both 2014 and 2017 population data\n",
    "# Keeping only the entries that are of the form \"Standardized data\" so as to eliminate duplicate information\n",
    "# e.g. China has both 2 sets of entries: standardized (per regions) and aggregated\n",
    "pop_2014_and_2017 = population_df[population_df['Flag Description'] == 'Standardized data']\n",
    "\n",
    "# Grouping by year\n",
    "pop_2014_and_2017 = pop_2014_and_2017.groupby(['Year'])\n",
    "\n",
    "# Creating an array containing two elememnts, one for 2014 and one for 2017\n",
    "pop_2014_and_2017_array = np.array(pop_2014_and_2017)\n",
    "\n",
    "# Saving the sum over the population data for 2014 and 2017 respectively\n",
    "world_population_2014 = int(1000*pop_2014_and_2017_array[0][1][['Value']].sum())\n",
    "world_population_2017 = int(1000*pop_2014_and_2017_array[1][1][['Value']].sum())\n",
    "\n",
    "# Creating a list with two entries, each entry showing the year and the world population calculated for that year\n",
    "world_population = [[2014, world_population_2014], [2017,world_population_2017]]\n",
    "pd.DataFrame(np.array(world_population), columns = ['year', 'world_population'])"
   ]
  },
  {
   "cell_type": "markdown",
   "metadata": {
    "pycharm": {
     "name": "#%% md\n"
    }
   },
   "source": [
    "  "
   ]
  },
  {
   "cell_type": "markdown",
   "metadata": {
    "pycharm": {
     "name": "#%% md\n"
    }
   },
   "source": [
    "## Task 3"
   ]
  },
  {
   "cell_type": "code",
   "execution_count": 29,
   "metadata": {
    "scrolled": true,
    "pycharm": {
     "name": "#%%\n"
    }
   },
   "outputs": [
    {
     "data": {
      "text/plain": "      country_code country  item_code         item  year   origin  \\\n9162            74   Gabon       2680  Infant food  2014  vegetal   \n\n      domestic_supply_quantity  export_quantity  feed  food  \\\n9162                       2.0              0.0   NaN   2.0   \n\n      food_supply_kcalcapitaday  food_supply_quantity_kgcapitayr  \\\n9162                       11.0                             1.11   \n\n      import_quantity  losses  other_uses  processing  production  \\\n9162              2.0     NaN         NaN         NaN         NaN   \n\n      protein_supply_quantity_gcapitaday  seed  stock_variation  \n9162                                0.46   NaN              0.0  ",
      "text/html": "<div>\n<style scoped>\n    .dataframe tbody tr th:only-of-type {\n        vertical-align: middle;\n    }\n\n    .dataframe tbody tr th {\n        vertical-align: top;\n    }\n\n    .dataframe thead th {\n        text-align: right;\n    }\n</style>\n<table border=\"1\" class=\"dataframe\">\n  <thead>\n    <tr style=\"text-align: right;\">\n      <th></th>\n      <th>country_code</th>\n      <th>country</th>\n      <th>item_code</th>\n      <th>item</th>\n      <th>year</th>\n      <th>origin</th>\n      <th>domestic_supply_quantity</th>\n      <th>export_quantity</th>\n      <th>feed</th>\n      <th>food</th>\n      <th>food_supply_kcalcapitaday</th>\n      <th>food_supply_quantity_kgcapitayr</th>\n      <th>import_quantity</th>\n      <th>losses</th>\n      <th>other_uses</th>\n      <th>processing</th>\n      <th>production</th>\n      <th>protein_supply_quantity_gcapitaday</th>\n      <th>seed</th>\n      <th>stock_variation</th>\n    </tr>\n  </thead>\n  <tbody>\n    <tr>\n      <th>9162</th>\n      <td>74</td>\n      <td>Gabon</td>\n      <td>2680</td>\n      <td>Infant food</td>\n      <td>2014</td>\n      <td>vegetal</td>\n      <td>2.0</td>\n      <td>0.0</td>\n      <td>NaN</td>\n      <td>2.0</td>\n      <td>11.0</td>\n      <td>1.11</td>\n      <td>2.0</td>\n      <td>NaN</td>\n      <td>NaN</td>\n      <td>NaN</td>\n      <td>NaN</td>\n      <td>0.46</td>\n      <td>NaN</td>\n      <td>0.0</td>\n    </tr>\n  </tbody>\n</table>\n</div>"
     },
     "execution_count": 29,
     "metadata": {},
     "output_type": "execute_result"
    }
   ],
   "source": [
    "#FAO Data - Cleaning - Paul\n",
    "# The goal is to format the main dataframe (food balance) to have a column for each element, e.g.\n",
    "# Production, Importation, Domestic supply, Seed, etc.,\n",
    "# This way, the data manipulation will be much easier!\n",
    "\n",
    "\n",
    "# Loads the food balance data\n",
    "veg1 = pd.read_csv(\"../data/latest_v3/veg_prod_2014.csv\")\n",
    "veg2 = pd.read_csv(\"../data/latest_v3/veg_prod_2017.csv\")\n",
    "ani = pd.read_csv(\"../data/latest_v3/animal_products.csv\")\n",
    "veg = veg1.append(veg2)\n",
    "\n",
    "# Adds variable ‘origin’\n",
    "ani[\"origin\"] = \"animal\"\n",
    "veg[\"origin\"] = \"vegetal\"\n",
    "\n",
    "# Appends veg and ani to one dataframe\n",
    "temp = ani.append(veg)\n",
    "\n",
    "#Deletion of ani et veg\n",
    "del ani, veg\n",
    "\n",
    "#Renaming of temp’s columns\n",
    "temp.columns = [\"xx\", \"xx2\", \"country_code\", \"country\", 'xx3', 'element'\n",
    ",'item_code', 'item', 'xx4', \"year\", \"unit\", \"value\", 'xx5', 'xx6'\n",
    ", 'origin']\n",
    "\n",
    "# Transformation of ‘temp’ to a pivot table\n",
    "data = temp.pivot_table(\n",
    "index=[\"country_code\", \"country\", \"item_code\", \"item\", \"year\", \"origin\"],\n",
    "columns = [\"element\"], values=[\"value\"], aggfunc=sum)\n",
    "\n",
    "\n",
    "# Renaming of data’s columns (be careful, the order of the columns needs\n",
    "# to be adapted to your own data !)\n",
    "# Yes, I was, I had to add 'residuals', 'tourist_consumption' and 'fat_supply_quantity_gcapitaday'\n",
    "data.columns = ['domestic_supply_quantity', 'export_quantity', 'fat_supply_quantity_gcapitaday', 'feed',\n",
    "'food', 'food_supply_kcalcapitaday',\n",
    "'food_supply_quantity_kgcapitayr', 'import_quantity', 'losses', 'other_uses',\n",
    "'processing', 'production', 'protein_supply_quantity_gcapitaday',\n",
    "'residuals', 'seed', 'stock_variation', 'tourist_consumption']\n",
    "\n",
    "# Getting rid of the three extra columns post pivotation\n",
    "data = data[['domestic_supply_quantity', 'export_quantity', 'feed',\n",
    "'food', 'food_supply_kcalcapitaday',\n",
    "'food_supply_quantity_kgcapitayr', 'import_quantity', 'losses', 'other_uses',\n",
    "'processing', 'production', 'protein_supply_quantity_gcapitaday',\n",
    " 'seed', 'stock_variation']]\n",
    "\n",
    "\n",
    "#Index columns need to be normal columns\n",
    "data = data.reset_index()\n",
    "data = data[data.country_code != 351]\n",
    "data.sample()"
   ]
  },
  {
   "cell_type": "markdown",
   "metadata": {
    "pycharm": {
     "name": "#%% md\n"
    }
   },
   "source": [
    "  "
   ]
  },
  {
   "cell_type": "markdown",
   "metadata": {
    "pycharm": {
     "name": "#%% md\n"
    }
   },
   "source": [
    "## Task 4"
   ]
  },
  {
   "cell_type": "markdown",
   "metadata": {
    "pycharm": {
     "name": "#%% md\n"
    }
   },
   "source": [
    "To carry out your future study, you’ll need to compute new variables from the one you already have.\n",
    "\n",
    "Here is the list of variables:"
   ]
  },
  {
   "cell_type": "markdown",
   "metadata": {
    "pycharm": {
     "name": "#%% md\n"
    }
   },
   "source": [
    "- **_food_supply_kcal_ and _food_supply_kgprotein_**\n"
   ]
  },
  {
   "cell_type": "code",
   "execution_count": 30,
   "metadata": {
    "scrolled": true,
    "pycharm": {
     "name": "#%%\n"
    }
   },
   "outputs": [
    {
     "data": {
      "text/plain": "       country_code country  item_code         item  year  origin  \\\n21945           170    Peru       2766  Cephalopods  2014  animal   \n\n       food_supply_kcal  food_supply_kgprotein  \n21945      5.491491e+10           1.120264e+07  ",
      "text/html": "<div>\n<style scoped>\n    .dataframe tbody tr th:only-of-type {\n        vertical-align: middle;\n    }\n\n    .dataframe tbody tr th {\n        vertical-align: top;\n    }\n\n    .dataframe thead th {\n        text-align: right;\n    }\n</style>\n<table border=\"1\" class=\"dataframe\">\n  <thead>\n    <tr style=\"text-align: right;\">\n      <th></th>\n      <th>country_code</th>\n      <th>country</th>\n      <th>item_code</th>\n      <th>item</th>\n      <th>year</th>\n      <th>origin</th>\n      <th>food_supply_kcal</th>\n      <th>food_supply_kgprotein</th>\n    </tr>\n  </thead>\n  <tbody>\n    <tr>\n      <th>21945</th>\n      <td>170</td>\n      <td>Peru</td>\n      <td>2766</td>\n      <td>Cephalopods</td>\n      <td>2014</td>\n      <td>animal</td>\n      <td>5.491491e+10</td>\n      <td>1.120264e+07</td>\n    </tr>\n  </tbody>\n</table>\n</div>"
     },
     "execution_count": 30,
     "metadata": {},
     "output_type": "execute_result"
    }
   ],
   "source": [
    "# Creating a lite version of our population_df dataframe\n",
    "pop_data = population_df[['Area Code', 'Area', 'Year', 'Value']]\n",
    "pop_data['Value'] = pop_data['Value']*1000\n",
    "pop_data.columns = ['country_code', 'country', 'year', 'population']\n",
    "\n",
    "# Merging the population dataframe with the global food balance sheet dataframe\n",
    "data1 = pd.merge(data, pop_data, on=['country_code', 'country', 'year'] )\n",
    "\n",
    "# Creating the food_supply_kcal and food_supply_kgprotein columns\n",
    "data1['food_supply_kcal'] = data1['food_supply_kcalcapitaday']*365*data1['population']\n",
    "data1['food_supply_kgprotein'] = (data1['protein_supply_quantity_gcapitaday']*data1['population']*365)/1000\n",
    "\n",
    "data1[['country_code','country','item_code','item','year','origin', 'food_supply_kcal', 'food_supply_kgprotein']].sample()"
   ]
  },
  {
   "cell_type": "markdown",
   "metadata": {
    "pycharm": {
     "name": "#%% md\n"
    }
   },
   "source": [
    "  "
   ]
  },
  {
   "cell_type": "markdown",
   "metadata": {
    "pycharm": {
     "name": "#%% md\n"
    }
   },
   "source": [
    "- **_food_supply_kg_**"
   ]
  },
  {
   "cell_type": "code",
   "execution_count": 31,
   "metadata": {
    "scrolled": true,
    "pycharm": {
     "name": "#%%\n"
    }
   },
   "outputs": [
    {
     "data": {
      "text/plain": "   country_code  country  item_code                 item  year   origin  \\\n0             1  Armenia       2511   Wheat and products  2014  vegetal   \n1             1  Armenia       2513  Barley and products  2014  vegetal   \n2             1  Armenia       2514   Maize and products  2014  vegetal   \n3             1  Armenia       2515     Rye and products  2014  vegetal   \n4             1  Armenia       2516                 Oats  2014  vegetal   \n\n   food_supply_kg  \n0     380000000.0  \n1       3000000.0  \n2      18000000.0  \n3             0.0  \n4       1000000.0  ",
      "text/html": "<div>\n<style scoped>\n    .dataframe tbody tr th:only-of-type {\n        vertical-align: middle;\n    }\n\n    .dataframe tbody tr th {\n        vertical-align: top;\n    }\n\n    .dataframe thead th {\n        text-align: right;\n    }\n</style>\n<table border=\"1\" class=\"dataframe\">\n  <thead>\n    <tr style=\"text-align: right;\">\n      <th></th>\n      <th>country_code</th>\n      <th>country</th>\n      <th>item_code</th>\n      <th>item</th>\n      <th>year</th>\n      <th>origin</th>\n      <th>food_supply_kg</th>\n    </tr>\n  </thead>\n  <tbody>\n    <tr>\n      <th>0</th>\n      <td>1</td>\n      <td>Armenia</td>\n      <td>2511</td>\n      <td>Wheat and products</td>\n      <td>2014</td>\n      <td>vegetal</td>\n      <td>380000000.0</td>\n    </tr>\n    <tr>\n      <th>1</th>\n      <td>1</td>\n      <td>Armenia</td>\n      <td>2513</td>\n      <td>Barley and products</td>\n      <td>2014</td>\n      <td>vegetal</td>\n      <td>3000000.0</td>\n    </tr>\n    <tr>\n      <th>2</th>\n      <td>1</td>\n      <td>Armenia</td>\n      <td>2514</td>\n      <td>Maize and products</td>\n      <td>2014</td>\n      <td>vegetal</td>\n      <td>18000000.0</td>\n    </tr>\n    <tr>\n      <th>3</th>\n      <td>1</td>\n      <td>Armenia</td>\n      <td>2515</td>\n      <td>Rye and products</td>\n      <td>2014</td>\n      <td>vegetal</td>\n      <td>0.0</td>\n    </tr>\n    <tr>\n      <th>4</th>\n      <td>1</td>\n      <td>Armenia</td>\n      <td>2516</td>\n      <td>Oats</td>\n      <td>2014</td>\n      <td>vegetal</td>\n      <td>1000000.0</td>\n    </tr>\n  </tbody>\n</table>\n</div>"
     },
     "execution_count": 31,
     "metadata": {},
     "output_type": "execute_result"
    }
   ],
   "source": [
    "# Creating the food_supply_kg column\n",
    "data1['food_supply_kg'] = data1['food']*(10**6)\n",
    "\n",
    "data1[['country_code','country','item_code','item','year','origin', 'food_supply_kg']].head()"
   ]
  },
  {
   "cell_type": "markdown",
   "metadata": {
    "pycharm": {
     "name": "#%% md\n"
    }
   },
   "source": [
    "  "
   ]
  },
  {
   "cell_type": "markdown",
   "metadata": {
    "pycharm": {
     "name": "#%% md\n"
    }
   },
   "source": [
    "- **_ratio_kcalkg_ and _protein_percentage_**"
   ]
  },
  {
   "cell_type": "code",
   "execution_count": 32,
   "metadata": {
    "scrolled": true,
    "pycharm": {
     "name": "#%%\n"
    }
   },
   "outputs": [
    {
     "data": {
      "text/plain": "   country_code  country  item_code                   item  year   origin  \\\n0             1  Armenia       2511     Wheat and products  2014  vegetal   \n1             1  Armenia       2513    Barley and products  2014  vegetal   \n2             1  Armenia       2514     Maize and products  2014  vegetal   \n3             1  Armenia       2515       Rye and products  2014  vegetal   \n4             1  Armenia       2516                   Oats  2014  vegetal   \n5             1  Armenia       2517    Millet and products  2014  vegetal   \n6             1  Armenia       2518   Sorghum and products  2014  vegetal   \n7             1  Armenia       2520         Cereals, Other  2014  vegetal   \n8             1  Armenia       2531  Potatoes and products  2014  vegetal   \n9             1  Armenia       2532   Cassava and products  2014  vegetal   \n\n   ratio_kcalkg  protein_percentage  \n0   2906.546859            8.666489  \n1   2834.745733            9.567267  \n2   3543.432167           18.543962  \n3           NaN                 NaN  \n4   5315.148250           20.197563  \n5           NaN                 NaN  \n6           NaN                 NaN  \n7   3189.088950            8.656099  \n8    685.258783            1.598937  \n9           NaN                 NaN  ",
      "text/html": "<div>\n<style scoped>\n    .dataframe tbody tr th:only-of-type {\n        vertical-align: middle;\n    }\n\n    .dataframe tbody tr th {\n        vertical-align: top;\n    }\n\n    .dataframe thead th {\n        text-align: right;\n    }\n</style>\n<table border=\"1\" class=\"dataframe\">\n  <thead>\n    <tr style=\"text-align: right;\">\n      <th></th>\n      <th>country_code</th>\n      <th>country</th>\n      <th>item_code</th>\n      <th>item</th>\n      <th>year</th>\n      <th>origin</th>\n      <th>ratio_kcalkg</th>\n      <th>protein_percentage</th>\n    </tr>\n  </thead>\n  <tbody>\n    <tr>\n      <th>0</th>\n      <td>1</td>\n      <td>Armenia</td>\n      <td>2511</td>\n      <td>Wheat and products</td>\n      <td>2014</td>\n      <td>vegetal</td>\n      <td>2906.546859</td>\n      <td>8.666489</td>\n    </tr>\n    <tr>\n      <th>1</th>\n      <td>1</td>\n      <td>Armenia</td>\n      <td>2513</td>\n      <td>Barley and products</td>\n      <td>2014</td>\n      <td>vegetal</td>\n      <td>2834.745733</td>\n      <td>9.567267</td>\n    </tr>\n    <tr>\n      <th>2</th>\n      <td>1</td>\n      <td>Armenia</td>\n      <td>2514</td>\n      <td>Maize and products</td>\n      <td>2014</td>\n      <td>vegetal</td>\n      <td>3543.432167</td>\n      <td>18.543962</td>\n    </tr>\n    <tr>\n      <th>3</th>\n      <td>1</td>\n      <td>Armenia</td>\n      <td>2515</td>\n      <td>Rye and products</td>\n      <td>2014</td>\n      <td>vegetal</td>\n      <td>NaN</td>\n      <td>NaN</td>\n    </tr>\n    <tr>\n      <th>4</th>\n      <td>1</td>\n      <td>Armenia</td>\n      <td>2516</td>\n      <td>Oats</td>\n      <td>2014</td>\n      <td>vegetal</td>\n      <td>5315.148250</td>\n      <td>20.197563</td>\n    </tr>\n    <tr>\n      <th>5</th>\n      <td>1</td>\n      <td>Armenia</td>\n      <td>2517</td>\n      <td>Millet and products</td>\n      <td>2014</td>\n      <td>vegetal</td>\n      <td>NaN</td>\n      <td>NaN</td>\n    </tr>\n    <tr>\n      <th>6</th>\n      <td>1</td>\n      <td>Armenia</td>\n      <td>2518</td>\n      <td>Sorghum and products</td>\n      <td>2014</td>\n      <td>vegetal</td>\n      <td>NaN</td>\n      <td>NaN</td>\n    </tr>\n    <tr>\n      <th>7</th>\n      <td>1</td>\n      <td>Armenia</td>\n      <td>2520</td>\n      <td>Cereals, Other</td>\n      <td>2014</td>\n      <td>vegetal</td>\n      <td>3189.088950</td>\n      <td>8.656099</td>\n    </tr>\n    <tr>\n      <th>8</th>\n      <td>1</td>\n      <td>Armenia</td>\n      <td>2531</td>\n      <td>Potatoes and products</td>\n      <td>2014</td>\n      <td>vegetal</td>\n      <td>685.258783</td>\n      <td>1.598937</td>\n    </tr>\n    <tr>\n      <th>9</th>\n      <td>1</td>\n      <td>Armenia</td>\n      <td>2532</td>\n      <td>Cassava and products</td>\n      <td>2014</td>\n      <td>vegetal</td>\n      <td>NaN</td>\n      <td>NaN</td>\n    </tr>\n  </tbody>\n</table>\n</div>"
     },
     "execution_count": 32,
     "metadata": {},
     "output_type": "execute_result"
    }
   ],
   "source": [
    "# Creating the ratio_kcalkg and protein_percentage columns\n",
    "# We need a mask in order to avoid division by 0\n",
    "mask = data1[\"food_supply_kg\"] != 0 \n",
    "data1.loc[mask, 'ratio_kcalkg'] = data1.loc[mask, \"food_supply_kcal\"] / data1.loc[mask, \"food_supply_kg\"]\n",
    "data1.loc[mask, 'protein_percentage'] = 100*data1.loc[mask, \"food_supply_kgprotein\"] / data1.loc[mask, \"food_supply_kg\"]\n",
    "\n",
    "data1[['country_code','country','item_code','item','year','origin', 'ratio_kcalkg', 'protein_percentage']].head(10)"
   ]
  },
  {
   "cell_type": "markdown",
   "metadata": {
    "pycharm": {
     "name": "#%% md\n"
    }
   },
   "source": [
    "  "
   ]
  },
  {
   "cell_type": "markdown",
   "metadata": {
    "pycharm": {
     "name": "#%% md\n"
    }
   },
   "source": [
    "- **_dom_sup_kcal_ and _dom_sup_kgprot_**"
   ]
  },
  {
   "cell_type": "code",
   "execution_count": 33,
   "metadata": {
    "scrolled": false,
    "pycharm": {
     "name": "#%%\n"
    }
   },
   "outputs": [
    {
     "data": {
      "text/plain": "       country_code  country  item_code                     item  year  \\\n0                 1  Armenia       2511       Wheat and products  2014   \n1                 1  Armenia       2513      Barley and products  2014   \n2                 1  Armenia       2514       Maize and products  2014   \n3                 1  Armenia       2515         Rye and products  2014   \n4                 1  Armenia       2516                     Oats  2014   \n...             ...      ...        ...                      ...   ...   \n31728           276    Sudan       2781           Fish, Body Oil  2017   \n31729           276    Sudan       2782          Fish, Liver Oil  2017   \n31730           276    Sudan       2805        Rice and products  2017   \n31731           276    Sudan       2848  Milk - Excluding Butter  2017   \n31732           276    Sudan       2899            Miscellaneous  2017   \n\n        origin  dom_sup_kcal  dom_sup_kcal  \n0      vegetal  1.857283e+12  1.857283e+12  \n1      vegetal  5.556102e+11  5.556102e+11  \n2      vegetal  3.118220e+11  3.118220e+11  \n3      vegetal           NaN           NaN  \n4      vegetal  4.252119e+10  4.252119e+10  \n...        ...           ...           ...  \n31728   animal           NaN           NaN  \n31729   animal           NaN           NaN  \n31730  vegetal  3.328524e+11  3.328524e+11  \n31731   animal  3.573661e+12  3.573661e+12  \n31732  vegetal  1.489689e+10  1.489689e+10  \n\n[31733 rows x 8 columns]",
      "text/html": "<div>\n<style scoped>\n    .dataframe tbody tr th:only-of-type {\n        vertical-align: middle;\n    }\n\n    .dataframe tbody tr th {\n        vertical-align: top;\n    }\n\n    .dataframe thead th {\n        text-align: right;\n    }\n</style>\n<table border=\"1\" class=\"dataframe\">\n  <thead>\n    <tr style=\"text-align: right;\">\n      <th></th>\n      <th>country_code</th>\n      <th>country</th>\n      <th>item_code</th>\n      <th>item</th>\n      <th>year</th>\n      <th>origin</th>\n      <th>dom_sup_kcal</th>\n      <th>dom_sup_kcal</th>\n    </tr>\n  </thead>\n  <tbody>\n    <tr>\n      <th>0</th>\n      <td>1</td>\n      <td>Armenia</td>\n      <td>2511</td>\n      <td>Wheat and products</td>\n      <td>2014</td>\n      <td>vegetal</td>\n      <td>1.857283e+12</td>\n      <td>1.857283e+12</td>\n    </tr>\n    <tr>\n      <th>1</th>\n      <td>1</td>\n      <td>Armenia</td>\n      <td>2513</td>\n      <td>Barley and products</td>\n      <td>2014</td>\n      <td>vegetal</td>\n      <td>5.556102e+11</td>\n      <td>5.556102e+11</td>\n    </tr>\n    <tr>\n      <th>2</th>\n      <td>1</td>\n      <td>Armenia</td>\n      <td>2514</td>\n      <td>Maize and products</td>\n      <td>2014</td>\n      <td>vegetal</td>\n      <td>3.118220e+11</td>\n      <td>3.118220e+11</td>\n    </tr>\n    <tr>\n      <th>3</th>\n      <td>1</td>\n      <td>Armenia</td>\n      <td>2515</td>\n      <td>Rye and products</td>\n      <td>2014</td>\n      <td>vegetal</td>\n      <td>NaN</td>\n      <td>NaN</td>\n    </tr>\n    <tr>\n      <th>4</th>\n      <td>1</td>\n      <td>Armenia</td>\n      <td>2516</td>\n      <td>Oats</td>\n      <td>2014</td>\n      <td>vegetal</td>\n      <td>4.252119e+10</td>\n      <td>4.252119e+10</td>\n    </tr>\n    <tr>\n      <th>...</th>\n      <td>...</td>\n      <td>...</td>\n      <td>...</td>\n      <td>...</td>\n      <td>...</td>\n      <td>...</td>\n      <td>...</td>\n      <td>...</td>\n    </tr>\n    <tr>\n      <th>31728</th>\n      <td>276</td>\n      <td>Sudan</td>\n      <td>2781</td>\n      <td>Fish, Body Oil</td>\n      <td>2017</td>\n      <td>animal</td>\n      <td>NaN</td>\n      <td>NaN</td>\n    </tr>\n    <tr>\n      <th>31729</th>\n      <td>276</td>\n      <td>Sudan</td>\n      <td>2782</td>\n      <td>Fish, Liver Oil</td>\n      <td>2017</td>\n      <td>animal</td>\n      <td>NaN</td>\n      <td>NaN</td>\n    </tr>\n    <tr>\n      <th>31730</th>\n      <td>276</td>\n      <td>Sudan</td>\n      <td>2805</td>\n      <td>Rice and products</td>\n      <td>2017</td>\n      <td>vegetal</td>\n      <td>3.328524e+11</td>\n      <td>3.328524e+11</td>\n    </tr>\n    <tr>\n      <th>31731</th>\n      <td>276</td>\n      <td>Sudan</td>\n      <td>2848</td>\n      <td>Milk - Excluding Butter</td>\n      <td>2017</td>\n      <td>animal</td>\n      <td>3.573661e+12</td>\n      <td>3.573661e+12</td>\n    </tr>\n    <tr>\n      <th>31732</th>\n      <td>276</td>\n      <td>Sudan</td>\n      <td>2899</td>\n      <td>Miscellaneous</td>\n      <td>2017</td>\n      <td>vegetal</td>\n      <td>1.489689e+10</td>\n      <td>1.489689e+10</td>\n    </tr>\n  </tbody>\n</table>\n<p>31733 rows × 8 columns</p>\n</div>"
     },
     "execution_count": 33,
     "metadata": {},
     "output_type": "execute_result"
    }
   ],
   "source": [
    "# Creating the dom_sup_kcal and dom_sup_kgprot columns\n",
    "data1['dom_sup_kcal'] = data1['domestic_supply_quantity']*(10**6)*data1['ratio_kcalkg']\n",
    "data1['dom_sup_kgprot'] = (data1['domestic_supply_quantity']*(10**6)*data1['protein_percentage'])/100\n",
    "\n",
    "data1[['country_code','country','item_code','item','year','origin', 'dom_sup_kcal', 'dom_sup_kcal']]"
   ]
  },
  {
   "cell_type": "markdown",
   "metadata": {
    "pycharm": {
     "name": "#%% md\n"
    }
   },
   "source": [
    "  "
   ]
  },
  {
   "cell_type": "markdown",
   "metadata": {
    "pycharm": {
     "name": "#%% md\n"
    }
   },
   "source": [
    "- **_great_import_from_undern_countries_**"
   ]
  },
  {
   "cell_type": "code",
   "execution_count": 34,
   "metadata": {
    "pycharm": {
     "name": "#%%\n"
    }
   },
   "outputs": [
    {
     "data": {
      "text/plain": "   country_code      country  year  population  u_population  u_percentage\n0             2  Afghanistan  2014  33370790.0     8800000.0     26.370368\n1             2  Afghanistan  2017  36296110.0    10600000.0     29.204232\n2             3      Albania  2014   2896300.0      200000.0      6.905362\n3             3      Albania  2017   2884170.0      200000.0      6.934404\n4             4      Algeria  2014  38923690.0     1600000.0      4.110607",
      "text/html": "<div>\n<style scoped>\n    .dataframe tbody tr th:only-of-type {\n        vertical-align: middle;\n    }\n\n    .dataframe tbody tr th {\n        vertical-align: top;\n    }\n\n    .dataframe thead th {\n        text-align: right;\n    }\n</style>\n<table border=\"1\" class=\"dataframe\">\n  <thead>\n    <tr style=\"text-align: right;\">\n      <th></th>\n      <th>country_code</th>\n      <th>country</th>\n      <th>year</th>\n      <th>population</th>\n      <th>u_population</th>\n      <th>u_percentage</th>\n    </tr>\n  </thead>\n  <tbody>\n    <tr>\n      <th>0</th>\n      <td>2</td>\n      <td>Afghanistan</td>\n      <td>2014</td>\n      <td>33370790.0</td>\n      <td>8800000.0</td>\n      <td>26.370368</td>\n    </tr>\n    <tr>\n      <th>1</th>\n      <td>2</td>\n      <td>Afghanistan</td>\n      <td>2017</td>\n      <td>36296110.0</td>\n      <td>10600000.0</td>\n      <td>29.204232</td>\n    </tr>\n    <tr>\n      <th>2</th>\n      <td>3</td>\n      <td>Albania</td>\n      <td>2014</td>\n      <td>2896300.0</td>\n      <td>200000.0</td>\n      <td>6.905362</td>\n    </tr>\n    <tr>\n      <th>3</th>\n      <td>3</td>\n      <td>Albania</td>\n      <td>2017</td>\n      <td>2884170.0</td>\n      <td>200000.0</td>\n      <td>6.934404</td>\n    </tr>\n    <tr>\n      <th>4</th>\n      <td>4</td>\n      <td>Algeria</td>\n      <td>2014</td>\n      <td>38923690.0</td>\n      <td>1600000.0</td>\n      <td>4.110607</td>\n    </tr>\n  </tbody>\n</table>\n</div>"
     },
     "execution_count": 34,
     "metadata": {},
     "output_type": "execute_result"
    }
   ],
   "source": [
    "# First, I read the people_undernourished.csv file and create our people_undernourished_df dataframe\n",
    "people_undernourished_df = pd.read_csv(\"../data/latest_v3/people_undernourished.csv\")\n",
    "\n",
    "# Formatting the year data, from 201(x-1) - 201(x+1) to 201x\n",
    "dictionary_year = {'2012-2014': 2013, '2013-2015':2014, '2014-2016': 2015, '2015-2017':2016, '2016-2018': 2017}\n",
    "people_undernourished_df['Year'] = people_undernourished_df['Year'].map(dictionary_year)\n",
    "\n",
    "# Creating another dataframe, this time keeping only the 'Area Code', 'Area', 'Year', 'Value' columns\n",
    "undernourished_data = people_undernourished_df[['Area Code', 'Area', 'Year', 'Value']]\n",
    "\n",
    "# Renaming the columns to the names mentioned in Task 3\n",
    "undernourished_data.columns = ['country_code', 'country', 'year', 'u_population']\n",
    "\n",
    "# Keeping only the data for 2014 and 2017\n",
    "undernourished_data = undernourished_data[(undernourished_data.year != 2013) & (undernourished_data.year != 2015) & (undernourished_data.year != 2016)]\n",
    "\n",
    "# Formatting the data for the 'u_population' column; \n",
    "# also, eliminating the rows coresponding to 'China' as they present aggregated data\n",
    "undernourished_data['u_population'] = pd.to_numeric(undernourished_data['u_population'], errors ='coerce')\n",
    "undernourished_data['u_population'] *= 1000000\n",
    "undernourished_data = undernourished_data[undernourished_data.country_code != 351]\n",
    "\n",
    "# Here we have a striped version of our initial population_df dataframe containing only the 'Area Code', 'Area', 'Year', 'Value' columns\n",
    "# Renaming the columns accordingly for these too\n",
    "# Formatting the 'population' column accordingly\n",
    "# Eliminating the rows for 'China' due to aggregated data\n",
    "pop_data = population_df[['Area Code', 'Area', 'Year', 'Value']]\n",
    "pop_data.columns = ['country_code', 'country', 'year', 'population']\n",
    "pop_data['population'] = pop_data['population']*1000\n",
    "pop_data = pop_data[pop_data.country_code != 351]\n",
    "\n",
    "# Merging the undernourished_data and the pop_data dataframes\n",
    "pop_data2 = pd.merge(undernourished_data, pop_data, on=['country_code', 'country', 'year'] )\n",
    "mask = pop_data2[\"population\"] != 0 # because it's not possible to divide by 0\n",
    "\n",
    "# Finally calculating the percentage of undernourished people for each country for our pop_data2 dataframe\n",
    "pop_data2.loc[mask, 'u_percentage'] = 100*pop_data2.loc[mask, \"u_population\"]/pop_data2.loc[mask, \"population\"]\n",
    "pop_data2 = pop_data2[['country_code', 'country', 'year', 'population', 'u_population','u_percentage']]\n",
    "pop_data2.head()\n"
   ]
  },
  {
   "cell_type": "code",
   "execution_count": 35,
   "metadata": {
    "scrolled": false,
    "pycharm": {
     "name": "#%%\n"
    }
   },
   "outputs": [
    {
     "data": {
      "text/plain": "   country_code  country  item_code                 item  year   origin  \\\n0             1  Armenia       2511   Wheat and products  2014  vegetal   \n1             1  Armenia       2513  Barley and products  2014  vegetal   \n2             1  Armenia       2514   Maize and products  2014  vegetal   \n3             1  Armenia       2515     Rye and products  2014  vegetal   \n4             1  Armenia       2516                 Oats  2014  vegetal   \n\n   domestic_supply_quantity  export_quantity   feed   food  ...  \\\n0                     639.0              1.0  110.0  380.0  ...   \n1                     196.0              0.0  145.0    3.0  ...   \n2                      88.0              NaN   64.0   18.0  ...   \n3                       1.0              NaN    1.0    0.0  ...   \n4                       8.0              NaN    6.0    1.0  ...   \n\n   food_supply_kcal  food_supply_kgprotein  food_supply_kg  ratio_kcalkg  \\\n0      1.104488e+12           3.293266e+07     380000000.0   2906.546859   \n1      8.504237e+09           2.870180e+05       3000000.0   2834.745733   \n2      6.378178e+10           3.337913e+06      18000000.0   3543.432167   \n3      1.063030e+09           3.189089e+04             0.0           NaN   \n4      5.315148e+09           2.019756e+05       1000000.0   5315.148250   \n\n   protein_percentage  dom_sup_kcal  dom_sup_kgprot  population  u_population  \\\n0            8.666489  1.857283e+12    5.537887e+07   2912410.0      100000.0   \n1            9.567267  5.556102e+11    1.875184e+07   2912410.0      100000.0   \n2           18.543962  3.118220e+11    1.631869e+07   2912410.0      100000.0   \n3                 NaN           NaN             NaN   2912410.0      100000.0   \n4           20.197563  4.252119e+10    1.615805e+06   2912410.0      100000.0   \n\n   u_percentage  \n0      3.433582  \n1      3.433582  \n2      3.433582  \n3      3.433582  \n4      3.433582  \n\n[5 rows x 31 columns]",
      "text/html": "<div>\n<style scoped>\n    .dataframe tbody tr th:only-of-type {\n        vertical-align: middle;\n    }\n\n    .dataframe tbody tr th {\n        vertical-align: top;\n    }\n\n    .dataframe thead th {\n        text-align: right;\n    }\n</style>\n<table border=\"1\" class=\"dataframe\">\n  <thead>\n    <tr style=\"text-align: right;\">\n      <th></th>\n      <th>country_code</th>\n      <th>country</th>\n      <th>item_code</th>\n      <th>item</th>\n      <th>year</th>\n      <th>origin</th>\n      <th>domestic_supply_quantity</th>\n      <th>export_quantity</th>\n      <th>feed</th>\n      <th>food</th>\n      <th>...</th>\n      <th>food_supply_kcal</th>\n      <th>food_supply_kgprotein</th>\n      <th>food_supply_kg</th>\n      <th>ratio_kcalkg</th>\n      <th>protein_percentage</th>\n      <th>dom_sup_kcal</th>\n      <th>dom_sup_kgprot</th>\n      <th>population</th>\n      <th>u_population</th>\n      <th>u_percentage</th>\n    </tr>\n  </thead>\n  <tbody>\n    <tr>\n      <th>0</th>\n      <td>1</td>\n      <td>Armenia</td>\n      <td>2511</td>\n      <td>Wheat and products</td>\n      <td>2014</td>\n      <td>vegetal</td>\n      <td>639.0</td>\n      <td>1.0</td>\n      <td>110.0</td>\n      <td>380.0</td>\n      <td>...</td>\n      <td>1.104488e+12</td>\n      <td>3.293266e+07</td>\n      <td>380000000.0</td>\n      <td>2906.546859</td>\n      <td>8.666489</td>\n      <td>1.857283e+12</td>\n      <td>5.537887e+07</td>\n      <td>2912410.0</td>\n      <td>100000.0</td>\n      <td>3.433582</td>\n    </tr>\n    <tr>\n      <th>1</th>\n      <td>1</td>\n      <td>Armenia</td>\n      <td>2513</td>\n      <td>Barley and products</td>\n      <td>2014</td>\n      <td>vegetal</td>\n      <td>196.0</td>\n      <td>0.0</td>\n      <td>145.0</td>\n      <td>3.0</td>\n      <td>...</td>\n      <td>8.504237e+09</td>\n      <td>2.870180e+05</td>\n      <td>3000000.0</td>\n      <td>2834.745733</td>\n      <td>9.567267</td>\n      <td>5.556102e+11</td>\n      <td>1.875184e+07</td>\n      <td>2912410.0</td>\n      <td>100000.0</td>\n      <td>3.433582</td>\n    </tr>\n    <tr>\n      <th>2</th>\n      <td>1</td>\n      <td>Armenia</td>\n      <td>2514</td>\n      <td>Maize and products</td>\n      <td>2014</td>\n      <td>vegetal</td>\n      <td>88.0</td>\n      <td>NaN</td>\n      <td>64.0</td>\n      <td>18.0</td>\n      <td>...</td>\n      <td>6.378178e+10</td>\n      <td>3.337913e+06</td>\n      <td>18000000.0</td>\n      <td>3543.432167</td>\n      <td>18.543962</td>\n      <td>3.118220e+11</td>\n      <td>1.631869e+07</td>\n      <td>2912410.0</td>\n      <td>100000.0</td>\n      <td>3.433582</td>\n    </tr>\n    <tr>\n      <th>3</th>\n      <td>1</td>\n      <td>Armenia</td>\n      <td>2515</td>\n      <td>Rye and products</td>\n      <td>2014</td>\n      <td>vegetal</td>\n      <td>1.0</td>\n      <td>NaN</td>\n      <td>1.0</td>\n      <td>0.0</td>\n      <td>...</td>\n      <td>1.063030e+09</td>\n      <td>3.189089e+04</td>\n      <td>0.0</td>\n      <td>NaN</td>\n      <td>NaN</td>\n      <td>NaN</td>\n      <td>NaN</td>\n      <td>2912410.0</td>\n      <td>100000.0</td>\n      <td>3.433582</td>\n    </tr>\n    <tr>\n      <th>4</th>\n      <td>1</td>\n      <td>Armenia</td>\n      <td>2516</td>\n      <td>Oats</td>\n      <td>2014</td>\n      <td>vegetal</td>\n      <td>8.0</td>\n      <td>NaN</td>\n      <td>6.0</td>\n      <td>1.0</td>\n      <td>...</td>\n      <td>5.315148e+09</td>\n      <td>2.019756e+05</td>\n      <td>1000000.0</td>\n      <td>5315.148250</td>\n      <td>20.197563</td>\n      <td>4.252119e+10</td>\n      <td>1.615805e+06</td>\n      <td>2912410.0</td>\n      <td>100000.0</td>\n      <td>3.433582</td>\n    </tr>\n  </tbody>\n</table>\n<p>5 rows × 31 columns</p>\n</div>"
     },
     "execution_count": 35,
     "metadata": {},
     "output_type": "execute_result"
    }
   ],
   "source": [
    "# Creating a merged dataframe containing the initial global food balance sheet data, \n",
    "# including the extra 7 columns created during Task 4 so far\n",
    "data2 = pd.merge(data1, pop_data2, on=['country_code', 'country', 'year'] )\n",
    "data2 = data2.rename(columns={'population_y':'population'})\n",
    "\n",
    "data2.head()"
   ]
  },
  {
   "cell_type": "markdown",
   "metadata": {
    "pycharm": {
     "name": "#%% md\n"
    }
   },
   "source": [
    "    - top 25 exports"
   ]
  },
  {
   "cell_type": "code",
   "execution_count": 36,
   "metadata": {
    "scrolled": true,
    "pycharm": {
     "name": "#%%\n"
    }
   },
   "outputs": [
    {
     "data": {
      "text/plain": "   year  item_code           item  export_quantity\n9  2014       2625  Fruits, Other           2964.0",
      "text/html": "<div>\n<style scoped>\n    .dataframe tbody tr th:only-of-type {\n        vertical-align: middle;\n    }\n\n    .dataframe tbody tr th {\n        vertical-align: top;\n    }\n\n    .dataframe thead th {\n        text-align: right;\n    }\n</style>\n<table border=\"1\" class=\"dataframe\">\n  <thead>\n    <tr style=\"text-align: right;\">\n      <th></th>\n      <th>year</th>\n      <th>item_code</th>\n      <th>item</th>\n      <th>export_quantity</th>\n    </tr>\n  </thead>\n  <tbody>\n    <tr>\n      <th>9</th>\n      <td>2014</td>\n      <td>2625</td>\n      <td>Fruits, Other</td>\n      <td>2964.0</td>\n    </tr>\n  </tbody>\n</table>\n</div>"
     },
     "execution_count": 36,
     "metadata": {},
     "output_type": "execute_result"
    }
   ],
   "source": [
    "# Now, creating the two dataframes containing the 25 most exported items from countries with an undernourished perc. over 10%\n",
    "# for 2014, and 2017 respectively\n",
    "top_25_exports = data2[data2.u_percentage >=10]\n",
    "top_25_exports_2014 = top_25_exports[top_25_exports.year == 2014].groupby([ 'year','item_code','item'], as_index = False)[['export_quantity']].sum().sort_values(by=['export_quantity'], ascending=False).head(25)\n",
    "top_25_exports_2017 = top_25_exports[top_25_exports.year == 2017].groupby([ 'year','item_code','item'], as_index = False)[['export_quantity']].sum().sort_values(by=['export_quantity'], ascending=False).head(25)\n",
    "\n",
    "# Concatenating the above dataframes into a single one\n",
    "top_25_exports = pd.concat([top_25_exports_2014, top_25_exports_2017])\n",
    "top_25_exports = top_25_exports.reset_index(drop = True)\n",
    "\n",
    "top_25_exports.sample()"
   ]
  },
  {
   "cell_type": "markdown",
   "metadata": {
    "pycharm": {
     "name": "#%% md\n"
    }
   },
   "source": [
    "    - top 200 imports"
   ]
  },
  {
   "cell_type": "code",
   "execution_count": 37,
   "metadata": {
    "scrolled": false,
    "pycharm": {
     "name": "#%%\n"
    }
   },
   "outputs": [
    {
     "data": {
      "text/plain": "             country                    item  year  import_quantity  \\\n288  China, mainland  Sugar (Raw Equivalent)  2017           2381.0   \n\n     great_import_from_undern_countries  \n288                                True  ",
      "text/html": "<div>\n<style scoped>\n    .dataframe tbody tr th:only-of-type {\n        vertical-align: middle;\n    }\n\n    .dataframe tbody tr th {\n        vertical-align: top;\n    }\n\n    .dataframe thead th {\n        text-align: right;\n    }\n</style>\n<table border=\"1\" class=\"dataframe\">\n  <thead>\n    <tr style=\"text-align: right;\">\n      <th></th>\n      <th>country</th>\n      <th>item</th>\n      <th>year</th>\n      <th>import_quantity</th>\n      <th>great_import_from_undern_countries</th>\n    </tr>\n  </thead>\n  <tbody>\n    <tr>\n      <th>288</th>\n      <td>China, mainland</td>\n      <td>Sugar (Raw Equivalent)</td>\n      <td>2017</td>\n      <td>2381.0</td>\n      <td>True</td>\n    </tr>\n  </tbody>\n</table>\n</div>"
     },
     "execution_count": 37,
     "metadata": {},
     "output_type": "execute_result"
    }
   ],
   "source": [
    "# Then, here we have the lists with the 25 most exported items in 2014 and 2017, respectively\n",
    "most_exported_items_2014 = list(top_25_exports_2014['item'])\n",
    "most_exported_items_2017 = list(top_25_exports_2017['item'])\n",
    "\n",
    "# The dataframe containing the top 200 imports (of the 25 most exported items) in 2014\n",
    "top_200_imports_2014 = data2[data2.year==2014]\n",
    "top_200_imports_2014 = top_200_imports_2014[top_200_imports_2014.item.isin(most_exported_items_2014)].groupby(['country', 'item', 'year'], as_index = False)[['import_quantity']].sum().sort_values(by=['import_quantity'], ascending=False).head(200)\n",
    "\n",
    "# The dataframe containing the top 200 imports (of the 25 most exported items) in 2017\n",
    "top_200_imports_2017 = data2[data2.year==2017]\n",
    "top_200_imports_2017 = top_200_imports_2017[top_200_imports_2017.item.isin(most_exported_items_2017)].groupby(['country', 'item', 'year'], as_index = False)[['import_quantity']].sum().sort_values(by=['import_quantity'], ascending=False).head(200)\n",
    "\n",
    "# The concatenated dataframe of the top 200 imports of both 2014 and 2017\n",
    "# No. of rows = 400\n",
    "top_200_imports = pd.concat([top_200_imports_2014, top_200_imports_2017])\n",
    "top_200_imports = top_200_imports.reset_index(drop = True)\n",
    "\n",
    "# Creating the new column 'great_import_from_undern_countries' and setting the values for all entries to True\n",
    "top_200_imports['great_import_from_undern_countries'] = True\n",
    "\n",
    "top_200_imports.sample()"
   ]
  },
  {
   "cell_type": "markdown",
   "metadata": {
    "pycharm": {
     "name": "#%% md\n"
    }
   },
   "source": [
    "  "
   ]
  },
  {
   "cell_type": "markdown",
   "metadata": {
    "pycharm": {
     "name": "#%% md\n"
    }
   },
   "source": [
    "**Finally, our global food balance sheet data containing the extra 8 columns created during Task 4**"
   ]
  },
  {
   "cell_type": "code",
   "execution_count": 38,
   "metadata": {
    "scrolled": true,
    "pycharm": {
     "name": "#%%\n"
    }
   },
   "outputs": [
    {
     "data": {
      "text/plain": "   country_code  country  item_code                 item  year   origin  \\\n0             1  Armenia       2511   Wheat and products  2014  vegetal   \n1             1  Armenia       2513  Barley and products  2014  vegetal   \n2             1  Armenia       2514   Maize and products  2014  vegetal   \n3             1  Armenia       2515     Rye and products  2014  vegetal   \n4             1  Armenia       2516                 Oats  2014  vegetal   \n\n   domestic_supply_quantity  export_quantity   feed   food  ...  \\\n0                     639.0              1.0  110.0  380.0  ...   \n1                     196.0              0.0  145.0    3.0  ...   \n2                      88.0              NaN   64.0   18.0  ...   \n3                       1.0              NaN    1.0    0.0  ...   \n4                       8.0              NaN    6.0    1.0  ...   \n\n   food_supply_kgprotein  food_supply_kg  ratio_kcalkg  protein_percentage  \\\n0           3.293266e+07     380000000.0   2906.546859            8.666489   \n1           2.870180e+05       3000000.0   2834.745733            9.567267   \n2           3.337913e+06      18000000.0   3543.432167           18.543962   \n3           3.189089e+04             0.0           NaN                 NaN   \n4           2.019756e+05       1000000.0   5315.148250           20.197563   \n\n   dom_sup_kcal  dom_sup_kgprot  population  u_population  u_percentage  \\\n0  1.857283e+12    5.537887e+07   2912410.0      100000.0      3.433582   \n1  5.556102e+11    1.875184e+07   2912410.0      100000.0      3.433582   \n2  3.118220e+11    1.631869e+07   2912410.0      100000.0      3.433582   \n3           NaN             NaN   2912410.0      100000.0      3.433582   \n4  4.252119e+10    1.615805e+06   2912410.0      100000.0      3.433582   \n\n   great_import_from_undern_countries  \n0                               False  \n1                               False  \n2                               False  \n3                               False  \n4                               False  \n\n[5 rows x 32 columns]",
      "text/html": "<div>\n<style scoped>\n    .dataframe tbody tr th:only-of-type {\n        vertical-align: middle;\n    }\n\n    .dataframe tbody tr th {\n        vertical-align: top;\n    }\n\n    .dataframe thead th {\n        text-align: right;\n    }\n</style>\n<table border=\"1\" class=\"dataframe\">\n  <thead>\n    <tr style=\"text-align: right;\">\n      <th></th>\n      <th>country_code</th>\n      <th>country</th>\n      <th>item_code</th>\n      <th>item</th>\n      <th>year</th>\n      <th>origin</th>\n      <th>domestic_supply_quantity</th>\n      <th>export_quantity</th>\n      <th>feed</th>\n      <th>food</th>\n      <th>...</th>\n      <th>food_supply_kgprotein</th>\n      <th>food_supply_kg</th>\n      <th>ratio_kcalkg</th>\n      <th>protein_percentage</th>\n      <th>dom_sup_kcal</th>\n      <th>dom_sup_kgprot</th>\n      <th>population</th>\n      <th>u_population</th>\n      <th>u_percentage</th>\n      <th>great_import_from_undern_countries</th>\n    </tr>\n  </thead>\n  <tbody>\n    <tr>\n      <th>0</th>\n      <td>1</td>\n      <td>Armenia</td>\n      <td>2511</td>\n      <td>Wheat and products</td>\n      <td>2014</td>\n      <td>vegetal</td>\n      <td>639.0</td>\n      <td>1.0</td>\n      <td>110.0</td>\n      <td>380.0</td>\n      <td>...</td>\n      <td>3.293266e+07</td>\n      <td>380000000.0</td>\n      <td>2906.546859</td>\n      <td>8.666489</td>\n      <td>1.857283e+12</td>\n      <td>5.537887e+07</td>\n      <td>2912410.0</td>\n      <td>100000.0</td>\n      <td>3.433582</td>\n      <td>False</td>\n    </tr>\n    <tr>\n      <th>1</th>\n      <td>1</td>\n      <td>Armenia</td>\n      <td>2513</td>\n      <td>Barley and products</td>\n      <td>2014</td>\n      <td>vegetal</td>\n      <td>196.0</td>\n      <td>0.0</td>\n      <td>145.0</td>\n      <td>3.0</td>\n      <td>...</td>\n      <td>2.870180e+05</td>\n      <td>3000000.0</td>\n      <td>2834.745733</td>\n      <td>9.567267</td>\n      <td>5.556102e+11</td>\n      <td>1.875184e+07</td>\n      <td>2912410.0</td>\n      <td>100000.0</td>\n      <td>3.433582</td>\n      <td>False</td>\n    </tr>\n    <tr>\n      <th>2</th>\n      <td>1</td>\n      <td>Armenia</td>\n      <td>2514</td>\n      <td>Maize and products</td>\n      <td>2014</td>\n      <td>vegetal</td>\n      <td>88.0</td>\n      <td>NaN</td>\n      <td>64.0</td>\n      <td>18.0</td>\n      <td>...</td>\n      <td>3.337913e+06</td>\n      <td>18000000.0</td>\n      <td>3543.432167</td>\n      <td>18.543962</td>\n      <td>3.118220e+11</td>\n      <td>1.631869e+07</td>\n      <td>2912410.0</td>\n      <td>100000.0</td>\n      <td>3.433582</td>\n      <td>False</td>\n    </tr>\n    <tr>\n      <th>3</th>\n      <td>1</td>\n      <td>Armenia</td>\n      <td>2515</td>\n      <td>Rye and products</td>\n      <td>2014</td>\n      <td>vegetal</td>\n      <td>1.0</td>\n      <td>NaN</td>\n      <td>1.0</td>\n      <td>0.0</td>\n      <td>...</td>\n      <td>3.189089e+04</td>\n      <td>0.0</td>\n      <td>NaN</td>\n      <td>NaN</td>\n      <td>NaN</td>\n      <td>NaN</td>\n      <td>2912410.0</td>\n      <td>100000.0</td>\n      <td>3.433582</td>\n      <td>False</td>\n    </tr>\n    <tr>\n      <th>4</th>\n      <td>1</td>\n      <td>Armenia</td>\n      <td>2516</td>\n      <td>Oats</td>\n      <td>2014</td>\n      <td>vegetal</td>\n      <td>8.0</td>\n      <td>NaN</td>\n      <td>6.0</td>\n      <td>1.0</td>\n      <td>...</td>\n      <td>2.019756e+05</td>\n      <td>1000000.0</td>\n      <td>5315.148250</td>\n      <td>20.197563</td>\n      <td>4.252119e+10</td>\n      <td>1.615805e+06</td>\n      <td>2912410.0</td>\n      <td>100000.0</td>\n      <td>3.433582</td>\n      <td>False</td>\n    </tr>\n  </tbody>\n</table>\n<p>5 rows × 32 columns</p>\n</div>"
     },
     "execution_count": 38,
     "metadata": {},
     "output_type": "execute_result"
    }
   ],
   "source": [
    "# Creating our final dataframe containing all 32 columns (including the 8 new created during Task 4)\n",
    "# through a merging process between our data2 and top_200_imports dataframes\n",
    "data3 = pd.merge(data2, top_200_imports, on=['country','item','year','import_quantity'], how='left' )\n",
    "\n",
    "# Setting the NaN values to False (so we only have 400 values - 200 for each year)\n",
    "data3[\"great_import_from_undern_countries\"] = data3[\"great_import_from_undern_countries\"].fillna(False)\n",
    "data3.head()"
   ]
  },
  {
   "cell_type": "markdown",
   "metadata": {
    "pycharm": {
     "name": "#%% md\n"
    }
   },
   "source": [
    "  "
   ]
  },
  {
   "cell_type": "markdown",
   "metadata": {
    "pycharm": {
     "name": "#%% md\n"
    }
   },
   "source": [
    "## Task 5"
   ]
  },
  {
   "cell_type": "markdown",
   "metadata": {
    "pycharm": {
     "name": "#%% md\n"
    }
   },
   "source": [
    "**1. Considering only plant products, what proportion of the global domestic supply is used as food, feed, losses and other uses.**"
   ]
  },
  {
   "cell_type": "code",
   "execution_count": 39,
   "metadata": {
    "scrolled": true,
    "pycharm": {
     "name": "#%%\n"
    }
   },
   "outputs": [
    {
     "data": {
      "text/plain": "                 proportion\nyear variable              \n2014 feed             14.22\n     food             42.29\n     losses            6.06\n     other_uses        8.78\n2017 feed             14.48\n     food             41.89\n     losses            6.03\n     other_uses        9.06",
      "text/html": "<div>\n<style scoped>\n    .dataframe tbody tr th:only-of-type {\n        vertical-align: middle;\n    }\n\n    .dataframe tbody tr th {\n        vertical-align: top;\n    }\n\n    .dataframe thead th {\n        text-align: right;\n    }\n</style>\n<table border=\"1\" class=\"dataframe\">\n  <thead>\n    <tr style=\"text-align: right;\">\n      <th></th>\n      <th></th>\n      <th>proportion</th>\n    </tr>\n    <tr>\n      <th>year</th>\n      <th>variable</th>\n      <th></th>\n    </tr>\n  </thead>\n  <tbody>\n    <tr>\n      <th rowspan=\"4\" valign=\"top\">2014</th>\n      <th>feed</th>\n      <td>14.22</td>\n    </tr>\n    <tr>\n      <th>food</th>\n      <td>42.29</td>\n    </tr>\n    <tr>\n      <th>losses</th>\n      <td>6.06</td>\n    </tr>\n    <tr>\n      <th>other_uses</th>\n      <td>8.78</td>\n    </tr>\n    <tr>\n      <th rowspan=\"4\" valign=\"top\">2017</th>\n      <th>feed</th>\n      <td>14.48</td>\n    </tr>\n    <tr>\n      <th>food</th>\n      <td>41.89</td>\n    </tr>\n    <tr>\n      <th>losses</th>\n      <td>6.03</td>\n    </tr>\n    <tr>\n      <th>other_uses</th>\n      <td>9.06</td>\n    </tr>\n  </tbody>\n</table>\n</div>"
     },
     "execution_count": 39,
     "metadata": {},
     "output_type": "execute_result"
    }
   ],
   "source": [
    "# Extracting a list with the sum values over the 'food', 'feed', 'losses', 'other_uses' columns\n",
    "q1a= data1[data1.origin=='vegetal'].groupby(['year'], as_index = False)[['food', 'feed', 'losses', 'other_uses']].sum()\n",
    "\n",
    "# Getting our float value of the 'domestic_supply_quantity' column\n",
    "q1b = data1[data1.origin=='vegetal'].groupby(['year'], as_index = False)[['domestic_supply_quantity']].sum()\n",
    "\n",
    "# Dividing the values in our q1a list by the 'domestic_supply_quantity' column value to get our list of proportions\n",
    "q1a['domestic_supply_quantity'] = q1b['domestic_supply_quantity']\n",
    "q1a=  pd.melt(q1a, id_vars=['year', 'domestic_supply_quantity'])\n",
    "q1a['proportion'] = (100*q1a['value']/ q1a['domestic_supply_quantity']).round(2)\n",
    "q1a = q1a[['year','variable', 'proportion']]\n",
    "q1a = q1a.groupby(['year', 'variable']).sum()\n",
    "q1a"
   ]
  },
  {
   "cell_type": "markdown",
   "metadata": {
    "pycharm": {
     "name": "#%% md\n"
    }
   },
   "source": [
    "  "
   ]
  },
  {
   "cell_type": "markdown",
   "metadata": {
    "pycharm": {
     "name": "#%% md\n"
    }
   },
   "source": [
    "**2. How many humans on earth could be fed if all the plant-based food supply (crops), including food and feed, was used for human consumption? Give the results in terms of calories, and protein. Express these two results as a percentage of the world's population.**\n",
    "\n"
   ]
  },
  {
   "cell_type": "code",
   "execution_count": 40,
   "metadata": {
    "pycharm": {
     "name": "#%%\n"
    }
   },
   "outputs": [
    {
     "data": {
      "text/plain": "   year  percentage_w_pop_fed_bykcal  percentage_w_pop_fed_bykgprotein\n0  2014                   125.175239                         14.840902\n1  2017                   112.624625                         14.604608",
      "text/html": "<div>\n<style scoped>\n    .dataframe tbody tr th:only-of-type {\n        vertical-align: middle;\n    }\n\n    .dataframe tbody tr th {\n        vertical-align: top;\n    }\n\n    .dataframe thead th {\n        text-align: right;\n    }\n</style>\n<table border=\"1\" class=\"dataframe\">\n  <thead>\n    <tr style=\"text-align: right;\">\n      <th></th>\n      <th>year</th>\n      <th>percentage_w_pop_fed_bykcal</th>\n      <th>percentage_w_pop_fed_bykgprotein</th>\n    </tr>\n  </thead>\n  <tbody>\n    <tr>\n      <th>0</th>\n      <td>2014</td>\n      <td>125.175239</td>\n      <td>14.840902</td>\n    </tr>\n    <tr>\n      <th>1</th>\n      <td>2017</td>\n      <td>112.624625</td>\n      <td>14.604608</td>\n    </tr>\n  </tbody>\n</table>\n</div>"
     },
     "execution_count": 40,
     "metadata": {},
     "output_type": "execute_result"
    }
   ],
   "source": [
    "# Creating our dataframe, by filtering the big dataframe (data2) by the \"origin == 'vegetal'\" condition\n",
    "# while keeping only a handful of columns\n",
    "q2a= data2[data2.origin=='vegetal']\n",
    "q2a = q2a[['country','year', 'item_code', 'item', 'feed', 'food', 'ratio_kcalkg', 'protein_percentage']]\n",
    "\n",
    "# Creating the two new columns kcal and food_feed_kg_protein\n",
    "q2a['kcal'] = (q2a['feed'] + q2a['food']) * 1000000* q2a['ratio_kcalkg']\n",
    "q2a['food_feed_kg_protein'] = (1000000*(q2a['feed'] + q2a['food'])) * q2a['protein_percentage']/100\n",
    "\n",
    "# Replacing the NaN values with zeros\n",
    "q2a[\"kcal\"] = q2a[\"kcal\"].fillna(0)\n",
    "q2a[\"food_feed_kg_protein\"] = q2a[\"food_feed_kg_protein\"].fillna(0)\n",
    "\n",
    "# Grouping by year and summing the two new columns\n",
    "q2a = q2a.groupby(['year'], as_index = False)[['kcal', 'food_feed_kg_protein']].sum()\n",
    "\n",
    "# Daily calorie and protein requirements for the average human\n",
    "daily_calorie_req = 2500 # [kcal]\n",
    "avg_body_weight = 62 # [kg]\n",
    "dri_protein = 0.008 # daily recommended intake; [g/kg] of body weight\n",
    "\n",
    "# Creating new columns calculating the amount of people that could've been fed (in 2014 and 2017)\n",
    "# First, by the amount of kcal in the crops\n",
    "# Second, by the amount of protein in the crops\n",
    "q2a['people_fed_bykcal']=q2a['kcal']/daily_calorie_req/365\n",
    "q2a['people_fed_bykcal'] = q2a['people_fed_bykcal'].round(0)\n",
    "\n",
    "q2a['people_fed_bykgprotein'] = q2a['food_feed_kg_protein']/(avg_body_weight*dri_protein)/365\n",
    "q2a['people_fed_bykgprotein'] = q2a['people_fed_bykgprotein'].round(0)\n",
    "\n",
    "# Creating the population dataframe and calculating the total population for both 2014 and 2017\n",
    "q2b = pd.read_csv(\"../data/latest_v3/total_population.csv\")\n",
    "q2b = q2b[q2b['Flag Description'] == 'Standardized data']\n",
    "q2b = 1000*q2b.groupby(['Year'])[['Value']].sum()\n",
    "\n",
    "# Merging our two dataframes and finding our final values\n",
    "q2c = pd.merge(q2a, q2b, left_on='year', right_on='Year')\n",
    "q2c = q2c.rename(columns={\"Value\": \"Population\"})\n",
    "q2c['percentage_w_pop_fed_bykcal'] = 100*q2c['people_fed_bykcal']/q2c['Population']\n",
    "q2c['percentage_w_pop_fed_bykgprotein'] = 100*q2c['people_fed_bykgprotein']/q2c['Population']\n",
    "q2c[['year','percentage_w_pop_fed_bykcal', 'percentage_w_pop_fed_bykgprotein']]\n"
   ]
  },
  {
   "cell_type": "markdown",
   "metadata": {
    "pycharm": {
     "name": "#%% md\n"
    }
   },
   "source": [
    "  "
   ]
  },
  {
   "cell_type": "markdown",
   "metadata": {
    "pycharm": {
     "name": "#%% md\n"
    }
   },
   "source": [
    "**3. How many humans could be fed with the global food supply? Give the results in terms of calories and protein. Express these two results as a percentage of the world's population.**\n"
   ]
  },
  {
   "cell_type": "code",
   "execution_count": 41,
   "metadata": {
    "scrolled": true,
    "pycharm": {
     "name": "#%%\n"
    }
   },
   "outputs": [
    {
     "data": {
      "text/plain": "   year  percentage_w_pop_fed_bykcal  percentage_w_pop_fed_bykgprotein\n0  2014                   140.873571                         19.329163\n1  2017                   122.114983                         17.819073",
      "text/html": "<div>\n<style scoped>\n    .dataframe tbody tr th:only-of-type {\n        vertical-align: middle;\n    }\n\n    .dataframe tbody tr th {\n        vertical-align: top;\n    }\n\n    .dataframe thead th {\n        text-align: right;\n    }\n</style>\n<table border=\"1\" class=\"dataframe\">\n  <thead>\n    <tr style=\"text-align: right;\">\n      <th></th>\n      <th>year</th>\n      <th>percentage_w_pop_fed_bykcal</th>\n      <th>percentage_w_pop_fed_bykgprotein</th>\n    </tr>\n  </thead>\n  <tbody>\n    <tr>\n      <th>0</th>\n      <td>2014</td>\n      <td>140.873571</td>\n      <td>19.329163</td>\n    </tr>\n    <tr>\n      <th>1</th>\n      <td>2017</td>\n      <td>122.114983</td>\n      <td>17.819073</td>\n    </tr>\n  </tbody>\n</table>\n</div>"
     },
     "execution_count": 41,
     "metadata": {},
     "output_type": "execute_result"
    }
   ],
   "source": [
    "# Creating our dataframe, this time keeping the big dataframe (data2) as it is\n",
    "# while still keeping only a handful of columns\n",
    "q3a= data2\n",
    "q3a = q3a[['country','year', 'item_code', 'item', 'feed', 'food', 'ratio_kcalkg', 'protein_percentage']]\n",
    "\n",
    "# Creating the two new columns kcal and food_feed_kg_protein\n",
    "q3a['kcal'] = (q3a['feed'] + q3a['food']) * 1000000 * q3a['ratio_kcalkg']\n",
    "q3a['food_feed_kg_protein'] = 1000000*(q3a['feed'] + q3a['food']) * (q3a['protein_percentage']/100)\n",
    "\n",
    "# Replacing the NaN values with zeros\n",
    "q3a[\"kcal\"] = q3a[\"kcal\"].fillna(0)\n",
    "q3a[\"food_feed_kg_protein\"] = q3a[\"food_feed_kg_protein\"].fillna(0)\n",
    "\n",
    "# Grouping by year and summing the two new columns\n",
    "q3a = q3a.groupby(['year'], as_index = False)[['kcal', 'food_feed_kg_protein']].sum()\n",
    "\n",
    "# Daily calorie and protein requirements for the average human\n",
    "daily_calorie_req = 2500 # [kcal]\n",
    "avg_body_weight = 62 # [kg]\n",
    "dri_protein = 0.008 # daily recommended intake; [g/kg] of body weight\n",
    "\n",
    "# Creating new columns calculating the amount of people that could've been fed (in 2014 and 2017)\n",
    "# First, by the amount of kcal in the crops\n",
    "q3a['people_fed_bykcal']=q3a['kcal']/daily_calorie_req/365\n",
    "q3a['people_fed_bykcal'] = q3a['people_fed_bykcal'].round(0)\n",
    "\n",
    "# Second, by the amount of protein in the crops\n",
    "q3a['people_fed_bykgprotein'] = q3a['food_feed_kg_protein']/(avg_body_weight*dri_protein)/365\n",
    "q3a['people_fed_bykgprotein'] = q3a['people_fed_bykgprotein'].round(0)\n",
    "\n",
    "# Creating the population dataframe and calculating the total population for both 2014 and 2017\n",
    "q3b = pd.read_csv(\"../data/latest_v3/total_population.csv\")\n",
    "q3b = q3b[q3b['Flag Description'] == 'Standardized data']\n",
    "q3b = 1000*q3b.groupby(['Year'])[['Value']].sum()\n",
    "\n",
    "# Merging our two dataframes and finding our final values\n",
    "q3c = pd.merge(q3a, q3b, left_on='year', right_on='Year')\n",
    "q3c = q3c.rename(columns={\"Value\": \"Population\"})\n",
    "q3c['percentage_w_pop_fed_bykcal'] = 100*q3c['people_fed_bykcal']/q3c['Population']\n",
    "\n",
    "q3c['percentage_w_pop_fed_bykgprotein'] = 100*q3c['people_fed_bykgprotein']/q3c['Population']\n",
    "\n",
    "q3c[['year','percentage_w_pop_fed_bykcal', 'percentage_w_pop_fed_bykgprotein']]\n"
   ]
  },
  {
   "cell_type": "markdown",
   "metadata": {
    "pycharm": {
     "name": "#%% md\n"
    }
   },
   "source": [
    "  "
   ]
  },
  {
   "cell_type": "markdown",
   "metadata": {
    "pycharm": {
     "name": "#%% md\n"
    }
   },
   "source": [
    "**4. From the collected data on undernutrition, what proportion of the world's population is considered undernourished?**"
   ]
  },
  {
   "cell_type": "code",
   "execution_count": 42,
   "metadata": {
    "scrolled": false,
    "pycharm": {
     "name": "#%%\n"
    }
   },
   "outputs": [
    {
     "data": {
      "text/plain": "      proportion\n2014   10.325170\n2017   10.202092",
      "text/html": "<div>\n<style scoped>\n    .dataframe tbody tr th:only-of-type {\n        vertical-align: middle;\n    }\n\n    .dataframe tbody tr th {\n        vertical-align: top;\n    }\n\n    .dataframe thead th {\n        text-align: right;\n    }\n</style>\n<table border=\"1\" class=\"dataframe\">\n  <thead>\n    <tr style=\"text-align: right;\">\n      <th></th>\n      <th>proportion</th>\n    </tr>\n  </thead>\n  <tbody>\n    <tr>\n      <th>2014</th>\n      <td>10.325170</td>\n    </tr>\n    <tr>\n      <th>2017</th>\n      <td>10.202092</td>\n    </tr>\n  </tbody>\n</table>\n</div>"
     },
     "execution_count": 42,
     "metadata": {},
     "output_type": "execute_result"
    }
   ],
   "source": [
    "# Creating a dataframe from the previously created population dataframe, \n",
    "# keeping and summing only the 'population', 'u_population' columns\n",
    "# after grouping by 'year'\n",
    "q4a = pop_data2.groupby(['year'])[['population', 'u_population']].sum()\n",
    "\n",
    "# Creating a list of the two values of undernourished proportion in 2014 and 2017 respectively\n",
    "q4b = 100*q4a.u_population/q4a.population\n",
    "\n",
    "# Creating our mini-dataframe using our q4b list\n",
    "q4c= pd.DataFrame({'proportion':q4b}, [2014, 2017])\n",
    "\n",
    "q4c"
   ]
  },
  {
   "cell_type": "markdown",
   "metadata": {
    "pycharm": {
     "name": "#%% md\n"
    }
   },
   "source": [
    "  "
   ]
  },
  {
   "cell_type": "markdown",
   "metadata": {
    "pycharm": {
     "name": "#%% md\n"
    }
   },
   "source": [
    "**5. Considering the 25 items most exported by the countries with a high rate of undernutrition, which three of them:**\n",
    "\n",
    "- Have the greatest _other_uses_ to _domestic_supply_quantity_ ratio and what are they used for?"
   ]
  },
  {
   "cell_type": "code",
   "execution_count": 43,
   "metadata": {
    "scrolled": true,
    "pycharm": {
     "name": "#%%\n"
    }
   },
   "outputs": [
    {
     "data": {
      "text/plain": "                     country                      item  year  other_uses  \\\n0                      Egypt      Cassava and products  2014         2.0   \n1  China, Taiwan Province of      Cassava and products  2014       337.0   \n2                      Italy      Cassava and products  2014         2.0   \n3                      Spain         Sweeteners, Other  2017       123.0   \n4                   Malaysia         Sweeteners, Other  2017        58.0   \n5       United Arab Emirates  Cocoa Beans and products  2017         5.0   \n\n   domestic_supply_quantity     ratio  \n0                       1.0  2.000000  \n1                     308.0  1.094156  \n2                       2.0  1.000000  \n3                      28.0  4.392857  \n4                      22.0  2.636364  \n5                       2.0  2.500000  ",
      "text/html": "<div>\n<style scoped>\n    .dataframe tbody tr th:only-of-type {\n        vertical-align: middle;\n    }\n\n    .dataframe tbody tr th {\n        vertical-align: top;\n    }\n\n    .dataframe thead th {\n        text-align: right;\n    }\n</style>\n<table border=\"1\" class=\"dataframe\">\n  <thead>\n    <tr style=\"text-align: right;\">\n      <th></th>\n      <th>country</th>\n      <th>item</th>\n      <th>year</th>\n      <th>other_uses</th>\n      <th>domestic_supply_quantity</th>\n      <th>ratio</th>\n    </tr>\n  </thead>\n  <tbody>\n    <tr>\n      <th>0</th>\n      <td>Egypt</td>\n      <td>Cassava and products</td>\n      <td>2014</td>\n      <td>2.0</td>\n      <td>1.0</td>\n      <td>2.000000</td>\n    </tr>\n    <tr>\n      <th>1</th>\n      <td>China, Taiwan Province of</td>\n      <td>Cassava and products</td>\n      <td>2014</td>\n      <td>337.0</td>\n      <td>308.0</td>\n      <td>1.094156</td>\n    </tr>\n    <tr>\n      <th>2</th>\n      <td>Italy</td>\n      <td>Cassava and products</td>\n      <td>2014</td>\n      <td>2.0</td>\n      <td>2.0</td>\n      <td>1.000000</td>\n    </tr>\n    <tr>\n      <th>3</th>\n      <td>Spain</td>\n      <td>Sweeteners, Other</td>\n      <td>2017</td>\n      <td>123.0</td>\n      <td>28.0</td>\n      <td>4.392857</td>\n    </tr>\n    <tr>\n      <th>4</th>\n      <td>Malaysia</td>\n      <td>Sweeteners, Other</td>\n      <td>2017</td>\n      <td>58.0</td>\n      <td>22.0</td>\n      <td>2.636364</td>\n    </tr>\n    <tr>\n      <th>5</th>\n      <td>United Arab Emirates</td>\n      <td>Cocoa Beans and products</td>\n      <td>2017</td>\n      <td>5.0</td>\n      <td>2.0</td>\n      <td>2.500000</td>\n    </tr>\n  </tbody>\n</table>\n</div>"
     },
     "execution_count": 43,
     "metadata": {},
     "output_type": "execute_result"
    }
   ],
   "source": [
    "# Creating a dataframe that only includes the 25 most exported items in 2014, \n",
    "# while keeping only the 'country', 'item', 'year','other_uses', 'domestic_supply_quantity' columns\n",
    "q5a_2014 = data2[data2.year==2014]\n",
    "q5a_2014 = q5a_2014[q5a_2014.item.isin(most_exported_items_2014)].groupby(['country', 'item', 'year'], as_index = False)[['other_uses', 'domestic_supply_quantity']].sum()\n",
    "\n",
    "# Creating our 'other_uses' to 'domestic_supply_quantity' ratio column\n",
    "maskq5a = q5a_2014[\"domestic_supply_quantity\"] != 0  \n",
    "q5a_2014.loc[maskq5a,'ratio'] = q5a_2014.loc[maskq5a, 'other_uses']/q5a_2014.loc[maskq5a, 'domestic_supply_quantity']\n",
    "q5a_2014.ratio = q5a_2014.ratio.fillna(0)\n",
    "q5a_2014 = q5a_2014.sort_values(by=['ratio'], ascending = False).head(3)\n",
    "\n",
    "# Ditto for 2017\n",
    "q5a_2017 = data2[data2.year==2017]\n",
    "q5a_2017 = q5a_2017[q5a_2017.item.isin(most_exported_items_2017)].groupby(['country', 'item', 'year'], as_index = False)[['other_uses', 'domestic_supply_quantity']].sum()\n",
    "maskq5a = q5a_2017[\"domestic_supply_quantity\"] != 0  \n",
    "q5a_2017.loc[maskq5a,'ratio'] = q5a_2017.loc[maskq5a, 'other_uses']/q5a_2017.loc[maskq5a, 'domestic_supply_quantity']\n",
    "q5a_2017.ratio = q5a_2017.ratio.fillna(0)\n",
    "q5a_2017 = q5a_2017.sort_values(by=['ratio'], ascending = False).head(3)\n",
    "\n",
    "# Concatenating the two dataframes \n",
    "q5a = pd.concat([q5a_2014, q5a_2017]).reset_index(drop=True)\n",
    "\n",
    "q5a "
   ]
  },
  {
   "cell_type": "markdown",
   "metadata": {
    "pycharm": {
     "name": "#%% md\n"
    }
   },
   "source": [
    "  "
   ]
  },
  {
   "cell_type": "markdown",
   "metadata": {
    "pycharm": {
     "name": "#%% md\n"
    }
   },
   "source": [
    "- Have the greatest _feed_ to _(food+feed)_ ratio and what are they used for?"
   ]
  },
  {
   "cell_type": "code",
   "execution_count": 44,
   "metadata": {
    "pycharm": {
     "name": "#%%\n"
    }
   },
   "outputs": [
    {
     "data": {
      "text/plain": "                              country                  item  year  food  \\\n0                               Italy  Cassava and products  2014   0.0   \n1  Venezuela (Bolivarian Republic of)             Soyabeans  2014   0.0   \n2                          Tajikistan             Soyabeans  2014   0.0   \n3                               Benin             Soyabeans  2017   0.0   \n4                           Sri Lanka             Soyabeans  2017   0.0   \n5                              Turkey  Cassava and products  2017   0.0   \n\n    feed  ratio  \n0    1.0    1.0  \n1   54.0    1.0  \n2    2.0    1.0  \n3    2.0    1.0  \n4    1.0    1.0  \n5  259.0    1.0  ",
      "text/html": "<div>\n<style scoped>\n    .dataframe tbody tr th:only-of-type {\n        vertical-align: middle;\n    }\n\n    .dataframe tbody tr th {\n        vertical-align: top;\n    }\n\n    .dataframe thead th {\n        text-align: right;\n    }\n</style>\n<table border=\"1\" class=\"dataframe\">\n  <thead>\n    <tr style=\"text-align: right;\">\n      <th></th>\n      <th>country</th>\n      <th>item</th>\n      <th>year</th>\n      <th>food</th>\n      <th>feed</th>\n      <th>ratio</th>\n    </tr>\n  </thead>\n  <tbody>\n    <tr>\n      <th>0</th>\n      <td>Italy</td>\n      <td>Cassava and products</td>\n      <td>2014</td>\n      <td>0.0</td>\n      <td>1.0</td>\n      <td>1.0</td>\n    </tr>\n    <tr>\n      <th>1</th>\n      <td>Venezuela (Bolivarian Republic of)</td>\n      <td>Soyabeans</td>\n      <td>2014</td>\n      <td>0.0</td>\n      <td>54.0</td>\n      <td>1.0</td>\n    </tr>\n    <tr>\n      <th>2</th>\n      <td>Tajikistan</td>\n      <td>Soyabeans</td>\n      <td>2014</td>\n      <td>0.0</td>\n      <td>2.0</td>\n      <td>1.0</td>\n    </tr>\n    <tr>\n      <th>3</th>\n      <td>Benin</td>\n      <td>Soyabeans</td>\n      <td>2017</td>\n      <td>0.0</td>\n      <td>2.0</td>\n      <td>1.0</td>\n    </tr>\n    <tr>\n      <th>4</th>\n      <td>Sri Lanka</td>\n      <td>Soyabeans</td>\n      <td>2017</td>\n      <td>0.0</td>\n      <td>1.0</td>\n      <td>1.0</td>\n    </tr>\n    <tr>\n      <th>5</th>\n      <td>Turkey</td>\n      <td>Cassava and products</td>\n      <td>2017</td>\n      <td>0.0</td>\n      <td>259.0</td>\n      <td>1.0</td>\n    </tr>\n  </tbody>\n</table>\n</div>"
     },
     "execution_count": 44,
     "metadata": {},
     "output_type": "execute_result"
    }
   ],
   "source": [
    "# Creating a dataframe that only includes the 25 most exported items in 2014, \n",
    "# while keeping only the 'country', 'item', 'year','other_uses', 'domestic_supply_quantity' columns\n",
    "q5b_2014 = data2[data2.year==2014]\n",
    "q5b_2014 = q5b_2014[q5b_2014.item.isin(most_exported_items_2014)].groupby(['country', 'item', 'year'], as_index = False)[['food', 'feed']].sum()\n",
    "\n",
    "# Creating our 'other_uses' to 'domestic_supply_quantity' ratio column\n",
    "maskq5b = (q5b_2014['food'] + q5b_2014['feed']) != 0  \n",
    "q5b_2014.loc[maskq5b,'ratio'] = q5b_2014.loc[maskq5b, 'feed']/(q5b_2014.loc[maskq5b, 'feed'] + q5b_2014.loc[maskq5b, 'food'])\n",
    "q5b_2014.ratio = q5b_2014.ratio.fillna(0)\n",
    "q5b_2014 = q5b_2014.sort_values(by=['ratio'], ascending = False).head(3)\n",
    "\n",
    "# Ditto for 2017\n",
    "q5b_2017 = data2[data2.year==2017]\n",
    "q5b_2017 = q5b_2017[q5b_2017.item.isin(most_exported_items_2017)].groupby(['country', 'item', 'year'], as_index = False)[['food', 'feed']].sum()\n",
    "maskq5b = (q5b_2017['food'] + q5b_2017['feed']) != 0  \n",
    "q5b_2017.loc[maskq5b,'ratio'] = q5b_2017.loc[maskq5b, 'feed']/(q5b_2017.loc[maskq5b, 'feed']+q5b_2017.loc[maskq5b, 'food'])\n",
    "q5b_2017.ratio = q5b_2017.ratio.fillna(0)\n",
    "q5b_2017 = q5b_2017.sort_values(by=['ratio'], ascending = False).head(3)\n",
    "\n",
    "# Concatenating the two dataframes \n",
    "q5b = pd.concat([q5b_2014, q5b_2017]).reset_index(drop=True)\n",
    "\n",
    "q5b "
   ]
  },
  {
   "cell_type": "markdown",
   "metadata": {
    "pycharm": {
     "name": "#%% md\n"
    }
   },
   "source": [
    "  "
   ]
  },
  {
   "cell_type": "markdown",
   "metadata": {
    "pycharm": {
     "name": "#%% md\n"
    }
   },
   "source": [
    "**6. Taking only grains (cereals) for food and feed into account, what proportion (in terms of weight) is used for feed?**"
   ]
  },
  {
   "cell_type": "code",
   "execution_count": 45,
   "metadata": {
    "scrolled": true,
    "pycharm": {
     "name": "#%%\n"
    }
   },
   "outputs": [
    {
     "data": {
      "text/plain": "   year  percentage\n0  2014        43.0\n1  2017        44.0",
      "text/html": "<div>\n<style scoped>\n    .dataframe tbody tr th:only-of-type {\n        vertical-align: middle;\n    }\n\n    .dataframe tbody tr th {\n        vertical-align: top;\n    }\n\n    .dataframe thead th {\n        text-align: right;\n    }\n</style>\n<table border=\"1\" class=\"dataframe\">\n  <thead>\n    <tr style=\"text-align: right;\">\n      <th></th>\n      <th>year</th>\n      <th>percentage</th>\n    </tr>\n  </thead>\n  <tbody>\n    <tr>\n      <th>0</th>\n      <td>2014</td>\n      <td>43.0</td>\n    </tr>\n    <tr>\n      <th>1</th>\n      <td>2017</td>\n      <td>44.0</td>\n    </tr>\n  </tbody>\n</table>\n</div>"
     },
     "execution_count": 45,
     "metadata": {},
     "output_type": "execute_result"
    }
   ],
   "source": [
    "# Creating our list of cereal items\n",
    "cereals_data = pd.read_csv(\"../data/latest_v3/cereals.csv\")\n",
    "cereals = cereals_data['Item'].unique()\n",
    "cereals\n",
    "\n",
    "# Creating our dataframe that only includes the cereals items; \n",
    "# Grouped by year and item\n",
    "# Kept and summed the food and feed columns\n",
    "q6 = data2[data2['item'].isin(cereals)].groupby(['year'], as_index = False)[['food', 'feed']].sum()\n",
    "\n",
    "# Creating a mask to ensure no Inf values appear (due to division by 0)\n",
    "mask6 = (q6[\"food\"]+ q6[\"feed\"]) != 0 \n",
    "\n",
    "# Creating our final results (i.e. proportion column)\n",
    "q6.loc[mask6,'percentage'] = round(100*q6.loc[mask6, 'feed']/(q6.loc[mask6, 'food'] + q6.loc[mask6, 'feed']))\n",
    "q6[['year', 'percentage']]\n"
   ]
  },
  {
   "cell_type": "markdown",
   "metadata": {
    "pycharm": {
     "name": "#%% md\n"
    }
   },
   "source": [
    "  "
   ]
  },
  {
   "cell_type": "markdown",
   "metadata": {
    "pycharm": {
     "name": "#%% md\n"
    }
   },
   "source": [
    "**7. How many tons of grains (cereals) could be released if the US reduced its production of animal products by 10%? Convert this quantity to kcal, and the number of potentially fed humans.**"
   ]
  },
  {
   "cell_type": "code",
   "execution_count": 46,
   "metadata": {
    "scrolled": true,
    "pycharm": {
     "name": "#%%\n"
    }
   },
   "outputs": [
    {
     "data": {
      "text/plain": "   10%_feed_kg  10%_feed_kcal  potential_humans_fed\n0   14256200.0   3.944932e+10            15779727.0",
      "text/html": "<div>\n<style scoped>\n    .dataframe tbody tr th:only-of-type {\n        vertical-align: middle;\n    }\n\n    .dataframe tbody tr th {\n        vertical-align: top;\n    }\n\n    .dataframe thead th {\n        text-align: right;\n    }\n</style>\n<table border=\"1\" class=\"dataframe\">\n  <thead>\n    <tr style=\"text-align: right;\">\n      <th></th>\n      <th>10%_feed_kg</th>\n      <th>10%_feed_kcal</th>\n      <th>potential_humans_fed</th>\n    </tr>\n  </thead>\n  <tbody>\n    <tr>\n      <th>0</th>\n      <td>14256200.0</td>\n      <td>3.944932e+10</td>\n      <td>15779727.0</td>\n    </tr>\n  </tbody>\n</table>\n</div>"
     },
     "execution_count": 46,
     "metadata": {},
     "output_type": "execute_result"
    }
   ],
   "source": [
    "# Creating a dataframe containing only the cereals entries for the 'United States of America' for 2014\n",
    "q7 = data2[data2.item.isin(cereals)]\n",
    "q7 = q7[q7.country=='United States of America']\n",
    "q7 = q7[q7.year == 2014]\n",
    "\n",
    "# 10% of (cereals) feed in kg\n",
    "q7a = q7.feed.sum()*1000*0.1 \n",
    "\n",
    "# 10% of (cereals) feed in kcal\n",
    "q7b = round((q7.feed*1000*0.1  * q7.ratio_kcalkg).sum(), 0)\n",
    "\n",
    "# no. of potentially fed humans with the 10% cereals feed\n",
    "q7c = round(q7b/daily_calorie_req, 0)\n",
    "\n",
    "q7d = pd.DataFrame(np.array([[q7a, q7b, q7c]]), columns=['10%_feed_kg', '10%_feed_kcal', 'potential_humans_fed'])\n",
    "q7d"
   ]
  },
  {
   "cell_type": "code",
   "execution_count": 47,
   "metadata": {
    "pycharm": {
     "name": "#%%\n"
    }
   },
   "outputs": [
    {
     "data": {
      "text/plain": "   10%_feed_kg  10%_feed_kcal  potential_humans_fed\n0   14042400.0   3.915597e+10            15662387.0",
      "text/html": "<div>\n<style scoped>\n    .dataframe tbody tr th:only-of-type {\n        vertical-align: middle;\n    }\n\n    .dataframe tbody tr th {\n        vertical-align: top;\n    }\n\n    .dataframe thead th {\n        text-align: right;\n    }\n</style>\n<table border=\"1\" class=\"dataframe\">\n  <thead>\n    <tr style=\"text-align: right;\">\n      <th></th>\n      <th>10%_feed_kg</th>\n      <th>10%_feed_kcal</th>\n      <th>potential_humans_fed</th>\n    </tr>\n  </thead>\n  <tbody>\n    <tr>\n      <th>0</th>\n      <td>14042400.0</td>\n      <td>3.915597e+10</td>\n      <td>15662387.0</td>\n    </tr>\n  </tbody>\n</table>\n</div>"
     },
     "execution_count": 47,
     "metadata": {},
     "output_type": "execute_result"
    }
   ],
   "source": [
    "# Creating a dataframe containing only the cereals entries for the 'United States of America' for 2017\n",
    "q71 = data2[data2.item.isin(cereals)]\n",
    "q71 = q71[q71.country=='United States of America']\n",
    "q71 = q71[q71.year == 2017]\n",
    "\n",
    "# 10% of (cereals) feed in kg\n",
    "q71a = q71.feed.sum()*1000*0.1 \n",
    "\n",
    "# 10% of (cereals) feed in kcal\n",
    "q71b = round((q71.feed*1000*0.1  * q71.ratio_kcalkg).sum(), 0)\n",
    "\n",
    "# no. of potentially fed humans with the 10% cereals feed\n",
    "q71c = round(q71b/daily_calorie_req, 0)\n",
    "\n",
    "q71d = pd.DataFrame(np.array([[q71a, q71b, q71c]]), columns=['10%_feed_kg', '10%_feed_kcal', 'potential_humans_fed'])\n",
    "q71d"
   ]
  },
  {
   "cell_type": "markdown",
   "metadata": {
    "pycharm": {
     "name": "#%% md\n"
    }
   },
   "source": [
    "  "
   ]
  },
  {
   "cell_type": "markdown",
   "metadata": {
    "pycharm": {
     "name": "#%% md\n"
    }
   },
   "source": [
    "**8. In Thailand, what proportion of cassava is exported? What is the proportion of undernutrition?**"
   ]
  },
  {
   "cell_type": "code",
   "execution_count": 48,
   "metadata": {
    "pycharm": {
     "name": "#%%\n"
    }
   },
   "outputs": [
    {
     "data": {
      "text/plain": "       country                  item  proportion_exported_quantity  \\\nyear                                                                 \n2014  Thailand  Cassava and products                     25.425589   \n2017  Thailand  Cassava and products                     28.882315   \n\n      u_percentage  \nyear                \n2014      8.036383  \n2017      7.802362  ",
      "text/html": "<div>\n<style scoped>\n    .dataframe tbody tr th:only-of-type {\n        vertical-align: middle;\n    }\n\n    .dataframe tbody tr th {\n        vertical-align: top;\n    }\n\n    .dataframe thead th {\n        text-align: right;\n    }\n</style>\n<table border=\"1\" class=\"dataframe\">\n  <thead>\n    <tr style=\"text-align: right;\">\n      <th></th>\n      <th>country</th>\n      <th>item</th>\n      <th>proportion_exported_quantity</th>\n      <th>u_percentage</th>\n    </tr>\n    <tr>\n      <th>year</th>\n      <th></th>\n      <th></th>\n      <th></th>\n      <th></th>\n    </tr>\n  </thead>\n  <tbody>\n    <tr>\n      <th>2014</th>\n      <td>Thailand</td>\n      <td>Cassava and products</td>\n      <td>25.425589</td>\n      <td>8.036383</td>\n    </tr>\n    <tr>\n      <th>2017</th>\n      <td>Thailand</td>\n      <td>Cassava and products</td>\n      <td>28.882315</td>\n      <td>7.802362</td>\n    </tr>\n  </tbody>\n</table>\n</div>"
     },
     "execution_count": 48,
     "metadata": {},
     "output_type": "execute_result"
    }
   ],
   "source": [
    "q8 = data2[data2.country == 'Thailand']\n",
    "q8 = q8[q8.item == 'Cassava and products']\n",
    "#q8a = q8.item.unique()\n",
    "q8 = q8[['year','country','item','domestic_supply_quantity', 'export_quantity', 'feed', 'food', 'import_quantity', 'losses', \n",
    "         'other_uses', 'processing', 'production', 'seed', 'stock_variation', 'u_percentage']]\n",
    "q8['proportion_exported_quantity'] = 100*(q8['feed'] + q8['food'] + q8['losses'] + q8['other_uses'])/q8['export_quantity']\n",
    "q8[['year','country','item','proportion_exported_quantity', 'u_percentage']].set_index('year')"
   ]
  }
 ],
 "metadata": {
  "kernelspec": {
   "display_name": "Python 3",
   "language": "python",
   "name": "python3"
  },
  "language_info": {
   "codemirror_mode": {
    "name": "ipython",
    "version": 3
   },
   "file_extension": ".py",
   "mimetype": "text/x-python",
   "name": "python",
   "nbconvert_exporter": "python",
   "pygments_lexer": "ipython3",
   "version": "3.8.2"
  }
 },
 "nbformat": 4,
 "nbformat_minor": 4
}