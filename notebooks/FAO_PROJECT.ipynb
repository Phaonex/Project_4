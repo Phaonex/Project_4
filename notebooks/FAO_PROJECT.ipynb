{
 "cells": [
  {
   "cell_type": "markdown",
   "metadata": {},
   "source": [
    "# Conduct a public health study\n",
    "\n",
    "## Task 2 : Data Discovery\n",
    "\n",
    "Import data"
   ]
  },
  {
   "cell_type": "code",
   "execution_count": 9,
   "metadata": {},
   "outputs": [
    {
     "name": "stdout",
     "output_type": "stream",
     "text": [
      "Populating the interactive namespace from numpy and matplotlib\n"
     ]
    }
   ],
   "source": [
    "%pylab inline\n",
    "\n",
    "import numpy as np\n",
    "import pandas as pd\n",
    "import seaborn as sns\n",
    "\n",
    "veg = pd.read_csv('../data/categories/FAOSTAT_data_vegetable.csv')\n",
    "ani = pd.read_csv('../data/categories/FAOSTAT_data_Animal.csv')\n",
    "und = pd.read_csv('../data/categories/FAOSTAT_data_undernurische.csv')\n",
    "pop = pd.read_csv('../data/categories/FAOSTAT_data_population.csv')\n",
    "cereal_list = pd.read_csv('../data/categories/FAOSTAT_data_cereals.csv')"
   ]
  },
  {
   "cell_type": "code",
   "execution_count": 10,
   "metadata": {},
   "outputs": [
    {
     "data": {
      "text/plain": "  Domain Code                                          Domain  Area Code  \\\n0        FBSH  Food Balances (old methodology and population)          2   \n1        FBSH  Food Balances (old methodology and population)          2   \n2        FBSH  Food Balances (old methodology and population)          2   \n3        FBSH  Food Balances (old methodology and population)          2   \n4        FBSH  Food Balances (old methodology and population)          2   \n\n          Area  Element Code                   Element  Item Code  \\\n0  Afghanistan          5511                Production       2511   \n1  Afghanistan          5611           Import Quantity       2511   \n2  Afghanistan          5072           Stock Variation       2511   \n3  Afghanistan          5301  Domestic supply quantity       2511   \n4  Afghanistan          5527                      Seed       2511   \n\n                 Item  Year Code  Year         Unit   Value Flag  \\\n0  Wheat and products       2013  2013  1000 tonnes  5169.0    S   \n1  Wheat and products       2013  2013  1000 tonnes  1173.0    S   \n2  Wheat and products       2013  2013  1000 tonnes  -350.0    S   \n3  Wheat and products       2013  2013  1000 tonnes  5992.0    S   \n4  Wheat and products       2013  2013  1000 tonnes   322.0    S   \n\n    Flag Description  \n0  Standardized data  \n1  Standardized data  \n2  Standardized data  \n3  Standardized data  \n4  Standardized data  ",
      "text/html": "<div>\n<style scoped>\n    .dataframe tbody tr th:only-of-type {\n        vertical-align: middle;\n    }\n\n    .dataframe tbody tr th {\n        vertical-align: top;\n    }\n\n    .dataframe thead th {\n        text-align: right;\n    }\n</style>\n<table border=\"1\" class=\"dataframe\">\n  <thead>\n    <tr style=\"text-align: right;\">\n      <th></th>\n      <th>Domain Code</th>\n      <th>Domain</th>\n      <th>Area Code</th>\n      <th>Area</th>\n      <th>Element Code</th>\n      <th>Element</th>\n      <th>Item Code</th>\n      <th>Item</th>\n      <th>Year Code</th>\n      <th>Year</th>\n      <th>Unit</th>\n      <th>Value</th>\n      <th>Flag</th>\n      <th>Flag Description</th>\n    </tr>\n  </thead>\n  <tbody>\n    <tr>\n      <th>0</th>\n      <td>FBSH</td>\n      <td>Food Balances (old methodology and population)</td>\n      <td>2</td>\n      <td>Afghanistan</td>\n      <td>5511</td>\n      <td>Production</td>\n      <td>2511</td>\n      <td>Wheat and products</td>\n      <td>2013</td>\n      <td>2013</td>\n      <td>1000 tonnes</td>\n      <td>5169.0</td>\n      <td>S</td>\n      <td>Standardized data</td>\n    </tr>\n    <tr>\n      <th>1</th>\n      <td>FBSH</td>\n      <td>Food Balances (old methodology and population)</td>\n      <td>2</td>\n      <td>Afghanistan</td>\n      <td>5611</td>\n      <td>Import Quantity</td>\n      <td>2511</td>\n      <td>Wheat and products</td>\n      <td>2013</td>\n      <td>2013</td>\n      <td>1000 tonnes</td>\n      <td>1173.0</td>\n      <td>S</td>\n      <td>Standardized data</td>\n    </tr>\n    <tr>\n      <th>2</th>\n      <td>FBSH</td>\n      <td>Food Balances (old methodology and population)</td>\n      <td>2</td>\n      <td>Afghanistan</td>\n      <td>5072</td>\n      <td>Stock Variation</td>\n      <td>2511</td>\n      <td>Wheat and products</td>\n      <td>2013</td>\n      <td>2013</td>\n      <td>1000 tonnes</td>\n      <td>-350.0</td>\n      <td>S</td>\n      <td>Standardized data</td>\n    </tr>\n    <tr>\n      <th>3</th>\n      <td>FBSH</td>\n      <td>Food Balances (old methodology and population)</td>\n      <td>2</td>\n      <td>Afghanistan</td>\n      <td>5301</td>\n      <td>Domestic supply quantity</td>\n      <td>2511</td>\n      <td>Wheat and products</td>\n      <td>2013</td>\n      <td>2013</td>\n      <td>1000 tonnes</td>\n      <td>5992.0</td>\n      <td>S</td>\n      <td>Standardized data</td>\n    </tr>\n    <tr>\n      <th>4</th>\n      <td>FBSH</td>\n      <td>Food Balances (old methodology and population)</td>\n      <td>2</td>\n      <td>Afghanistan</td>\n      <td>5527</td>\n      <td>Seed</td>\n      <td>2511</td>\n      <td>Wheat and products</td>\n      <td>2013</td>\n      <td>2013</td>\n      <td>1000 tonnes</td>\n      <td>322.0</td>\n      <td>S</td>\n      <td>Standardized data</td>\n    </tr>\n  </tbody>\n</table>\n</div>"
     },
     "execution_count": 10,
     "metadata": {},
     "output_type": "execute_result"
    }
   ],
   "source": [
    "veg.head()"
   ]
  },
  {
   "cell_type": "code",
   "execution_count": 11,
   "metadata": {},
   "outputs": [
    {
     "data": {
      "text/plain": "  Domain Code                                          Domain  Area Code  \\\n0        FBSH  Food Balances (old methodology and population)          2   \n1        FBSH  Food Balances (old methodology and population)          2   \n2        FBSH  Food Balances (old methodology and population)          2   \n3        FBSH  Food Balances (old methodology and population)          2   \n4        FBSH  Food Balances (old methodology and population)          2   \n\n          Area  Element Code                              Element  Item Code  \\\n0  Afghanistan          5511                           Production       2731   \n1  Afghanistan          5611                      Import Quantity       2731   \n2  Afghanistan          5301             Domestic supply quantity       2731   \n3  Afghanistan          5142                                 Food       2731   \n4  Afghanistan           645  Food supply quantity (kg/capita/yr)       2731   \n\n          Item  Year Code  Year         Unit   Value Flag   Flag Description  \n0  Bovine Meat       2013  2013  1000 tonnes  134.00    S  Standardized data  \n1  Bovine Meat       2013  2013  1000 tonnes    6.00    S  Standardized data  \n2  Bovine Meat       2013  2013  1000 tonnes  140.00    S  Standardized data  \n3  Bovine Meat       2013  2013  1000 tonnes  140.00    S  Standardized data  \n4  Bovine Meat       2013  2013           kg    4.59   Fc    Calculated data  ",
      "text/html": "<div>\n<style scoped>\n    .dataframe tbody tr th:only-of-type {\n        vertical-align: middle;\n    }\n\n    .dataframe tbody tr th {\n        vertical-align: top;\n    }\n\n    .dataframe thead th {\n        text-align: right;\n    }\n</style>\n<table border=\"1\" class=\"dataframe\">\n  <thead>\n    <tr style=\"text-align: right;\">\n      <th></th>\n      <th>Domain Code</th>\n      <th>Domain</th>\n      <th>Area Code</th>\n      <th>Area</th>\n      <th>Element Code</th>\n      <th>Element</th>\n      <th>Item Code</th>\n      <th>Item</th>\n      <th>Year Code</th>\n      <th>Year</th>\n      <th>Unit</th>\n      <th>Value</th>\n      <th>Flag</th>\n      <th>Flag Description</th>\n    </tr>\n  </thead>\n  <tbody>\n    <tr>\n      <th>0</th>\n      <td>FBSH</td>\n      <td>Food Balances (old methodology and population)</td>\n      <td>2</td>\n      <td>Afghanistan</td>\n      <td>5511</td>\n      <td>Production</td>\n      <td>2731</td>\n      <td>Bovine Meat</td>\n      <td>2013</td>\n      <td>2013</td>\n      <td>1000 tonnes</td>\n      <td>134.00</td>\n      <td>S</td>\n      <td>Standardized data</td>\n    </tr>\n    <tr>\n      <th>1</th>\n      <td>FBSH</td>\n      <td>Food Balances (old methodology and population)</td>\n      <td>2</td>\n      <td>Afghanistan</td>\n      <td>5611</td>\n      <td>Import Quantity</td>\n      <td>2731</td>\n      <td>Bovine Meat</td>\n      <td>2013</td>\n      <td>2013</td>\n      <td>1000 tonnes</td>\n      <td>6.00</td>\n      <td>S</td>\n      <td>Standardized data</td>\n    </tr>\n    <tr>\n      <th>2</th>\n      <td>FBSH</td>\n      <td>Food Balances (old methodology and population)</td>\n      <td>2</td>\n      <td>Afghanistan</td>\n      <td>5301</td>\n      <td>Domestic supply quantity</td>\n      <td>2731</td>\n      <td>Bovine Meat</td>\n      <td>2013</td>\n      <td>2013</td>\n      <td>1000 tonnes</td>\n      <td>140.00</td>\n      <td>S</td>\n      <td>Standardized data</td>\n    </tr>\n    <tr>\n      <th>3</th>\n      <td>FBSH</td>\n      <td>Food Balances (old methodology and population)</td>\n      <td>2</td>\n      <td>Afghanistan</td>\n      <td>5142</td>\n      <td>Food</td>\n      <td>2731</td>\n      <td>Bovine Meat</td>\n      <td>2013</td>\n      <td>2013</td>\n      <td>1000 tonnes</td>\n      <td>140.00</td>\n      <td>S</td>\n      <td>Standardized data</td>\n    </tr>\n    <tr>\n      <th>4</th>\n      <td>FBSH</td>\n      <td>Food Balances (old methodology and population)</td>\n      <td>2</td>\n      <td>Afghanistan</td>\n      <td>645</td>\n      <td>Food supply quantity (kg/capita/yr)</td>\n      <td>2731</td>\n      <td>Bovine Meat</td>\n      <td>2013</td>\n      <td>2013</td>\n      <td>kg</td>\n      <td>4.59</td>\n      <td>Fc</td>\n      <td>Calculated data</td>\n    </tr>\n  </tbody>\n</table>\n</div>"
     },
     "execution_count": 11,
     "metadata": {},
     "output_type": "execute_result"
    }
   ],
   "source": [
    "ani.head()"
   ]
  },
  {
   "cell_type": "code",
   "execution_count": 12,
   "metadata": {},
   "outputs": [
    {
     "data": {
      "text/plain": "  Domain Code                             Domain  Area Code         Area  \\\n0          FS  Suite of Food Security Indicators          2  Afghanistan   \n1          FS  Suite of Food Security Indicators          2  Afghanistan   \n2          FS  Suite of Food Security Indicators          2  Afghanistan   \n3          FS  Suite of Food Security Indicators          2  Afghanistan   \n4          FS  Suite of Food Security Indicators          2  Afghanistan   \n\n   Element Code Element  Item Code  \\\n0          6132   Value     210011   \n1          6132   Value     210011   \n2          6132   Value     210011   \n3          6132   Value     210011   \n4          6132   Value     210011   \n\n                                                Item  Year Code       Year  \\\n0  Number of people undernourished (million) (3-y...   19992001  1999-2001   \n1  Number of people undernourished (million) (3-y...   20002002  2000-2002   \n2  Number of people undernourished (million) (3-y...   20012003  2001-2003   \n3  Number of people undernourished (million) (3-y...   20022004  2002-2004   \n4  Number of people undernourished (million) (3-y...   20032005  2003-2005   \n\n       Unit Value Flag Flag Description  Note  \n0  millions   9.3    F     FAO estimate   NaN  \n1  millions   9.8    F     FAO estimate   NaN  \n2  millions   9.6    F     FAO estimate   NaN  \n3  millions   9.2    F     FAO estimate   NaN  \n4  millions   8.7    F     FAO estimate   NaN  ",
      "text/html": "<div>\n<style scoped>\n    .dataframe tbody tr th:only-of-type {\n        vertical-align: middle;\n    }\n\n    .dataframe tbody tr th {\n        vertical-align: top;\n    }\n\n    .dataframe thead th {\n        text-align: right;\n    }\n</style>\n<table border=\"1\" class=\"dataframe\">\n  <thead>\n    <tr style=\"text-align: right;\">\n      <th></th>\n      <th>Domain Code</th>\n      <th>Domain</th>\n      <th>Area Code</th>\n      <th>Area</th>\n      <th>Element Code</th>\n      <th>Element</th>\n      <th>Item Code</th>\n      <th>Item</th>\n      <th>Year Code</th>\n      <th>Year</th>\n      <th>Unit</th>\n      <th>Value</th>\n      <th>Flag</th>\n      <th>Flag Description</th>\n      <th>Note</th>\n    </tr>\n  </thead>\n  <tbody>\n    <tr>\n      <th>0</th>\n      <td>FS</td>\n      <td>Suite of Food Security Indicators</td>\n      <td>2</td>\n      <td>Afghanistan</td>\n      <td>6132</td>\n      <td>Value</td>\n      <td>210011</td>\n      <td>Number of people undernourished (million) (3-y...</td>\n      <td>19992001</td>\n      <td>1999-2001</td>\n      <td>millions</td>\n      <td>9.3</td>\n      <td>F</td>\n      <td>FAO estimate</td>\n      <td>NaN</td>\n    </tr>\n    <tr>\n      <th>1</th>\n      <td>FS</td>\n      <td>Suite of Food Security Indicators</td>\n      <td>2</td>\n      <td>Afghanistan</td>\n      <td>6132</td>\n      <td>Value</td>\n      <td>210011</td>\n      <td>Number of people undernourished (million) (3-y...</td>\n      <td>20002002</td>\n      <td>2000-2002</td>\n      <td>millions</td>\n      <td>9.8</td>\n      <td>F</td>\n      <td>FAO estimate</td>\n      <td>NaN</td>\n    </tr>\n    <tr>\n      <th>2</th>\n      <td>FS</td>\n      <td>Suite of Food Security Indicators</td>\n      <td>2</td>\n      <td>Afghanistan</td>\n      <td>6132</td>\n      <td>Value</td>\n      <td>210011</td>\n      <td>Number of people undernourished (million) (3-y...</td>\n      <td>20012003</td>\n      <td>2001-2003</td>\n      <td>millions</td>\n      <td>9.6</td>\n      <td>F</td>\n      <td>FAO estimate</td>\n      <td>NaN</td>\n    </tr>\n    <tr>\n      <th>3</th>\n      <td>FS</td>\n      <td>Suite of Food Security Indicators</td>\n      <td>2</td>\n      <td>Afghanistan</td>\n      <td>6132</td>\n      <td>Value</td>\n      <td>210011</td>\n      <td>Number of people undernourished (million) (3-y...</td>\n      <td>20022004</td>\n      <td>2002-2004</td>\n      <td>millions</td>\n      <td>9.2</td>\n      <td>F</td>\n      <td>FAO estimate</td>\n      <td>NaN</td>\n    </tr>\n    <tr>\n      <th>4</th>\n      <td>FS</td>\n      <td>Suite of Food Security Indicators</td>\n      <td>2</td>\n      <td>Afghanistan</td>\n      <td>6132</td>\n      <td>Value</td>\n      <td>210011</td>\n      <td>Number of people undernourished (million) (3-y...</td>\n      <td>20032005</td>\n      <td>2003-2005</td>\n      <td>millions</td>\n      <td>8.7</td>\n      <td>F</td>\n      <td>FAO estimate</td>\n      <td>NaN</td>\n    </tr>\n  </tbody>\n</table>\n</div>"
     },
     "execution_count": 12,
     "metadata": {},
     "output_type": "execute_result"
    }
   ],
   "source": [
    "und.head()"
   ]
  },
  {
   "cell_type": "code",
   "execution_count": 13,
   "metadata": {},
   "outputs": [
    {
     "data": {
      "text/plain": "  Domain Code                                          Domain  Area Code  \\\n0        FBSH  Food Balances (old methodology and population)          2   \n1        FBSH  Food Balances (old methodology and population)          3   \n2        FBSH  Food Balances (old methodology and population)          4   \n3        FBSH  Food Balances (old methodology and population)          7   \n4        FBSH  Food Balances (old methodology and population)          8   \n\n                  Area  Element Code                        Element  \\\n0          Afghanistan           511  Total Population - Both sexes   \n1              Albania           511  Total Population - Both sexes   \n2              Algeria           511  Total Population - Both sexes   \n3               Angola           511  Total Population - Both sexes   \n4  Antigua and Barbuda           511  Total Population - Both sexes   \n\n   Item Code        Item  Year Code  Year          Unit  Value Flag  \\\n0       2501  Population       2013  2013  1000 persons  30552  NaN   \n1       2501  Population       2013  2013  1000 persons   3173  NaN   \n2       2501  Population       2013  2013  1000 persons  39208  NaN   \n3       2501  Population       2013  2013  1000 persons  21472  NaN   \n4       2501  Population       2013  2013  1000 persons     90  NaN   \n\n  Flag Description  \n0    Official data  \n1    Official data  \n2    Official data  \n3    Official data  \n4    Official data  ",
      "text/html": "<div>\n<style scoped>\n    .dataframe tbody tr th:only-of-type {\n        vertical-align: middle;\n    }\n\n    .dataframe tbody tr th {\n        vertical-align: top;\n    }\n\n    .dataframe thead th {\n        text-align: right;\n    }\n</style>\n<table border=\"1\" class=\"dataframe\">\n  <thead>\n    <tr style=\"text-align: right;\">\n      <th></th>\n      <th>Domain Code</th>\n      <th>Domain</th>\n      <th>Area Code</th>\n      <th>Area</th>\n      <th>Element Code</th>\n      <th>Element</th>\n      <th>Item Code</th>\n      <th>Item</th>\n      <th>Year Code</th>\n      <th>Year</th>\n      <th>Unit</th>\n      <th>Value</th>\n      <th>Flag</th>\n      <th>Flag Description</th>\n    </tr>\n  </thead>\n  <tbody>\n    <tr>\n      <th>0</th>\n      <td>FBSH</td>\n      <td>Food Balances (old methodology and population)</td>\n      <td>2</td>\n      <td>Afghanistan</td>\n      <td>511</td>\n      <td>Total Population - Both sexes</td>\n      <td>2501</td>\n      <td>Population</td>\n      <td>2013</td>\n      <td>2013</td>\n      <td>1000 persons</td>\n      <td>30552</td>\n      <td>NaN</td>\n      <td>Official data</td>\n    </tr>\n    <tr>\n      <th>1</th>\n      <td>FBSH</td>\n      <td>Food Balances (old methodology and population)</td>\n      <td>3</td>\n      <td>Albania</td>\n      <td>511</td>\n      <td>Total Population - Both sexes</td>\n      <td>2501</td>\n      <td>Population</td>\n      <td>2013</td>\n      <td>2013</td>\n      <td>1000 persons</td>\n      <td>3173</td>\n      <td>NaN</td>\n      <td>Official data</td>\n    </tr>\n    <tr>\n      <th>2</th>\n      <td>FBSH</td>\n      <td>Food Balances (old methodology and population)</td>\n      <td>4</td>\n      <td>Algeria</td>\n      <td>511</td>\n      <td>Total Population - Both sexes</td>\n      <td>2501</td>\n      <td>Population</td>\n      <td>2013</td>\n      <td>2013</td>\n      <td>1000 persons</td>\n      <td>39208</td>\n      <td>NaN</td>\n      <td>Official data</td>\n    </tr>\n    <tr>\n      <th>3</th>\n      <td>FBSH</td>\n      <td>Food Balances (old methodology and population)</td>\n      <td>7</td>\n      <td>Angola</td>\n      <td>511</td>\n      <td>Total Population - Both sexes</td>\n      <td>2501</td>\n      <td>Population</td>\n      <td>2013</td>\n      <td>2013</td>\n      <td>1000 persons</td>\n      <td>21472</td>\n      <td>NaN</td>\n      <td>Official data</td>\n    </tr>\n    <tr>\n      <th>4</th>\n      <td>FBSH</td>\n      <td>Food Balances (old methodology and population)</td>\n      <td>8</td>\n      <td>Antigua and Barbuda</td>\n      <td>511</td>\n      <td>Total Population - Both sexes</td>\n      <td>2501</td>\n      <td>Population</td>\n      <td>2013</td>\n      <td>2013</td>\n      <td>1000 persons</td>\n      <td>90</td>\n      <td>NaN</td>\n      <td>Official data</td>\n    </tr>\n  </tbody>\n</table>\n</div>"
     },
     "execution_count": 13,
     "metadata": {},
     "output_type": "execute_result"
    }
   ],
   "source": [
    "pop.head()"
   ]
  },
  {
   "cell_type": "code",
   "execution_count": 14,
   "metadata": {},
   "outputs": [
    {
     "data": {
      "text/plain": "  Domain Code                                          Domain  Area Code  \\\n0        FBSH  Food Balances (old methodology and population)       5000   \n1        FBSH  Food Balances (old methodology and population)       5000   \n2        FBSH  Food Balances (old methodology and population)       5000   \n3        FBSH  Food Balances (old methodology and population)       5000   \n4        FBSH  Food Balances (old methodology and population)       5000   \n\n    Area  Element Code     Element  Item Code                      Item  \\\n0  World          5511  Production       2511        Wheat and products   \n1  World          5511  Production       2805  Rice (Milled Equivalent)   \n2  World          5511  Production       2513       Barley and products   \n3  World          5511  Production       2514        Maize and products   \n4  World          5511  Production       2515          Rye and products   \n\n   Year Code  Year         Unit    Value Flag  \\\n0       2013  2013  1000 tonnes   708443    A   \n1       2013  2013  1000 tonnes   495447    A   \n2       2013  2013  1000 tonnes   142460    A   \n3       2013  2013  1000 tonnes  1017031    A   \n4       2013  2013  1000 tonnes    16711    A   \n\n                                    Flag Description  \n0  Aggregate, may include official, semi-official...  \n1  Aggregate, may include official, semi-official...  \n2  Aggregate, may include official, semi-official...  \n3  Aggregate, may include official, semi-official...  \n4  Aggregate, may include official, semi-official...  ",
      "text/html": "<div>\n<style scoped>\n    .dataframe tbody tr th:only-of-type {\n        vertical-align: middle;\n    }\n\n    .dataframe tbody tr th {\n        vertical-align: top;\n    }\n\n    .dataframe thead th {\n        text-align: right;\n    }\n</style>\n<table border=\"1\" class=\"dataframe\">\n  <thead>\n    <tr style=\"text-align: right;\">\n      <th></th>\n      <th>Domain Code</th>\n      <th>Domain</th>\n      <th>Area Code</th>\n      <th>Area</th>\n      <th>Element Code</th>\n      <th>Element</th>\n      <th>Item Code</th>\n      <th>Item</th>\n      <th>Year Code</th>\n      <th>Year</th>\n      <th>Unit</th>\n      <th>Value</th>\n      <th>Flag</th>\n      <th>Flag Description</th>\n    </tr>\n  </thead>\n  <tbody>\n    <tr>\n      <th>0</th>\n      <td>FBSH</td>\n      <td>Food Balances (old methodology and population)</td>\n      <td>5000</td>\n      <td>World</td>\n      <td>5511</td>\n      <td>Production</td>\n      <td>2511</td>\n      <td>Wheat and products</td>\n      <td>2013</td>\n      <td>2013</td>\n      <td>1000 tonnes</td>\n      <td>708443</td>\n      <td>A</td>\n      <td>Aggregate, may include official, semi-official...</td>\n    </tr>\n    <tr>\n      <th>1</th>\n      <td>FBSH</td>\n      <td>Food Balances (old methodology and population)</td>\n      <td>5000</td>\n      <td>World</td>\n      <td>5511</td>\n      <td>Production</td>\n      <td>2805</td>\n      <td>Rice (Milled Equivalent)</td>\n      <td>2013</td>\n      <td>2013</td>\n      <td>1000 tonnes</td>\n      <td>495447</td>\n      <td>A</td>\n      <td>Aggregate, may include official, semi-official...</td>\n    </tr>\n    <tr>\n      <th>2</th>\n      <td>FBSH</td>\n      <td>Food Balances (old methodology and population)</td>\n      <td>5000</td>\n      <td>World</td>\n      <td>5511</td>\n      <td>Production</td>\n      <td>2513</td>\n      <td>Barley and products</td>\n      <td>2013</td>\n      <td>2013</td>\n      <td>1000 tonnes</td>\n      <td>142460</td>\n      <td>A</td>\n      <td>Aggregate, may include official, semi-official...</td>\n    </tr>\n    <tr>\n      <th>3</th>\n      <td>FBSH</td>\n      <td>Food Balances (old methodology and population)</td>\n      <td>5000</td>\n      <td>World</td>\n      <td>5511</td>\n      <td>Production</td>\n      <td>2514</td>\n      <td>Maize and products</td>\n      <td>2013</td>\n      <td>2013</td>\n      <td>1000 tonnes</td>\n      <td>1017031</td>\n      <td>A</td>\n      <td>Aggregate, may include official, semi-official...</td>\n    </tr>\n    <tr>\n      <th>4</th>\n      <td>FBSH</td>\n      <td>Food Balances (old methodology and population)</td>\n      <td>5000</td>\n      <td>World</td>\n      <td>5511</td>\n      <td>Production</td>\n      <td>2515</td>\n      <td>Rye and products</td>\n      <td>2013</td>\n      <td>2013</td>\n      <td>1000 tonnes</td>\n      <td>16711</td>\n      <td>A</td>\n      <td>Aggregate, may include official, semi-official...</td>\n    </tr>\n  </tbody>\n</table>\n</div>"
     },
     "execution_count": 14,
     "metadata": {},
     "output_type": "execute_result"
    }
   ],
   "source": [
    "cereal_list.head()"
   ]
  },
  {
   "cell_type": "markdown",
   "metadata": {},
   "source": [
    "Remove useless columns"
   ]
  },
  {
   "cell_type": "code",
   "execution_count": 15,
   "metadata": {},
   "outputs": [
    {
     "ename": "ValueError",
     "evalue": "Length mismatch: Expected axis has 15 elements, new values have 14 elements",
     "output_type": "error",
     "traceback": [
      "\u001B[0;31m---------------------------------------------------------------------------\u001B[0m",
      "\u001B[0;31mValueError\u001B[0m                                Traceback (most recent call last)",
      "\u001B[0;32m<ipython-input-15-85ec1f2b5d7d>\u001B[0m in \u001B[0;36m<module>\u001B[0;34m\u001B[0m\n\u001B[1;32m      2\u001B[0m \u001B[0mto_delete\u001B[0m \u001B[0;34m=\u001B[0m \u001B[0;34m[\u001B[0m\u001B[0;34m\"xx\"\u001B[0m\u001B[0;34m,\u001B[0m\u001B[0;34m\"xx2\"\u001B[0m\u001B[0;34m,\u001B[0m\u001B[0;34m\"xx3\"\u001B[0m\u001B[0;34m,\u001B[0m\u001B[0;34m\"xx4\"\u001B[0m\u001B[0;34m]\u001B[0m\u001B[0;34m\u001B[0m\u001B[0;34m\u001B[0m\u001B[0m\n\u001B[1;32m      3\u001B[0m \u001B[0;32mfor\u001B[0m \u001B[0mdf\u001B[0m \u001B[0;32min\u001B[0m \u001B[0;34m[\u001B[0m\u001B[0mveg\u001B[0m\u001B[0;34m,\u001B[0m\u001B[0mani\u001B[0m\u001B[0;34m,\u001B[0m\u001B[0mund\u001B[0m\u001B[0;34m,\u001B[0m\u001B[0mpop\u001B[0m\u001B[0;34m]\u001B[0m\u001B[0;34m:\u001B[0m\u001B[0;34m\u001B[0m\u001B[0;34m\u001B[0m\u001B[0m\n\u001B[0;32m----> 4\u001B[0;31m     \u001B[0mdf\u001B[0m\u001B[0;34m.\u001B[0m\u001B[0mcolumns\u001B[0m \u001B[0;34m=\u001B[0m \u001B[0morig_cols\u001B[0m\u001B[0;34m\u001B[0m\u001B[0;34m\u001B[0m\u001B[0m\n\u001B[0m\u001B[1;32m      5\u001B[0m     \u001B[0;32mfor\u001B[0m \u001B[0mcol\u001B[0m \u001B[0;32min\u001B[0m \u001B[0mto_delete\u001B[0m\u001B[0;34m:\u001B[0m\u001B[0;34m\u001B[0m\u001B[0;34m\u001B[0m\u001B[0m\n\u001B[1;32m      6\u001B[0m         \u001B[0;32mdel\u001B[0m \u001B[0mdf\u001B[0m\u001B[0;34m[\u001B[0m\u001B[0mcol\u001B[0m\u001B[0;34m]\u001B[0m\u001B[0;34m\u001B[0m\u001B[0;34m\u001B[0m\u001B[0m\n",
      "\u001B[0;32m~/.conda/envs/untitled1/lib/python3.7/site-packages/pandas/core/generic.py\u001B[0m in \u001B[0;36m__setattr__\u001B[0;34m(self, name, value)\u001B[0m\n\u001B[1;32m   5285\u001B[0m         \u001B[0;32mtry\u001B[0m\u001B[0;34m:\u001B[0m\u001B[0;34m\u001B[0m\u001B[0;34m\u001B[0m\u001B[0m\n\u001B[1;32m   5286\u001B[0m             \u001B[0mobject\u001B[0m\u001B[0;34m.\u001B[0m\u001B[0m__getattribute__\u001B[0m\u001B[0;34m(\u001B[0m\u001B[0mself\u001B[0m\u001B[0;34m,\u001B[0m \u001B[0mname\u001B[0m\u001B[0;34m)\u001B[0m\u001B[0;34m\u001B[0m\u001B[0;34m\u001B[0m\u001B[0m\n\u001B[0;32m-> 5287\u001B[0;31m             \u001B[0;32mreturn\u001B[0m \u001B[0mobject\u001B[0m\u001B[0;34m.\u001B[0m\u001B[0m__setattr__\u001B[0m\u001B[0;34m(\u001B[0m\u001B[0mself\u001B[0m\u001B[0;34m,\u001B[0m \u001B[0mname\u001B[0m\u001B[0;34m,\u001B[0m \u001B[0mvalue\u001B[0m\u001B[0;34m)\u001B[0m\u001B[0;34m\u001B[0m\u001B[0;34m\u001B[0m\u001B[0m\n\u001B[0m\u001B[1;32m   5288\u001B[0m         \u001B[0;32mexcept\u001B[0m \u001B[0mAttributeError\u001B[0m\u001B[0;34m:\u001B[0m\u001B[0;34m\u001B[0m\u001B[0;34m\u001B[0m\u001B[0m\n\u001B[1;32m   5289\u001B[0m             \u001B[0;32mpass\u001B[0m\u001B[0;34m\u001B[0m\u001B[0;34m\u001B[0m\u001B[0m\n",
      "\u001B[0;32mpandas/_libs/properties.pyx\u001B[0m in \u001B[0;36mpandas._libs.properties.AxisProperty.__set__\u001B[0;34m()\u001B[0m\n",
      "\u001B[0;32m~/.conda/envs/untitled1/lib/python3.7/site-packages/pandas/core/generic.py\u001B[0m in \u001B[0;36m_set_axis\u001B[0;34m(self, axis, labels)\u001B[0m\n\u001B[1;32m    659\u001B[0m \u001B[0;34m\u001B[0m\u001B[0m\n\u001B[1;32m    660\u001B[0m     \u001B[0;32mdef\u001B[0m \u001B[0m_set_axis\u001B[0m\u001B[0;34m(\u001B[0m\u001B[0mself\u001B[0m\u001B[0;34m,\u001B[0m \u001B[0maxis\u001B[0m\u001B[0;34m,\u001B[0m \u001B[0mlabels\u001B[0m\u001B[0;34m)\u001B[0m \u001B[0;34m->\u001B[0m \u001B[0;32mNone\u001B[0m\u001B[0;34m:\u001B[0m\u001B[0;34m\u001B[0m\u001B[0;34m\u001B[0m\u001B[0m\n\u001B[0;32m--> 661\u001B[0;31m         \u001B[0mself\u001B[0m\u001B[0;34m.\u001B[0m\u001B[0m_data\u001B[0m\u001B[0;34m.\u001B[0m\u001B[0mset_axis\u001B[0m\u001B[0;34m(\u001B[0m\u001B[0maxis\u001B[0m\u001B[0;34m,\u001B[0m \u001B[0mlabels\u001B[0m\u001B[0;34m)\u001B[0m\u001B[0;34m\u001B[0m\u001B[0;34m\u001B[0m\u001B[0m\n\u001B[0m\u001B[1;32m    662\u001B[0m         \u001B[0mself\u001B[0m\u001B[0;34m.\u001B[0m\u001B[0m_clear_item_cache\u001B[0m\u001B[0;34m(\u001B[0m\u001B[0;34m)\u001B[0m\u001B[0;34m\u001B[0m\u001B[0;34m\u001B[0m\u001B[0m\n\u001B[1;32m    663\u001B[0m \u001B[0;34m\u001B[0m\u001B[0m\n",
      "\u001B[0;32m~/.conda/envs/untitled1/lib/python3.7/site-packages/pandas/core/internals/managers.py\u001B[0m in \u001B[0;36mset_axis\u001B[0;34m(self, axis, new_labels)\u001B[0m\n\u001B[1;32m    176\u001B[0m         \u001B[0;32mif\u001B[0m \u001B[0mnew_len\u001B[0m \u001B[0;34m!=\u001B[0m \u001B[0mold_len\u001B[0m\u001B[0;34m:\u001B[0m\u001B[0;34m\u001B[0m\u001B[0;34m\u001B[0m\u001B[0m\n\u001B[1;32m    177\u001B[0m             raise ValueError(\n\u001B[0;32m--> 178\u001B[0;31m                 \u001B[0;34mf\"Length mismatch: Expected axis has {old_len} elements, new \"\u001B[0m\u001B[0;34m\u001B[0m\u001B[0;34m\u001B[0m\u001B[0m\n\u001B[0m\u001B[1;32m    179\u001B[0m                 \u001B[0;34mf\"values have {new_len} elements\"\u001B[0m\u001B[0;34m\u001B[0m\u001B[0;34m\u001B[0m\u001B[0m\n\u001B[1;32m    180\u001B[0m             )\n",
      "\u001B[0;31mValueError\u001B[0m: Length mismatch: Expected axis has 15 elements, new values have 14 elements"
     ]
    }
   ],
   "source": [
    "orig_cols = [\"xx\",\"xx2\",\"country_code\",\"country\",'xx3','element','item_code','item','xx4',\"year\",\"unit\",\"value\",'flag','flag_desc']\n",
    "to_delete = [\"xx\",\"xx2\",\"xx3\",\"xx4\"]\n",
    "for df in [veg,ani,und,pop]:\n",
    "    df.columns = orig_cols\n",
    "    for col in to_delete:\n",
    "        del df[col]"
   ]
  },
  {
   "cell_type": "markdown",
   "metadata": {},
   "source": [
    "Transform column \"year\" of undernourishment dataframe"
   ]
  },
  {
   "cell_type": "code",
   "execution_count": null,
   "metadata": {},
   "outputs": [],
   "source": [
    "transf = {\n",
    "    '2004-2006': 2005,\n",
    "    '2005-2007': 2006,\n",
    "    '2006-2008': 2007,\n",
    "    '2007-2009': 2008,\n",
    "    '2008-2010': 2009,\n",
    "    '2009-2011': 2010,\n",
    "    '2010-2012': 2011,\n",
    "    '2011-2013': 2012,\n",
    "    '2012-2014': 2013,\n",
    "    '2013-2015': 2014,\n",
    "    '2014-2016': 2015,\n",
    "    '2015-2017': 2016,\n",
    "    '2016-2018': 2017,\n",
    "    '2017-2019': 2018,\n",
    "    '2018-2020': 2019,\n",
    "}\n",
    "und[\"year\"] = [transf[v] for v in und[\"year\"].values]\n",
    "und.head()"
   ]
  },
  {
   "cell_type": "markdown",
   "metadata": {},
   "source": [
    "***Identify the primary key of each table and test them.***"
   ]
  },
  {
   "cell_type": "code",
   "execution_count": 18,
   "metadata": {},
   "outputs": [
    {
     "ename": "KeyError",
     "evalue": "\"None of [Index(['country_code', 'year'], dtype='object')] are in the [columns]\"",
     "output_type": "error",
     "traceback": [
      "\u001B[0;31m---------------------------------------------------------------------------\u001B[0m",
      "\u001B[0;31mKeyError\u001B[0m                                  Traceback (most recent call last)",
      "\u001B[0;32m<ipython-input-18-a097e643a3f6>\u001B[0m in \u001B[0;36m<module>\u001B[0;34m\u001B[0m\n\u001B[1;32m      5\u001B[0m \u001B[0mcheck_possible_primary_key\u001B[0m\u001B[0;34m(\u001B[0m\u001B[0mveg\u001B[0m\u001B[0;34m,\u001B[0m\u001B[0;34m[\u001B[0m\u001B[0;34m\"country_code\"\u001B[0m\u001B[0;34m,\u001B[0m\u001B[0;34m\"year\"\u001B[0m\u001B[0;34m,\u001B[0m\u001B[0;34m\"element\"\u001B[0m\u001B[0;34m,\u001B[0m\u001B[0;34m\"item\"\u001B[0m\u001B[0;34m]\u001B[0m\u001B[0;34m)\u001B[0m\u001B[0;34m\u001B[0m\u001B[0;34m\u001B[0m\u001B[0m\n\u001B[1;32m      6\u001B[0m \u001B[0mcheck_possible_primary_key\u001B[0m\u001B[0;34m(\u001B[0m\u001B[0mani\u001B[0m\u001B[0;34m,\u001B[0m\u001B[0;34m[\u001B[0m\u001B[0;34m\"country_code\"\u001B[0m\u001B[0;34m,\u001B[0m\u001B[0;34m\"year\"\u001B[0m\u001B[0;34m,\u001B[0m\u001B[0;34m\"element\"\u001B[0m\u001B[0;34m,\u001B[0m\u001B[0;34m\"item\"\u001B[0m\u001B[0;34m]\u001B[0m\u001B[0;34m)\u001B[0m\u001B[0;34m\u001B[0m\u001B[0;34m\u001B[0m\u001B[0m\n\u001B[0;32m----> 7\u001B[0;31m \u001B[0mcheck_possible_primary_key\u001B[0m\u001B[0;34m(\u001B[0m\u001B[0mund\u001B[0m\u001B[0;34m,\u001B[0m\u001B[0;34m[\u001B[0m\u001B[0;34m\"country_code\"\u001B[0m\u001B[0;34m,\u001B[0m\u001B[0;34m\"year\"\u001B[0m\u001B[0;34m]\u001B[0m\u001B[0;34m)\u001B[0m\u001B[0;34m\u001B[0m\u001B[0;34m\u001B[0m\u001B[0m\n\u001B[0m\u001B[1;32m      8\u001B[0m \u001B[0mcheck_possible_primary_key\u001B[0m\u001B[0;34m(\u001B[0m\u001B[0mpop\u001B[0m\u001B[0;34m,\u001B[0m\u001B[0;34m[\u001B[0m\u001B[0;34m\"country_code\"\u001B[0m\u001B[0;34m,\u001B[0m\u001B[0;34m\"year\"\u001B[0m\u001B[0;34m]\u001B[0m\u001B[0;34m)\u001B[0m\u001B[0;34m\u001B[0m\u001B[0;34m\u001B[0m\u001B[0m\n\u001B[1;32m      9\u001B[0m \u001B[0;34m\u001B[0m\u001B[0m\n",
      "\u001B[0;32m<ipython-input-18-a097e643a3f6>\u001B[0m in \u001B[0;36mcheck_possible_primary_key\u001B[0;34m(df, columns_pk)\u001B[0m\n\u001B[1;32m      1\u001B[0m \u001B[0;32mdef\u001B[0m \u001B[0mcheck_possible_primary_key\u001B[0m\u001B[0;34m(\u001B[0m\u001B[0mdf\u001B[0m\u001B[0;34m,\u001B[0m \u001B[0mcolumns_pk\u001B[0m\u001B[0;34m)\u001B[0m\u001B[0;34m:\u001B[0m\u001B[0;34m\u001B[0m\u001B[0;34m\u001B[0m\u001B[0m\n\u001B[0;32m----> 2\u001B[0;31m     \u001B[0;32mif\u001B[0m \u001B[0mlen\u001B[0m\u001B[0;34m(\u001B[0m\u001B[0mdf\u001B[0m\u001B[0;34m)\u001B[0m \u001B[0;34m!=\u001B[0m \u001B[0mlen\u001B[0m\u001B[0;34m(\u001B[0m\u001B[0mdf\u001B[0m\u001B[0;34m[\u001B[0m\u001B[0mcolumns_pk\u001B[0m\u001B[0;34m]\u001B[0m\u001B[0;34m.\u001B[0m\u001B[0mdrop_duplicates\u001B[0m\u001B[0;34m(\u001B[0m\u001B[0;34m)\u001B[0m\u001B[0;34m)\u001B[0m\u001B[0;34m:\u001B[0m\u001B[0;34m\u001B[0m\u001B[0;34m\u001B[0m\u001B[0m\n\u001B[0m\u001B[1;32m      3\u001B[0m         \u001B[0;32mraise\u001B[0m \u001B[0mException\u001B[0m\u001B[0;34m(\u001B[0m\u001B[0;34m\"{} can't be a primary key!\"\u001B[0m\u001B[0;34m.\u001B[0m\u001B[0mformat\u001B[0m\u001B[0;34m(\u001B[0m\u001B[0mcolumns_pk\u001B[0m\u001B[0;34m)\u001B[0m\u001B[0;34m)\u001B[0m\u001B[0;34m\u001B[0m\u001B[0;34m\u001B[0m\u001B[0m\n\u001B[1;32m      4\u001B[0m \u001B[0;34m\u001B[0m\u001B[0m\n\u001B[1;32m      5\u001B[0m \u001B[0mcheck_possible_primary_key\u001B[0m\u001B[0;34m(\u001B[0m\u001B[0mveg\u001B[0m\u001B[0;34m,\u001B[0m\u001B[0;34m[\u001B[0m\u001B[0;34m\"country_code\"\u001B[0m\u001B[0;34m,\u001B[0m\u001B[0;34m\"year\"\u001B[0m\u001B[0;34m,\u001B[0m\u001B[0;34m\"element\"\u001B[0m\u001B[0;34m,\u001B[0m\u001B[0;34m\"item\"\u001B[0m\u001B[0;34m]\u001B[0m\u001B[0;34m)\u001B[0m\u001B[0;34m\u001B[0m\u001B[0;34m\u001B[0m\u001B[0m\n",
      "\u001B[0;32m~/.conda/envs/untitled1/lib/python3.7/site-packages/pandas/core/frame.py\u001B[0m in \u001B[0;36m__getitem__\u001B[0;34m(self, key)\u001B[0m\n\u001B[1;32m   2804\u001B[0m             \u001B[0;32mif\u001B[0m \u001B[0mis_iterator\u001B[0m\u001B[0;34m(\u001B[0m\u001B[0mkey\u001B[0m\u001B[0;34m)\u001B[0m\u001B[0;34m:\u001B[0m\u001B[0;34m\u001B[0m\u001B[0;34m\u001B[0m\u001B[0m\n\u001B[1;32m   2805\u001B[0m                 \u001B[0mkey\u001B[0m \u001B[0;34m=\u001B[0m \u001B[0mlist\u001B[0m\u001B[0;34m(\u001B[0m\u001B[0mkey\u001B[0m\u001B[0;34m)\u001B[0m\u001B[0;34m\u001B[0m\u001B[0;34m\u001B[0m\u001B[0m\n\u001B[0;32m-> 2806\u001B[0;31m             \u001B[0mindexer\u001B[0m \u001B[0;34m=\u001B[0m \u001B[0mself\u001B[0m\u001B[0;34m.\u001B[0m\u001B[0mloc\u001B[0m\u001B[0;34m.\u001B[0m\u001B[0m_get_listlike_indexer\u001B[0m\u001B[0;34m(\u001B[0m\u001B[0mkey\u001B[0m\u001B[0;34m,\u001B[0m \u001B[0maxis\u001B[0m\u001B[0;34m=\u001B[0m\u001B[0;36m1\u001B[0m\u001B[0;34m,\u001B[0m \u001B[0mraise_missing\u001B[0m\u001B[0;34m=\u001B[0m\u001B[0;32mTrue\u001B[0m\u001B[0;34m)\u001B[0m\u001B[0;34m[\u001B[0m\u001B[0;36m1\u001B[0m\u001B[0;34m]\u001B[0m\u001B[0;34m\u001B[0m\u001B[0;34m\u001B[0m\u001B[0m\n\u001B[0m\u001B[1;32m   2807\u001B[0m \u001B[0;34m\u001B[0m\u001B[0m\n\u001B[1;32m   2808\u001B[0m         \u001B[0;31m# take() does not accept boolean indexers\u001B[0m\u001B[0;34m\u001B[0m\u001B[0;34m\u001B[0m\u001B[0;34m\u001B[0m\u001B[0m\n",
      "\u001B[0;32m~/.conda/envs/untitled1/lib/python3.7/site-packages/pandas/core/indexing.py\u001B[0m in \u001B[0;36m_get_listlike_indexer\u001B[0;34m(self, key, axis, raise_missing)\u001B[0m\n\u001B[1;32m   1551\u001B[0m \u001B[0;34m\u001B[0m\u001B[0m\n\u001B[1;32m   1552\u001B[0m         self._validate_read_indexer(\n\u001B[0;32m-> 1553\u001B[0;31m             \u001B[0mkeyarr\u001B[0m\u001B[0;34m,\u001B[0m \u001B[0mindexer\u001B[0m\u001B[0;34m,\u001B[0m \u001B[0mo\u001B[0m\u001B[0;34m.\u001B[0m\u001B[0m_get_axis_number\u001B[0m\u001B[0;34m(\u001B[0m\u001B[0maxis\u001B[0m\u001B[0;34m)\u001B[0m\u001B[0;34m,\u001B[0m \u001B[0mraise_missing\u001B[0m\u001B[0;34m=\u001B[0m\u001B[0mraise_missing\u001B[0m\u001B[0;34m\u001B[0m\u001B[0;34m\u001B[0m\u001B[0m\n\u001B[0m\u001B[1;32m   1554\u001B[0m         )\n\u001B[1;32m   1555\u001B[0m         \u001B[0;32mreturn\u001B[0m \u001B[0mkeyarr\u001B[0m\u001B[0;34m,\u001B[0m \u001B[0mindexer\u001B[0m\u001B[0;34m\u001B[0m\u001B[0;34m\u001B[0m\u001B[0m\n",
      "\u001B[0;32m~/.conda/envs/untitled1/lib/python3.7/site-packages/pandas/core/indexing.py\u001B[0m in \u001B[0;36m_validate_read_indexer\u001B[0;34m(self, key, indexer, axis, raise_missing)\u001B[0m\n\u001B[1;32m   1638\u001B[0m             \u001B[0;32mif\u001B[0m \u001B[0mmissing\u001B[0m \u001B[0;34m==\u001B[0m \u001B[0mlen\u001B[0m\u001B[0;34m(\u001B[0m\u001B[0mindexer\u001B[0m\u001B[0;34m)\u001B[0m\u001B[0;34m:\u001B[0m\u001B[0;34m\u001B[0m\u001B[0;34m\u001B[0m\u001B[0m\n\u001B[1;32m   1639\u001B[0m                 \u001B[0maxis_name\u001B[0m \u001B[0;34m=\u001B[0m \u001B[0mself\u001B[0m\u001B[0;34m.\u001B[0m\u001B[0mobj\u001B[0m\u001B[0;34m.\u001B[0m\u001B[0m_get_axis_name\u001B[0m\u001B[0;34m(\u001B[0m\u001B[0maxis\u001B[0m\u001B[0;34m)\u001B[0m\u001B[0;34m\u001B[0m\u001B[0;34m\u001B[0m\u001B[0m\n\u001B[0;32m-> 1640\u001B[0;31m                 \u001B[0;32mraise\u001B[0m \u001B[0mKeyError\u001B[0m\u001B[0;34m(\u001B[0m\u001B[0;34mf\"None of [{key}] are in the [{axis_name}]\"\u001B[0m\u001B[0;34m)\u001B[0m\u001B[0;34m\u001B[0m\u001B[0;34m\u001B[0m\u001B[0m\n\u001B[0m\u001B[1;32m   1641\u001B[0m \u001B[0;34m\u001B[0m\u001B[0m\n\u001B[1;32m   1642\u001B[0m             \u001B[0;31m# We (temporarily) allow for some missing keys with .loc, except in\u001B[0m\u001B[0;34m\u001B[0m\u001B[0;34m\u001B[0m\u001B[0;34m\u001B[0m\u001B[0m\n",
      "\u001B[0;31mKeyError\u001B[0m: \"None of [Index(['country_code', 'year'], dtype='object')] are in the [columns]\""
     ]
    }
   ],
   "source": [
    "def check_possible_primary_key(df, columns_pk):\n",
    "    if len(df) != len(df[columns_pk].drop_duplicates()):\n",
    "        raise Exception(\"{} can't be a primary key!\".format(columns_pk))  \n",
    "\n",
    "check_possible_primary_key(veg,[\"country_code\",\"year\",\"element\",\"item\"])\n",
    "check_possible_primary_key(ani,[\"country_code\",\"year\",\"element\",\"item\"])\n",
    "check_possible_primary_key(und,[\"country_code\",\"year\"])\n",
    "check_possible_primary_key(pop,[\"country_code\",\"year\"])"
   ]
  },
  {
   "cell_type": "markdown",
   "metadata": {},
   "source": [
    "***Create a dataframe containing information about each country's population. Calculate the total\n",
    "number of humans on the planet.***"
   ]
  },
  {
   "cell_type": "code",
   "execution_count": 17,
   "metadata": {},
   "outputs": [
    {
     "ename": "KeyError",
     "evalue": "\"None of [Index(['country_code', 'country', 'year', 'value', 'flag_desc'], dtype='object')] are in the [columns]\"",
     "output_type": "error",
     "traceback": [
      "\u001B[0;31m---------------------------------------------------------------------------\u001B[0m",
      "\u001B[0;31mKeyError\u001B[0m                                  Traceback (most recent call last)",
      "\u001B[0;32m<ipython-input-17-3573544ac06f>\u001B[0m in \u001B[0;36m<module>\u001B[0;34m\u001B[0m\n\u001B[0;32m----> 1\u001B[0;31m \u001B[0mpop\u001B[0m \u001B[0;34m=\u001B[0m \u001B[0mpop\u001B[0m\u001B[0;34m[\u001B[0m\u001B[0;34m[\u001B[0m\u001B[0;34m'country_code'\u001B[0m\u001B[0;34m,\u001B[0m \u001B[0;34m'country'\u001B[0m\u001B[0;34m,\u001B[0m \u001B[0;34m'year'\u001B[0m\u001B[0;34m,\u001B[0m \u001B[0;34m'value'\u001B[0m\u001B[0;34m,\u001B[0m \u001B[0;34m'flag_desc'\u001B[0m\u001B[0;34m]\u001B[0m\u001B[0;34m]\u001B[0m\u001B[0;34m\u001B[0m\u001B[0;34m\u001B[0m\u001B[0m\n\u001B[0m\u001B[1;32m      2\u001B[0m \u001B[0mpop\u001B[0m \u001B[0;34m=\u001B[0m \u001B[0mpop\u001B[0m\u001B[0;34m.\u001B[0m\u001B[0mrename\u001B[0m\u001B[0;34m(\u001B[0m\u001B[0;34m{\u001B[0m\u001B[0;34m'value'\u001B[0m\u001B[0;34m:\u001B[0m \u001B[0;34m'population'\u001B[0m\u001B[0;34m}\u001B[0m\u001B[0;34m,\u001B[0m \u001B[0maxis\u001B[0m\u001B[0;34m=\u001B[0m\u001B[0;36m1\u001B[0m\u001B[0;34m)\u001B[0m\u001B[0;34m\u001B[0m\u001B[0;34m\u001B[0m\u001B[0m\n\u001B[1;32m      3\u001B[0m \u001B[0mpop\u001B[0m\u001B[0;34m[\u001B[0m\u001B[0;34m'population'\u001B[0m\u001B[0;34m]\u001B[0m \u001B[0;34m*=\u001B[0m \u001B[0;36m1000\u001B[0m\u001B[0;34m\u001B[0m\u001B[0;34m\u001B[0m\u001B[0m\n\u001B[1;32m      4\u001B[0m \u001B[0mpop\u001B[0m\u001B[0;34m.\u001B[0m\u001B[0mhead\u001B[0m\u001B[0;34m(\u001B[0m\u001B[0;34m)\u001B[0m\u001B[0;34m\u001B[0m\u001B[0;34m\u001B[0m\u001B[0m\n\u001B[1;32m      5\u001B[0m \u001B[0;34m\u001B[0m\u001B[0m\n",
      "\u001B[0;32m~/.conda/envs/untitled1/lib/python3.7/site-packages/pandas/core/frame.py\u001B[0m in \u001B[0;36m__getitem__\u001B[0;34m(self, key)\u001B[0m\n\u001B[1;32m   2804\u001B[0m             \u001B[0;32mif\u001B[0m \u001B[0mis_iterator\u001B[0m\u001B[0;34m(\u001B[0m\u001B[0mkey\u001B[0m\u001B[0;34m)\u001B[0m\u001B[0;34m:\u001B[0m\u001B[0;34m\u001B[0m\u001B[0;34m\u001B[0m\u001B[0m\n\u001B[1;32m   2805\u001B[0m                 \u001B[0mkey\u001B[0m \u001B[0;34m=\u001B[0m \u001B[0mlist\u001B[0m\u001B[0;34m(\u001B[0m\u001B[0mkey\u001B[0m\u001B[0;34m)\u001B[0m\u001B[0;34m\u001B[0m\u001B[0;34m\u001B[0m\u001B[0m\n\u001B[0;32m-> 2806\u001B[0;31m             \u001B[0mindexer\u001B[0m \u001B[0;34m=\u001B[0m \u001B[0mself\u001B[0m\u001B[0;34m.\u001B[0m\u001B[0mloc\u001B[0m\u001B[0;34m.\u001B[0m\u001B[0m_get_listlike_indexer\u001B[0m\u001B[0;34m(\u001B[0m\u001B[0mkey\u001B[0m\u001B[0;34m,\u001B[0m \u001B[0maxis\u001B[0m\u001B[0;34m=\u001B[0m\u001B[0;36m1\u001B[0m\u001B[0;34m,\u001B[0m \u001B[0mraise_missing\u001B[0m\u001B[0;34m=\u001B[0m\u001B[0;32mTrue\u001B[0m\u001B[0;34m)\u001B[0m\u001B[0;34m[\u001B[0m\u001B[0;36m1\u001B[0m\u001B[0;34m]\u001B[0m\u001B[0;34m\u001B[0m\u001B[0;34m\u001B[0m\u001B[0m\n\u001B[0m\u001B[1;32m   2807\u001B[0m \u001B[0;34m\u001B[0m\u001B[0m\n\u001B[1;32m   2808\u001B[0m         \u001B[0;31m# take() does not accept boolean indexers\u001B[0m\u001B[0;34m\u001B[0m\u001B[0;34m\u001B[0m\u001B[0;34m\u001B[0m\u001B[0m\n",
      "\u001B[0;32m~/.conda/envs/untitled1/lib/python3.7/site-packages/pandas/core/indexing.py\u001B[0m in \u001B[0;36m_get_listlike_indexer\u001B[0;34m(self, key, axis, raise_missing)\u001B[0m\n\u001B[1;32m   1551\u001B[0m \u001B[0;34m\u001B[0m\u001B[0m\n\u001B[1;32m   1552\u001B[0m         self._validate_read_indexer(\n\u001B[0;32m-> 1553\u001B[0;31m             \u001B[0mkeyarr\u001B[0m\u001B[0;34m,\u001B[0m \u001B[0mindexer\u001B[0m\u001B[0;34m,\u001B[0m \u001B[0mo\u001B[0m\u001B[0;34m.\u001B[0m\u001B[0m_get_axis_number\u001B[0m\u001B[0;34m(\u001B[0m\u001B[0maxis\u001B[0m\u001B[0;34m)\u001B[0m\u001B[0;34m,\u001B[0m \u001B[0mraise_missing\u001B[0m\u001B[0;34m=\u001B[0m\u001B[0mraise_missing\u001B[0m\u001B[0;34m\u001B[0m\u001B[0;34m\u001B[0m\u001B[0m\n\u001B[0m\u001B[1;32m   1554\u001B[0m         )\n\u001B[1;32m   1555\u001B[0m         \u001B[0;32mreturn\u001B[0m \u001B[0mkeyarr\u001B[0m\u001B[0;34m,\u001B[0m \u001B[0mindexer\u001B[0m\u001B[0;34m\u001B[0m\u001B[0;34m\u001B[0m\u001B[0m\n",
      "\u001B[0;32m~/.conda/envs/untitled1/lib/python3.7/site-packages/pandas/core/indexing.py\u001B[0m in \u001B[0;36m_validate_read_indexer\u001B[0;34m(self, key, indexer, axis, raise_missing)\u001B[0m\n\u001B[1;32m   1638\u001B[0m             \u001B[0;32mif\u001B[0m \u001B[0mmissing\u001B[0m \u001B[0;34m==\u001B[0m \u001B[0mlen\u001B[0m\u001B[0;34m(\u001B[0m\u001B[0mindexer\u001B[0m\u001B[0;34m)\u001B[0m\u001B[0;34m:\u001B[0m\u001B[0;34m\u001B[0m\u001B[0;34m\u001B[0m\u001B[0m\n\u001B[1;32m   1639\u001B[0m                 \u001B[0maxis_name\u001B[0m \u001B[0;34m=\u001B[0m \u001B[0mself\u001B[0m\u001B[0;34m.\u001B[0m\u001B[0mobj\u001B[0m\u001B[0;34m.\u001B[0m\u001B[0m_get_axis_name\u001B[0m\u001B[0;34m(\u001B[0m\u001B[0maxis\u001B[0m\u001B[0;34m)\u001B[0m\u001B[0;34m\u001B[0m\u001B[0;34m\u001B[0m\u001B[0m\n\u001B[0;32m-> 1640\u001B[0;31m                 \u001B[0;32mraise\u001B[0m \u001B[0mKeyError\u001B[0m\u001B[0;34m(\u001B[0m\u001B[0;34mf\"None of [{key}] are in the [{axis_name}]\"\u001B[0m\u001B[0;34m)\u001B[0m\u001B[0;34m\u001B[0m\u001B[0;34m\u001B[0m\u001B[0m\n\u001B[0m\u001B[1;32m   1641\u001B[0m \u001B[0;34m\u001B[0m\u001B[0m\n\u001B[1;32m   1642\u001B[0m             \u001B[0;31m# We (temporarily) allow for some missing keys with .loc, except in\u001B[0m\u001B[0;34m\u001B[0m\u001B[0;34m\u001B[0m\u001B[0;34m\u001B[0m\u001B[0m\n",
      "\u001B[0;31mKeyError\u001B[0m: \"None of [Index(['country_code', 'country', 'year', 'value', 'flag_desc'], dtype='object')] are in the [columns]\""
     ]
    }
   ],
   "source": [
    "pop = pop[['country_code', 'country', 'year', 'value', 'flag_desc']]\n",
    "pop = pop.rename({'value': 'population'}, axis=1)\n",
    "pop['population'] *= 1000\n",
    "pop.head()"
   ]
  },
  {
   "cell_type": "code",
   "execution_count": null,
   "metadata": {},
   "outputs": [],
   "source": [
    "pop.groupby([\"year\",\"flag_desc\"])[[\"population\"]].sum()"
   ]
  },
  {
   "cell_type": "markdown",
   "metadata": {},
   "source": [
    "Which countries are concerned by *\"Aggregate, may include official, semi-official, estimated or calculated data\"* ?"
   ]
  },
  {
   "cell_type": "code",
   "execution_count": null,
   "metadata": {},
   "outputs": [],
   "source": [
    "pop[pop['flag_desc'] == \"Aggregate, may include official, semi-official, estimated or calculated data\"]"
   ]
  },
  {
   "cell_type": "markdown",
   "metadata": {},
   "source": [
    "There is a redundancy in the country codes : 351 (China) aggregates countries 96, 128, 41, 214 :"
   ]
  },
  {
   "cell_type": "code",
   "execution_count": null,
   "metadata": {},
   "outputs": [],
   "source": [
    "pop[pop['country_code'].isin([96, 128, 41, 214])]"
   ]
  },
  {
   "cell_type": "code",
   "execution_count": null,
   "metadata": {},
   "outputs": [],
   "source": [
    "pop[pop['country_code'].isin([96, 128, 41, 214])]['population'].sum()"
   ]
  },
  {
   "cell_type": "code",
   "execution_count": null,
   "metadata": {},
   "outputs": [],
   "source": [
    "total_pop = pop[pop.flag_desc == \"Official data\"].groupby(\"year\")[\"population\"].sum()\n",
    "total_pop"
   ]
  },
  {
   "cell_type": "markdown",
   "metadata": {},
   "source": [
    "***Among the documents on the Food Balance Sheets that you have downloaded, you will nd\n",
    "redundant information concerning the 11 elements. Identify these redundancies and give your\n",
    "answer as a mathematical formula. Have a look at the Food Balance Sheets then click on\n",
    "“definitions and standards”\n",
    "The expected formula is a simple three term equation involving each of the 11 amounts seen\n",
    "above: a1+a2+[...]=b1+[...]=c1+c2+[...] . For this equation, give the example of wheat in France.***"
   ]
  },
  {
   "cell_type": "code",
   "execution_count": null,
   "metadata": {},
   "outputs": [],
   "source": [
    "ani[\"origin\"] = \"animal\"\n",
    "veg[\"origin\"] = \"vegetal\"\n",
    "\n",
    "data = ani.append(veg)\n",
    "\n",
    "del veg, ani\n",
    "\n",
    "# pivot table\n",
    "data = data.pivot_table(index=[\"country_code\",\"country\",\"item_code\",\"item\",\"year\",\"origin\"], values=[\"value\"], aggfunc=sum, columns = [\"element\"])\n",
    "data.columns = ['Domestic supply quantity', 'Export Quantity', 'Feed', 'Food', 'Food supply (kcal/capita/day)', 'Food supply quantity (kg/capita/yr)', 'Import Quantity', 'Other uses', 'Processing', 'Production', 'Protein supply quantity (g/capita/day)', 'Seed', 'Stock Variation', 'Waste']\n",
    "data = data.reset_index()\n",
    "\n",
    "data = data.fillna(0)\n",
    "\n",
    "data.head()"
   ]
  },
  {
   "cell_type": "code",
   "execution_count": null,
   "metadata": {},
   "outputs": [],
   "source": [
    "tmp = data[(data.country==\"France\") & (data.item_code==2511)].iloc[0]\n",
    "tmp\n",
    "print(\"Wheat in France :\")\n",
    "print(tmp[\"Production\"] + tmp[\"Import Quantity\"] - tmp[\"Export Quantity\"] + tmp[\"Stock Variation\"])\n",
    "print(tmp[\"Domestic supply quantity\"])\n",
    "print(tmp[\"Seed\"] + tmp[\"Waste\"] + tmp[\"Food\"] + tmp[\"Feed\"] + tmp[\"Processing\"] + tmp[\"Other uses\"])"
   ]
  },
  {
   "cell_type": "markdown",
   "metadata": {},
   "source": [
    "Verififcation for every country and every item :"
   ]
  },
  {
   "cell_type": "code",
   "execution_count": null,
   "metadata": {},
   "outputs": [],
   "source": [
    "data[\"tmp1\"] = data['Production'] + data['Import Quantity'] - data['Export Quantity'] + data['Stock Variation']\n",
    "data[\"tmp2\"] = data['Domestic supply quantity']\n",
    "data[\"tmp3\"] = data['Feed'] + data['Food'] + data['Other uses'] + data['Processing'] + data['Seed'] + data['Waste']\n",
    "print((data['tmp1'] - data['tmp2']))\n",
    "print((data['tmp2'] - data['tmp3']))"
   ]
  },
  {
   "cell_type": "code",
   "execution_count": null,
   "metadata": {},
   "outputs": [],
   "source": [
    "del data[\"tmp1\"]\n",
    "del data[\"tmp2\"]\n",
    "del data[\"tmp3\"]"
   ]
  },
  {
   "cell_type": "markdown",
   "metadata": {},
   "source": [
    "## Task 3 : Data Cleaning"
   ]
  },
  {
   "cell_type": "markdown",
   "metadata": {},
   "source": [
    "***Create the dataframe from the updated FAO data and ensure that it ts Paul’s dataframe\n",
    "structure.***"
   ]
  },
  {
   "cell_type": "code",
   "execution_count": null,
   "metadata": {},
   "outputs": [],
   "source": [
    "data = data.rename({\n",
    "        'Domestic supply quantity': 'domestic_supply_quantity', \n",
    "        'Export Quantity': 'export_quantity', \n",
    "        'Feed': 'feed', \n",
    "        'Food':'food',\n",
    "        'Food supply (kcal/capita/day)': 'food_supply_kcalcapitaday', \n",
    "        'Food supply quantity (kg/capita/yr)': 'food_supply_quantity_kgcapitayr',\n",
    "        'Import Quantity': 'import_quantity', \n",
    "        'Other uses': 'other_uses', \n",
    "        'Processing': 'processing', \n",
    "        'Production': 'production',\n",
    "        'Protein supply quantity (g/capita/day)': 'protein_supply_quantity_gcapitaday', \n",
    "        'Seed': 'seed', \n",
    "        'Stock Variation': 'stock_variation',\n",
    "        'Waste': 'waste'\n",
    "    }, \n",
    "    axis=1)\n",
    "\n",
    "data.head()"
   ]
  },
  {
   "cell_type": "markdown",
   "metadata": {},
   "source": [
    "***Do the necessary cleaning (delete useless rows, correct any potential anomalies found when\n",
    "calculating the total population, etc.)***"
   ]
  },
  {
   "cell_type": "code",
   "execution_count": null,
   "metadata": {},
   "outputs": [],
   "source": [
    "data = data[~data.country_code.isin([96, 128, 41, 214])]\n",
    "und = und[~und.country_code.isin([96, 128, 41, 214])]\n",
    "pop = pop[~pop.country_code.isin([96, 128, 41, 214])]"
   ]
  },
  {
   "cell_type": "markdown",
   "metadata": {},
   "source": [
    "## Task 4 : Computing new variables\n",
    "***Calculate the variables for each country/item/year trio.***"
   ]
  },
  {
   "cell_type": "markdown",
   "metadata": {},
   "source": [
    "Add the population the the main data"
   ]
  },
  {
   "cell_type": "code",
   "execution_count": null,
   "metadata": {},
   "outputs": [],
   "source": [
    "if 'population' not in data.columns:\n",
    "    data = pd.merge(data, pop, on=['country_code','country','year'], how='left')\n",
    "    del data[\"flag_desc\"]\n",
    "data.head()"
   ]
  },
  {
   "cell_type": "markdown",
   "metadata": {},
   "source": [
    "***food_supply_kcal and food_supply_kgprotein***"
   ]
  },
  {
   "cell_type": "code",
   "execution_count": null,
   "metadata": {},
   "outputs": [],
   "source": [
    "data[\"food_supply_kcal\"] = data[\"food_supply_kcalcapitaday\"] * data[\"population\"] * 365\n",
    "data[\"food_supply_kgprotein\"] = data[\"protein_supply_quantity_gcapitaday\"] * 0.001 * data[\"population\"] * 365\n",
    "data.head()"
   ]
  },
  {
   "cell_type": "markdown",
   "metadata": {},
   "source": [
    "***food_supply_kg***"
   ]
  },
  {
   "cell_type": "code",
   "execution_count": null,
   "metadata": {},
   "outputs": [],
   "source": [
    "data[\"food_supply_kg\"] = data[\"food\"] * 1000000"
   ]
  },
  {
   "cell_type": "markdown",
   "metadata": {},
   "source": [
    "***ratio_kcalkg and protein_percentage***"
   ]
  },
  {
   "cell_type": "code",
   "execution_count": null,
   "metadata": {},
   "outputs": [],
   "source": [
    "mask = data[\"food_supply_kg\"] != 0 # because it's npt possible to divide by 0\n",
    "data.loc[mask, 'ratio_kcalkg'] = data.loc[mask, \"food_supply_kcal\"] / data.loc[mask, \"food_supply_kg\"]\n",
    "data.loc[mask, 'protein_percentage'] = 100 * data.loc[mask, \"food_supply_kgprotein\"] / data.loc[mask, \"food_supply_kg\"]"
   ]
  },
  {
   "cell_type": "markdown",
   "metadata": {},
   "source": [
    "***dom_sup_kcal and dom_sup_kgprot***"
   ]
  },
  {
   "cell_type": "code",
   "execution_count": null,
   "metadata": {},
   "outputs": [],
   "source": [
    "data[\"dom_sup_kcal\"] = data[\"domestic_supply_quantity\"] * 1000000 * data[\"ratio_kcalkg\"]\n",
    "data[\"dom_sup_kgprot\"] = data[\"domestic_supply_quantity\"] * 1000000 * data[\"protein_percentage\"] * .01"
   ]
  },
  {
   "cell_type": "markdown",
   "metadata": {},
   "source": [
    "***great_import_from_undern_countries***"
   ]
  },
  {
   "cell_type": "markdown",
   "metadata": {},
   "source": [
    "From the FAO Food Security Indicators, find the countries with a malnourishment rate of more than 10%"
   ]
  },
  {
   "cell_type": "code",
   "execution_count": null,
   "metadata": {},
   "outputs": [],
   "source": [
    "undernourishment = und[['country_code', 'country', 'year', 'value']].copy()\n",
    "undernourishment[\"value\"] *= 1000000\n",
    "undernourishment = undernourishment.rename({\"value\": \"nb_people_undern\"}, axis=1)\n",
    "undernourishment = pd.merge(undernourishment, pop[['country_code','year','population']], on=['country_code','year'])\n",
    "undernourishment[\"undern_percentage\"] = 100 * undernourishment[\"nb_people_undern\"] / undernourishment[\"population\"]\n",
    "undernourishment[\"undern_10%\"] = undernourishment[\"undern_percentage\"] >= 10\n",
    "undernourishment.sort_values(\"undern_percentage\",ascending=False).head()"
   ]
  },
  {
   "cell_type": "markdown",
   "metadata": {},
   "source": [
    "Find the 25 most exported items (in terms of quantity) by these countries for any given year)."
   ]
  },
  {
   "cell_type": "code",
   "execution_count": null,
   "metadata": {},
   "outputs": [],
   "source": [
    "selected_year = 2013\n",
    "\n",
    "undern_countries = undernourishment.loc[undernourishment[\"undern_10%\"],\"country_code\"]\n",
    "und_data = data[(data.country_code.isin(undern_countries)) & (data.year == selected_year)].copy()\n",
    "und_data = und_data.groupby([\"item_code\",\"item\",\"year\"])['domestic_supply_quantity', 'export_quantity',\n",
    "       'feed', 'food', 'import_quantity', 'other_uses',\n",
    "       'processing', 'production', \n",
    "       'seed', 'stock_variation', 'waste', 'food_supply_kcal',\n",
    "       'food_supply_kg'].sum()\n",
    "und_data = und_data.reset_index()\n",
    "und_data = und_data.sort_values(\"export_quantity\",ascending=False)\n",
    "                               \n",
    "most_exported_products = und_data.iloc[:25][\"item\"].values\n",
    "most_exported_products"
   ]
  },
  {
   "cell_type": "markdown",
   "metadata": {},
   "source": [
    "From the global food balance sheet data, select the 200 highest import quantities among these 25 items (1 import quantity = quantity of a given product imported by a given country over the selected year)."
   ]
  },
  {
   "cell_type": "code",
   "execution_count": null,
   "metadata": {},
   "outputs": [],
   "source": [
    "imp = data[(data.item.isin(most_exported_products)) & (data.year == selected_year)]\n",
    "imp = imp.sort_values(\"import_quantity\",ascending=False)\n",
    "imp = imp.reset_index()\n",
    "imp[\"great_import_from_undern_countries\"] = imp.index < 200\n",
    "imp.head()"
   ]
  },
  {
   "cell_type": "markdown",
   "metadata": {},
   "source": [
    "## Task 5 : Identify major trends\n",
    "***Considering only plant products, what proportion of the global domestic supply is used as :\n",
    "food,\n",
    "feed,\n",
    "waste,\n",
    "other uses***"
   ]
  },
  {
   "cell_type": "code",
   "execution_count": null,
   "metadata": {},
   "outputs": [],
   "source": [
    "vegetal = data[data[\"origin\"] == \"vegetal\"]\n",
    "global_data = vegetal.groupby(\"year\").sum()\n",
    "global_data[['food','feed','waste','other_uses']] / global_data['domestic_supply_quantity'].iloc[0]"
   ]
  },
  {
   "cell_type": "markdown",
   "metadata": {},
   "source": [
    "***How many humans on earth could be fed if all the plant-based food supply (crops), including food\n",
    "and feed, was used for human consumption? Give the results in terms of calories, and protein.\n",
    "Express these two results as a percentage of the world's population.***"
   ]
  },
  {
   "cell_type": "code",
   "execution_count": null,
   "metadata": {},
   "outputs": [],
   "source": [
    "# number of kcal per person per day (according to FAO)\n",
    "NB_KCAL_PER_CAPITA_PER_DAY = 2500\n",
    "# quantity of protein per person per day :  0.9 g/body_weight_kg/day\n",
    "# average body weight 62kg (https://en.wikipedia.org/wiki/Human_body_weight)\n",
    "KG_PROT_PER_CAPITA_PER_DAY = 62 * .0009\n",
    "\n",
    "data[\"food_feed_kcal\"] = data[[\"food\",\"feed\"]].sum(axis=1) * 1000000 * data[\"ratio_kcalkg\"]\n",
    "data[\"food_feed_kgprot\"] = data[[\"food\",\"feed\"]].sum(axis=1) * 1000000 * data[\"protein_percentage\"] * .01\n",
    "\n",
    "vegetal = data[data[\"origin\"] == \"vegetal\"]\n",
    "\n",
    "ff_kcal = vegetal.groupby(\"year\")[\"food_feed_kcal\"].sum()\n",
    "ff_kgprot = vegetal.groupby(\"year\")[\"food_feed_kgprot\"].sum()\n",
    "quantities = pd.DataFrame({\"foodfeed_kcal\": ff_kcal, \"foodfeed_kgprot\": ff_kgprot})\n",
    "quantities"
   ]
  },
  {
   "cell_type": "code",
   "execution_count": null,
   "metadata": {},
   "outputs": [],
   "source": [
    "tmp = quantities / [NB_KCAL_PER_CAPITA_PER_DAY,KG_PROT_PER_CAPITA_PER_DAY] / 365\n",
    "tmp.columns = ['energy_nb_humans_fed', 'proteins_nb_humans_fed']\n",
    "tmp = pd.concat([tmp,total_pop], axis=1)\n",
    "tmp[\"energy_percentage_humans_fed\"] = round(100*tmp['energy_nb_humans_fed'] / tmp[\"population\"])\n",
    "tmp[\"proteins_percentage_humans_fed\"] = round(100*tmp['proteins_nb_humans_fed'] / tmp[\"population\"])\n",
    "del tmp[\"population\"]\n",
    "tmp"
   ]
  },
  {
   "cell_type": "markdown",
   "metadata": {},
   "source": [
    "***How many humans could be fed with the global food supply? Give the results in terms of calories\n",
    "and protein. Express these two results as a percentage of the world's population.***"
   ]
  },
  {
   "cell_type": "code",
   "execution_count": null,
   "metadata": {},
   "outputs": [],
   "source": [
    "fs_kcal = data.groupby(\"year\")[\"food_supply_kcal\"].sum()\n",
    "fs_kgprot = data.groupby(\"year\")[\"food_supply_kgprotein\"].sum()\n",
    "quantities = pd.DataFrame({\"fs_kcal\": fs_kcal, \"fs_kgprot\": fs_kgprot})\n",
    "\n",
    "tmp = quantities / [NB_KCAL_PER_CAPITA_PER_DAY,KG_PROT_PER_CAPITA_PER_DAY] / 365\n",
    "tmp.columns = ['energy_nb_humans_fed', 'proteins_nb_humans_fed']\n",
    "tmp = pd.concat([tmp,total_pop], axis=1)\n",
    "tmp[\"energy_percentage_humans_fed\"] = round(100*tmp['energy_nb_humans_fed'] / tmp[\"population\"])\n",
    "tmp[\"proteins_percentage_humans_fed\"] = round(100*tmp['proteins_nb_humans_fed'] / tmp[\"population\"])\n",
    "del tmp[\"population\"]\n",
    "tmp"
   ]
  },
  {
   "cell_type": "markdown",
   "metadata": {},
   "source": [
    "***From the collected data on malnutrition, what proportion of the world's population is considered\n",
    "malnourished?***"
   ]
  },
  {
   "cell_type": "code",
   "execution_count": null,
   "metadata": {},
   "outputs": [],
   "source": [
    "nb_undern = und.groupby('year')[\"value\"].sum() * 1000000"
   ]
  },
  {
   "cell_type": "code",
   "execution_count": null,
   "metadata": {},
   "outputs": [],
   "source": [
    "round(100 * nb_undern / total_pop)"
   ]
  },
  {
   "cell_type": "markdown",
   "metadata": {},
   "source": [
    "***Considering the 25 items most exported by the countries with a high rate of malnourishment,\n",
    "which three of them:\n",
    "Have the greatest other_uses to domestic_supply_quantity ratio and what are they used for?\n",
    "Have the greatest feed to (food+feed) ratio and what are they used for?***"
   ]
  },
  {
   "cell_type": "code",
   "execution_count": null,
   "metadata": {},
   "outputs": [],
   "source": [
    "imp = imp.groupby([\"item_code\",\"item\"]).sum()\n",
    "\n",
    "imp[\"other_uses_%\"]  = imp['other_uses']/imp['domestic_supply_quantity']\n",
    "imp[\"feed_vs_food\"]  = imp['feed']/(imp['feed']+imp['food'])\n",
    "\n",
    "imp.sort_values(\"other_uses_%\", ascending = False).iloc[:3]"
   ]
  },
  {
   "cell_type": "code",
   "execution_count": null,
   "metadata": {},
   "outputs": [],
   "source": [
    "imp.sort_values(\"feed_vs_food\", ascending = False).iloc[:3]"
   ]
  },
  {
   "cell_type": "markdown",
   "metadata": {},
   "source": [
    "***Taking only gains for food and feed into account, what proportion (in terms of weight) is used for\n",
    "feed?***"
   ]
  },
  {
   "cell_type": "code",
   "execution_count": null,
   "metadata": {},
   "outputs": [],
   "source": [
    "data[\"is_cereal\"] = data.item_code.isin(cereal_list['Item Code'].values)\n",
    "data.head()"
   ]
  },
  {
   "cell_type": "code",
   "execution_count": null,
   "metadata": {},
   "outputs": [],
   "source": [
    "food_cer = data.loc[data.is_cereal,\"food\"].sum()\n",
    "feed_cer = data.loc[data.is_cereal,\"feed\"].sum()\n",
    "print(\"{}%\".format(round(100*feed_cer/(food_cer+feed_cer))))"
   ]
  },
  {
   "cell_type": "code",
   "execution_count": null,
   "metadata": {},
   "outputs": [],
   "source": []
  },
  {
   "cell_type": "code",
   "execution_count": null,
   "metadata": {},
   "outputs": [],
   "source": []
  }
 ],
 "metadata": {
  "kernelspec": {
   "display_name": "Python 3",
   "language": "python",
   "name": "python3"
  },
  "language_info": {
   "codemirror_mode": {
    "name": "ipython",
    "version": 3
   },
   "file_extension": ".py",
   "mimetype": "text/x-python",
   "name": "python",
   "nbconvert_exporter": "python",
   "pygments_lexer": "ipython3",
   "version": "3.7.7"
  }
 },
 "nbformat": 4,
 "nbformat_minor": 4
}